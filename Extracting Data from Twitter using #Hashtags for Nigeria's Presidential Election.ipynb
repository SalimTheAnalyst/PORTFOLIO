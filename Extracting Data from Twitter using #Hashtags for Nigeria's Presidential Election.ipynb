{
 "cells": [
  {
   "cell_type": "markdown",
   "metadata": {},
   "source": [
    "# WHAT IF  TWITTER #HASHTAGS DECIDES THE OUTCOME OF AN ELECTION?"
   ]
  },
  {
   "cell_type": "markdown",
   "metadata": {},
   "source": [
    "Nigeria's Presidential Elections was conducted on the 25th of february 2023. Citizens across the country went out to cast their votes for their preferred candidates. PDP's Atiku Abubakar, LP's Peter Obi and APC's Bola Ahmed tinubu are the 3 candidates projected to be at the forefront of the race. However, there is an argument, 'To what extent does Social media determine the outcome of an election ?'. All tweets with relevant hashtags related to each candidate was extracted from twitter on that election day (25/02/2023). Twitter #hashtag has decided !. Will there be a correlation with that of INEC, the electoral body?."
   ]
  },
  {
   "cell_type": "markdown",
   "metadata": {},
   "source": [
    "### ALL POSSIBLE #HASHTAGS USED FOR BOLA AHMED TINUBU\n",
    "\n",
    "#### #Tinubu  #Jagaban  #AsiwajuForPresident  #JagabanForPresident  #TinubuShettima2023  #AsiwajuIsComing  #Asiwaju2023  #AsiwajuForAll"
   ]
  },
  {
   "cell_type": "markdown",
   "metadata": {},
   "source": [
    "."
   ]
  },
  {
   "cell_type": "markdown",
   "metadata": {},
   "source": [
    "### ALL POSSIBLE #HASHTAGS USED FOR PETER OBI\n",
    "\n",
    "#### #PeterObi    #PeterObiIsComing    #obiforpresident     #PeterObi4President2023     #PeterObiforPresident2023     #ObiWon     #ObiIsWinningEverywhere     #ObidientMovement"
   ]
  },
  {
   "cell_type": "markdown",
   "metadata": {},
   "source": [
    "."
   ]
  },
  {
   "cell_type": "markdown",
   "metadata": {},
   "source": [
    "### ALL POSSIBLE #HASHTAGS USED FOR ATIKU ABUBAKAR\n",
    "\n",
    "#### #AtikuIsWinning    #AtikuForPresident    #atikuabubakar    #AtikuOkowa    #Atiku    #AtikuOkowa2023"
   ]
  },
  {
   "cell_type": "code",
   "execution_count": null,
   "metadata": {},
   "outputs": [],
   "source": []
  },
  {
   "cell_type": "markdown",
   "metadata": {},
   "source": [
    "## INFORMATION TO BE SCRAPPED FROM TWITTER ARE\n",
    "\n",
    "i) date: The Date and time the tweet was posted\n",
    "\n",
    "ii) username: The Username of the person that tweeted\n",
    "    \n",
    "iii) content: The Content of the tweet\n",
    "\n",
    "iv) hashtags: The Hashtags used\n",
    "\n",
    "v) from: The type of device or platform used\n",
    "    \n",
    "vi) like_count: The number of likes the tweet got."
   ]
  },
  {
   "cell_type": "code",
   "execution_count": null,
   "metadata": {},
   "outputs": [],
   "source": []
  },
  {
   "cell_type": "code",
   "execution_count": null,
   "metadata": {},
   "outputs": [],
   "source": []
  },
  {
   "cell_type": "markdown",
   "metadata": {},
   "source": [
    "# IMPORT ALL THE NECCESARY LIBRARIES"
   ]
  },
  {
   "cell_type": "code",
   "execution_count": 228,
   "metadata": {},
   "outputs": [],
   "source": [
    "import pandas as pd\n",
    "import snscrape.modules.twitter as sntwitter #Library used to scrape twitter data\n",
    "from tqdm.notebook import tqdm #Used to show Progress bar"
   ]
  },
  {
   "cell_type": "markdown",
   "metadata": {},
   "source": [
    "."
   ]
  },
  {
   "cell_type": "markdown",
   "metadata": {},
   "source": [
    "# GETTING TWEETS WITH TINUBU'S HASHTAGS"
   ]
  },
  {
   "cell_type": "code",
   "execution_count": 225,
   "metadata": {},
   "outputs": [],
   "source": [
    "query = \"(#Tinubu OR #Jagaban OR #AsiwajuForPresident OR #JagabanForPresident OR #TinubuShettima2023 OR #AsiwajuIsComing OR #Asiwaju2023 OR #AsiwajuForAll) until:2023-2-26 since:2023-2-25\"\n",
    "tweets = []\n",
    "limit = -1 # Use -1 to geth the total possible tweets\n",
    "\n",
    "scraper = sntwitter.TwitterSearchScraper(query)\n",
    "\n",
    "for tweet in scraper.get_items():\n",
    "    if len(tweets) == limit:\n",
    "        break\n",
    "    else:\n",
    "        tweets.append([tweet.date, \n",
    "            tweet.user.username,\n",
    "            tweet.rawContent,\n",
    "            tweet.hashtags,\n",
    "            tweet.sourceLabel,  \n",
    "            tweet.likeCount\n",
    "                      ])\n",
    "        \n",
    "        \n",
    "tinubu = pd.DataFrame(tweets, columns = ['date', 'username', 'content', 'hashtags', 'from', 'like_count'])"
   ]
  },
  {
   "cell_type": "code",
   "execution_count": null,
   "metadata": {},
   "outputs": [],
   "source": []
  },
  {
   "cell_type": "markdown",
   "metadata": {},
   "source": [
    "#  GETTING TWEETS WITH PETER OBI'S HASHTAGS"
   ]
  },
  {
   "cell_type": "code",
   "execution_count": null,
   "metadata": {},
   "outputs": [],
   "source": [
    "query = \"( #PeterObi OR #PeterObiIsComing OR #obiforpresident OR #PeterObi4President2023 OR #PeterObiforPresident2023 OR #ObiWon OR #ObiIsWinningEverywhere OR #ObidientMovement) until:2023-2-26 since:2023-2-25\"\n",
    "tweets = []\n",
    "limit = -1 # Use -1 to geth the total possible tweets\n",
    "\n",
    "scraper = sntwitter.TwitterSearchScraper(query)\n",
    "\n",
    "for tweet in scraper.get_items():\n",
    "    if len(tweets) == limit:\n",
    "        break\n",
    "    else:\n",
    "        tweets.append([tweet.date, \n",
    "            tweet.user.username,\n",
    "            tweet.rawContent,\n",
    "            tweet.hashtags,\n",
    "            tweet.sourceLabel,  \n",
    "            tweet.likeCount\n",
    "                      ])\n",
    "        \n",
    "        \n",
    "obi = pd.DataFrame(tweets, columns = ['date', 'username', 'content', 'hashtags', 'from', 'like_count'])"
   ]
  },
  {
   "cell_type": "code",
   "execution_count": null,
   "metadata": {},
   "outputs": [],
   "source": []
  },
  {
   "cell_type": "code",
   "execution_count": null,
   "metadata": {},
   "outputs": [],
   "source": []
  },
  {
   "cell_type": "markdown",
   "metadata": {},
   "source": [
    "# GETTING TWEETS WITH ATIKU ABUBAKAR'S HASHTAGS "
   ]
  },
  {
   "cell_type": "code",
   "execution_count": null,
   "metadata": {},
   "outputs": [],
   "source": [
    "query = \"(#AtikuIsWinning OR #AtikuForPresident OR #atikuabubakar OR #AtikuOkowa OR #Atiku OR #AtikuOkowa2023) until:2023-2-26 since:2023-2-25\"\n",
    "tweets = []\n",
    "\n",
    "limit = -1\n",
    "scraper = sntwitter.TwitterSearchScraper(query)\n",
    "\n",
    "for tweet in scraper.get_items():\n",
    "    if len(tweets) == limit:\n",
    "        break\n",
    "    else:\n",
    "        tweets.append([tweet.date,\n",
    "            tweet.user.username,\n",
    "            tweet.rawContent,\n",
    "            tweet.hashtags,\n",
    "            tweet.sourceLabel,  \n",
    "            tweet.likeCount\n",
    "                      ])\n",
    "        \n",
    "        \n",
    "atiku = pd.DataFrame(tweets, columns = ['date', 'username', 'content', 'hashtags', 'from', 'like_count'])"
   ]
  },
  {
   "cell_type": "code",
   "execution_count": null,
   "metadata": {},
   "outputs": [],
   "source": []
  },
  {
   "cell_type": "code",
   "execution_count": 218,
   "metadata": {
    "scrolled": true
   },
   "outputs": [
    {
     "name": "stdout",
     "output_type": "stream",
     "text": [
      "<class 'pandas.core.frame.DataFrame'>\n",
      "RangeIndex: 1395 entries, 0 to 1394\n",
      "Data columns (total 6 columns):\n",
      " #   Column      Non-Null Count  Dtype              \n",
      "---  ------      --------------  -----              \n",
      " 0   date        1395 non-null   datetime64[ns, UTC]\n",
      " 1   username    1395 non-null   object             \n",
      " 2   content     1395 non-null   object             \n",
      " 3   hashtags    1395 non-null   object             \n",
      " 4   from        1395 non-null   object             \n",
      " 5   like_count  1395 non-null   int64              \n",
      "dtypes: datetime64[ns, UTC](1), int64(1), object(4)\n",
      "memory usage: 65.5+ KB\n"
     ]
    }
   ],
   "source": [
    "atiku.info()"
   ]
  },
  {
   "cell_type": "code",
   "execution_count": null,
   "metadata": {},
   "outputs": [],
   "source": []
  },
  {
   "cell_type": "code",
   "execution_count": null,
   "metadata": {},
   "outputs": [],
   "source": []
  },
  {
   "cell_type": "markdown",
   "metadata": {},
   "source": [
    "# Creating a new Column 'Candidate' to distinguish each candidate's results"
   ]
  },
  {
   "cell_type": "code",
   "execution_count": 190,
   "metadata": {},
   "outputs": [],
   "source": [
    "atiku['candidate'] = 'Atiku'"
   ]
  },
  {
   "cell_type": "code",
   "execution_count": 191,
   "metadata": {},
   "outputs": [],
   "source": [
    "tinubu['candidate'] = 'Tinubu'\n",
    "obi['candidate'] = 'Obi'"
   ]
  },
  {
   "cell_type": "code",
   "execution_count": 192,
   "metadata": {
    "scrolled": true
   },
   "outputs": [
    {
     "data": {
      "text/html": [
       "<div>\n",
       "<style scoped>\n",
       "    .dataframe tbody tr th:only-of-type {\n",
       "        vertical-align: middle;\n",
       "    }\n",
       "\n",
       "    .dataframe tbody tr th {\n",
       "        vertical-align: top;\n",
       "    }\n",
       "\n",
       "    .dataframe thead th {\n",
       "        text-align: right;\n",
       "    }\n",
       "</style>\n",
       "<table border=\"1\" class=\"dataframe\">\n",
       "  <thead>\n",
       "    <tr style=\"text-align: right;\">\n",
       "      <th></th>\n",
       "      <th>date</th>\n",
       "      <th>username</th>\n",
       "      <th>content</th>\n",
       "      <th>hashtags</th>\n",
       "      <th>from</th>\n",
       "      <th>like_count</th>\n",
       "      <th>candidate</th>\n",
       "    </tr>\n",
       "  </thead>\n",
       "  <tbody>\n",
       "    <tr>\n",
       "      <th>0</th>\n",
       "      <td>2023-02-25 23:59:58+00:00</td>\n",
       "      <td>Kingrational16</td>\n",
       "      <td>Retweet massively\\nJust in: Polling unit Presi...</td>\n",
       "      <td>[NigeriaElections2023, ObiWon, Edo, presidenti...</td>\n",
       "      <td>Twitter Web App</td>\n",
       "      <td>674</td>\n",
       "      <td>Obi</td>\n",
       "    </tr>\n",
       "    <tr>\n",
       "      <th>1</th>\n",
       "      <td>2023-02-25 23:59:57+00:00</td>\n",
       "      <td>OAkindunjoye</td>\n",
       "      <td>Excuse me, why are TV stations not covering wh...</td>\n",
       "      <td>[PeterObiIsComing, presidentialelection2023]</td>\n",
       "      <td>Twitter for Android</td>\n",
       "      <td>41</td>\n",
       "      <td>Obi</td>\n",
       "    </tr>\n",
       "    <tr>\n",
       "      <th>2</th>\n",
       "      <td>2023-02-25 23:59:55+00:00</td>\n",
       "      <td>Charles31276636</td>\n",
       "      <td>#PeterObiForPresident2023✊✊ https://t.co/VxHPJ...</td>\n",
       "      <td>[PeterObiForPresident2023]</td>\n",
       "      <td>Twitter for Android</td>\n",
       "      <td>1</td>\n",
       "      <td>Obi</td>\n",
       "    </tr>\n",
       "    <tr>\n",
       "      <th>3</th>\n",
       "      <td>2023-02-25 23:59:53+00:00</td>\n",
       "      <td>Oma78394842</td>\n",
       "      <td>@inecnigeria should rig this election, we will...</td>\n",
       "      <td>[obiwon, presidentialelection2023, AriseTV, ch...</td>\n",
       "      <td>Twitter for iPhone</td>\n",
       "      <td>2</td>\n",
       "      <td>Obi</td>\n",
       "    </tr>\n",
       "    <tr>\n",
       "      <th>4</th>\n",
       "      <td>2023-02-25 23:59:52+00:00</td>\n",
       "      <td>Nze231</td>\n",
       "      <td>#NigeriaDecides The N = kings landing. The S= ...</td>\n",
       "      <td>[NigeriaDecides, Nyesomwike, PeterObi, Atiku, ...</td>\n",
       "      <td>Twitter for iPhone</td>\n",
       "      <td>0</td>\n",
       "      <td>Obi</td>\n",
       "    </tr>\n",
       "  </tbody>\n",
       "</table>\n",
       "</div>"
      ],
      "text/plain": [
       "                       date         username  \\\n",
       "0 2023-02-25 23:59:58+00:00   Kingrational16   \n",
       "1 2023-02-25 23:59:57+00:00     OAkindunjoye   \n",
       "2 2023-02-25 23:59:55+00:00  Charles31276636   \n",
       "3 2023-02-25 23:59:53+00:00      Oma78394842   \n",
       "4 2023-02-25 23:59:52+00:00           Nze231   \n",
       "\n",
       "                                             content  \\\n",
       "0  Retweet massively\\nJust in: Polling unit Presi...   \n",
       "1  Excuse me, why are TV stations not covering wh...   \n",
       "2  #PeterObiForPresident2023✊✊ https://t.co/VxHPJ...   \n",
       "3  @inecnigeria should rig this election, we will...   \n",
       "4  #NigeriaDecides The N = kings landing. The S= ...   \n",
       "\n",
       "                                            hashtags                 from  \\\n",
       "0  [NigeriaElections2023, ObiWon, Edo, presidenti...      Twitter Web App   \n",
       "1       [PeterObiIsComing, presidentialelection2023]  Twitter for Android   \n",
       "2                         [PeterObiForPresident2023]  Twitter for Android   \n",
       "3  [obiwon, presidentialelection2023, AriseTV, ch...   Twitter for iPhone   \n",
       "4  [NigeriaDecides, Nyesomwike, PeterObi, Atiku, ...   Twitter for iPhone   \n",
       "\n",
       "   like_count candidate  \n",
       "0         674       Obi  \n",
       "1          41       Obi  \n",
       "2           1       Obi  \n",
       "3           2       Obi  \n",
       "4           0       Obi  "
      ]
     },
     "execution_count": 192,
     "metadata": {},
     "output_type": "execute_result"
    }
   ],
   "source": [
    "obi.head()"
   ]
  },
  {
   "cell_type": "code",
   "execution_count": null,
   "metadata": {},
   "outputs": [],
   "source": []
  },
  {
   "cell_type": "markdown",
   "metadata": {},
   "source": [
    "# Combining all the Datasets"
   ]
  },
  {
   "cell_type": "code",
   "execution_count": 193,
   "metadata": {},
   "outputs": [],
   "source": [
    "hashtag_results = atiku.append([tinubu,obi])"
   ]
  },
  {
   "cell_type": "code",
   "execution_count": 196,
   "metadata": {
    "scrolled": false
   },
   "outputs": [
    {
     "data": {
      "text/html": [
       "<div>\n",
       "<style scoped>\n",
       "    .dataframe tbody tr th:only-of-type {\n",
       "        vertical-align: middle;\n",
       "    }\n",
       "\n",
       "    .dataframe tbody tr th {\n",
       "        vertical-align: top;\n",
       "    }\n",
       "\n",
       "    .dataframe thead th {\n",
       "        text-align: right;\n",
       "    }\n",
       "</style>\n",
       "<table border=\"1\" class=\"dataframe\">\n",
       "  <thead>\n",
       "    <tr style=\"text-align: right;\">\n",
       "      <th></th>\n",
       "      <th>date</th>\n",
       "      <th>username</th>\n",
       "      <th>content</th>\n",
       "      <th>hashtags</th>\n",
       "      <th>from</th>\n",
       "      <th>like_count</th>\n",
       "      <th>candidate</th>\n",
       "    </tr>\n",
       "  </thead>\n",
       "  <tbody>\n",
       "    <tr>\n",
       "      <th>0</th>\n",
       "      <td>2023-02-25 23:59:52+00:00</td>\n",
       "      <td>Nze231</td>\n",
       "      <td>#NigeriaDecides The N = kings landing. The S= ...</td>\n",
       "      <td>[NigeriaDecides, Nyesomwike, PeterObi, Atiku, ...</td>\n",
       "      <td>Twitter for iPhone</td>\n",
       "      <td>0</td>\n",
       "      <td>Atiku</td>\n",
       "    </tr>\n",
       "    <tr>\n",
       "      <th>1</th>\n",
       "      <td>2023-02-25 23:54:51+00:00</td>\n",
       "      <td>Jay_Magnifico_</td>\n",
       "      <td>After Obi has been declared the winner, you'll...</td>\n",
       "      <td>[BolaAhmedTinubu, Atiku]</td>\n",
       "      <td>Twitter for Android</td>\n",
       "      <td>2</td>\n",
       "      <td>Atiku</td>\n",
       "    </tr>\n",
       "    <tr>\n",
       "      <th>2</th>\n",
       "      <td>2023-02-25 23:51:59+00:00</td>\n",
       "      <td>muminbrave</td>\n",
       "      <td>People be like: I was drinking garri this afte...</td>\n",
       "      <td>[presidentialelection2023, NigeriaDecides2023,...</td>\n",
       "      <td>Twitter for Android</td>\n",
       "      <td>4</td>\n",
       "      <td>Atiku</td>\n",
       "    </tr>\n",
       "    <tr>\n",
       "      <th>3</th>\n",
       "      <td>2023-02-25 23:49:27+00:00</td>\n",
       "      <td>Enwagboso</td>\n",
       "      <td>It seems that other camps are rattled. They're...</td>\n",
       "      <td>[AtikuIsWinning]</td>\n",
       "      <td>Twitter for Android</td>\n",
       "      <td>1</td>\n",
       "      <td>Atiku</td>\n",
       "    </tr>\n",
       "    <tr>\n",
       "      <th>4</th>\n",
       "      <td>2023-02-25 23:46:54+00:00</td>\n",
       "      <td>Gnmagaji</td>\n",
       "      <td>With or without money, here i belong to.\\n#PDP...</td>\n",
       "      <td>[PDP, Atiku, Amb]</td>\n",
       "      <td>Twitter for Android</td>\n",
       "      <td>0</td>\n",
       "      <td>Atiku</td>\n",
       "    </tr>\n",
       "    <tr>\n",
       "      <th>...</th>\n",
       "      <td>...</td>\n",
       "      <td>...</td>\n",
       "      <td>...</td>\n",
       "      <td>...</td>\n",
       "      <td>...</td>\n",
       "      <td>...</td>\n",
       "      <td>...</td>\n",
       "    </tr>\n",
       "    <tr>\n",
       "      <th>25914</th>\n",
       "      <td>2023-02-25 00:00:37+00:00</td>\n",
       "      <td>Rivaldo_UI</td>\n",
       "      <td>Dear Obidients this is how we are gonna celebr...</td>\n",
       "      <td>[PeterObiForPresident2023, VoteLabourParty, Vo...</td>\n",
       "      <td>Twitter for Android</td>\n",
       "      <td>31</td>\n",
       "      <td>Obi</td>\n",
       "    </tr>\n",
       "    <tr>\n",
       "      <th>25915</th>\n",
       "      <td>2023-02-25 00:00:29+00:00</td>\n",
       "      <td>The_DaGaius</td>\n",
       "      <td>The most disappointing governor of a state in ...</td>\n",
       "      <td>[PeterObiForPresident2023, ElectionDay, Nigeri...</td>\n",
       "      <td>Twitter for Android</td>\n",
       "      <td>1</td>\n",
       "      <td>Obi</td>\n",
       "    </tr>\n",
       "    <tr>\n",
       "      <th>25916</th>\n",
       "      <td>2023-02-25 00:00:27+00:00</td>\n",
       "      <td>JammalCollins</td>\n",
       "      <td>#Nigeriadecide2023 #Tinubu #AtikuAbubakar #Pet...</td>\n",
       "      <td>[Nigeriadecide2023, Tinubu, AtikuAbubakar, Pet...</td>\n",
       "      <td>Twitter for iPhone</td>\n",
       "      <td>1</td>\n",
       "      <td>Obi</td>\n",
       "    </tr>\n",
       "    <tr>\n",
       "      <th>25917</th>\n",
       "      <td>2023-02-25 00:00:24+00:00</td>\n",
       "      <td>AbiodunOmonijo</td>\n",
       "      <td>@Google made us a doodle.\\n#NigeriaDecides2023...</td>\n",
       "      <td>[NigeriaDecides2023, PeterObiForPresident2023]</td>\n",
       "      <td>Twitter for Android</td>\n",
       "      <td>0</td>\n",
       "      <td>Obi</td>\n",
       "    </tr>\n",
       "    <tr>\n",
       "      <th>25918</th>\n",
       "      <td>2023-02-25 00:00:17+00:00</td>\n",
       "      <td>NkirukaNistoran</td>\n",
       "      <td>I can't sleep o! If I am interceding for a new...</td>\n",
       "      <td>[PeterObiForPresident2023]</td>\n",
       "      <td>Twitter Web App</td>\n",
       "      <td>20</td>\n",
       "      <td>Obi</td>\n",
       "    </tr>\n",
       "  </tbody>\n",
       "</table>\n",
       "<p>30095 rows × 7 columns</p>\n",
       "</div>"
      ],
      "text/plain": [
       "                           date         username  \\\n",
       "0     2023-02-25 23:59:52+00:00           Nze231   \n",
       "1     2023-02-25 23:54:51+00:00   Jay_Magnifico_   \n",
       "2     2023-02-25 23:51:59+00:00       muminbrave   \n",
       "3     2023-02-25 23:49:27+00:00        Enwagboso   \n",
       "4     2023-02-25 23:46:54+00:00         Gnmagaji   \n",
       "...                         ...              ...   \n",
       "25914 2023-02-25 00:00:37+00:00       Rivaldo_UI   \n",
       "25915 2023-02-25 00:00:29+00:00      The_DaGaius   \n",
       "25916 2023-02-25 00:00:27+00:00    JammalCollins   \n",
       "25917 2023-02-25 00:00:24+00:00   AbiodunOmonijo   \n",
       "25918 2023-02-25 00:00:17+00:00  NkirukaNistoran   \n",
       "\n",
       "                                                 content  \\\n",
       "0      #NigeriaDecides The N = kings landing. The S= ...   \n",
       "1      After Obi has been declared the winner, you'll...   \n",
       "2      People be like: I was drinking garri this afte...   \n",
       "3      It seems that other camps are rattled. They're...   \n",
       "4      With or without money, here i belong to.\\n#PDP...   \n",
       "...                                                  ...   \n",
       "25914  Dear Obidients this is how we are gonna celebr...   \n",
       "25915  The most disappointing governor of a state in ...   \n",
       "25916  #Nigeriadecide2023 #Tinubu #AtikuAbubakar #Pet...   \n",
       "25917  @Google made us a doodle.\\n#NigeriaDecides2023...   \n",
       "25918  I can't sleep o! If I am interceding for a new...   \n",
       "\n",
       "                                                hashtags                 from  \\\n",
       "0      [NigeriaDecides, Nyesomwike, PeterObi, Atiku, ...   Twitter for iPhone   \n",
       "1                               [BolaAhmedTinubu, Atiku]  Twitter for Android   \n",
       "2      [presidentialelection2023, NigeriaDecides2023,...  Twitter for Android   \n",
       "3                                       [AtikuIsWinning]  Twitter for Android   \n",
       "4                                      [PDP, Atiku, Amb]  Twitter for Android   \n",
       "...                                                  ...                  ...   \n",
       "25914  [PeterObiForPresident2023, VoteLabourParty, Vo...  Twitter for Android   \n",
       "25915  [PeterObiForPresident2023, ElectionDay, Nigeri...  Twitter for Android   \n",
       "25916  [Nigeriadecide2023, Tinubu, AtikuAbubakar, Pet...   Twitter for iPhone   \n",
       "25917     [NigeriaDecides2023, PeterObiForPresident2023]  Twitter for Android   \n",
       "25918                         [PeterObiForPresident2023]      Twitter Web App   \n",
       "\n",
       "       like_count candidate  \n",
       "0               0     Atiku  \n",
       "1               2     Atiku  \n",
       "2               4     Atiku  \n",
       "3               1     Atiku  \n",
       "4               0     Atiku  \n",
       "...           ...       ...  \n",
       "25914          31       Obi  \n",
       "25915           1       Obi  \n",
       "25916           1       Obi  \n",
       "25917           0       Obi  \n",
       "25918          20       Obi  \n",
       "\n",
       "[30095 rows x 7 columns]"
      ]
     },
     "execution_count": 196,
     "metadata": {},
     "output_type": "execute_result"
    }
   ],
   "source": [
    "hashtag_results"
   ]
  },
  {
   "cell_type": "code",
   "execution_count": null,
   "metadata": {},
   "outputs": [],
   "source": []
  },
  {
   "cell_type": "markdown",
   "metadata": {},
   "source": [
    "# SAVING THE COMBINED DATASET AS A CSV FILE"
   ]
  },
  {
   "cell_type": "code",
   "execution_count": 198,
   "metadata": {},
   "outputs": [],
   "source": [
    "hashtag_results.to_csv('election_hastags.csv')"
   ]
  },
  {
   "cell_type": "code",
   "execution_count": 199,
   "metadata": {},
   "outputs": [
    {
     "name": "stdout",
     "output_type": "stream",
     "text": [
      "<class 'pandas.core.frame.DataFrame'>\n",
      "Int64Index: 30095 entries, 0 to 25918\n",
      "Data columns (total 7 columns):\n",
      " #   Column      Non-Null Count  Dtype              \n",
      "---  ------      --------------  -----              \n",
      " 0   date        30095 non-null  datetime64[ns, UTC]\n",
      " 1   username    30095 non-null  object             \n",
      " 2   content     30095 non-null  object             \n",
      " 3   hashtags    30095 non-null  object             \n",
      " 4   from        30095 non-null  object             \n",
      " 5   like_count  30095 non-null  int64              \n",
      " 6   candidate   30095 non-null  object             \n",
      "dtypes: datetime64[ns, UTC](1), int64(1), object(5)\n",
      "memory usage: 1.8+ MB\n"
     ]
    }
   ],
   "source": [
    "hashtag_results.info()"
   ]
  }
 ],
 "metadata": {
  "kernelspec": {
   "display_name": "Python 3",
   "language": "python",
   "name": "python3"
  },
  "language_info": {
   "codemirror_mode": {
    "name": "ipython",
    "version": 3
   },
   "file_extension": ".py",
   "mimetype": "text/x-python",
   "name": "python",
   "nbconvert_exporter": "python",
   "pygments_lexer": "ipython3",
   "version": "3.8.5"
  }
 },
 "nbformat": 4,
 "nbformat_minor": 4
}
