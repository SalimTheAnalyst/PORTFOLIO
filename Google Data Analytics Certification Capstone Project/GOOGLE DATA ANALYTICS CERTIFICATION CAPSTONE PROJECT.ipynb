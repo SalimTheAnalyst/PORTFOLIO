{
 "cells": [
  {
   "cell_type": "markdown",
   "metadata": {},
   "source": [
    "# Google Data Analytics Professional Certificate Capstone Project:\n",
    "\n",
    "## CYCLISTIC BIKE-SHARE ANALYSIS"
   ]
  },
  {
   "cell_type": "code",
   "execution_count": null,
   "metadata": {},
   "outputs": [],
   "source": []
  },
  {
   "cell_type": "markdown",
   "metadata": {},
   "source": [
    "# INTRODUCTION"
   ]
  },
  {
   "cell_type": "markdown",
   "metadata": {},
   "source": [
    "In this case study, i will be working as a data analyst for  **CYCLISTIC**, a bike-share company based in Chicago, USA. \n",
    "CYCLISTIC has over **5,800 bicycles** that\n",
    "are geotracked and locked into a network of **692** stations across Chicago. \n",
    "\n",
    "There are two types of CYCLISTIC users, those who subscribe to the annual membership and those who purchase the casual tickets. The marketing team believes that increasing the number of users with annual membership will be key to the future growth of the company. However, istead of lauching a marketing campaign to get new members, the team has decided to look into converting casual members into annual members.\n",
    "\n",
    "I have been tasked with the responsibility of carrying out an analysis to understand how casual riders and annual members use Cyclistic bikes differently. \n",
    "furthermore, the team would love to get recommemndations from the insights to enable them design a new marketing strategy to convert casual riders into annual members.\n",
    "\n",
    "To achieve success in my analysis, i have followed the **6 steps of data analysis process** taught in the google data analytics course, these steps are:\n",
    "\n",
    "    (1) Ask \n",
    "    (2) Prepare \n",
    "    (3) Process \n",
    "    (4) Analyze \n",
    "    (5) Share \n",
    "    (6) Act\n",
    "\n",
    "\n"
   ]
  },
  {
   "cell_type": "code",
   "execution_count": null,
   "metadata": {},
   "outputs": [],
   "source": []
  },
  {
   "cell_type": "markdown",
   "metadata": {},
   "source": [
    "# 1. ASK"
   ]
  },
  {
   "cell_type": "markdown",
   "metadata": {},
   "source": [
    "### BUSINESS TASK : How do annual members and casual riders use Cyclistic bikes differently?\n",
    "\n",
    "\n",
    "The ask phase of the data analytics process asking the right questions that would help with the given task.\n",
    "\n",
    "To get further insights towards finding a solution to the task, i have formulated few questions that would reveal some trends and patterns, these questions are:\n",
    "\n",
    "    i) WHAT IS THE TOTAL NUMBER OF RIDES COMPLETED BY EACH USER TYPE?\n",
    "\n",
    "    ii) WHAT IS THE TOTAL NUMBER OF RIDES IN EACH MONTH? \n",
    "\n",
    "    iii) WHAT IS THE TOTAL NUMBER OF RIDES BY DAY?\n",
    "\n",
    "    iv) WHAT IS THE TOTAL NUMBER OF RIDES COMPLETED BY EACH USER TYPE BY DAY?\n",
    "\n",
    "    v) WHAT IS THE TOTAL NUMBER OF RIDES COMPLETED BY EACH USER TYPE BY MONTH?\n",
    "\n",
    "    vi) WHAT ARE THE BIKE PREFERENCES BY USER TYPE?\n",
    "\n",
    "    vii) WHAT ARE THE TOP 5 START AND END STATIONS BY USER TYPE?\n",
    "    \n",
    "    viii) WHAT IS TOTAL NUMBER OF EACH BIKE TYPE USED BY EACH MEMBERSHIP TYPE EVERY MONTH?\n"
   ]
  },
  {
   "cell_type": "code",
   "execution_count": null,
   "metadata": {},
   "outputs": [],
   "source": []
  },
  {
   "cell_type": "markdown",
   "metadata": {},
   "source": [
    "# 2. PREPARING THE DATA\n",
    "\n",
    "The prepare phase of the data analytics phase involves the collection and preparation of the data based of good ethical considerations like: where the data was collected, The quality of the data, how recent the data is and how the data protects the privacy of people's information.\n",
    "\n",
    "The data used in this analysis was collected from CYCLISTIC by Motivate International Inc. The data used is very recent and contains data from the last **12 months**. The data collected was scrutinized and is found to be **unbiased**. The data-privacy issues prohibits the usage of riders’ personally identifiable information. "
   ]
  },
  {
   "cell_type": "code",
   "execution_count": null,
   "metadata": {},
   "outputs": [],
   "source": []
  },
  {
   "cell_type": "code",
   "execution_count": null,
   "metadata": {},
   "outputs": [],
   "source": []
  },
  {
   "cell_type": "markdown",
   "metadata": {},
   "source": [
    "# 3. PROCESSING THE DATA\n",
    "\n",
    "Data processing involves the collection, transformation and cleaning of the dataset so that the data will be consistent and credible.\n",
    "\n",
    "This process involves:\n",
    "    i) Importing each dataset for the 12 months and merging them into 1 dataset.\n",
    "    ii) Checking for missing values\n",
    "    iii) Formatting some columns to the correct dataset.\n",
    "    \n",
    "**NOTE**: Before importing the datasets, i added 2 extra column using Excel to each of the 12 sheets, the 2 extra columns are **\"day_of_week\"** (The day of the week the rider used the bike) and the **\"ride_length\"** (the duration of the ride from start to finish)."
   ]
  },
  {
   "cell_type": "code",
   "execution_count": null,
   "metadata": {},
   "outputs": [],
   "source": []
  },
  {
   "cell_type": "markdown",
   "metadata": {},
   "source": [
    "#### IMPORTING ALL THE NECESSARY LIBRARIES\n",
    "\n",
    "PANDAS: Pandas is the standard python library for data manipulation and analysis.\n",
    "\n",
    "MATPLOTLIB: Matplotlib is a comprehensive library for creating static, animated, and interactive visualizations in Python.\n",
    "\n",
    "OS: The OS module in Python provides functions for creating and removing a directory (folder), fetching its contents, changing and identifying the current directory, etc.\n",
    "\n",
    "SEABORN: Seaborn is a Python data visualization library based on matplotlib. It provides a high-level interface for drawing attractive and informative statistical graphics.\n",
    "\n",
    "DATETIME: The datetime module supplies classes for manipulating dates and times."
   ]
  },
  {
   "cell_type": "code",
   "execution_count": 469,
   "metadata": {},
   "outputs": [],
   "source": [
    "import pandas as pd\n",
    "import matplotlib.pyplot as plt\n",
    "import os\n",
    "import seaborn as sns\n",
    "import datetime as dt\n",
    "import numpy as np"
   ]
  },
  {
   "cell_type": "code",
   "execution_count": null,
   "metadata": {},
   "outputs": [],
   "source": []
  },
  {
   "cell_type": "markdown",
   "metadata": {},
   "source": [
    "#### LOADING ALL THE DATASETS FROM THE LOCATION OF THE FILES. THIS IS DONE BY SETTING THE FILE PATH WHERE THE DATASETS ARE LOCATED FIRST AND THEN LOADING THEM."
   ]
  },
  {
   "cell_type": "code",
   "execution_count": 2,
   "metadata": {},
   "outputs": [],
   "source": [
    "path = \"./COPY_Bike_Sharing_CSV_1121_to_1022_mmyy/\""
   ]
  },
  {
   "cell_type": "code",
   "execution_count": 5,
   "metadata": {},
   "outputs": [
    {
     "data": {
      "text/plain": [
       "['202111-divvy-tripdata.csv',\n",
       " '202112-divvy-tripdata.csv',\n",
       " '202201-divvy-tripdata.csv',\n",
       " '202202-divvy-tripdata.csv',\n",
       " '202203-divvy-tripdata.csv',\n",
       " '202204-divvy-tripdata.csv',\n",
       " '202205-divvy-tripdata.csv',\n",
       " '202206-divvy-tripdata.csv',\n",
       " '202207-divvy-tripdata.csv',\n",
       " '202208-divvy-tripdata.csv',\n",
       " '202209-divvy-publictripdata.csv',\n",
       " '202210-divvy-tripdata.csv']"
      ]
     },
     "execution_count": 5,
     "metadata": {},
     "output_type": "execute_result"
    }
   ],
   "source": [
    "files = [f for f in os.listdir(path)]\n",
    "files"
   ]
  },
  {
   "cell_type": "markdown",
   "metadata": {},
   "source": [
    "### COMBINING ALL 12 DATASETS INTO ONE DATASET CALLED all_data"
   ]
  },
  {
   "cell_type": "code",
   "execution_count": 7,
   "metadata": {},
   "outputs": [],
   "source": [
    "all_data = pd.DataFrame()\n",
    "\n",
    "for f in files:\n",
    "    df = pd.read_csv(path + f)\n",
    "    all_data = pd.concat([all_data, df])"
   ]
  },
  {
   "cell_type": "code",
   "execution_count": null,
   "metadata": {},
   "outputs": [],
   "source": []
  },
  {
   "cell_type": "markdown",
   "metadata": {},
   "source": [
    "#### VIEWING INFORMATION ABOUT THE DATASET"
   ]
  },
  {
   "cell_type": "code",
   "execution_count": 8,
   "metadata": {
    "scrolled": false
   },
   "outputs": [
    {
     "name": "stdout",
     "output_type": "stream",
     "text": [
      "<class 'pandas.core.frame.DataFrame'>\n",
      "Int64Index: 5755694 entries, 0 to 558684\n",
      "Data columns (total 15 columns):\n",
      " #   Column              Dtype  \n",
      "---  ------              -----  \n",
      " 0   ride_id             object \n",
      " 1   rideable_type       object \n",
      " 2   started_at          object \n",
      " 3   ended_at            object \n",
      " 4   day_of_week         int64  \n",
      " 5   ride_length         object \n",
      " 6   start_station_name  object \n",
      " 7   start_station_id    object \n",
      " 8   end_station_name    object \n",
      " 9   end_station_id      object \n",
      " 10  start_lat           float64\n",
      " 11  start_lng           float64\n",
      " 12  end_lat             float64\n",
      " 13  end_lng             float64\n",
      " 14  member_casual       object \n",
      "dtypes: float64(4), int64(1), object(10)\n",
      "memory usage: 702.6+ MB\n"
     ]
    }
   ],
   "source": [
    "all_data.info()"
   ]
  },
  {
   "cell_type": "markdown",
   "metadata": {},
   "source": [
    "#### VIEWING THE SHAPE (NUMBER OF ROWS, NUMBER OF COLUMNS) OF THE DATASET"
   ]
  },
  {
   "cell_type": "code",
   "execution_count": 11,
   "metadata": {},
   "outputs": [
    {
     "data": {
      "text/plain": [
       "(5755694, 15)"
      ]
     },
     "execution_count": 11,
     "metadata": {},
     "output_type": "execute_result"
    }
   ],
   "source": [
    "all_data.shape"
   ]
  },
  {
   "cell_type": "markdown",
   "metadata": {},
   "source": [
    "##### THERE ARE 5,755,694 ROWS OF DATA AND 15 COLUMNS IN THE COMBINED DATASET (all_data)"
   ]
  },
  {
   "cell_type": "code",
   "execution_count": null,
   "metadata": {},
   "outputs": [],
   "source": []
  },
  {
   "cell_type": "markdown",
   "metadata": {},
   "source": [
    "### CHECKING FOR MISSING VALUES"
   ]
  },
  {
   "cell_type": "code",
   "execution_count": 388,
   "metadata": {
    "scrolled": true
   },
   "outputs": [
    {
     "data": {
      "text/plain": [
       "rideable_type              0\n",
       "started_at                 0\n",
       "ended_at                   0\n",
       "day_of_week                0\n",
       "ride_length                0\n",
       "start_station_name    878177\n",
       "start_station_id      878177\n",
       "end_station_name      940010\n",
       "end_station_id        940010\n",
       "start_lat                  0\n",
       "start_lng                  0\n",
       "end_lat                 5835\n",
       "end_lng                 5835\n",
       "member_casual              0\n",
       "months                     0\n",
       "length                     0\n",
       "dtype: int64"
      ]
     },
     "execution_count": 388,
     "metadata": {},
     "output_type": "execute_result"
    }
   ],
   "source": [
    "all_data.isnull().sum()"
   ]
  },
  {
   "cell_type": "markdown",
   "metadata": {},
   "source": [
    "#### There are over 878,000 rows of missing data each from the start_station_name and start_station_id. and over 900,000 rows of missing data each from the end_station_name and end_station_id, and also over 5,000 rows of missing data each from the end_lat and end_lng columns.\n",
    "\n",
    "**ALL OTHER COLUMNS HAVE COMPLETE ROWS OF DATA.**\n",
    "\n",
    "**THEREFORE**, i will not be deleting any rows with from the columns with missing data because they do not affect my analysis based on the initial analysis questions in the ask phase of this analysis."
   ]
  },
  {
   "cell_type": "code",
   "execution_count": null,
   "metadata": {},
   "outputs": [],
   "source": []
  },
  {
   "cell_type": "code",
   "execution_count": null,
   "metadata": {},
   "outputs": [],
   "source": []
  },
  {
   "cell_type": "markdown",
   "metadata": {},
   "source": [
    "#### VIEWING THE FIRST 10 ENTRIES OF THE DATASET"
   ]
  },
  {
   "cell_type": "code",
   "execution_count": 131,
   "metadata": {
    "scrolled": true
   },
   "outputs": [
    {
     "data": {
      "text/html": [
       "<div>\n",
       "<style scoped>\n",
       "    .dataframe tbody tr th:only-of-type {\n",
       "        vertical-align: middle;\n",
       "    }\n",
       "\n",
       "    .dataframe tbody tr th {\n",
       "        vertical-align: top;\n",
       "    }\n",
       "\n",
       "    .dataframe thead th {\n",
       "        text-align: right;\n",
       "    }\n",
       "</style>\n",
       "<table border=\"1\" class=\"dataframe\">\n",
       "  <thead>\n",
       "    <tr style=\"text-align: right;\">\n",
       "      <th></th>\n",
       "      <th>rideable_type</th>\n",
       "      <th>started_at</th>\n",
       "      <th>ended_at</th>\n",
       "      <th>day_of_week</th>\n",
       "      <th>ride_length</th>\n",
       "      <th>start_station_name</th>\n",
       "      <th>start_station_id</th>\n",
       "      <th>end_station_name</th>\n",
       "      <th>end_station_id</th>\n",
       "      <th>start_lat</th>\n",
       "      <th>start_lng</th>\n",
       "      <th>end_lat</th>\n",
       "      <th>end_lng</th>\n",
       "      <th>member_casual</th>\n",
       "      <th>months</th>\n",
       "      <th>length</th>\n",
       "    </tr>\n",
       "  </thead>\n",
       "  <tbody>\n",
       "    <tr>\n",
       "      <th>0</th>\n",
       "      <td>electric_bike</td>\n",
       "      <td>2021-11-27 13:27:00</td>\n",
       "      <td>2021-11-27 13:46:00</td>\n",
       "      <td>6</td>\n",
       "      <td>0:19:00</td>\n",
       "      <td>NaN</td>\n",
       "      <td>NaN</td>\n",
       "      <td>NaN</td>\n",
       "      <td>NaN</td>\n",
       "      <td>41.93</td>\n",
       "      <td>-87.72</td>\n",
       "      <td>41.96</td>\n",
       "      <td>-87.73</td>\n",
       "      <td>casual</td>\n",
       "      <td>11</td>\n",
       "      <td>0 days 00:19:00</td>\n",
       "    </tr>\n",
       "    <tr>\n",
       "      <th>1</th>\n",
       "      <td>electric_bike</td>\n",
       "      <td>2021-11-27 13:38:00</td>\n",
       "      <td>2021-11-27 13:56:00</td>\n",
       "      <td>6</td>\n",
       "      <td>0:17:45</td>\n",
       "      <td>NaN</td>\n",
       "      <td>NaN</td>\n",
       "      <td>NaN</td>\n",
       "      <td>NaN</td>\n",
       "      <td>41.96</td>\n",
       "      <td>-87.70</td>\n",
       "      <td>41.92</td>\n",
       "      <td>-87.70</td>\n",
       "      <td>casual</td>\n",
       "      <td>11</td>\n",
       "      <td>0 days 00:18:00</td>\n",
       "    </tr>\n",
       "    <tr>\n",
       "      <th>2</th>\n",
       "      <td>electric_bike</td>\n",
       "      <td>2021-11-26 22:03:00</td>\n",
       "      <td>2021-11-26 22:05:00</td>\n",
       "      <td>5</td>\n",
       "      <td>0:02:22</td>\n",
       "      <td>NaN</td>\n",
       "      <td>NaN</td>\n",
       "      <td>NaN</td>\n",
       "      <td>NaN</td>\n",
       "      <td>41.96</td>\n",
       "      <td>-87.70</td>\n",
       "      <td>41.96</td>\n",
       "      <td>-87.70</td>\n",
       "      <td>casual</td>\n",
       "      <td>11</td>\n",
       "      <td>0 days 00:02:00</td>\n",
       "    </tr>\n",
       "    <tr>\n",
       "      <th>3</th>\n",
       "      <td>electric_bike</td>\n",
       "      <td>2021-11-27 09:56:00</td>\n",
       "      <td>2021-11-27 10:01:00</td>\n",
       "      <td>6</td>\n",
       "      <td>0:05:01</td>\n",
       "      <td>NaN</td>\n",
       "      <td>NaN</td>\n",
       "      <td>NaN</td>\n",
       "      <td>NaN</td>\n",
       "      <td>41.94</td>\n",
       "      <td>-87.79</td>\n",
       "      <td>41.93</td>\n",
       "      <td>-87.79</td>\n",
       "      <td>casual</td>\n",
       "      <td>11</td>\n",
       "      <td>0 days 00:05:00</td>\n",
       "    </tr>\n",
       "    <tr>\n",
       "      <th>4</th>\n",
       "      <td>electric_bike</td>\n",
       "      <td>2021-11-26 19:09:00</td>\n",
       "      <td>2021-11-26 19:30:00</td>\n",
       "      <td>5</td>\n",
       "      <td>0:21:13</td>\n",
       "      <td>NaN</td>\n",
       "      <td>NaN</td>\n",
       "      <td>NaN</td>\n",
       "      <td>NaN</td>\n",
       "      <td>41.90</td>\n",
       "      <td>-87.63</td>\n",
       "      <td>41.88</td>\n",
       "      <td>-87.62</td>\n",
       "      <td>casual</td>\n",
       "      <td>11</td>\n",
       "      <td>0 days 00:21:00</td>\n",
       "    </tr>\n",
       "  </tbody>\n",
       "</table>\n",
       "</div>"
      ],
      "text/plain": [
       "   rideable_type          started_at            ended_at  day_of_week  \\\n",
       "0  electric_bike 2021-11-27 13:27:00 2021-11-27 13:46:00            6   \n",
       "1  electric_bike 2021-11-27 13:38:00 2021-11-27 13:56:00            6   \n",
       "2  electric_bike 2021-11-26 22:03:00 2021-11-26 22:05:00            5   \n",
       "3  electric_bike 2021-11-27 09:56:00 2021-11-27 10:01:00            6   \n",
       "4  electric_bike 2021-11-26 19:09:00 2021-11-26 19:30:00            5   \n",
       "\n",
       "  ride_length start_station_name start_station_id end_station_name  \\\n",
       "0     0:19:00                NaN              NaN              NaN   \n",
       "1     0:17:45                NaN              NaN              NaN   \n",
       "2     0:02:22                NaN              NaN              NaN   \n",
       "3     0:05:01                NaN              NaN              NaN   \n",
       "4     0:21:13                NaN              NaN              NaN   \n",
       "\n",
       "  end_station_id  start_lat  start_lng  end_lat  end_lng member_casual  \\\n",
       "0            NaN      41.93     -87.72    41.96   -87.73        casual   \n",
       "1            NaN      41.96     -87.70    41.92   -87.70        casual   \n",
       "2            NaN      41.96     -87.70    41.96   -87.70        casual   \n",
       "3            NaN      41.94     -87.79    41.93   -87.79        casual   \n",
       "4            NaN      41.90     -87.63    41.88   -87.62        casual   \n",
       "\n",
       "   months          length  \n",
       "0      11 0 days 00:19:00  \n",
       "1      11 0 days 00:18:00  \n",
       "2      11 0 days 00:02:00  \n",
       "3      11 0 days 00:05:00  \n",
       "4      11 0 days 00:21:00  "
      ]
     },
     "execution_count": 131,
     "metadata": {},
     "output_type": "execute_result"
    }
   ],
   "source": [
    "all_data.head()"
   ]
  },
  {
   "cell_type": "code",
   "execution_count": null,
   "metadata": {},
   "outputs": [],
   "source": []
  },
  {
   "cell_type": "code",
   "execution_count": null,
   "metadata": {},
   "outputs": [],
   "source": []
  },
  {
   "cell_type": "markdown",
   "metadata": {},
   "source": [
    "### FORMATING COLUMNS TO THE CORRECT DATA TYPE"
   ]
  },
  {
   "cell_type": "code",
   "execution_count": 44,
   "metadata": {},
   "outputs": [],
   "source": [
    "all_data[\"started_at\"] = pd.to_datetime(all_data[\"started_at\"])\n",
    "\n",
    "all_data[\"ended_at\"] = pd.to_datetime(all_data[\"ended_at\"])"
   ]
  },
  {
   "cell_type": "markdown",
   "metadata": {},
   "source": [
    "#### THE \"started_at\" AND \"ended_at\" COLUMNS WERE in the \"OBJECT\" DATA TYPE, THEY HAVE BEEN CONVERTED TO \"DATETIME\" FORMAT."
   ]
  },
  {
   "cell_type": "code",
   "execution_count": null,
   "metadata": {},
   "outputs": [],
   "source": []
  },
  {
   "cell_type": "markdown",
   "metadata": {},
   "source": [
    "#### THE \"ride_id\" COLUMN IS NOT IMPORTANT IN THE ANALYSIS, SO IT WILL BE DROPPED."
   ]
  },
  {
   "cell_type": "code",
   "execution_count": 46,
   "metadata": {},
   "outputs": [],
   "source": [
    "all_data.drop([\"ride_id\" ], axis = 1, inplace =  True)"
   ]
  },
  {
   "cell_type": "markdown",
   "metadata": {},
   "source": []
  },
  {
   "cell_type": "markdown",
   "metadata": {},
   "source": [
    "### EXTRACTING THE MONTHS OF EACH RIDE INTO A NEW COLUMN CALLED \"months\""
   ]
  },
  {
   "cell_type": "code",
   "execution_count": 54,
   "metadata": {},
   "outputs": [],
   "source": [
    "all_data[\"months\"] = all_data[\"started_at\"].dt.month"
   ]
  },
  {
   "cell_type": "code",
   "execution_count": null,
   "metadata": {},
   "outputs": [],
   "source": []
  },
  {
   "cell_type": "code",
   "execution_count": null,
   "metadata": {},
   "outputs": [],
   "source": []
  },
  {
   "cell_type": "code",
   "execution_count": null,
   "metadata": {},
   "outputs": [],
   "source": []
  },
  {
   "cell_type": "markdown",
   "metadata": {},
   "source": [
    "# 4. ANALYZING THE DATASET\n",
    "\n",
    "The analyze phase of the data analytics process comes after processing and cleaning up the dataset. It involves carry out analysis on the dataset to answer business questions or confirm or answer formulated hypotheses.\n",
    "In this phase, we will be analyze and find insights to our formulated questions in the ASK phase."
   ]
  },
  {
   "cell_type": "code",
   "execution_count": null,
   "metadata": {},
   "outputs": [],
   "source": []
  },
  {
   "cell_type": "code",
   "execution_count": null,
   "metadata": {},
   "outputs": [],
   "source": []
  },
  {
   "cell_type": "markdown",
   "metadata": {},
   "source": [
    "### i) ANALYZING THE TOTAL NUMBER OF RIDES  BY EACH USER TYPE?"
   ]
  },
  {
   "cell_type": "code",
   "execution_count": 418,
   "metadata": {
    "scrolled": true
   },
   "outputs": [
    {
     "data": {
      "text/plain": [
       "member_casual\n",
       "casual    2353033\n",
       "member    3402661\n",
       "Name: rideable_type, dtype: int64"
      ]
     },
     "execution_count": 418,
     "metadata": {},
     "output_type": "execute_result"
    }
   ],
   "source": [
    "all_data.groupby(\"member_casual\").count()['rideable_type']"
   ]
  },
  {
   "cell_type": "code",
   "execution_count": 576,
   "metadata": {},
   "outputs": [],
   "source": [
    "tot_num = all_data.groupby(\"member_casual\").count()['rideable_type'].reset_index()"
   ]
  },
  {
   "cell_type": "code",
   "execution_count": 624,
   "metadata": {},
   "outputs": [],
   "source": [
    "tot_num.rename({\"member_casual\": \"Membership Type\", 'rideable_type': \"count\"}, inplace = True, axis = 1)"
   ]
  },
  {
   "cell_type": "code",
   "execution_count": 627,
   "metadata": {},
   "outputs": [
    {
     "data": {
      "text/html": [
       "<div>\n",
       "<style scoped>\n",
       "    .dataframe tbody tr th:only-of-type {\n",
       "        vertical-align: middle;\n",
       "    }\n",
       "\n",
       "    .dataframe tbody tr th {\n",
       "        vertical-align: top;\n",
       "    }\n",
       "\n",
       "    .dataframe thead th {\n",
       "        text-align: right;\n",
       "    }\n",
       "</style>\n",
       "<table border=\"1\" class=\"dataframe\">\n",
       "  <thead>\n",
       "    <tr style=\"text-align: right;\">\n",
       "      <th></th>\n",
       "      <th>Membership Type</th>\n",
       "      <th>count</th>\n",
       "    </tr>\n",
       "  </thead>\n",
       "  <tbody>\n",
       "    <tr>\n",
       "      <th>0</th>\n",
       "      <td>casual</td>\n",
       "      <td>2353033</td>\n",
       "    </tr>\n",
       "    <tr>\n",
       "      <th>1</th>\n",
       "      <td>member</td>\n",
       "      <td>3402661</td>\n",
       "    </tr>\n",
       "  </tbody>\n",
       "</table>\n",
       "</div>"
      ],
      "text/plain": [
       "  Membership Type    count\n",
       "0          casual  2353033\n",
       "1          member  3402661"
      ]
     },
     "execution_count": 627,
     "metadata": {},
     "output_type": "execute_result"
    }
   ],
   "source": [
    "tot_num"
   ]
  },
  {
   "cell_type": "code",
   "execution_count": null,
   "metadata": {},
   "outputs": [],
   "source": []
  },
  {
   "cell_type": "markdown",
   "metadata": {},
   "source": [
    "### PLOTTING THE TOTAL NUMBER OF RIDES  BY EACH USER TYPE?"
   ]
  },
  {
   "cell_type": "code",
   "execution_count": 640,
   "metadata": {},
   "outputs": [
    {
     "data": {
      "image/png": "[encoded data removed]",
      "text/plain": [
       "<Figure size 1440x576 with 1 Axes>"
      ]
     },
     "metadata": {},
     "output_type": "display_data"
    }
   ],
   "source": [
    "plt.figure(figsize = (20, 8))\n",
    "color = sns.color_palette(\"pastel\")\n",
    "plt.pie(tot_num[\"count\"], labels = [\"2,353,033\", \"3,402,661\"], autopct='%.1f%%' , startangle=90,\n",
    "        shadow= True, colors = color, explode =  [0, 0.05])\n",
    "\n",
    "plt.legend(labels = [\"Causal Member\", \"Yearly Member\"], loc = 1)\n",
    "plt.title(\" DISTRIBUTION OF RIDES BY EACH USER TYPE?\")\n",
    "plt.show()"
   ]
  },
  {
   "cell_type": "code",
   "execution_count": null,
   "metadata": {},
   "outputs": [],
   "source": []
  },
  {
   "cell_type": "code",
   "execution_count": null,
   "metadata": {},
   "outputs": [],
   "source": []
  },
  {
   "cell_type": "markdown",
   "metadata": {},
   "source": [
    "\n",
    "### ii) THE TOTAL NUMBER OF RIDES IN EACH MONTH"
   ]
  },
  {
   "cell_type": "code",
   "execution_count": 438,
   "metadata": {
    "scrolled": true
   },
   "outputs": [
    {
     "data": {
      "text/html": [
       "<div>\n",
       "<style scoped>\n",
       "    .dataframe tbody tr th:only-of-type {\n",
       "        vertical-align: middle;\n",
       "    }\n",
       "\n",
       "    .dataframe tbody tr th {\n",
       "        vertical-align: top;\n",
       "    }\n",
       "\n",
       "    .dataframe thead th {\n",
       "        text-align: right;\n",
       "    }\n",
       "</style>\n",
       "<table border=\"1\" class=\"dataframe\">\n",
       "  <thead>\n",
       "    <tr style=\"text-align: right;\">\n",
       "      <th></th>\n",
       "      <th>index</th>\n",
       "      <th>months</th>\n",
       "    </tr>\n",
       "  </thead>\n",
       "  <tbody>\n",
       "    <tr>\n",
       "      <th>0</th>\n",
       "      <td>7</td>\n",
       "      <td>682109</td>\n",
       "    </tr>\n",
       "    <tr>\n",
       "      <th>1</th>\n",
       "      <td>8</td>\n",
       "      <td>657106</td>\n",
       "    </tr>\n",
       "    <tr>\n",
       "      <th>2</th>\n",
       "      <td>6</td>\n",
       "      <td>650332</td>\n",
       "    </tr>\n",
       "    <tr>\n",
       "      <th>3</th>\n",
       "      <td>9</td>\n",
       "      <td>634573</td>\n",
       "    </tr>\n",
       "    <tr>\n",
       "      <th>4</th>\n",
       "      <td>5</td>\n",
       "      <td>621063</td>\n",
       "    </tr>\n",
       "    <tr>\n",
       "      <th>5</th>\n",
       "      <td>10</td>\n",
       "      <td>539547</td>\n",
       "    </tr>\n",
       "    <tr>\n",
       "      <th>6</th>\n",
       "      <td>4</td>\n",
       "      <td>418104</td>\n",
       "    </tr>\n",
       "    <tr>\n",
       "      <th>7</th>\n",
       "      <td>3</td>\n",
       "      <td>372685</td>\n",
       "    </tr>\n",
       "    <tr>\n",
       "      <th>8</th>\n",
       "      <td>11</td>\n",
       "      <td>348653</td>\n",
       "    </tr>\n",
       "    <tr>\n",
       "      <th>9</th>\n",
       "      <td>12</td>\n",
       "      <td>314320</td>\n",
       "    </tr>\n",
       "    <tr>\n",
       "      <th>10</th>\n",
       "      <td>2</td>\n",
       "      <td>262912</td>\n",
       "    </tr>\n",
       "    <tr>\n",
       "      <th>11</th>\n",
       "      <td>1</td>\n",
       "      <td>254290</td>\n",
       "    </tr>\n",
       "  </tbody>\n",
       "</table>\n",
       "</div>"
      ],
      "text/plain": [
       "    index  months\n",
       "0       7  682109\n",
       "1       8  657106\n",
       "2       6  650332\n",
       "3       9  634573\n",
       "4       5  621063\n",
       "5      10  539547\n",
       "6       4  418104\n",
       "7       3  372685\n",
       "8      11  348653\n",
       "9      12  314320\n",
       "10      2  262912\n",
       "11      1  254290"
      ]
     },
     "execution_count": 438,
     "metadata": {},
     "output_type": "execute_result"
    }
   ],
   "source": [
    "ride_per_month = pd.DataFrame(all_data[\"months\"].value_counts()).reset_index()\n",
    "ride_per_month\n"
   ]
  },
  {
   "cell_type": "code",
   "execution_count": 439,
   "metadata": {},
   "outputs": [],
   "source": [
    "ride_per_month.rename({\"index\": \"months\", \"months\": \"rides\"}, axis = 1, inplace = True)"
   ]
  },
  {
   "cell_type": "code",
   "execution_count": 440,
   "metadata": {
    "scrolled": false
   },
   "outputs": [
    {
     "data": {
      "text/html": [
       "<div>\n",
       "<style scoped>\n",
       "    .dataframe tbody tr th:only-of-type {\n",
       "        vertical-align: middle;\n",
       "    }\n",
       "\n",
       "    .dataframe tbody tr th {\n",
       "        vertical-align: top;\n",
       "    }\n",
       "\n",
       "    .dataframe thead th {\n",
       "        text-align: right;\n",
       "    }\n",
       "</style>\n",
       "<table border=\"1\" class=\"dataframe\">\n",
       "  <thead>\n",
       "    <tr style=\"text-align: right;\">\n",
       "      <th></th>\n",
       "      <th>months</th>\n",
       "      <th>rides</th>\n",
       "    </tr>\n",
       "  </thead>\n",
       "  <tbody>\n",
       "    <tr>\n",
       "      <th>0</th>\n",
       "      <td>7</td>\n",
       "      <td>682109</td>\n",
       "    </tr>\n",
       "    <tr>\n",
       "      <th>1</th>\n",
       "      <td>8</td>\n",
       "      <td>657106</td>\n",
       "    </tr>\n",
       "    <tr>\n",
       "      <th>2</th>\n",
       "      <td>6</td>\n",
       "      <td>650332</td>\n",
       "    </tr>\n",
       "    <tr>\n",
       "      <th>3</th>\n",
       "      <td>9</td>\n",
       "      <td>634573</td>\n",
       "    </tr>\n",
       "    <tr>\n",
       "      <th>4</th>\n",
       "      <td>5</td>\n",
       "      <td>621063</td>\n",
       "    </tr>\n",
       "    <tr>\n",
       "      <th>5</th>\n",
       "      <td>10</td>\n",
       "      <td>539547</td>\n",
       "    </tr>\n",
       "    <tr>\n",
       "      <th>6</th>\n",
       "      <td>4</td>\n",
       "      <td>418104</td>\n",
       "    </tr>\n",
       "    <tr>\n",
       "      <th>7</th>\n",
       "      <td>3</td>\n",
       "      <td>372685</td>\n",
       "    </tr>\n",
       "    <tr>\n",
       "      <th>8</th>\n",
       "      <td>11</td>\n",
       "      <td>348653</td>\n",
       "    </tr>\n",
       "    <tr>\n",
       "      <th>9</th>\n",
       "      <td>12</td>\n",
       "      <td>314320</td>\n",
       "    </tr>\n",
       "    <tr>\n",
       "      <th>10</th>\n",
       "      <td>2</td>\n",
       "      <td>262912</td>\n",
       "    </tr>\n",
       "    <tr>\n",
       "      <th>11</th>\n",
       "      <td>1</td>\n",
       "      <td>254290</td>\n",
       "    </tr>\n",
       "  </tbody>\n",
       "</table>\n",
       "</div>"
      ],
      "text/plain": [
       "    months   rides\n",
       "0        7  682109\n",
       "1        8  657106\n",
       "2        6  650332\n",
       "3        9  634573\n",
       "4        5  621063\n",
       "5       10  539547\n",
       "6        4  418104\n",
       "7        3  372685\n",
       "8       11  348653\n",
       "9       12  314320\n",
       "10       2  262912\n",
       "11       1  254290"
      ]
     },
     "execution_count": 440,
     "metadata": {},
     "output_type": "execute_result"
    }
   ],
   "source": [
    "ride_per_month"
   ]
  },
  {
   "cell_type": "code",
   "execution_count": 408,
   "metadata": {
    "scrolled": false
   },
   "outputs": [
    {
     "data": {
      "text/plain": [
       "months\n",
       "1     254290\n",
       "2     262912\n",
       "3     372685\n",
       "4     418104\n",
       "5     621063\n",
       "6     650332\n",
       "7     682109\n",
       "8     657106\n",
       "9     634573\n",
       "10    539547\n",
       "11    348653\n",
       "12    314320\n",
       "Name: rideable_type, dtype: int64"
      ]
     },
     "execution_count": 408,
     "metadata": {},
     "output_type": "execute_result"
    }
   ],
   "source": [
    "all_data.groupby(\"months\").count()[\"rideable_type\"] #CAN ALSO BE DONE WITH THE GROUPBY AND COUNT FUNCTIONS"
   ]
  },
  {
   "cell_type": "code",
   "execution_count": null,
   "metadata": {},
   "outputs": [],
   "source": []
  },
  {
   "cell_type": "code",
   "execution_count": null,
   "metadata": {},
   "outputs": [],
   "source": []
  },
  {
   "cell_type": "markdown",
   "metadata": {},
   "source": [
    "### PLOTING THE TOTAL NUMBER OF RIDES IN EACH MONTH"
   ]
  },
  {
   "cell_type": "code",
   "execution_count": 444,
   "metadata": {},
   "outputs": [
    {
     "data": {
      "image/png": "[encoded data removed]",
      "text/plain": [
       "<Figure size 1080x576 with 1 Axes>"
      ]
     },
     "metadata": {
      "needs_background": "light"
     },
     "output_type": "display_data"
    }
   ],
   "source": [
    "plt.figure(figsize = (15, 8))\n",
    "sns.lineplot(x = ride_per_month[\"months\"], y = ride_per_month[\"rides\"], color = \"r\", marker= \"h\", markersize = 8)\n",
    "plt.xticks(ride_per_month[\"months\"])\n",
    "plt.xlabel(\"MONTHS\")\n",
    "plt.ylabel(\"RIDES\")\n",
    "plt.title(\"TOTAL NUMBER OF RIDES IN EACH MONTH\")\n",
    "plt.show()"
   ]
  },
  {
   "cell_type": "code",
   "execution_count": null,
   "metadata": {},
   "outputs": [],
   "source": []
  },
  {
   "cell_type": "code",
   "execution_count": null,
   "metadata": {},
   "outputs": [],
   "source": []
  },
  {
   "cell_type": "markdown",
   "metadata": {},
   "source": [
    "### iii) THE TOTAL NUMBER OF RIDES BY DAY\n",
    "\n",
    "**NOTE:** 1 = MONDAY, 2 = TUESDAY, 3 = WEDNESDAY, 4 = THURSDAY, 5 = FRIDAY, 6 = SATURDAY, 7 = SUNDAY"
   ]
  },
  {
   "cell_type": "code",
   "execution_count": 441,
   "metadata": {},
   "outputs": [
    {
     "data": {
      "text/html": [
       "<div>\n",
       "<style scoped>\n",
       "    .dataframe tbody tr th:only-of-type {\n",
       "        vertical-align: middle;\n",
       "    }\n",
       "\n",
       "    .dataframe tbody tr th {\n",
       "        vertical-align: top;\n",
       "    }\n",
       "\n",
       "    .dataframe thead th {\n",
       "        text-align: right;\n",
       "    }\n",
       "</style>\n",
       "<table border=\"1\" class=\"dataframe\">\n",
       "  <thead>\n",
       "    <tr style=\"text-align: right;\">\n",
       "      <th></th>\n",
       "      <th>index</th>\n",
       "      <th>day_of_week</th>\n",
       "    </tr>\n",
       "  </thead>\n",
       "  <tbody>\n",
       "    <tr>\n",
       "      <th>0</th>\n",
       "      <td>6</td>\n",
       "      <td>939671</td>\n",
       "    </tr>\n",
       "    <tr>\n",
       "      <th>1</th>\n",
       "      <td>4</td>\n",
       "      <td>839620</td>\n",
       "    </tr>\n",
       "    <tr>\n",
       "      <th>2</th>\n",
       "      <td>5</td>\n",
       "      <td>815654</td>\n",
       "    </tr>\n",
       "    <tr>\n",
       "      <th>3</th>\n",
       "      <td>3</td>\n",
       "      <td>805051</td>\n",
       "    </tr>\n",
       "    <tr>\n",
       "      <th>4</th>\n",
       "      <td>7</td>\n",
       "      <td>792931</td>\n",
       "    </tr>\n",
       "    <tr>\n",
       "      <th>5</th>\n",
       "      <td>2</td>\n",
       "      <td>788110</td>\n",
       "    </tr>\n",
       "    <tr>\n",
       "      <th>6</th>\n",
       "      <td>1</td>\n",
       "      <td>774657</td>\n",
       "    </tr>\n",
       "  </tbody>\n",
       "</table>\n",
       "</div>"
      ],
      "text/plain": [
       "   index  day_of_week\n",
       "0      6       939671\n",
       "1      4       839620\n",
       "2      5       815654\n",
       "3      3       805051\n",
       "4      7       792931\n",
       "5      2       788110\n",
       "6      1       774657"
      ]
     },
     "execution_count": 441,
     "metadata": {},
     "output_type": "execute_result"
    }
   ],
   "source": [
    "ride_by_day = pd.DataFrame(all_data[\"day_of_week\"].value_counts()).reset_index()\n",
    "ride_by_day "
   ]
  },
  {
   "cell_type": "code",
   "execution_count": 442,
   "metadata": {},
   "outputs": [],
   "source": [
    "ride_by_day.rename({\"index\": \"Days\", \"day_of_week\": \"Rides\"}, axis = 1, inplace = True)"
   ]
  },
  {
   "cell_type": "code",
   "execution_count": 443,
   "metadata": {},
   "outputs": [
    {
     "data": {
      "text/html": [
       "<div>\n",
       "<style scoped>\n",
       "    .dataframe tbody tr th:only-of-type {\n",
       "        vertical-align: middle;\n",
       "    }\n",
       "\n",
       "    .dataframe tbody tr th {\n",
       "        vertical-align: top;\n",
       "    }\n",
       "\n",
       "    .dataframe thead th {\n",
       "        text-align: right;\n",
       "    }\n",
       "</style>\n",
       "<table border=\"1\" class=\"dataframe\">\n",
       "  <thead>\n",
       "    <tr style=\"text-align: right;\">\n",
       "      <th></th>\n",
       "      <th>Days</th>\n",
       "      <th>Rides</th>\n",
       "    </tr>\n",
       "  </thead>\n",
       "  <tbody>\n",
       "    <tr>\n",
       "      <th>0</th>\n",
       "      <td>6</td>\n",
       "      <td>939671</td>\n",
       "    </tr>\n",
       "    <tr>\n",
       "      <th>1</th>\n",
       "      <td>4</td>\n",
       "      <td>839620</td>\n",
       "    </tr>\n",
       "    <tr>\n",
       "      <th>2</th>\n",
       "      <td>5</td>\n",
       "      <td>815654</td>\n",
       "    </tr>\n",
       "    <tr>\n",
       "      <th>3</th>\n",
       "      <td>3</td>\n",
       "      <td>805051</td>\n",
       "    </tr>\n",
       "    <tr>\n",
       "      <th>4</th>\n",
       "      <td>7</td>\n",
       "      <td>792931</td>\n",
       "    </tr>\n",
       "    <tr>\n",
       "      <th>5</th>\n",
       "      <td>2</td>\n",
       "      <td>788110</td>\n",
       "    </tr>\n",
       "    <tr>\n",
       "      <th>6</th>\n",
       "      <td>1</td>\n",
       "      <td>774657</td>\n",
       "    </tr>\n",
       "  </tbody>\n",
       "</table>\n",
       "</div>"
      ],
      "text/plain": [
       "   Days   Rides\n",
       "0     6  939671\n",
       "1     4  839620\n",
       "2     5  815654\n",
       "3     3  805051\n",
       "4     7  792931\n",
       "5     2  788110\n",
       "6     1  774657"
      ]
     },
     "execution_count": 443,
     "metadata": {},
     "output_type": "execute_result"
    }
   ],
   "source": [
    "ride_by_day"
   ]
  },
  {
   "cell_type": "code",
   "execution_count": null,
   "metadata": {},
   "outputs": [],
   "source": []
  },
  {
   "cell_type": "code",
   "execution_count": 448,
   "metadata": {
    "scrolled": true
   },
   "outputs": [
    {
     "data": {
      "text/plain": [
       "day_of_week\n",
       "1    774657\n",
       "2    788110\n",
       "3    805051\n",
       "4    839620\n",
       "5    815654\n",
       "6    939671\n",
       "7    792931\n",
       "Name: rideable_type, dtype: int64"
      ]
     },
     "execution_count": 448,
     "metadata": {},
     "output_type": "execute_result"
    }
   ],
   "source": [
    "all_data.groupby(\"day_of_week\").count()[\"rideable_type\"]  #CAN ALSO BE DONE WITH THE GROUPBY AND COUNT FUNCTIONS"
   ]
  },
  {
   "cell_type": "markdown",
   "metadata": {},
   "source": [
    "### PLOTING THE TOTAL NUMBER OF RIDES BY DAY"
   ]
  },
  {
   "cell_type": "code",
   "execution_count": 641,
   "metadata": {},
   "outputs": [
    {
     "data": {
      "image/png": "[encoded data removed]",
      "text/plain": [
       "<Figure size 1080x576 with 1 Axes>"
      ]
     },
     "metadata": {
      "needs_background": "light"
     },
     "output_type": "display_data"
    }
   ],
   "source": [
    "plt.figure(figsize = (15, 8))\n",
    "sns.lineplot(x = ride_by_day[\"Days\"], y = ride_by_day[\"Rides\"], color = \"r\", marker= \"h\", markersize = 8)\n",
    "plt.xticks(ride_by_day[\"Days\"])\n",
    "plt.xlabel(\"DAYS\")\n",
    "plt.ylabel(\"RIDES\")\n",
    "plt.title(\"TOTAL NUMBER OF RIDES BY DAY\")\n",
    "plt.show()"
   ]
  },
  {
   "cell_type": "code",
   "execution_count": null,
   "metadata": {},
   "outputs": [],
   "source": []
  },
  {
   "cell_type": "code",
   "execution_count": null,
   "metadata": {},
   "outputs": [],
   "source": []
  },
  {
   "cell_type": "code",
   "execution_count": null,
   "metadata": {},
   "outputs": [],
   "source": []
  },
  {
   "cell_type": "markdown",
   "metadata": {},
   "source": [
    "### iv) WHAT IS THE TOTAL NUMBER OF RIDES COMPLETED BY EACH USER TYPE BY DAY?"
   ]
  },
  {
   "cell_type": "code",
   "execution_count": 449,
   "metadata": {},
   "outputs": [
    {
     "data": {
      "text/html": [
       "<div>\n",
       "<style scoped>\n",
       "    .dataframe tbody tr th:only-of-type {\n",
       "        vertical-align: middle;\n",
       "    }\n",
       "\n",
       "    .dataframe tbody tr th {\n",
       "        vertical-align: top;\n",
       "    }\n",
       "\n",
       "    .dataframe thead th {\n",
       "        text-align: right;\n",
       "    }\n",
       "</style>\n",
       "<table border=\"1\" class=\"dataframe\">\n",
       "  <thead>\n",
       "    <tr style=\"text-align: right;\">\n",
       "      <th></th>\n",
       "      <th></th>\n",
       "      <th>rideable_type</th>\n",
       "    </tr>\n",
       "    <tr>\n",
       "      <th>day_of_week</th>\n",
       "      <th>member_casual</th>\n",
       "      <th></th>\n",
       "    </tr>\n",
       "  </thead>\n",
       "  <tbody>\n",
       "    <tr>\n",
       "      <th rowspan=\"2\" valign=\"top\">1</th>\n",
       "      <th>casual</th>\n",
       "      <td>284971</td>\n",
       "    </tr>\n",
       "    <tr>\n",
       "      <th>member</th>\n",
       "      <td>489686</td>\n",
       "    </tr>\n",
       "    <tr>\n",
       "      <th rowspan=\"2\" valign=\"top\">2</th>\n",
       "      <th>casual</th>\n",
       "      <td>264399</td>\n",
       "    </tr>\n",
       "    <tr>\n",
       "      <th>member</th>\n",
       "      <td>523711</td>\n",
       "    </tr>\n",
       "    <tr>\n",
       "      <th rowspan=\"2\" valign=\"top\">3</th>\n",
       "      <th>casual</th>\n",
       "      <td>275394</td>\n",
       "    </tr>\n",
       "    <tr>\n",
       "      <th>member</th>\n",
       "      <td>529657</td>\n",
       "    </tr>\n",
       "    <tr>\n",
       "      <th rowspan=\"2\" valign=\"top\">4</th>\n",
       "      <th>casual</th>\n",
       "      <td>306950</td>\n",
       "    </tr>\n",
       "    <tr>\n",
       "      <th>member</th>\n",
       "      <td>532670</td>\n",
       "    </tr>\n",
       "    <tr>\n",
       "      <th rowspan=\"2\" valign=\"top\">5</th>\n",
       "      <th>casual</th>\n",
       "      <td>338959</td>\n",
       "    </tr>\n",
       "    <tr>\n",
       "      <th>member</th>\n",
       "      <td>476695</td>\n",
       "    </tr>\n",
       "    <tr>\n",
       "      <th rowspan=\"2\" valign=\"top\">6</th>\n",
       "      <th>casual</th>\n",
       "      <td>485281</td>\n",
       "    </tr>\n",
       "    <tr>\n",
       "      <th>member</th>\n",
       "      <td>454390</td>\n",
       "    </tr>\n",
       "    <tr>\n",
       "      <th rowspan=\"2\" valign=\"top\">7</th>\n",
       "      <th>casual</th>\n",
       "      <td>397079</td>\n",
       "    </tr>\n",
       "    <tr>\n",
       "      <th>member</th>\n",
       "      <td>395852</td>\n",
       "    </tr>\n",
       "  </tbody>\n",
       "</table>\n",
       "</div>"
      ],
      "text/plain": [
       "                           rideable_type\n",
       "day_of_week member_casual               \n",
       "1           casual                284971\n",
       "            member                489686\n",
       "2           casual                264399\n",
       "            member                523711\n",
       "3           casual                275394\n",
       "            member                529657\n",
       "4           casual                306950\n",
       "            member                532670\n",
       "5           casual                338959\n",
       "            member                476695\n",
       "6           casual                485281\n",
       "            member                454390\n",
       "7           casual                397079\n",
       "            member                395852"
      ]
     },
     "execution_count": 449,
     "metadata": {},
     "output_type": "execute_result"
    }
   ],
   "source": [
    "all_data.groupby([\"day_of_week\", \"member_casual\"]).count()[[\"rideable_type\"]]"
   ]
  },
  {
   "cell_type": "code",
   "execution_count": null,
   "metadata": {},
   "outputs": [],
   "source": []
  },
  {
   "cell_type": "markdown",
   "metadata": {},
   "source": [
    "### PLOTTING THE TOTAL NUMBER OF RIDES COMPLETED BY EACH USER TYPE BY DAY?"
   ]
  },
  {
   "cell_type": "code",
   "execution_count": 642,
   "metadata": {},
   "outputs": [
    {
     "data": {
      "text/plain": [
       "Text(0, 0.5, 'NUMBER OF RIDES')"
      ]
     },
     "execution_count": 642,
     "metadata": {},
     "output_type": "execute_result"
    },
    {
     "data": {
      "image/png": "[encoded data removed]",
      "text/plain": [
       "<Figure size 1080x432 with 1 Axes>"
      ]
     },
     "metadata": {
      "needs_background": "light"
     },
     "output_type": "display_data"
    }
   ],
   "source": [
    "plt.figure(figsize = (15, 6))\n",
    "sns.countplot(x = all_data[\"day_of_week\"], hue = all_data[\"member_casual\"])\n",
    "plt.xlabel(\"DAYS\")\n",
    "plt.ylabel(\"NUMBER OF RIDES\")"
   ]
  },
  {
   "cell_type": "code",
   "execution_count": null,
   "metadata": {},
   "outputs": [],
   "source": []
  },
  {
   "cell_type": "code",
   "execution_count": null,
   "metadata": {},
   "outputs": [],
   "source": []
  },
  {
   "cell_type": "code",
   "execution_count": null,
   "metadata": {},
   "outputs": [],
   "source": []
  },
  {
   "cell_type": "markdown",
   "metadata": {},
   "source": [
    "### V) WHAT IS THE TOTAL NUMBER OF RIDES COMPLETED BY EACH USER TYPE BY MONTH?"
   ]
  },
  {
   "cell_type": "code",
   "execution_count": 451,
   "metadata": {},
   "outputs": [
    {
     "data": {
      "text/html": [
       "<div>\n",
       "<style scoped>\n",
       "    .dataframe tbody tr th:only-of-type {\n",
       "        vertical-align: middle;\n",
       "    }\n",
       "\n",
       "    .dataframe tbody tr th {\n",
       "        vertical-align: top;\n",
       "    }\n",
       "\n",
       "    .dataframe thead th {\n",
       "        text-align: right;\n",
       "    }\n",
       "</style>\n",
       "<table border=\"1\" class=\"dataframe\">\n",
       "  <thead>\n",
       "    <tr style=\"text-align: right;\">\n",
       "      <th></th>\n",
       "      <th></th>\n",
       "      <th>rideable_type</th>\n",
       "    </tr>\n",
       "    <tr>\n",
       "      <th>months</th>\n",
       "      <th>member_casual</th>\n",
       "      <th></th>\n",
       "    </tr>\n",
       "  </thead>\n",
       "  <tbody>\n",
       "    <tr>\n",
       "      <th rowspan=\"2\" valign=\"top\">1</th>\n",
       "      <th>casual</th>\n",
       "      <td>83156</td>\n",
       "    </tr>\n",
       "    <tr>\n",
       "      <th>member</th>\n",
       "      <td>171134</td>\n",
       "    </tr>\n",
       "    <tr>\n",
       "      <th rowspan=\"2\" valign=\"top\">2</th>\n",
       "      <th>casual</th>\n",
       "      <td>91736</td>\n",
       "    </tr>\n",
       "    <tr>\n",
       "      <th>member</th>\n",
       "      <td>171176</td>\n",
       "    </tr>\n",
       "    <tr>\n",
       "      <th rowspan=\"2\" valign=\"top\">3</th>\n",
       "      <th>casual</th>\n",
       "      <td>142041</td>\n",
       "    </tr>\n",
       "    <tr>\n",
       "      <th>member</th>\n",
       "      <td>230644</td>\n",
       "    </tr>\n",
       "    <tr>\n",
       "      <th rowspan=\"2\" valign=\"top\">4</th>\n",
       "      <th>casual</th>\n",
       "      <td>157958</td>\n",
       "    </tr>\n",
       "    <tr>\n",
       "      <th>member</th>\n",
       "      <td>260146</td>\n",
       "    </tr>\n",
       "    <tr>\n",
       "      <th rowspan=\"2\" valign=\"top\">5</th>\n",
       "      <th>casual</th>\n",
       "      <td>283624</td>\n",
       "    </tr>\n",
       "    <tr>\n",
       "      <th>member</th>\n",
       "      <td>337439</td>\n",
       "    </tr>\n",
       "    <tr>\n",
       "      <th rowspan=\"2\" valign=\"top\">6</th>\n",
       "      <th>casual</th>\n",
       "      <td>300013</td>\n",
       "    </tr>\n",
       "    <tr>\n",
       "      <th>member</th>\n",
       "      <td>350319</td>\n",
       "    </tr>\n",
       "    <tr>\n",
       "      <th rowspan=\"2\" valign=\"top\">7</th>\n",
       "      <th>casual</th>\n",
       "      <td>312904</td>\n",
       "    </tr>\n",
       "    <tr>\n",
       "      <th>member</th>\n",
       "      <td>369205</td>\n",
       "    </tr>\n",
       "    <tr>\n",
       "      <th rowspan=\"2\" valign=\"top\">8</th>\n",
       "      <th>casual</th>\n",
       "      <td>284562</td>\n",
       "    </tr>\n",
       "    <tr>\n",
       "      <th>member</th>\n",
       "      <td>372544</td>\n",
       "    </tr>\n",
       "    <tr>\n",
       "      <th rowspan=\"2\" valign=\"top\">9</th>\n",
       "      <th>casual</th>\n",
       "      <td>258906</td>\n",
       "    </tr>\n",
       "    <tr>\n",
       "      <th>member</th>\n",
       "      <td>375667</td>\n",
       "    </tr>\n",
       "    <tr>\n",
       "      <th rowspan=\"2\" valign=\"top\">10</th>\n",
       "      <th>casual</th>\n",
       "      <td>207904</td>\n",
       "    </tr>\n",
       "    <tr>\n",
       "      <th>member</th>\n",
       "      <td>331643</td>\n",
       "    </tr>\n",
       "    <tr>\n",
       "      <th rowspan=\"2\" valign=\"top\">11</th>\n",
       "      <th>casual</th>\n",
       "      <td>119663</td>\n",
       "    </tr>\n",
       "    <tr>\n",
       "      <th>member</th>\n",
       "      <td>228990</td>\n",
       "    </tr>\n",
       "    <tr>\n",
       "      <th rowspan=\"2\" valign=\"top\">12</th>\n",
       "      <th>casual</th>\n",
       "      <td>110566</td>\n",
       "    </tr>\n",
       "    <tr>\n",
       "      <th>member</th>\n",
       "      <td>203754</td>\n",
       "    </tr>\n",
       "  </tbody>\n",
       "</table>\n",
       "</div>"
      ],
      "text/plain": [
       "                      rideable_type\n",
       "months member_casual               \n",
       "1      casual                 83156\n",
       "       member                171134\n",
       "2      casual                 91736\n",
       "       member                171176\n",
       "3      casual                142041\n",
       "       member                230644\n",
       "4      casual                157958\n",
       "       member                260146\n",
       "5      casual                283624\n",
       "       member                337439\n",
       "6      casual                300013\n",
       "       member                350319\n",
       "7      casual                312904\n",
       "       member                369205\n",
       "8      casual                284562\n",
       "       member                372544\n",
       "9      casual                258906\n",
       "       member                375667\n",
       "10     casual                207904\n",
       "       member                331643\n",
       "11     casual                119663\n",
       "       member                228990\n",
       "12     casual                110566\n",
       "       member                203754"
      ]
     },
     "execution_count": 451,
     "metadata": {},
     "output_type": "execute_result"
    }
   ],
   "source": [
    "all_data.groupby([\"months\", \"member_casual\"]).count()[[\"rideable_type\"]]"
   ]
  },
  {
   "cell_type": "code",
   "execution_count": null,
   "metadata": {},
   "outputs": [],
   "source": []
  },
  {
   "cell_type": "markdown",
   "metadata": {},
   "source": [
    "### PLOTTING THE TOTAL NUMBER OF RIDES COMPLETED BY EACH USER TYPE BY MONTH?"
   ]
  },
  {
   "cell_type": "code",
   "execution_count": 452,
   "metadata": {},
   "outputs": [
    {
     "data": {
      "image/png": "[encoded data removed]",
      "text/plain": [
       "<Figure size 1080x432 with 1 Axes>"
      ]
     },
     "metadata": {
      "needs_background": "light"
     },
     "output_type": "display_data"
    }
   ],
   "source": [
    "plt.figure(figsize = (15, 6))\n",
    "sns.countplot(x = all_data[\"months\"], hue = all_data[\"member_casual\"])\n",
    "plt.xlabel(\"MONTHS\")\n",
    "plt.ylabel(\"NUMBER OF RIDES\")\n",
    "plt.title(\"NUMBER OF RIDES FOR EACH MEMBERSHIP TYPE IN EACH MONTH\")\n",
    "plt.show()"
   ]
  },
  {
   "cell_type": "code",
   "execution_count": null,
   "metadata": {},
   "outputs": [],
   "source": []
  },
  {
   "cell_type": "code",
   "execution_count": null,
   "metadata": {},
   "outputs": [],
   "source": []
  },
  {
   "cell_type": "markdown",
   "metadata": {},
   "source": [
    "### vi) ANALYZING THE BIKE PREFERENCES BY USER TYPE?"
   ]
  },
  {
   "cell_type": "code",
   "execution_count": 458,
   "metadata": {},
   "outputs": [
    {
     "data": {
      "text/html": [
       "<div>\n",
       "<style scoped>\n",
       "    .dataframe tbody tr th:only-of-type {\n",
       "        vertical-align: middle;\n",
       "    }\n",
       "\n",
       "    .dataframe tbody tr th {\n",
       "        vertical-align: top;\n",
       "    }\n",
       "\n",
       "    .dataframe thead th {\n",
       "        text-align: right;\n",
       "    }\n",
       "</style>\n",
       "<table border=\"1\" class=\"dataframe\">\n",
       "  <thead>\n",
       "    <tr style=\"text-align: right;\">\n",
       "      <th></th>\n",
       "      <th></th>\n",
       "      <th>rides</th>\n",
       "    </tr>\n",
       "    <tr>\n",
       "      <th>rideable_type</th>\n",
       "      <th>member_casual</th>\n",
       "      <th></th>\n",
       "    </tr>\n",
       "  </thead>\n",
       "  <tbody>\n",
       "    <tr>\n",
       "      <th rowspan=\"2\" valign=\"top\">classic_bike</th>\n",
       "      <th>casual</th>\n",
       "      <td>897427</td>\n",
       "    </tr>\n",
       "    <tr>\n",
       "      <th>member</th>\n",
       "      <td>1740510</td>\n",
       "    </tr>\n",
       "    <tr>\n",
       "      <th>docked_bike</th>\n",
       "      <th>casual</th>\n",
       "      <td>182205</td>\n",
       "    </tr>\n",
       "    <tr>\n",
       "      <th rowspan=\"2\" valign=\"top\">electric_bike</th>\n",
       "      <th>casual</th>\n",
       "      <td>1273401</td>\n",
       "    </tr>\n",
       "    <tr>\n",
       "      <th>member</th>\n",
       "      <td>1662151</td>\n",
       "    </tr>\n",
       "  </tbody>\n",
       "</table>\n",
       "</div>"
      ],
      "text/plain": [
       "                               rides\n",
       "rideable_type member_casual         \n",
       "classic_bike  casual          897427\n",
       "              member         1740510\n",
       "docked_bike   casual          182205\n",
       "electric_bike casual         1273401\n",
       "              member         1662151"
      ]
     },
     "execution_count": 458,
     "metadata": {},
     "output_type": "execute_result"
    }
   ],
   "source": [
    "all_data.groupby([\"rideable_type\", \"member_casual\"] ). count()[[\"started_at\"]].rename({\"started_at\":\"rides\"}, axis = 1)"
   ]
  },
  {
   "cell_type": "code",
   "execution_count": null,
   "metadata": {},
   "outputs": [],
   "source": []
  },
  {
   "cell_type": "markdown",
   "metadata": {},
   "source": [
    "### PLOTTING THE BIKE PREFERENCES BY USER TYPE"
   ]
  },
  {
   "cell_type": "code",
   "execution_count": 460,
   "metadata": {},
   "outputs": [
    {
     "data": {
      "image/png": "[encoded data removed]",
      "text/plain": [
       "<Figure size 1080x432 with 1 Axes>"
      ]
     },
     "metadata": {
      "needs_background": "light"
     },
     "output_type": "display_data"
    }
   ],
   "source": [
    "plt.figure(figsize = (15, 6))\n",
    "sns.countplot(x = all_data[\"rideable_type\"], hue = all_data[\"member_casual\"])\n",
    "plt.ticklabel_format(useOffset=False,style='plain', axis='y')"
   ]
  },
  {
   "cell_type": "code",
   "execution_count": null,
   "metadata": {},
   "outputs": [],
   "source": []
  },
  {
   "cell_type": "code",
   "execution_count": null,
   "metadata": {},
   "outputs": [],
   "source": []
  },
  {
   "cell_type": "code",
   "execution_count": null,
   "metadata": {},
   "outputs": [],
   "source": []
  },
  {
   "cell_type": "code",
   "execution_count": null,
   "metadata": {},
   "outputs": [],
   "source": []
  },
  {
   "cell_type": "markdown",
   "metadata": {},
   "source": [
    "## vii) TOP 5 START AND END STATIONS BY USER TYPE"
   ]
  },
  {
   "cell_type": "code",
   "execution_count": 480,
   "metadata": {},
   "outputs": [],
   "source": [
    "start_station_mem = all_data[all_data[\"member_casual\"] == \"member\"][[\"start_station_name\"]].value_counts().head()\n",
    "start_station_cas = all_data[all_data[\"member_casual\"] == \"casual\"][[\"start_station_name\"]].value_counts().head()"
   ]
  },
  {
   "cell_type": "code",
   "execution_count": 482,
   "metadata": {},
   "outputs": [],
   "source": [
    "end_station_mem = all_data[all_data[\"member_casual\"] == \"member\"][[\"end_station_name\"]].value_counts().head()\n",
    "end_station_cas = all_data[all_data[\"member_casual\"] == \"casual\"][[\"end_station_name\"]].value_counts().head()"
   ]
  },
  {
   "cell_type": "code",
   "execution_count": null,
   "metadata": {},
   "outputs": [],
   "source": []
  },
  {
   "cell_type": "markdown",
   "metadata": {},
   "source": [
    "#### TOP 5 START STATIONS FOR YEARLY MEMBERS"
   ]
  },
  {
   "cell_type": "code",
   "execution_count": 502,
   "metadata": {},
   "outputs": [
    {
     "data": {
      "text/plain": [
       "start_station_name      \n",
       "Kingsbury St & Kinzie St    25800\n",
       "Clark St & Elm St           22665\n",
       "Wells St & Concord Ln       21896\n",
       "University Ave & 57th St    20360\n",
       "Ellis Ave & 60th St         20015\n",
       "dtype: int64"
      ]
     },
     "execution_count": 502,
     "metadata": {},
     "output_type": "execute_result"
    }
   ],
   "source": [
    "start_station_mem"
   ]
  },
  {
   "cell_type": "markdown",
   "metadata": {},
   "source": [
    "#### TOP 5 END STATIONS FOR YEARLY MEMBERS"
   ]
  },
  {
   "cell_type": "code",
   "execution_count": 571,
   "metadata": {
    "scrolled": true
   },
   "outputs": [
    {
     "data": {
      "text/plain": [
       "end_station_name            \n",
       "Kingsbury St & Kinzie St        25277\n",
       "Clark St & Elm St               23046\n",
       "Wells St & Concord Ln           22490\n",
       "University Ave & 57th St        21116\n",
       "Clinton St & Washington Blvd    20635\n",
       "dtype: int64"
      ]
     },
     "execution_count": 571,
     "metadata": {},
     "output_type": "execute_result"
    }
   ],
   "source": [
    "end_station_mem"
   ]
  },
  {
   "cell_type": "code",
   "execution_count": null,
   "metadata": {},
   "outputs": [],
   "source": []
  },
  {
   "cell_type": "code",
   "execution_count": null,
   "metadata": {},
   "outputs": [],
   "source": []
  },
  {
   "cell_type": "markdown",
   "metadata": {},
   "source": [
    "#### TOP 5 START STATIONS FOR YEARLY MEMBERS"
   ]
  },
  {
   "cell_type": "code",
   "execution_count": 570,
   "metadata": {
    "scrolled": true
   },
   "outputs": [
    {
     "data": {
      "text/plain": [
       "start_station_name                \n",
       "Streeter Dr & Grand Ave               58383\n",
       "DuSable Lake Shore Dr & Monroe St     32598\n",
       "Millennium Park                       25990\n",
       "Michigan Ave & Oak St                 25327\n",
       "DuSable Lake Shore Dr & North Blvd    23792\n",
       "dtype: int64"
      ]
     },
     "execution_count": 570,
     "metadata": {},
     "output_type": "execute_result"
    }
   ],
   "source": [
    "start_station_cas"
   ]
  },
  {
   "cell_type": "markdown",
   "metadata": {},
   "source": [
    "#### TOP 5 END STATIONS FOR CASUAL MEMBERS"
   ]
  },
  {
   "cell_type": "code",
   "execution_count": 486,
   "metadata": {},
   "outputs": [
    {
     "data": {
      "text/plain": [
       "end_station_name                  \n",
       "Streeter Dr & Grand Ave               60256\n",
       "DuSable Lake Shore Dr & Monroe St     30012\n",
       "Millennium Park                       27185\n",
       "Michigan Ave & Oak St                 26599\n",
       "DuSable Lake Shore Dr & North Blvd    26253\n",
       "dtype: int64"
      ]
     },
     "execution_count": 486,
     "metadata": {},
     "output_type": "execute_result"
    }
   ],
   "source": [
    "end_station_cas"
   ]
  },
  {
   "cell_type": "code",
   "execution_count": null,
   "metadata": {},
   "outputs": [],
   "source": []
  },
  {
   "cell_type": "code",
   "execution_count": null,
   "metadata": {},
   "outputs": [],
   "source": []
  },
  {
   "cell_type": "markdown",
   "metadata": {},
   "source": [
    "## viii) ANALYZING THE TOTAL NUMBER OF EACH BIKE TYPE USED BY EACH MEMBERSHIP TYPE EVERY MONTH "
   ]
  },
  {
   "cell_type": "code",
   "execution_count": 553,
   "metadata": {},
   "outputs": [],
   "source": [
    "ii = all_data.groupby([\"rideable_type\", \"months\", \"member_casual\" ]).count()[[\"started_at\"]].reset_index()"
   ]
  },
  {
   "cell_type": "code",
   "execution_count": 555,
   "metadata": {},
   "outputs": [
    {
     "data": {
      "text/html": [
       "<div>\n",
       "<style scoped>\n",
       "    .dataframe tbody tr th:only-of-type {\n",
       "        vertical-align: middle;\n",
       "    }\n",
       "\n",
       "    .dataframe tbody tr th {\n",
       "        vertical-align: top;\n",
       "    }\n",
       "\n",
       "    .dataframe thead th {\n",
       "        text-align: right;\n",
       "    }\n",
       "</style>\n",
       "<table border=\"1\" class=\"dataframe\">\n",
       "  <thead>\n",
       "    <tr style=\"text-align: right;\">\n",
       "      <th></th>\n",
       "      <th>rideable_type</th>\n",
       "      <th>months</th>\n",
       "      <th>member_casual</th>\n",
       "      <th>started_at</th>\n",
       "    </tr>\n",
       "  </thead>\n",
       "  <tbody>\n",
       "    <tr>\n",
       "      <th>0</th>\n",
       "      <td>classic_bike</td>\n",
       "      <td>1</td>\n",
       "      <td>casual</td>\n",
       "      <td>30554</td>\n",
       "    </tr>\n",
       "    <tr>\n",
       "      <th>1</th>\n",
       "      <td>classic_bike</td>\n",
       "      <td>1</td>\n",
       "      <td>member</td>\n",
       "      <td>91535</td>\n",
       "    </tr>\n",
       "    <tr>\n",
       "      <th>2</th>\n",
       "      <td>classic_bike</td>\n",
       "      <td>2</td>\n",
       "      <td>casual</td>\n",
       "      <td>35365</td>\n",
       "    </tr>\n",
       "    <tr>\n",
       "      <th>3</th>\n",
       "      <td>classic_bike</td>\n",
       "      <td>2</td>\n",
       "      <td>member</td>\n",
       "      <td>90561</td>\n",
       "    </tr>\n",
       "    <tr>\n",
       "      <th>4</th>\n",
       "      <td>classic_bike</td>\n",
       "      <td>3</td>\n",
       "      <td>casual</td>\n",
       "      <td>53487</td>\n",
       "    </tr>\n",
       "  </tbody>\n",
       "</table>\n",
       "</div>"
      ],
      "text/plain": [
       "  rideable_type  months member_casual  started_at\n",
       "0  classic_bike       1        casual       30554\n",
       "1  classic_bike       1        member       91535\n",
       "2  classic_bike       2        casual       35365\n",
       "3  classic_bike       2        member       90561\n",
       "4  classic_bike       3        casual       53487"
      ]
     },
     "execution_count": 555,
     "metadata": {},
     "output_type": "execute_result"
    }
   ],
   "source": [
    "ii.head()"
   ]
  },
  {
   "cell_type": "code",
   "execution_count": 556,
   "metadata": {},
   "outputs": [],
   "source": [
    "ii.rename({\"rideable_type\": \"Bike Type\", \"months\": \"Months\", \"member_casual\": \"Membership Type\", \"started_at\": \"Number of Rides\"}, axis = 1, inplace = True)"
   ]
  },
  {
   "cell_type": "code",
   "execution_count": 557,
   "metadata": {
    "scrolled": true
   },
   "outputs": [
    {
     "data": {
      "text/html": [
       "<div>\n",
       "<style scoped>\n",
       "    .dataframe tbody tr th:only-of-type {\n",
       "        vertical-align: middle;\n",
       "    }\n",
       "\n",
       "    .dataframe tbody tr th {\n",
       "        vertical-align: top;\n",
       "    }\n",
       "\n",
       "    .dataframe thead th {\n",
       "        text-align: right;\n",
       "    }\n",
       "</style>\n",
       "<table border=\"1\" class=\"dataframe\">\n",
       "  <thead>\n",
       "    <tr style=\"text-align: right;\">\n",
       "      <th></th>\n",
       "      <th>Bike Type</th>\n",
       "      <th>Months</th>\n",
       "      <th>Membership Type</th>\n",
       "      <th>Number of Rides</th>\n",
       "    </tr>\n",
       "  </thead>\n",
       "  <tbody>\n",
       "    <tr>\n",
       "      <th>0</th>\n",
       "      <td>classic_bike</td>\n",
       "      <td>1</td>\n",
       "      <td>casual</td>\n",
       "      <td>30554</td>\n",
       "    </tr>\n",
       "    <tr>\n",
       "      <th>1</th>\n",
       "      <td>classic_bike</td>\n",
       "      <td>1</td>\n",
       "      <td>member</td>\n",
       "      <td>91535</td>\n",
       "    </tr>\n",
       "    <tr>\n",
       "      <th>2</th>\n",
       "      <td>classic_bike</td>\n",
       "      <td>2</td>\n",
       "      <td>casual</td>\n",
       "      <td>35365</td>\n",
       "    </tr>\n",
       "    <tr>\n",
       "      <th>3</th>\n",
       "      <td>classic_bike</td>\n",
       "      <td>2</td>\n",
       "      <td>member</td>\n",
       "      <td>90561</td>\n",
       "    </tr>\n",
       "    <tr>\n",
       "      <th>4</th>\n",
       "      <td>classic_bike</td>\n",
       "      <td>3</td>\n",
       "      <td>casual</td>\n",
       "      <td>53487</td>\n",
       "    </tr>\n",
       "  </tbody>\n",
       "</table>\n",
       "</div>"
      ],
      "text/plain": [
       "      Bike Type  Months Membership Type  Number of Rides\n",
       "0  classic_bike       1          casual            30554\n",
       "1  classic_bike       1          member            91535\n",
       "2  classic_bike       2          casual            35365\n",
       "3  classic_bike       2          member            90561\n",
       "4  classic_bike       3          casual            53487"
      ]
     },
     "execution_count": 557,
     "metadata": {},
     "output_type": "execute_result"
    }
   ],
   "source": [
    "ii.head()"
   ]
  },
  {
   "cell_type": "code",
   "execution_count": null,
   "metadata": {},
   "outputs": [],
   "source": []
  },
  {
   "cell_type": "markdown",
   "metadata": {},
   "source": [
    "#### TOTAL NUMBER OF RIDES IN EACH MONTH USING ELECTRIC BIKES BY EACH MEMBERHIP TYPE"
   ]
  },
  {
   "cell_type": "code",
   "execution_count": 546,
   "metadata": {},
   "outputs": [
    {
     "data": {
      "text/html": [
       "<div>\n",
       "<style scoped>\n",
       "    .dataframe tbody tr th:only-of-type {\n",
       "        vertical-align: middle;\n",
       "    }\n",
       "\n",
       "    .dataframe tbody tr th {\n",
       "        vertical-align: top;\n",
       "    }\n",
       "\n",
       "    .dataframe thead th {\n",
       "        text-align: right;\n",
       "    }\n",
       "</style>\n",
       "<table border=\"1\" class=\"dataframe\">\n",
       "  <thead>\n",
       "    <tr style=\"text-align: right;\">\n",
       "      <th></th>\n",
       "      <th>Bike Type</th>\n",
       "      <th>Months</th>\n",
       "      <th>Membership Type</th>\n",
       "      <th>Number of Rides</th>\n",
       "    </tr>\n",
       "  </thead>\n",
       "  <tbody>\n",
       "    <tr>\n",
       "      <th>36</th>\n",
       "      <td>electric_bike</td>\n",
       "      <td>1</td>\n",
       "      <td>casual</td>\n",
       "      <td>46900</td>\n",
       "    </tr>\n",
       "    <tr>\n",
       "      <th>37</th>\n",
       "      <td>electric_bike</td>\n",
       "      <td>1</td>\n",
       "      <td>member</td>\n",
       "      <td>79599</td>\n",
       "    </tr>\n",
       "    <tr>\n",
       "      <th>38</th>\n",
       "      <td>electric_bike</td>\n",
       "      <td>2</td>\n",
       "      <td>casual</td>\n",
       "      <td>49375</td>\n",
       "    </tr>\n",
       "    <tr>\n",
       "      <th>39</th>\n",
       "      <td>electric_bike</td>\n",
       "      <td>2</td>\n",
       "      <td>member</td>\n",
       "      <td>80615</td>\n",
       "    </tr>\n",
       "    <tr>\n",
       "      <th>40</th>\n",
       "      <td>electric_bike</td>\n",
       "      <td>3</td>\n",
       "      <td>casual</td>\n",
       "      <td>76131</td>\n",
       "    </tr>\n",
       "    <tr>\n",
       "      <th>41</th>\n",
       "      <td>electric_bike</td>\n",
       "      <td>3</td>\n",
       "      <td>member</td>\n",
       "      <td>115598</td>\n",
       "    </tr>\n",
       "    <tr>\n",
       "      <th>42</th>\n",
       "      <td>electric_bike</td>\n",
       "      <td>4</td>\n",
       "      <td>casual</td>\n",
       "      <td>84010</td>\n",
       "    </tr>\n",
       "    <tr>\n",
       "      <th>43</th>\n",
       "      <td>electric_bike</td>\n",
       "      <td>4</td>\n",
       "      <td>member</td>\n",
       "      <td>131323</td>\n",
       "    </tr>\n",
       "    <tr>\n",
       "      <th>44</th>\n",
       "      <td>electric_bike</td>\n",
       "      <td>5</td>\n",
       "      <td>casual</td>\n",
       "      <td>130125</td>\n",
       "    </tr>\n",
       "    <tr>\n",
       "      <th>45</th>\n",
       "      <td>electric_bike</td>\n",
       "      <td>5</td>\n",
       "      <td>member</td>\n",
       "      <td>148744</td>\n",
       "    </tr>\n",
       "    <tr>\n",
       "      <th>46</th>\n",
       "      <td>electric_bike</td>\n",
       "      <td>6</td>\n",
       "      <td>casual</td>\n",
       "      <td>144609</td>\n",
       "    </tr>\n",
       "    <tr>\n",
       "      <th>47</th>\n",
       "      <td>electric_bike</td>\n",
       "      <td>6</td>\n",
       "      <td>member</td>\n",
       "      <td>153702</td>\n",
       "    </tr>\n",
       "    <tr>\n",
       "      <th>48</th>\n",
       "      <td>electric_bike</td>\n",
       "      <td>7</td>\n",
       "      <td>casual</td>\n",
       "      <td>174360</td>\n",
       "    </tr>\n",
       "    <tr>\n",
       "      <th>49</th>\n",
       "      <td>electric_bike</td>\n",
       "      <td>7</td>\n",
       "      <td>member</td>\n",
       "      <td>180896</td>\n",
       "    </tr>\n",
       "    <tr>\n",
       "      <th>50</th>\n",
       "      <td>electric_bike</td>\n",
       "      <td>8</td>\n",
       "      <td>casual</td>\n",
       "      <td>165223</td>\n",
       "    </tr>\n",
       "    <tr>\n",
       "      <th>51</th>\n",
       "      <td>electric_bike</td>\n",
       "      <td>8</td>\n",
       "      <td>member</td>\n",
       "      <td>187089</td>\n",
       "    </tr>\n",
       "    <tr>\n",
       "      <th>52</th>\n",
       "      <td>electric_bike</td>\n",
       "      <td>9</td>\n",
       "      <td>casual</td>\n",
       "      <td>145444</td>\n",
       "    </tr>\n",
       "    <tr>\n",
       "      <th>53</th>\n",
       "      <td>electric_bike</td>\n",
       "      <td>9</td>\n",
       "      <td>member</td>\n",
       "      <td>185157</td>\n",
       "    </tr>\n",
       "    <tr>\n",
       "      <th>54</th>\n",
       "      <td>electric_bike</td>\n",
       "      <td>10</td>\n",
       "      <td>casual</td>\n",
       "      <td>125370</td>\n",
       "    </tr>\n",
       "    <tr>\n",
       "      <th>55</th>\n",
       "      <td>electric_bike</td>\n",
       "      <td>10</td>\n",
       "      <td>member</td>\n",
       "      <td>179938</td>\n",
       "    </tr>\n",
       "    <tr>\n",
       "      <th>56</th>\n",
       "      <td>electric_bike</td>\n",
       "      <td>11</td>\n",
       "      <td>casual</td>\n",
       "      <td>69035</td>\n",
       "    </tr>\n",
       "    <tr>\n",
       "      <th>57</th>\n",
       "      <td>electric_bike</td>\n",
       "      <td>11</td>\n",
       "      <td>member</td>\n",
       "      <td>116711</td>\n",
       "    </tr>\n",
       "    <tr>\n",
       "      <th>58</th>\n",
       "      <td>electric_bike</td>\n",
       "      <td>12</td>\n",
       "      <td>casual</td>\n",
       "      <td>62819</td>\n",
       "    </tr>\n",
       "    <tr>\n",
       "      <th>59</th>\n",
       "      <td>electric_bike</td>\n",
       "      <td>12</td>\n",
       "      <td>member</td>\n",
       "      <td>102779</td>\n",
       "    </tr>\n",
       "  </tbody>\n",
       "</table>\n",
       "</div>"
      ],
      "text/plain": [
       "        Bike Type  Months Membership Type  Number of Rides\n",
       "36  electric_bike       1          casual            46900\n",
       "37  electric_bike       1          member            79599\n",
       "38  electric_bike       2          casual            49375\n",
       "39  electric_bike       2          member            80615\n",
       "40  electric_bike       3          casual            76131\n",
       "41  electric_bike       3          member           115598\n",
       "42  electric_bike       4          casual            84010\n",
       "43  electric_bike       4          member           131323\n",
       "44  electric_bike       5          casual           130125\n",
       "45  electric_bike       5          member           148744\n",
       "46  electric_bike       6          casual           144609\n",
       "47  electric_bike       6          member           153702\n",
       "48  electric_bike       7          casual           174360\n",
       "49  electric_bike       7          member           180896\n",
       "50  electric_bike       8          casual           165223\n",
       "51  electric_bike       8          member           187089\n",
       "52  electric_bike       9          casual           145444\n",
       "53  electric_bike       9          member           185157\n",
       "54  electric_bike      10          casual           125370\n",
       "55  electric_bike      10          member           179938\n",
       "56  electric_bike      11          casual            69035\n",
       "57  electric_bike      11          member           116711\n",
       "58  electric_bike      12          casual            62819\n",
       "59  electric_bike      12          member           102779"
      ]
     },
     "execution_count": 546,
     "metadata": {},
     "output_type": "execute_result"
    }
   ],
   "source": [
    "ii_elec = ii[ii[\"Bike Type\"] == \"electric_bike\"]\n",
    "ii_elec"
   ]
  },
  {
   "cell_type": "code",
   "execution_count": null,
   "metadata": {},
   "outputs": [],
   "source": []
  },
  {
   "cell_type": "code",
   "execution_count": null,
   "metadata": {},
   "outputs": [],
   "source": []
  },
  {
   "cell_type": "markdown",
   "metadata": {},
   "source": [
    "#### TOTAL NUMBER OF RIDES IN EACH MONTH USING CLASSIC BIKES BY EACH MEMBERHIP TYPE"
   ]
  },
  {
   "cell_type": "code",
   "execution_count": 564,
   "metadata": {
    "scrolled": false
   },
   "outputs": [
    {
     "data": {
      "text/html": [
       "<div>\n",
       "<style scoped>\n",
       "    .dataframe tbody tr th:only-of-type {\n",
       "        vertical-align: middle;\n",
       "    }\n",
       "\n",
       "    .dataframe tbody tr th {\n",
       "        vertical-align: top;\n",
       "    }\n",
       "\n",
       "    .dataframe thead th {\n",
       "        text-align: right;\n",
       "    }\n",
       "</style>\n",
       "<table border=\"1\" class=\"dataframe\">\n",
       "  <thead>\n",
       "    <tr style=\"text-align: right;\">\n",
       "      <th></th>\n",
       "      <th>Bike Type</th>\n",
       "      <th>Months</th>\n",
       "      <th>Membership Type</th>\n",
       "      <th>Number of Rides</th>\n",
       "    </tr>\n",
       "  </thead>\n",
       "  <tbody>\n",
       "    <tr>\n",
       "      <th>0</th>\n",
       "      <td>classic_bike</td>\n",
       "      <td>1</td>\n",
       "      <td>casual</td>\n",
       "      <td>30554</td>\n",
       "    </tr>\n",
       "    <tr>\n",
       "      <th>1</th>\n",
       "      <td>classic_bike</td>\n",
       "      <td>1</td>\n",
       "      <td>member</td>\n",
       "      <td>91535</td>\n",
       "    </tr>\n",
       "    <tr>\n",
       "      <th>2</th>\n",
       "      <td>classic_bike</td>\n",
       "      <td>2</td>\n",
       "      <td>casual</td>\n",
       "      <td>35365</td>\n",
       "    </tr>\n",
       "    <tr>\n",
       "      <th>3</th>\n",
       "      <td>classic_bike</td>\n",
       "      <td>2</td>\n",
       "      <td>member</td>\n",
       "      <td>90561</td>\n",
       "    </tr>\n",
       "    <tr>\n",
       "      <th>4</th>\n",
       "      <td>classic_bike</td>\n",
       "      <td>3</td>\n",
       "      <td>casual</td>\n",
       "      <td>53487</td>\n",
       "    </tr>\n",
       "    <tr>\n",
       "      <th>5</th>\n",
       "      <td>classic_bike</td>\n",
       "      <td>3</td>\n",
       "      <td>member</td>\n",
       "      <td>115046</td>\n",
       "    </tr>\n",
       "    <tr>\n",
       "      <th>6</th>\n",
       "      <td>classic_bike</td>\n",
       "      <td>4</td>\n",
       "      <td>casual</td>\n",
       "      <td>59752</td>\n",
       "    </tr>\n",
       "    <tr>\n",
       "      <th>7</th>\n",
       "      <td>classic_bike</td>\n",
       "      <td>4</td>\n",
       "      <td>member</td>\n",
       "      <td>128823</td>\n",
       "    </tr>\n",
       "    <tr>\n",
       "      <th>8</th>\n",
       "      <td>classic_bike</td>\n",
       "      <td>5</td>\n",
       "      <td>casual</td>\n",
       "      <td>126695</td>\n",
       "    </tr>\n",
       "    <tr>\n",
       "      <th>9</th>\n",
       "      <td>classic_bike</td>\n",
       "      <td>5</td>\n",
       "      <td>member</td>\n",
       "      <td>188695</td>\n",
       "    </tr>\n",
       "    <tr>\n",
       "      <th>10</th>\n",
       "      <td>classic_bike</td>\n",
       "      <td>6</td>\n",
       "      <td>casual</td>\n",
       "      <td>131756</td>\n",
       "    </tr>\n",
       "    <tr>\n",
       "      <th>11</th>\n",
       "      <td>classic_bike</td>\n",
       "      <td>6</td>\n",
       "      <td>member</td>\n",
       "      <td>196617</td>\n",
       "    </tr>\n",
       "    <tr>\n",
       "      <th>12</th>\n",
       "      <td>classic_bike</td>\n",
       "      <td>7</td>\n",
       "      <td>casual</td>\n",
       "      <td>116174</td>\n",
       "    </tr>\n",
       "    <tr>\n",
       "      <th>13</th>\n",
       "      <td>classic_bike</td>\n",
       "      <td>7</td>\n",
       "      <td>member</td>\n",
       "      <td>188309</td>\n",
       "    </tr>\n",
       "    <tr>\n",
       "      <th>14</th>\n",
       "      <td>classic_bike</td>\n",
       "      <td>8</td>\n",
       "      <td>casual</td>\n",
       "      <td>98629</td>\n",
       "    </tr>\n",
       "    <tr>\n",
       "      <th>15</th>\n",
       "      <td>classic_bike</td>\n",
       "      <td>8</td>\n",
       "      <td>member</td>\n",
       "      <td>185455</td>\n",
       "    </tr>\n",
       "    <tr>\n",
       "      <th>16</th>\n",
       "      <td>classic_bike</td>\n",
       "      <td>9</td>\n",
       "      <td>casual</td>\n",
       "      <td>96110</td>\n",
       "    </tr>\n",
       "    <tr>\n",
       "      <th>17</th>\n",
       "      <td>classic_bike</td>\n",
       "      <td>9</td>\n",
       "      <td>member</td>\n",
       "      <td>190510</td>\n",
       "    </tr>\n",
       "    <tr>\n",
       "      <th>18</th>\n",
       "      <td>classic_bike</td>\n",
       "      <td>10</td>\n",
       "      <td>casual</td>\n",
       "      <td>68461</td>\n",
       "    </tr>\n",
       "    <tr>\n",
       "      <th>19</th>\n",
       "      <td>classic_bike</td>\n",
       "      <td>10</td>\n",
       "      <td>member</td>\n",
       "      <td>151705</td>\n",
       "    </tr>\n",
       "    <tr>\n",
       "      <th>20</th>\n",
       "      <td>classic_bike</td>\n",
       "      <td>11</td>\n",
       "      <td>casual</td>\n",
       "      <td>41505</td>\n",
       "    </tr>\n",
       "    <tr>\n",
       "      <th>21</th>\n",
       "      <td>classic_bike</td>\n",
       "      <td>11</td>\n",
       "      <td>member</td>\n",
       "      <td>112279</td>\n",
       "    </tr>\n",
       "    <tr>\n",
       "      <th>22</th>\n",
       "      <td>classic_bike</td>\n",
       "      <td>12</td>\n",
       "      <td>casual</td>\n",
       "      <td>38939</td>\n",
       "    </tr>\n",
       "    <tr>\n",
       "      <th>23</th>\n",
       "      <td>classic_bike</td>\n",
       "      <td>12</td>\n",
       "      <td>member</td>\n",
       "      <td>100975</td>\n",
       "    </tr>\n",
       "  </tbody>\n",
       "</table>\n",
       "</div>"
      ],
      "text/plain": [
       "       Bike Type  Months Membership Type  Number of Rides\n",
       "0   classic_bike       1          casual            30554\n",
       "1   classic_bike       1          member            91535\n",
       "2   classic_bike       2          casual            35365\n",
       "3   classic_bike       2          member            90561\n",
       "4   classic_bike       3          casual            53487\n",
       "5   classic_bike       3          member           115046\n",
       "6   classic_bike       4          casual            59752\n",
       "7   classic_bike       4          member           128823\n",
       "8   classic_bike       5          casual           126695\n",
       "9   classic_bike       5          member           188695\n",
       "10  classic_bike       6          casual           131756\n",
       "11  classic_bike       6          member           196617\n",
       "12  classic_bike       7          casual           116174\n",
       "13  classic_bike       7          member           188309\n",
       "14  classic_bike       8          casual            98629\n",
       "15  classic_bike       8          member           185455\n",
       "16  classic_bike       9          casual            96110\n",
       "17  classic_bike       9          member           190510\n",
       "18  classic_bike      10          casual            68461\n",
       "19  classic_bike      10          member           151705\n",
       "20  classic_bike      11          casual            41505\n",
       "21  classic_bike      11          member           112279\n",
       "22  classic_bike      12          casual            38939\n",
       "23  classic_bike      12          member           100975"
      ]
     },
     "execution_count": 564,
     "metadata": {},
     "output_type": "execute_result"
    }
   ],
   "source": [
    "ii_classic = ii[ii[\"Bike Type\"] == \"classic_bike\"]\n",
    "ii_classic"
   ]
  },
  {
   "cell_type": "code",
   "execution_count": null,
   "metadata": {},
   "outputs": [],
   "source": []
  },
  {
   "cell_type": "markdown",
   "metadata": {},
   "source": [
    "#### TOTAL NUMBER OF RIDES IN EACH MONTH USING DOCKED BIKES BY EACH MEMBERHIP TYPE"
   ]
  },
  {
   "cell_type": "code",
   "execution_count": 550,
   "metadata": {},
   "outputs": [
    {
     "data": {
      "text/html": [
       "<div>\n",
       "<style scoped>\n",
       "    .dataframe tbody tr th:only-of-type {\n",
       "        vertical-align: middle;\n",
       "    }\n",
       "\n",
       "    .dataframe tbody tr th {\n",
       "        vertical-align: top;\n",
       "    }\n",
       "\n",
       "    .dataframe thead th {\n",
       "        text-align: right;\n",
       "    }\n",
       "</style>\n",
       "<table border=\"1\" class=\"dataframe\">\n",
       "  <thead>\n",
       "    <tr style=\"text-align: right;\">\n",
       "      <th></th>\n",
       "      <th>Bike Type</th>\n",
       "      <th>Months</th>\n",
       "      <th>Membership Type</th>\n",
       "      <th>Number of Rides</th>\n",
       "    </tr>\n",
       "  </thead>\n",
       "  <tbody>\n",
       "    <tr>\n",
       "      <th>24</th>\n",
       "      <td>docked_bike</td>\n",
       "      <td>1</td>\n",
       "      <td>casual</td>\n",
       "      <td>5702</td>\n",
       "    </tr>\n",
       "    <tr>\n",
       "      <th>25</th>\n",
       "      <td>docked_bike</td>\n",
       "      <td>2</td>\n",
       "      <td>casual</td>\n",
       "      <td>6996</td>\n",
       "    </tr>\n",
       "    <tr>\n",
       "      <th>26</th>\n",
       "      <td>docked_bike</td>\n",
       "      <td>3</td>\n",
       "      <td>casual</td>\n",
       "      <td>12423</td>\n",
       "    </tr>\n",
       "    <tr>\n",
       "      <th>27</th>\n",
       "      <td>docked_bike</td>\n",
       "      <td>4</td>\n",
       "      <td>casual</td>\n",
       "      <td>14196</td>\n",
       "    </tr>\n",
       "    <tr>\n",
       "      <th>28</th>\n",
       "      <td>docked_bike</td>\n",
       "      <td>5</td>\n",
       "      <td>casual</td>\n",
       "      <td>26804</td>\n",
       "    </tr>\n",
       "    <tr>\n",
       "      <th>29</th>\n",
       "      <td>docked_bike</td>\n",
       "      <td>6</td>\n",
       "      <td>casual</td>\n",
       "      <td>23648</td>\n",
       "    </tr>\n",
       "    <tr>\n",
       "      <th>30</th>\n",
       "      <td>docked_bike</td>\n",
       "      <td>7</td>\n",
       "      <td>casual</td>\n",
       "      <td>22370</td>\n",
       "    </tr>\n",
       "    <tr>\n",
       "      <th>31</th>\n",
       "      <td>docked_bike</td>\n",
       "      <td>8</td>\n",
       "      <td>casual</td>\n",
       "      <td>20710</td>\n",
       "    </tr>\n",
       "    <tr>\n",
       "      <th>32</th>\n",
       "      <td>docked_bike</td>\n",
       "      <td>9</td>\n",
       "      <td>casual</td>\n",
       "      <td>17352</td>\n",
       "    </tr>\n",
       "    <tr>\n",
       "      <th>33</th>\n",
       "      <td>docked_bike</td>\n",
       "      <td>10</td>\n",
       "      <td>casual</td>\n",
       "      <td>14073</td>\n",
       "    </tr>\n",
       "    <tr>\n",
       "      <th>34</th>\n",
       "      <td>docked_bike</td>\n",
       "      <td>11</td>\n",
       "      <td>casual</td>\n",
       "      <td>9123</td>\n",
       "    </tr>\n",
       "    <tr>\n",
       "      <th>35</th>\n",
       "      <td>docked_bike</td>\n",
       "      <td>12</td>\n",
       "      <td>casual</td>\n",
       "      <td>8808</td>\n",
       "    </tr>\n",
       "  </tbody>\n",
       "</table>\n",
       "</div>"
      ],
      "text/plain": [
       "      Bike Type  Months Membership Type  Number of Rides\n",
       "24  docked_bike       1          casual             5702\n",
       "25  docked_bike       2          casual             6996\n",
       "26  docked_bike       3          casual            12423\n",
       "27  docked_bike       4          casual            14196\n",
       "28  docked_bike       5          casual            26804\n",
       "29  docked_bike       6          casual            23648\n",
       "30  docked_bike       7          casual            22370\n",
       "31  docked_bike       8          casual            20710\n",
       "32  docked_bike       9          casual            17352\n",
       "33  docked_bike      10          casual            14073\n",
       "34  docked_bike      11          casual             9123\n",
       "35  docked_bike      12          casual             8808"
      ]
     },
     "execution_count": 550,
     "metadata": {},
     "output_type": "execute_result"
    }
   ],
   "source": [
    "ii_dock = ii[ii[\"Bike Type\"] == \"docked_bike\"]\n",
    "ii_dock"
   ]
  },
  {
   "cell_type": "code",
   "execution_count": null,
   "metadata": {},
   "outputs": [],
   "source": []
  },
  {
   "cell_type": "code",
   "execution_count": null,
   "metadata": {},
   "outputs": [],
   "source": []
  },
  {
   "cell_type": "markdown",
   "metadata": {},
   "source": [
    "### PLOTTING THE TOTAL NUMBER OF RIDES IN EACH MONTH BY MEMBERSHIP TYPE USING EACH BKE TYPE"
   ]
  },
  {
   "cell_type": "code",
   "execution_count": 561,
   "metadata": {},
   "outputs": [
    {
     "data": {
      "image/png": "[encoded data removed]",
      "text/plain": [
       "<Figure size 1296x576 with 3 Axes>"
      ]
     },
     "metadata": {
      "needs_background": "light"
     },
     "output_type": "display_data"
    }
   ],
   "source": [
    "fig, axs = plt.subplots(ncols=3, figsize = (18,8))\n",
    "\n",
    "axs[0].set_title(\"ELECTRIC BIKES\")\n",
    "axs[1].set_title(\"CLASSIC BIKES\")\n",
    "axs[2].set_title(\"DOCKED BIKES\")\n",
    "\n",
    "\n",
    "sns.barplot(x = ii_elec[\"Months\"], y = ii_elec[\"Number of Rides\"], hue = ii[\"Membership Type\"], ax=axs[0])\n",
    "sns.barplot(x = ii_classic[\"Months\"], y = ii_classic[\"Number of Rides\"], hue = ii_classic[\"Membership Type\"], ax=axs[1])\n",
    "sns.barplot(x = ii_dock[\"Months\"], y = ii_dock[\"Number of Rides\"], hue = ii_dock[\"Membership Type\"], ax=axs[2])\n",
    "\n",
    "plt.tight_layout()"
   ]
  },
  {
   "cell_type": "code",
   "execution_count": null,
   "metadata": {},
   "outputs": [],
   "source": []
  },
  {
   "cell_type": "code",
   "execution_count": null,
   "metadata": {},
   "outputs": [],
   "source": []
  },
  {
   "cell_type": "markdown",
   "metadata": {},
   "source": [
    "# 5. SHARE\n",
    "\n",
    "The share phase of the data analysis process involves creating and sharing **high level visualizations** about your findings to stakeholders.\n",
    "For the sake of this project, i have already shared visualizations for every analysis done above. Below are the findings i have made based on all my analysis from each questions posed from the ask phase:\n",
    "\n",
    "**1.TOTAL NUMBER OF RIDES COMPLETED BY EACH USER TYPE?**\n",
    "- Based on the total number of rides, Cyclistic bike-share has slightly more number yearly members (3,402,661) than casual riders. The yearly members make up 59.1% and the casual riders make up 41.9%.\n",
    "\n",
    "\n",
    "**2. TOTAL NUMBER OF RIDES IN EACH MONTH**\n",
    "- The analysis shows that june, july and august are the busiest month. This could be as a result of those months being summer months, where the weather is sunny, people feel like going out more and th weather is genrally more condusive for bike rides.\n",
    "\n",
    "**3. TOTAL NUMBER OF RIDES BY DAY?**\n",
    "- The analysis of the total number of days shows Mondays having the least ammount of rides then a steady daily increase in rides to thursday, then a slight drop on friday, thereafter, the number of rides peaked on saturday and then dropped on saturday.\n",
    "The low number of rides on monday might be because of the busy start of the week, with most riders going to work, while the surge on saturday might indicate the usual saturday outdorr rest days.\n",
    "\n",
    "**4. DAILY RIDE COMAPRISON BETWEEN THE TWO BIKE USERS** \n",
    "- This analysis shows a rather consistent usage of bikes by the yearly members throughout the week, whereas, the casual users had a significantly lower number of rides during the week and a higher number of rides during the weekend with a suprisingly Higher number of rides on Saturday and Sunday as compared to the yearly members. This might indicate that the yearly members use the bikes as a means of daily transportation maybe to their places of work, and the casual users use the bikes as a means of leisure during the weekends hence the surge on Saturday and Sunday.\n",
    "\n",
    "**5. MONTHLY RIDE COMAPRISON BETWEEN THE TWO BIKE USERS**\n",
    "- In this analysis, the yearly members used more bikes every month throughout the year than the casual memnbers. However both showed a steaddy increase, and individually peaked during the summer months. After the summer months, There is a decline. This suggests that both users enjoy and use cyclists more in the summer months.\n",
    "\n",
    "**6. BIKE PREFERENCES BETWEEN BOTH USERS.**\n",
    "- The analysis shows that overall, the yearly membship users prefer to use the classic bikes more than every other bike types, the reason could be because of the ease of use in terms of the battery capacity of the electric bikes and then the stressful need of not docking the bikes at docking stations. Whereas, the casual users prefer to use the electric bikes more than the other bike types, the reason they might not choose the classic bikes instead might be as a result of pricing, however the pricing informations were not provided.\n",
    "\n",
    "\n"
   ]
  },
  {
   "cell_type": "code",
   "execution_count": null,
   "metadata": {},
   "outputs": [],
   "source": []
  },
  {
   "cell_type": "markdown",
   "metadata": {},
   "source": [
    "# 6. ACT\n",
    "\n",
    "The act phase of the data analysis process involves sharing **recommendations** based on your finding to your stakeholder, so that The stake holder will then use those recommendations to take actions that will lead to positive results.\n",
    "\n",
    "** My recommendations that would help to convert casual users into yearly memberhip users are: **\n",
    "\n",
    "- i) Make a yearly subscription plan for just weekend rides and increase the casual usage prices for weekends only.\n",
    "\n",
    "    \n",
    "- ii) Create a subcription plan for usuage during the warmer months. Adverts for this plan should run during the winter months.\n",
    "\n",
    "    \n",
    "- iii) Reduce the availability of Electric bikes for casual usage and make the price for casual usage of classic bikes higher. However, an incentive such as a discount for yearly membership plan should be set in place \n"
   ]
  },
  {
   "cell_type": "code",
   "execution_count": null,
   "metadata": {},
   "outputs": [],
   "source": []
  },
  {
   "cell_type": "code",
   "execution_count": null,
   "metadata": {},
   "outputs": [],
   "source": []
  }
 ],
 "metadata": {
  "kernelspec": {
   "display_name": "Python 3",
   "language": "python",
   "name": "python3"
  },
  "language_info": {
   "codemirror_mode": {
    "name": "ipython",
    "version": 3
   },
   "file_extension": ".py",
   "mimetype": "text/x-python",
   "name": "python",
   "nbconvert_exporter": "python",
   "pygments_lexer": "ipython3",
   "version": "3.8.5"
  }
 },
 "nbformat": 4,
 "nbformat_minor": 4
}
