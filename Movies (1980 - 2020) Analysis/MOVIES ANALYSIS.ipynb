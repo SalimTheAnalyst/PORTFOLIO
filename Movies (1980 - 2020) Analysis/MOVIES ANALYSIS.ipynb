{
 "cells": [
  {
   "cell_type": "markdown",
   "metadata": {},
   "source": [
    "# MOVIES DATASET ANALYSIS"
   ]
  },
  {
   "cell_type": "markdown",
   "metadata": {},
   "source": [
    "### This dataset contains informations of movies from 1980 to 2020. The dataset contains 7,668 movie entries and 15 columns. The analysis done on the dataset answers the questions below:\n",
    "\n",
    "1. WHICH MOVIES HAVE THE HIGHEST BUDGET EVER?\n",
    "2. WHICH MOVIES GENERATED THE HIGHEST GROSS PROFIT EVER?\n",
    "3. IS THERE A CORRELATION BETWEEN THE BUDGET AND GROSS PROFIT MOVIES?\n",
    "4. WHICH MOVIES HAVE THE LONGEST RUNTIME (OR DURATION)\n",
    "5. WHICH MOVIES HAVE HAD THE HIGHEST VIEWER'S SCORE ?\n",
    "6. HOW MANY GENRES OF MOVIES ARE THERE IN THE DATASET\n",
    "7. ACCORDING TO THE DATASET, HOW MANY OF EACH GENRE OF MOVIE WAS PRODUCED OVER THE LAST 40 YEARS?\n",
    "8. TOP 5 MOST PRODUCED GENRE OF MOVIES\n",
    "9. WHICH OF THE TOP 5 MOST PRODUCED GENRE OF MOVIES GENERATED THE HIGHEST GROSS PROFIT?\n",
    "10. WHICH OF THE TOP 5 MOST PRODUCED GENRE OF MOVIE HAS THE LONGEST RUNTIME?\n",
    "11. WHAT ARE THE MOVIE RATING SYSTEMS AND HOW MANY HAVE BEEN PRODUCED?\n",
    "12. TOP 5 MOVIES RATING EVER PRODUCED\n",
    "13. WHICH OF THE TOP 5 MOVIE RATING HAS THE HIGHEST RUNTIME?\n",
    "14. WHICH OF THE TOP 5 MOVIE RATINGS HAVE HAD THE HIGHEST BUDGET WITHIN THE 40-YEAR PERIOD?\n",
    "15. THE TOP 5 MOVIE RATINGS THAT HAS GENERATED THE HIGHEST GROSS PROFIT?\n",
    "16. WHICH COMPANIES HAVE PRODUCED THE MOST MOVIES?\n",
    "17. WHICH OF THE TOP 10 COMPANES HAVE SPENT THE MOST BUDGET ON MOVIES?\n",
    "18. WHICH COMPANIES HAVE GENERATED THE MOST GROSS PROFIT?\n",
    "19. WHO HAS DIRECTED THE MOST MOVIES OVER THE 40-YEARS PERIOD?\n",
    "20. TOP 15 ACTORS THAT HAVE BEEN THE STAR OF A MOVIE THE MOST IN OVER 40 YEARS."
   ]
  },
  {
   "cell_type": "code",
   "execution_count": null,
   "metadata": {},
   "outputs": [],
   "source": []
  },
  {
   "cell_type": "markdown",
   "metadata": {},
   "source": [
    "### IMPORTING THE NECESSARY LIBRARIES"
   ]
  },
  {
   "cell_type": "code",
   "execution_count": 284,
   "metadata": {},
   "outputs": [],
   "source": [
    "import pandas as pd\n",
    "import matplotlib.pyplot as plt\n",
    "import seaborn as sns\n",
    "import plotly.express as px\n",
    "\n",
    "%matplotlib inline"
   ]
  },
  {
   "cell_type": "markdown",
   "metadata": {},
   "source": [
    "### LOADING THE DATASET"
   ]
  },
  {
   "cell_type": "code",
   "execution_count": 575,
   "metadata": {},
   "outputs": [],
   "source": [
    "movies = pd.read_csv(\"movies.csv\")"
   ]
  },
  {
   "cell_type": "code",
   "execution_count": null,
   "metadata": {},
   "outputs": [],
   "source": []
  },
  {
   "cell_type": "markdown",
   "metadata": {},
   "source": [
    "### CHECKING THE DATASET"
   ]
  },
  {
   "cell_type": "code",
   "execution_count": 581,
   "metadata": {
    "scrolled": false
   },
   "outputs": [
    {
     "data": {
      "text/html": [
       "<div>\n",
       "<style scoped>\n",
       "    .dataframe tbody tr th:only-of-type {\n",
       "        vertical-align: middle;\n",
       "    }\n",
       "\n",
       "    .dataframe tbody tr th {\n",
       "        vertical-align: top;\n",
       "    }\n",
       "\n",
       "    .dataframe thead th {\n",
       "        text-align: right;\n",
       "    }\n",
       "</style>\n",
       "<table border=\"1\" class=\"dataframe\">\n",
       "  <thead>\n",
       "    <tr style=\"text-align: right;\">\n",
       "      <th></th>\n",
       "      <th>name</th>\n",
       "      <th>rating</th>\n",
       "      <th>genre</th>\n",
       "      <th>year</th>\n",
       "      <th>released</th>\n",
       "      <th>score</th>\n",
       "      <th>votes</th>\n",
       "      <th>director</th>\n",
       "      <th>writer</th>\n",
       "      <th>star</th>\n",
       "      <th>country</th>\n",
       "      <th>budget</th>\n",
       "      <th>gross</th>\n",
       "      <th>company</th>\n",
       "      <th>runtime</th>\n",
       "    </tr>\n",
       "  </thead>\n",
       "  <tbody>\n",
       "    <tr>\n",
       "      <th>0</th>\n",
       "      <td>The Shining</td>\n",
       "      <td>R</td>\n",
       "      <td>Drama</td>\n",
       "      <td>1980</td>\n",
       "      <td>June 13, 1980 (United States)</td>\n",
       "      <td>8.4</td>\n",
       "      <td>927000.0</td>\n",
       "      <td>Stanley Kubrick</td>\n",
       "      <td>Stephen King</td>\n",
       "      <td>Jack Nicholson</td>\n",
       "      <td>United Kingdom</td>\n",
       "      <td>19000000.0</td>\n",
       "      <td>46998772.0</td>\n",
       "      <td>Warner Bros.</td>\n",
       "      <td>146.0</td>\n",
       "    </tr>\n",
       "    <tr>\n",
       "      <th>1</th>\n",
       "      <td>The Blue Lagoon</td>\n",
       "      <td>R</td>\n",
       "      <td>Adventure</td>\n",
       "      <td>1980</td>\n",
       "      <td>July 2, 1980 (United States)</td>\n",
       "      <td>5.8</td>\n",
       "      <td>65000.0</td>\n",
       "      <td>Randal Kleiser</td>\n",
       "      <td>Henry De Vere Stacpoole</td>\n",
       "      <td>Brooke Shields</td>\n",
       "      <td>United States</td>\n",
       "      <td>4500000.0</td>\n",
       "      <td>58853106.0</td>\n",
       "      <td>Columbia Pictures</td>\n",
       "      <td>104.0</td>\n",
       "    </tr>\n",
       "    <tr>\n",
       "      <th>2</th>\n",
       "      <td>Star Wars: Episode V - The Empire Strikes Back</td>\n",
       "      <td>PG</td>\n",
       "      <td>Action</td>\n",
       "      <td>1980</td>\n",
       "      <td>June 20, 1980 (United States)</td>\n",
       "      <td>8.7</td>\n",
       "      <td>1200000.0</td>\n",
       "      <td>Irvin Kershner</td>\n",
       "      <td>Leigh Brackett</td>\n",
       "      <td>Mark Hamill</td>\n",
       "      <td>United States</td>\n",
       "      <td>18000000.0</td>\n",
       "      <td>538375067.0</td>\n",
       "      <td>Lucasfilm</td>\n",
       "      <td>124.0</td>\n",
       "    </tr>\n",
       "    <tr>\n",
       "      <th>3</th>\n",
       "      <td>Airplane!</td>\n",
       "      <td>PG</td>\n",
       "      <td>Comedy</td>\n",
       "      <td>1980</td>\n",
       "      <td>July 2, 1980 (United States)</td>\n",
       "      <td>7.7</td>\n",
       "      <td>221000.0</td>\n",
       "      <td>Jim Abrahams</td>\n",
       "      <td>Jim Abrahams</td>\n",
       "      <td>Robert Hays</td>\n",
       "      <td>United States</td>\n",
       "      <td>3500000.0</td>\n",
       "      <td>83453539.0</td>\n",
       "      <td>Paramount Pictures</td>\n",
       "      <td>88.0</td>\n",
       "    </tr>\n",
       "    <tr>\n",
       "      <th>4</th>\n",
       "      <td>Caddyshack</td>\n",
       "      <td>R</td>\n",
       "      <td>Comedy</td>\n",
       "      <td>1980</td>\n",
       "      <td>July 25, 1980 (United States)</td>\n",
       "      <td>7.3</td>\n",
       "      <td>108000.0</td>\n",
       "      <td>Harold Ramis</td>\n",
       "      <td>Brian Doyle-Murray</td>\n",
       "      <td>Chevy Chase</td>\n",
       "      <td>United States</td>\n",
       "      <td>6000000.0</td>\n",
       "      <td>39846344.0</td>\n",
       "      <td>Orion Pictures</td>\n",
       "      <td>98.0</td>\n",
       "    </tr>\n",
       "  </tbody>\n",
       "</table>\n",
       "</div>"
      ],
      "text/plain": [
       "                                             name rating      genre  year  \\\n",
       "0                                     The Shining      R      Drama  1980   \n",
       "1                                 The Blue Lagoon      R  Adventure  1980   \n",
       "2  Star Wars: Episode V - The Empire Strikes Back     PG     Action  1980   \n",
       "3                                       Airplane!     PG     Comedy  1980   \n",
       "4                                      Caddyshack      R     Comedy  1980   \n",
       "\n",
       "                        released  score      votes         director  \\\n",
       "0  June 13, 1980 (United States)    8.4   927000.0  Stanley Kubrick   \n",
       "1   July 2, 1980 (United States)    5.8    65000.0   Randal Kleiser   \n",
       "2  June 20, 1980 (United States)    8.7  1200000.0   Irvin Kershner   \n",
       "3   July 2, 1980 (United States)    7.7   221000.0     Jim Abrahams   \n",
       "4  July 25, 1980 (United States)    7.3   108000.0     Harold Ramis   \n",
       "\n",
       "                    writer            star         country      budget  \\\n",
       "0             Stephen King  Jack Nicholson  United Kingdom  19000000.0   \n",
       "1  Henry De Vere Stacpoole  Brooke Shields   United States   4500000.0   \n",
       "2           Leigh Brackett     Mark Hamill   United States  18000000.0   \n",
       "3             Jim Abrahams     Robert Hays   United States   3500000.0   \n",
       "4       Brian Doyle-Murray     Chevy Chase   United States   6000000.0   \n",
       "\n",
       "         gross             company  runtime  \n",
       "0   46998772.0        Warner Bros.    146.0  \n",
       "1   58853106.0   Columbia Pictures    104.0  \n",
       "2  538375067.0           Lucasfilm    124.0  \n",
       "3   83453539.0  Paramount Pictures     88.0  \n",
       "4   39846344.0      Orion Pictures     98.0  "
      ]
     },
     "execution_count": 581,
     "metadata": {},
     "output_type": "execute_result"
    }
   ],
   "source": [
    "movies.head()"
   ]
  },
  {
   "cell_type": "code",
   "execution_count": null,
   "metadata": {},
   "outputs": [],
   "source": []
  },
  {
   "cell_type": "markdown",
   "metadata": {},
   "source": [
    "### CHECKING INFO OF THE DATASET"
   ]
  },
  {
   "cell_type": "code",
   "execution_count": 582,
   "metadata": {},
   "outputs": [
    {
     "name": "stdout",
     "output_type": "stream",
     "text": [
      "<class 'pandas.core.frame.DataFrame'>\n",
      "RangeIndex: 7668 entries, 0 to 7667\n",
      "Data columns (total 15 columns):\n",
      " #   Column    Non-Null Count  Dtype  \n",
      "---  ------    --------------  -----  \n",
      " 0   name      7668 non-null   object \n",
      " 1   rating    7591 non-null   object \n",
      " 2   genre     7668 non-null   object \n",
      " 3   year      7668 non-null   int64  \n",
      " 4   released  7666 non-null   object \n",
      " 5   score     7665 non-null   float64\n",
      " 6   votes     7665 non-null   float64\n",
      " 7   director  7668 non-null   object \n",
      " 8   writer    7665 non-null   object \n",
      " 9   star      7667 non-null   object \n",
      " 10  country   7665 non-null   object \n",
      " 11  budget    5497 non-null   float64\n",
      " 12  gross     7479 non-null   float64\n",
      " 13  company   7651 non-null   object \n",
      " 14  runtime   7664 non-null   float64\n",
      "dtypes: float64(5), int64(1), object(9)\n",
      "memory usage: 898.7+ KB\n"
     ]
    }
   ],
   "source": [
    "movies.info()"
   ]
  },
  {
   "cell_type": "markdown",
   "metadata": {},
   "source": [
    "### This dataset contains 7668 entries of movies from 1980 to 2020 (a 40-year period). It has 14 columns describing different aspects of each movie as can be seeing below."
   ]
  },
  {
   "cell_type": "code",
   "execution_count": 158,
   "metadata": {},
   "outputs": [
    {
     "data": {
      "text/plain": [
       "Index(['name', 'rating', 'genre', 'year', 'released', 'score', 'votes',\n",
       "       'director', 'writer', 'star', 'country', 'Budget (in million)',\n",
       "       'Gross (in million)', 'company', 'runtime'],\n",
       "      dtype='object')"
      ]
     },
     "execution_count": 158,
     "metadata": {},
     "output_type": "execute_result"
    }
   ],
   "source": [
    "movies.columns"
   ]
  },
  {
   "cell_type": "markdown",
   "metadata": {},
   "source": [
    "### CHECKING THE DATA FOR MISSING VALUES"
   ]
  },
  {
   "cell_type": "code",
   "execution_count": 13,
   "metadata": {},
   "outputs": [
    {
     "data": {
      "text/plain": [
       "name           0\n",
       "rating        77\n",
       "genre          0\n",
       "year           0\n",
       "released       2\n",
       "score          3\n",
       "votes          3\n",
       "director       0\n",
       "writer         3\n",
       "star           1\n",
       "country        3\n",
       "budget      2171\n",
       "gross        189\n",
       "company       17\n",
       "runtime        4\n",
       "dtype: int64"
      ]
     },
     "execution_count": 13,
     "metadata": {},
     "output_type": "execute_result"
    }
   ],
   "source": [
    "md = movies.isnull().sum()\n",
    "md"
   ]
  },
  {
   "cell_type": "markdown",
   "metadata": {},
   "source": [
    "### VISUALIZING THE NUMBER OF MISSING DATA IN EACH COLUMN"
   ]
  },
  {
   "cell_type": "code",
   "execution_count": 148,
   "metadata": {
    "scrolled": false
   },
   "outputs": [
    {
     "data": {
      "text/plain": [
       "Text(0.5, 1.0, 'HORIZONTAL BARCHAT SHOWING NUMBER OF MISSING VALUES IN EACH COLUMN')"
      ]
     },
     "execution_count": 148,
     "metadata": {},
     "output_type": "execute_result"
    },
    {
     "data": {
      "image/png": "[encoded data removed]",
      "text/plain": [
       "<Figure size 720x432 with 1 Axes>"
      ]
     },
     "metadata": {
      "needs_background": "light"
     },
     "output_type": "display_data"
    }
   ],
   "source": [
    "plt.figure(figsize = (10,6))\n",
    "md.plot(kind = \"barh\", )\n",
    "plt.xlabel(\"Number of missing data\")\n",
    "plt.ylabel(\"Column Names\")\n",
    "plt.title(\"HORIZONTAL BARCHAT SHOWING NUMBER OF MISSING VALUES IN EACH COLUMN\")"
   ]
  },
  {
   "cell_type": "code",
   "execution_count": null,
   "metadata": {},
   "outputs": [],
   "source": []
  },
  {
   "cell_type": "markdown",
   "metadata": {},
   "source": [
    "### FILLING IN ROWS WITH MISSING DATA"
   ]
  },
  {
   "cell_type": "code",
   "execution_count": 24,
   "metadata": {},
   "outputs": [],
   "source": [
    "movies.fillna({\"rating\" : \"NONE\",\n",
    "              \"released\": \"No Date\",\n",
    "              \"score\" : 0,\n",
    "              \"votes\" : 0,\n",
    "              \"writer\": \"No Name\",\n",
    "              \"star\" : \"No Name\",\n",
    "              \"country\" : \"unknown\",\n",
    "              \"budget\" : 0,\n",
    "              \"gross\" : 0,\n",
    "              \"company\" : \"not known\",\n",
    "              \"runtime\": 0}, inplace = True)"
   ]
  },
  {
   "cell_type": "markdown",
   "metadata": {},
   "source": [
    "### CONVERTING THE BUDGET AND GROSS COLUMN TO MILLIONS"
   ]
  },
  {
   "cell_type": "code",
   "execution_count": 48,
   "metadata": {},
   "outputs": [],
   "source": [
    "movies[\"gross\"] = movies[\"gross\"]/1000000"
   ]
  },
  {
   "cell_type": "code",
   "execution_count": 47,
   "metadata": {},
   "outputs": [],
   "source": [
    "movies[\"budget\"] = movies[\"budget\"]/1000000"
   ]
  },
  {
   "cell_type": "code",
   "execution_count": null,
   "metadata": {},
   "outputs": [],
   "source": []
  },
  {
   "cell_type": "markdown",
   "metadata": {},
   "source": [
    "### RENAMING THE BUDGET AND GROSS COLUMNS"
   ]
  },
  {
   "cell_type": "code",
   "execution_count": 55,
   "metadata": {},
   "outputs": [],
   "source": [
    "movies.rename({\"gross\" : \"Gross (in million)\",\n",
    "              \"budget\" : \"Budget (in million)\"}, axis = 1, inplace = True)"
   ]
  },
  {
   "cell_type": "code",
   "execution_count": null,
   "metadata": {},
   "outputs": [],
   "source": []
  },
  {
   "cell_type": "code",
   "execution_count": null,
   "metadata": {},
   "outputs": [],
   "source": []
  },
  {
   "cell_type": "markdown",
   "metadata": {},
   "source": [
    "## CONVERTING BUDGET AND GROSS COLUMNS TO INTEGER"
   ]
  },
  {
   "cell_type": "code",
   "execution_count": 572,
   "metadata": {},
   "outputs": [],
   "source": [
    "movies[\"Gross (in million)\"] = movies[\"Gross (in million)\"].astype(\"int32\")"
   ]
  },
  {
   "cell_type": "code",
   "execution_count": 573,
   "metadata": {},
   "outputs": [],
   "source": [
    "movies[\"Budget (in million)\"] = movies[\"Budget (in million)\"].astype(\"int32\")"
   ]
  },
  {
   "cell_type": "code",
   "execution_count": null,
   "metadata": {},
   "outputs": [],
   "source": []
  },
  {
   "cell_type": "markdown",
   "metadata": {},
   "source": [
    "## 1. WHICH MOVIES HAVE THE HIGHEST BUDGET EVER?"
   ]
  },
  {
   "cell_type": "code",
   "execution_count": 77,
   "metadata": {},
   "outputs": [],
   "source": [
    "hb = movies.sort_values(\"Budget (in million)\", ascending = False).head(10)[[\"name\", \"rating\",\n",
    "                                                                            \"genre\", \"year\", \n",
    "                                                                            \"Budget (in million)\", \"company\"]]\n",
    "hb.reset_index(inplace = True)"
   ]
  },
  {
   "cell_type": "code",
   "execution_count": 78,
   "metadata": {},
   "outputs": [],
   "source": [
    "del hb[\"index\"]"
   ]
  },
  {
   "cell_type": "code",
   "execution_count": 79,
   "metadata": {
    "scrolled": true
   },
   "outputs": [
    {
     "data": {
      "text/html": [
       "<div>\n",
       "<style scoped>\n",
       "    .dataframe tbody tr th:only-of-type {\n",
       "        vertical-align: middle;\n",
       "    }\n",
       "\n",
       "    .dataframe tbody tr th {\n",
       "        vertical-align: top;\n",
       "    }\n",
       "\n",
       "    .dataframe thead th {\n",
       "        text-align: right;\n",
       "    }\n",
       "</style>\n",
       "<table border=\"1\" class=\"dataframe\">\n",
       "  <thead>\n",
       "    <tr style=\"text-align: right;\">\n",
       "      <th></th>\n",
       "      <th>name</th>\n",
       "      <th>rating</th>\n",
       "      <th>genre</th>\n",
       "      <th>year</th>\n",
       "      <th>Budget (in million)</th>\n",
       "      <th>company</th>\n",
       "    </tr>\n",
       "  </thead>\n",
       "  <tbody>\n",
       "    <tr>\n",
       "      <th>0</th>\n",
       "      <td>Avengers: Endgame</td>\n",
       "      <td>PG-13</td>\n",
       "      <td>Action</td>\n",
       "      <td>2019</td>\n",
       "      <td>356.0</td>\n",
       "      <td>Marvel Studios</td>\n",
       "    </tr>\n",
       "    <tr>\n",
       "      <th>1</th>\n",
       "      <td>Avengers: Infinity War</td>\n",
       "      <td>PG-13</td>\n",
       "      <td>Action</td>\n",
       "      <td>2018</td>\n",
       "      <td>321.0</td>\n",
       "      <td>Marvel Studios</td>\n",
       "    </tr>\n",
       "    <tr>\n",
       "      <th>2</th>\n",
       "      <td>Star Wars: Episode VIII - The Last Jedi</td>\n",
       "      <td>PG-13</td>\n",
       "      <td>Action</td>\n",
       "      <td>2017</td>\n",
       "      <td>317.0</td>\n",
       "      <td>Walt Disney Pictures</td>\n",
       "    </tr>\n",
       "    <tr>\n",
       "      <th>3</th>\n",
       "      <td>Pirates of the Caribbean: at World's End</td>\n",
       "      <td>PG-13</td>\n",
       "      <td>Action</td>\n",
       "      <td>2007</td>\n",
       "      <td>300.0</td>\n",
       "      <td>Walt Disney Pictures</td>\n",
       "    </tr>\n",
       "    <tr>\n",
       "      <th>4</th>\n",
       "      <td>Justice League</td>\n",
       "      <td>PG-13</td>\n",
       "      <td>Action</td>\n",
       "      <td>2017</td>\n",
       "      <td>300.0</td>\n",
       "      <td>Warner Bros.</td>\n",
       "    </tr>\n",
       "    <tr>\n",
       "      <th>5</th>\n",
       "      <td>Solo: A Star Wars Story</td>\n",
       "      <td>PG-13</td>\n",
       "      <td>Action</td>\n",
       "      <td>2018</td>\n",
       "      <td>275.0</td>\n",
       "      <td>Lucasfilm</td>\n",
       "    </tr>\n",
       "    <tr>\n",
       "      <th>6</th>\n",
       "      <td>Star Wars: Episode IX - The Rise of Skywalker</td>\n",
       "      <td>PG-13</td>\n",
       "      <td>Action</td>\n",
       "      <td>2019</td>\n",
       "      <td>275.0</td>\n",
       "      <td>Walt Disney Pictures</td>\n",
       "    </tr>\n",
       "    <tr>\n",
       "      <th>7</th>\n",
       "      <td>Superman Returns</td>\n",
       "      <td>PG-13</td>\n",
       "      <td>Action</td>\n",
       "      <td>2006</td>\n",
       "      <td>270.0</td>\n",
       "      <td>Warner Bros.</td>\n",
       "    </tr>\n",
       "    <tr>\n",
       "      <th>8</th>\n",
       "      <td>Tangled</td>\n",
       "      <td>PG</td>\n",
       "      <td>Animation</td>\n",
       "      <td>2010</td>\n",
       "      <td>260.0</td>\n",
       "      <td>Walt Disney Animation Studios</td>\n",
       "    </tr>\n",
       "    <tr>\n",
       "      <th>9</th>\n",
       "      <td>The Lion King</td>\n",
       "      <td>PG</td>\n",
       "      <td>Animation</td>\n",
       "      <td>2019</td>\n",
       "      <td>260.0</td>\n",
       "      <td>Walt Disney Pictures</td>\n",
       "    </tr>\n",
       "  </tbody>\n",
       "</table>\n",
       "</div>"
      ],
      "text/plain": [
       "                                            name rating      genre  year  \\\n",
       "0                              Avengers: Endgame  PG-13     Action  2019   \n",
       "1                         Avengers: Infinity War  PG-13     Action  2018   \n",
       "2        Star Wars: Episode VIII - The Last Jedi  PG-13     Action  2017   \n",
       "3       Pirates of the Caribbean: at World's End  PG-13     Action  2007   \n",
       "4                                 Justice League  PG-13     Action  2017   \n",
       "5                        Solo: A Star Wars Story  PG-13     Action  2018   \n",
       "6  Star Wars: Episode IX - The Rise of Skywalker  PG-13     Action  2019   \n",
       "7                               Superman Returns  PG-13     Action  2006   \n",
       "8                                        Tangled     PG  Animation  2010   \n",
       "9                                  The Lion King     PG  Animation  2019   \n",
       "\n",
       "   Budget (in million)                        company  \n",
       "0                356.0                 Marvel Studios  \n",
       "1                321.0                 Marvel Studios  \n",
       "2                317.0           Walt Disney Pictures  \n",
       "3                300.0           Walt Disney Pictures  \n",
       "4                300.0                   Warner Bros.  \n",
       "5                275.0                      Lucasfilm  \n",
       "6                275.0           Walt Disney Pictures  \n",
       "7                270.0                   Warner Bros.  \n",
       "8                260.0  Walt Disney Animation Studios  \n",
       "9                260.0           Walt Disney Pictures  "
      ]
     },
     "execution_count": 79,
     "metadata": {},
     "output_type": "execute_result"
    }
   ],
   "source": [
    "hb"
   ]
  },
  {
   "cell_type": "markdown",
   "metadata": {},
   "source": [
    "### The highest amount ever budgeted for a movie (up until 2020) is 356 million (USD) for the movie AVENGERS: ENDGAME produced by MARVEL STUDIOS and released in the year 2019. \n",
    "### The second highest amount ever budgeted for a movie (up until 2020) was 321 million (USD) for AVENGERS: INFINITY WAR which is also a part of the AVENGERS franchise.\n",
    "### "
   ]
  },
  {
   "cell_type": "code",
   "execution_count": null,
   "metadata": {},
   "outputs": [],
   "source": []
  },
  {
   "cell_type": "markdown",
   "metadata": {},
   "source": [
    "### VISUALIZING MOVIES WITH THE HIGHEST BUDGET EVER"
   ]
  },
  {
   "cell_type": "code",
   "execution_count": 146,
   "metadata": {
    "scrolled": false
   },
   "outputs": [
    {
     "data": {
      "text/plain": [
       "Text(0.5, 1.0, 'MOVIES WITH THE THE HIGHEST BUDGET')"
      ]
     },
     "execution_count": 146,
     "metadata": {},
     "output_type": "execute_result"
    },
    {
     "data": {
      "image/png": "[encoded data removed]",
      "text/plain": [
       "<Figure size 720x432 with 1 Axes>"
      ]
     },
     "metadata": {
      "needs_background": "light"
     },
     "output_type": "display_data"
    }
   ],
   "source": [
    "plt.figure(figsize = (10, 6))\n",
    "sns.barplot(x = hb[\"Budget (in million)\"], y = hb[\"name\"])\n",
    "plt.xlabel(\"BUDGET (IN MILLIONS)\")\n",
    "plt.ylabel(\"MOVIE NAMES\")\n",
    "plt.title(\"MOVIES WITH THE THE HIGHEST BUDGET\")"
   ]
  },
  {
   "cell_type": "code",
   "execution_count": null,
   "metadata": {},
   "outputs": [],
   "source": []
  },
  {
   "cell_type": "code",
   "execution_count": null,
   "metadata": {},
   "outputs": [],
   "source": []
  },
  {
   "cell_type": "markdown",
   "metadata": {},
   "source": [
    "## 2. WHICH MOVIES GENERATED THE HIGHEST GROSS PROFIT EVER?"
   ]
  },
  {
   "cell_type": "code",
   "execution_count": 81,
   "metadata": {},
   "outputs": [],
   "source": [
    "hgp = movies.sort_values(\"Gross (in million)\", ascending = False).head(10)[[\"name\", \"rating\",\n",
    "                                                                            \"genre\", \"year\", \"company\",\n",
    "                                                                      \"Budget (in million)\", \"Gross (in million)\"]]\n",
    "hgp.reset_index(inplace = True)"
   ]
  },
  {
   "cell_type": "code",
   "execution_count": 82,
   "metadata": {},
   "outputs": [],
   "source": [
    "del hgp[\"index\"]"
   ]
  },
  {
   "cell_type": "code",
   "execution_count": 104,
   "metadata": {},
   "outputs": [],
   "source": [
    "# converting gross profit to be in billion (instead of million)\n",
    "#hgp[\"Gross (in million)\"] = hgp[\"Gross (in million)\"]/ 1000"
   ]
  },
  {
   "cell_type": "code",
   "execution_count": 105,
   "metadata": {
    "scrolled": true
   },
   "outputs": [],
   "source": [
    "# Renaming Gross (in million) to Gross (in billion)\n",
    "# hgp.rename({\"Gross (in million)\":\"Gross (in billion)\"}, axis = 1, inplace = True)"
   ]
  },
  {
   "cell_type": "code",
   "execution_count": 106,
   "metadata": {},
   "outputs": [
    {
     "data": {
      "text/html": [
       "<div>\n",
       "<style scoped>\n",
       "    .dataframe tbody tr th:only-of-type {\n",
       "        vertical-align: middle;\n",
       "    }\n",
       "\n",
       "    .dataframe tbody tr th {\n",
       "        vertical-align: top;\n",
       "    }\n",
       "\n",
       "    .dataframe thead th {\n",
       "        text-align: right;\n",
       "    }\n",
       "</style>\n",
       "<table border=\"1\" class=\"dataframe\">\n",
       "  <thead>\n",
       "    <tr style=\"text-align: right;\">\n",
       "      <th></th>\n",
       "      <th>name</th>\n",
       "      <th>rating</th>\n",
       "      <th>genre</th>\n",
       "      <th>year</th>\n",
       "      <th>company</th>\n",
       "      <th>Budget (in million)</th>\n",
       "      <th>Gross (in billion)</th>\n",
       "    </tr>\n",
       "  </thead>\n",
       "  <tbody>\n",
       "    <tr>\n",
       "      <th>0</th>\n",
       "      <td>Avatar</td>\n",
       "      <td>PG-13</td>\n",
       "      <td>Action</td>\n",
       "      <td>2009</td>\n",
       "      <td>Twentieth Century Fox</td>\n",
       "      <td>237.0</td>\n",
       "      <td>2.847246</td>\n",
       "    </tr>\n",
       "    <tr>\n",
       "      <th>1</th>\n",
       "      <td>Avengers: Endgame</td>\n",
       "      <td>PG-13</td>\n",
       "      <td>Action</td>\n",
       "      <td>2019</td>\n",
       "      <td>Marvel Studios</td>\n",
       "      <td>356.0</td>\n",
       "      <td>2.797501</td>\n",
       "    </tr>\n",
       "    <tr>\n",
       "      <th>2</th>\n",
       "      <td>Titanic</td>\n",
       "      <td>PG-13</td>\n",
       "      <td>Drama</td>\n",
       "      <td>1997</td>\n",
       "      <td>Twentieth Century Fox</td>\n",
       "      <td>200.0</td>\n",
       "      <td>2.201647</td>\n",
       "    </tr>\n",
       "    <tr>\n",
       "      <th>3</th>\n",
       "      <td>Star Wars: Episode VII - The Force Awakens</td>\n",
       "      <td>PG-13</td>\n",
       "      <td>Action</td>\n",
       "      <td>2015</td>\n",
       "      <td>Lucasfilm</td>\n",
       "      <td>245.0</td>\n",
       "      <td>2.069522</td>\n",
       "    </tr>\n",
       "    <tr>\n",
       "      <th>4</th>\n",
       "      <td>Avengers: Infinity War</td>\n",
       "      <td>PG-13</td>\n",
       "      <td>Action</td>\n",
       "      <td>2018</td>\n",
       "      <td>Marvel Studios</td>\n",
       "      <td>321.0</td>\n",
       "      <td>2.048360</td>\n",
       "    </tr>\n",
       "    <tr>\n",
       "      <th>5</th>\n",
       "      <td>The Lion King</td>\n",
       "      <td>PG</td>\n",
       "      <td>Animation</td>\n",
       "      <td>2019</td>\n",
       "      <td>Walt Disney Pictures</td>\n",
       "      <td>260.0</td>\n",
       "      <td>1.670728</td>\n",
       "    </tr>\n",
       "    <tr>\n",
       "      <th>6</th>\n",
       "      <td>Jurassic World</td>\n",
       "      <td>PG-13</td>\n",
       "      <td>Action</td>\n",
       "      <td>2015</td>\n",
       "      <td>Universal Pictures</td>\n",
       "      <td>150.0</td>\n",
       "      <td>1.670516</td>\n",
       "    </tr>\n",
       "    <tr>\n",
       "      <th>7</th>\n",
       "      <td>The Avengers</td>\n",
       "      <td>PG-13</td>\n",
       "      <td>Action</td>\n",
       "      <td>2012</td>\n",
       "      <td>Marvel Studios</td>\n",
       "      <td>220.0</td>\n",
       "      <td>1.518816</td>\n",
       "    </tr>\n",
       "    <tr>\n",
       "      <th>8</th>\n",
       "      <td>Furious 7</td>\n",
       "      <td>PG-13</td>\n",
       "      <td>Action</td>\n",
       "      <td>2015</td>\n",
       "      <td>Universal Pictures</td>\n",
       "      <td>190.0</td>\n",
       "      <td>1.515341</td>\n",
       "    </tr>\n",
       "    <tr>\n",
       "      <th>9</th>\n",
       "      <td>Frozen II</td>\n",
       "      <td>PG</td>\n",
       "      <td>Animation</td>\n",
       "      <td>2019</td>\n",
       "      <td>Walt Disney Animation Studios</td>\n",
       "      <td>150.0</td>\n",
       "      <td>1.450027</td>\n",
       "    </tr>\n",
       "  </tbody>\n",
       "</table>\n",
       "</div>"
      ],
      "text/plain": [
       "                                         name rating      genre  year  \\\n",
       "0                                      Avatar  PG-13     Action  2009   \n",
       "1                           Avengers: Endgame  PG-13     Action  2019   \n",
       "2                                     Titanic  PG-13      Drama  1997   \n",
       "3  Star Wars: Episode VII - The Force Awakens  PG-13     Action  2015   \n",
       "4                      Avengers: Infinity War  PG-13     Action  2018   \n",
       "5                               The Lion King     PG  Animation  2019   \n",
       "6                              Jurassic World  PG-13     Action  2015   \n",
       "7                                The Avengers  PG-13     Action  2012   \n",
       "8                                   Furious 7  PG-13     Action  2015   \n",
       "9                                   Frozen II     PG  Animation  2019   \n",
       "\n",
       "                         company  Budget (in million)  Gross (in billion)  \n",
       "0          Twentieth Century Fox                237.0            2.847246  \n",
       "1                 Marvel Studios                356.0            2.797501  \n",
       "2          Twentieth Century Fox                200.0            2.201647  \n",
       "3                      Lucasfilm                245.0            2.069522  \n",
       "4                 Marvel Studios                321.0            2.048360  \n",
       "5           Walt Disney Pictures                260.0            1.670728  \n",
       "6             Universal Pictures                150.0            1.670516  \n",
       "7                 Marvel Studios                220.0            1.518816  \n",
       "8             Universal Pictures                190.0            1.515341  \n",
       "9  Walt Disney Animation Studios                150.0            1.450027  "
      ]
     },
     "execution_count": 106,
     "metadata": {},
     "output_type": "execute_result"
    }
   ],
   "source": [
    "hgp"
   ]
  },
  {
   "cell_type": "markdown",
   "metadata": {},
   "source": [
    "### *The movie AVATAR produced in 2009 by TWENTIETH CENTURY FOX has generated the highest gross profit ever. It had a budget of just 237 million (USD) and generated a gross profit of 2.8 billion (USD).*\n",
    "### *It is closely followed by \"Avengers: Endgame\" that generated a gross profit of 2.7 billion (USD) with a budget of 356 million (USD) (highest budget for a movie ever as analyzed above)*\n",
    "### "
   ]
  },
  {
   "cell_type": "code",
   "execution_count": null,
   "metadata": {},
   "outputs": [],
   "source": []
  },
  {
   "cell_type": "markdown",
   "metadata": {},
   "source": [
    "### VISUALIZING MOVIES WITH THE HIGHEST GROSS PROFIT EVER GENERATED."
   ]
  },
  {
   "cell_type": "code",
   "execution_count": 143,
   "metadata": {
    "scrolled": false
   },
   "outputs": [
    {
     "data": {
      "image/png": "[encoded data removed]",
      "text/plain": [
       "<Figure size 720x432 with 1 Axes>"
      ]
     },
     "metadata": {
      "needs_background": "light"
     },
     "output_type": "display_data"
    }
   ],
   "source": [
    "plt.figure(figsize = (10, 6))\n",
    "sns.barplot(x = hgp[\"Gross (in billion)\"], y = hgp[\"name\"])\n",
    "plt.xlabel(\"GROSS PROFIT (in billions)\")\n",
    "plt.ylabel(\"MOVIE NAMES\")\n",
    "plt.title(\"MOVIES THAT GENERATED THE HIGHEST GROSS PROFIT\")\n",
    "plt.show()"
   ]
  },
  {
   "cell_type": "code",
   "execution_count": null,
   "metadata": {},
   "outputs": [],
   "source": []
  },
  {
   "cell_type": "code",
   "execution_count": null,
   "metadata": {},
   "outputs": [],
   "source": []
  },
  {
   "cell_type": "markdown",
   "metadata": {},
   "source": [
    "### 3. IS THERE A CORRELATION BETWEEN THE BUDGET AND GROSS PROFIT MOVIES?"
   ]
  },
  {
   "cell_type": "code",
   "execution_count": 558,
   "metadata": {
    "scrolled": false
   },
   "outputs": [
    {
     "data": {
      "text/html": [
       "<div>\n",
       "<style scoped>\n",
       "    .dataframe tbody tr th:only-of-type {\n",
       "        vertical-align: middle;\n",
       "    }\n",
       "\n",
       "    .dataframe tbody tr th {\n",
       "        vertical-align: top;\n",
       "    }\n",
       "\n",
       "    .dataframe thead th {\n",
       "        text-align: right;\n",
       "    }\n",
       "</style>\n",
       "<table border=\"1\" class=\"dataframe\">\n",
       "  <thead>\n",
       "    <tr style=\"text-align: right;\">\n",
       "      <th></th>\n",
       "      <th>year</th>\n",
       "      <th>score</th>\n",
       "      <th>votes</th>\n",
       "      <th>Budget (in million)</th>\n",
       "      <th>Gross (in million)</th>\n",
       "      <th>runtime</th>\n",
       "    </tr>\n",
       "  </thead>\n",
       "  <tbody>\n",
       "    <tr>\n",
       "      <th>year</th>\n",
       "      <td>1.000000</td>\n",
       "      <td>0.092616</td>\n",
       "      <td>0.222427</td>\n",
       "      <td>0.309212</td>\n",
       "      <td>0.261900</td>\n",
       "      <td>0.116358</td>\n",
       "    </tr>\n",
       "    <tr>\n",
       "      <th>score</th>\n",
       "      <td>0.092616</td>\n",
       "      <td>1.000000</td>\n",
       "      <td>0.407101</td>\n",
       "      <td>0.056863</td>\n",
       "      <td>0.186012</td>\n",
       "      <td>0.394564</td>\n",
       "    </tr>\n",
       "    <tr>\n",
       "      <th>votes</th>\n",
       "      <td>0.222427</td>\n",
       "      <td>0.407101</td>\n",
       "      <td>1.000000</td>\n",
       "      <td>0.486931</td>\n",
       "      <td>0.632870</td>\n",
       "      <td>0.306984</td>\n",
       "    </tr>\n",
       "    <tr>\n",
       "      <th>Budget (in million)</th>\n",
       "      <td>0.309212</td>\n",
       "      <td>0.056863</td>\n",
       "      <td>0.486931</td>\n",
       "      <td>1.000000</td>\n",
       "      <td>0.750157</td>\n",
       "      <td>0.268372</td>\n",
       "    </tr>\n",
       "    <tr>\n",
       "      <th>Gross (in million)</th>\n",
       "      <td>0.261900</td>\n",
       "      <td>0.186012</td>\n",
       "      <td>0.632870</td>\n",
       "      <td>0.750157</td>\n",
       "      <td>1.000000</td>\n",
       "      <td>0.244339</td>\n",
       "    </tr>\n",
       "    <tr>\n",
       "      <th>runtime</th>\n",
       "      <td>0.116358</td>\n",
       "      <td>0.394564</td>\n",
       "      <td>0.306984</td>\n",
       "      <td>0.268372</td>\n",
       "      <td>0.244339</td>\n",
       "      <td>1.000000</td>\n",
       "    </tr>\n",
       "  </tbody>\n",
       "</table>\n",
       "</div>"
      ],
      "text/plain": [
       "                         year     score     votes  Budget (in million)  \\\n",
       "year                 1.000000  0.092616  0.222427             0.309212   \n",
       "score                0.092616  1.000000  0.407101             0.056863   \n",
       "votes                0.222427  0.407101  1.000000             0.486931   \n",
       "Budget (in million)  0.309212  0.056863  0.486931             1.000000   \n",
       "Gross (in million)   0.261900  0.186012  0.632870             0.750157   \n",
       "runtime              0.116358  0.394564  0.306984             0.268372   \n",
       "\n",
       "                     Gross (in million)   runtime  \n",
       "year                           0.261900  0.116358  \n",
       "score                          0.186012  0.394564  \n",
       "votes                          0.632870  0.306984  \n",
       "Budget (in million)            0.750157  0.268372  \n",
       "Gross (in million)             1.000000  0.244339  \n",
       "runtime                        0.244339  1.000000  "
      ]
     },
     "execution_count": 558,
     "metadata": {},
     "output_type": "execute_result"
    }
   ],
   "source": [
    "movies.corr()"
   ]
  },
  {
   "cell_type": "markdown",
   "metadata": {},
   "source": [
    "### From the table above, the correlation coefficient between Budget and Gross profit is 0.750157. This indicates that there is a perfect or very strong correlation between the two variables. AS THE BUDGET OF A MOVIE INCREASES, THE GROSS PROFIT INCREASES AS WELL.\n",
    "### The HEATMAP below also shows that."
   ]
  },
  {
   "cell_type": "code",
   "execution_count": 561,
   "metadata": {
    "scrolled": false
   },
   "outputs": [
    {
     "data": {
      "text/plain": [
       "<AxesSubplot:>"
      ]
     },
     "execution_count": 561,
     "metadata": {},
     "output_type": "execute_result"
    },
    {
     "data": {
      "image/png": "[encoded data removed]",
      "text/plain": [
       "<Figure size 720x432 with 2 Axes>"
      ]
     },
     "metadata": {
      "needs_background": "light"
     },
     "output_type": "display_data"
    }
   ],
   "source": [
    "plt.figure(figsize = (10,6))\n",
    "sns.heatmap(movies.corr())"
   ]
  },
  {
   "cell_type": "code",
   "execution_count": null,
   "metadata": {},
   "outputs": [],
   "source": []
  },
  {
   "cell_type": "code",
   "execution_count": null,
   "metadata": {},
   "outputs": [],
   "source": []
  },
  {
   "cell_type": "markdown",
   "metadata": {},
   "source": [
    "## 4. WHICH MOVIES HAVE THE LONGEST RUNTIME (OR DURATION)"
   ]
  },
  {
   "cell_type": "code",
   "execution_count": 174,
   "metadata": {},
   "outputs": [],
   "source": [
    "lrt = movies.sort_values(\"runtime\", ascending = False).head(10)[[\"name\", \"rating\",\"genre\", \"year\",\n",
    "                                                                 \"runtime\"]].reset_index()"
   ]
  },
  {
   "cell_type": "code",
   "execution_count": 175,
   "metadata": {},
   "outputs": [],
   "source": [
    "del lrt[\"index\"]"
   ]
  },
  {
   "cell_type": "code",
   "execution_count": 176,
   "metadata": {},
   "outputs": [],
   "source": [
    "# converting the runtime to hours\n",
    "lrt[\"runtime\"] = lrt[\"runtime\"]/60"
   ]
  },
  {
   "cell_type": "code",
   "execution_count": 177,
   "metadata": {},
   "outputs": [
    {
     "data": {
      "text/html": [
       "<div>\n",
       "<style scoped>\n",
       "    .dataframe tbody tr th:only-of-type {\n",
       "        vertical-align: middle;\n",
       "    }\n",
       "\n",
       "    .dataframe tbody tr th {\n",
       "        vertical-align: top;\n",
       "    }\n",
       "\n",
       "    .dataframe thead th {\n",
       "        text-align: right;\n",
       "    }\n",
       "</style>\n",
       "<table border=\"1\" class=\"dataframe\">\n",
       "  <thead>\n",
       "    <tr style=\"text-align: right;\">\n",
       "      <th></th>\n",
       "      <th>name</th>\n",
       "      <th>rating</th>\n",
       "      <th>genre</th>\n",
       "      <th>year</th>\n",
       "      <th>runtime</th>\n",
       "    </tr>\n",
       "  </thead>\n",
       "  <tbody>\n",
       "    <tr>\n",
       "      <th>0</th>\n",
       "      <td>The Best of Youth</td>\n",
       "      <td>R</td>\n",
       "      <td>Drama</td>\n",
       "      <td>2003</td>\n",
       "      <td>6.100000</td>\n",
       "    </tr>\n",
       "    <tr>\n",
       "      <th>1</th>\n",
       "      <td>Little Dorrit</td>\n",
       "      <td>G</td>\n",
       "      <td>Drama</td>\n",
       "      <td>1987</td>\n",
       "      <td>5.950000</td>\n",
       "    </tr>\n",
       "    <tr>\n",
       "      <th>2</th>\n",
       "      <td>Gettysburg</td>\n",
       "      <td>PG</td>\n",
       "      <td>Drama</td>\n",
       "      <td>1993</td>\n",
       "      <td>4.516667</td>\n",
       "    </tr>\n",
       "    <tr>\n",
       "      <th>3</th>\n",
       "      <td>Hamlet</td>\n",
       "      <td>PG-13</td>\n",
       "      <td>Drama</td>\n",
       "      <td>1996</td>\n",
       "      <td>4.033333</td>\n",
       "    </tr>\n",
       "    <tr>\n",
       "      <th>4</th>\n",
       "      <td>The Beautiful Troublemaker</td>\n",
       "      <td>Unrated</td>\n",
       "      <td>Drama</td>\n",
       "      <td>1991</td>\n",
       "      <td>3.966667</td>\n",
       "    </tr>\n",
       "    <tr>\n",
       "      <th>5</th>\n",
       "      <td>Once Upon a Time in America</td>\n",
       "      <td>R</td>\n",
       "      <td>Crime</td>\n",
       "      <td>1984</td>\n",
       "      <td>3.816667</td>\n",
       "    </tr>\n",
       "    <tr>\n",
       "      <th>6</th>\n",
       "      <td>Lagaan: Once Upon a Time in India</td>\n",
       "      <td>PG</td>\n",
       "      <td>Drama</td>\n",
       "      <td>2001</td>\n",
       "      <td>3.733333</td>\n",
       "    </tr>\n",
       "    <tr>\n",
       "      <th>7</th>\n",
       "      <td>Gods and Generals</td>\n",
       "      <td>PG-13</td>\n",
       "      <td>Biography</td>\n",
       "      <td>2003</td>\n",
       "      <td>3.650000</td>\n",
       "    </tr>\n",
       "    <tr>\n",
       "      <th>8</th>\n",
       "      <td>Heaven's Gate</td>\n",
       "      <td>R</td>\n",
       "      <td>Adventure</td>\n",
       "      <td>1980</td>\n",
       "      <td>3.650000</td>\n",
       "    </tr>\n",
       "    <tr>\n",
       "      <th>9</th>\n",
       "      <td>Kabhi Khushi Kabhie Gham...</td>\n",
       "      <td>Not Rated</td>\n",
       "      <td>Drama</td>\n",
       "      <td>2001</td>\n",
       "      <td>3.500000</td>\n",
       "    </tr>\n",
       "  </tbody>\n",
       "</table>\n",
       "</div>"
      ],
      "text/plain": [
       "                                name     rating      genre  year   runtime\n",
       "0                  The Best of Youth          R      Drama  2003  6.100000\n",
       "1                      Little Dorrit          G      Drama  1987  5.950000\n",
       "2                         Gettysburg         PG      Drama  1993  4.516667\n",
       "3                             Hamlet      PG-13      Drama  1996  4.033333\n",
       "4         The Beautiful Troublemaker    Unrated      Drama  1991  3.966667\n",
       "5        Once Upon a Time in America          R      Crime  1984  3.816667\n",
       "6  Lagaan: Once Upon a Time in India         PG      Drama  2001  3.733333\n",
       "7                  Gods and Generals      PG-13  Biography  2003  3.650000\n",
       "8                      Heaven's Gate          R  Adventure  1980  3.650000\n",
       "9        Kabhi Khushi Kabhie Gham...  Not Rated      Drama  2001  3.500000"
      ]
     },
     "execution_count": 177,
     "metadata": {},
     "output_type": "execute_result"
    }
   ],
   "source": [
    "lrt"
   ]
  },
  {
   "cell_type": "markdown",
   "metadata": {},
   "source": [
    "### *The movie with the longest runtime is a 2003 \"R\" rated DRAMA by BiBi FILM called \"THE BEST YOUTH\". It has a runtime (or duration) of 6hours and 1 minute.*\n",
    "### *It is closely followed by another DRAMA \"LITTLE DORRIT\" produced by SANDS that has a runtime of 5hour and 9minutes.*\n",
    "#### "
   ]
  },
  {
   "cell_type": "code",
   "execution_count": null,
   "metadata": {},
   "outputs": [],
   "source": []
  },
  {
   "cell_type": "markdown",
   "metadata": {},
   "source": [
    "### VISUALIZING MOVIES WITH THE LONGEST RUNTIME (OR DURATION)"
   ]
  },
  {
   "cell_type": "code",
   "execution_count": 247,
   "metadata": {},
   "outputs": [
    {
     "data": {
      "image/png": "[encoded data removed]",
      "text/plain": [
       "<Figure size 720x432 with 1 Axes>"
      ]
     },
     "metadata": {
      "needs_background": "light"
     },
     "output_type": "display_data"
    }
   ],
   "source": [
    "plt.figure(figsize = (10, 6))\n",
    "sns.barplot(x = lrt[\"runtime\"], y = lrt[\"name\"])\n",
    "plt.xlabel(\"DURATION (in Hours)\")\n",
    "plt.ylabel(\"MOVIE NAMES\")\n",
    "plt.title(\"MOVIES WITH THE LONGEST RUNTIME\")\n",
    "plt.show()"
   ]
  },
  {
   "cell_type": "code",
   "execution_count": null,
   "metadata": {},
   "outputs": [],
   "source": []
  },
  {
   "cell_type": "code",
   "execution_count": null,
   "metadata": {},
   "outputs": [],
   "source": []
  },
  {
   "cell_type": "markdown",
   "metadata": {},
   "source": [
    "## 5. WHICH MOVIES HAVE HAD THE HIGHEST VIEWER'S SCORE ?"
   ]
  },
  {
   "cell_type": "code",
   "execution_count": 261,
   "metadata": {},
   "outputs": [],
   "source": [
    "hvs = movies.sort_values(\"score\", ascending = False)[[\"name\", \"rating\",\"genre\", \"year\",\n",
    "                                                                 \"score\"]].head(10).reset_index()"
   ]
  },
  {
   "cell_type": "code",
   "execution_count": 262,
   "metadata": {},
   "outputs": [],
   "source": [
    "del hvs[\"index\"]"
   ]
  },
  {
   "cell_type": "code",
   "execution_count": 263,
   "metadata": {},
   "outputs": [
    {
     "data": {
      "text/html": [
       "<div>\n",
       "<style scoped>\n",
       "    .dataframe tbody tr th:only-of-type {\n",
       "        vertical-align: middle;\n",
       "    }\n",
       "\n",
       "    .dataframe tbody tr th {\n",
       "        vertical-align: top;\n",
       "    }\n",
       "\n",
       "    .dataframe thead th {\n",
       "        text-align: right;\n",
       "    }\n",
       "</style>\n",
       "<table border=\"1\" class=\"dataframe\">\n",
       "  <thead>\n",
       "    <tr style=\"text-align: right;\">\n",
       "      <th></th>\n",
       "      <th>name</th>\n",
       "      <th>rating</th>\n",
       "      <th>genre</th>\n",
       "      <th>year</th>\n",
       "      <th>score</th>\n",
       "    </tr>\n",
       "  </thead>\n",
       "  <tbody>\n",
       "    <tr>\n",
       "      <th>0</th>\n",
       "      <td>The Shawshank Redemption</td>\n",
       "      <td>R</td>\n",
       "      <td>Drama</td>\n",
       "      <td>1994</td>\n",
       "      <td>9.3</td>\n",
       "    </tr>\n",
       "    <tr>\n",
       "      <th>1</th>\n",
       "      <td>The Dark Knight</td>\n",
       "      <td>PG-13</td>\n",
       "      <td>Action</td>\n",
       "      <td>2008</td>\n",
       "      <td>9.0</td>\n",
       "    </tr>\n",
       "    <tr>\n",
       "      <th>2</th>\n",
       "      <td>The Lord of the Rings: The Return of the King</td>\n",
       "      <td>PG-13</td>\n",
       "      <td>Action</td>\n",
       "      <td>2003</td>\n",
       "      <td>8.9</td>\n",
       "    </tr>\n",
       "    <tr>\n",
       "      <th>3</th>\n",
       "      <td>Schindler's List</td>\n",
       "      <td>R</td>\n",
       "      <td>Biography</td>\n",
       "      <td>1993</td>\n",
       "      <td>8.9</td>\n",
       "    </tr>\n",
       "    <tr>\n",
       "      <th>4</th>\n",
       "      <td>Pulp Fiction</td>\n",
       "      <td>R</td>\n",
       "      <td>Crime</td>\n",
       "      <td>1994</td>\n",
       "      <td>8.9</td>\n",
       "    </tr>\n",
       "    <tr>\n",
       "      <th>5</th>\n",
       "      <td>Inception</td>\n",
       "      <td>PG-13</td>\n",
       "      <td>Action</td>\n",
       "      <td>2010</td>\n",
       "      <td>8.8</td>\n",
       "    </tr>\n",
       "    <tr>\n",
       "      <th>6</th>\n",
       "      <td>The Lord of the Rings: The Fellowship of the Ring</td>\n",
       "      <td>PG-13</td>\n",
       "      <td>Action</td>\n",
       "      <td>2001</td>\n",
       "      <td>8.8</td>\n",
       "    </tr>\n",
       "    <tr>\n",
       "      <th>7</th>\n",
       "      <td>Forrest Gump</td>\n",
       "      <td>PG-13</td>\n",
       "      <td>Drama</td>\n",
       "      <td>1994</td>\n",
       "      <td>8.8</td>\n",
       "    </tr>\n",
       "    <tr>\n",
       "      <th>8</th>\n",
       "      <td>Fight Club</td>\n",
       "      <td>R</td>\n",
       "      <td>Drama</td>\n",
       "      <td>1999</td>\n",
       "      <td>8.8</td>\n",
       "    </tr>\n",
       "    <tr>\n",
       "      <th>9</th>\n",
       "      <td>The Matrix</td>\n",
       "      <td>R</td>\n",
       "      <td>Action</td>\n",
       "      <td>1999</td>\n",
       "      <td>8.7</td>\n",
       "    </tr>\n",
       "  </tbody>\n",
       "</table>\n",
       "</div>"
      ],
      "text/plain": [
       "                                                name rating      genre  year  \\\n",
       "0                           The Shawshank Redemption      R      Drama  1994   \n",
       "1                                    The Dark Knight  PG-13     Action  2008   \n",
       "2      The Lord of the Rings: The Return of the King  PG-13     Action  2003   \n",
       "3                                   Schindler's List      R  Biography  1993   \n",
       "4                                       Pulp Fiction      R      Crime  1994   \n",
       "5                                          Inception  PG-13     Action  2010   \n",
       "6  The Lord of the Rings: The Fellowship of the Ring  PG-13     Action  2001   \n",
       "7                                       Forrest Gump  PG-13      Drama  1994   \n",
       "8                                         Fight Club      R      Drama  1999   \n",
       "9                                         The Matrix      R     Action  1999   \n",
       "\n",
       "   score  \n",
       "0    9.3  \n",
       "1    9.0  \n",
       "2    8.9  \n",
       "3    8.9  \n",
       "4    8.9  \n",
       "5    8.8  \n",
       "6    8.8  \n",
       "7    8.8  \n",
       "8    8.8  \n",
       "9    8.7  "
      ]
     },
     "execution_count": 263,
     "metadata": {},
     "output_type": "execute_result"
    }
   ],
   "source": [
    "hvs"
   ]
  },
  {
   "cell_type": "markdown",
   "metadata": {},
   "source": [
    "### VISUALIZING MOVIES WITH HIGHEST VIEWER SCORE"
   ]
  },
  {
   "cell_type": "code",
   "execution_count": 270,
   "metadata": {
    "scrolled": false
   },
   "outputs": [
    {
     "data": {
      "image/png": "[encoded data removed]",
      "text/plain": [
       "<Figure size 720x432 with 1 Axes>"
      ]
     },
     "metadata": {
      "needs_background": "light"
     },
     "output_type": "display_data"
    }
   ],
   "source": [
    "plt.figure(figsize = (10, 6))\n",
    "sns.barplot(x = hvs[\"score\"], y = hvs[\"name\"])\n",
    "plt.title(\"MOVIES WITH HIGHEST VIEWER SCORE\")\n",
    "plt.xlabel(\"VIEWER'S SCORE\")\n",
    "plt.ylabel(\"MOVIE\")\n",
    "plt.show()"
   ]
  },
  {
   "cell_type": "code",
   "execution_count": null,
   "metadata": {},
   "outputs": [],
   "source": []
  },
  {
   "cell_type": "code",
   "execution_count": null,
   "metadata": {},
   "outputs": [],
   "source": []
  },
  {
   "cell_type": "markdown",
   "metadata": {},
   "source": [
    "## 6. HOW MANY GENRES OF MOVIES ARE THERE IN THE DATASET"
   ]
  },
  {
   "cell_type": "code",
   "execution_count": 220,
   "metadata": {},
   "outputs": [
    {
     "data": {
      "text/plain": [
       "19"
      ]
     },
     "execution_count": 220,
     "metadata": {},
     "output_type": "execute_result"
    }
   ],
   "source": [
    "movies[\"genre\"].nunique()"
   ]
  },
  {
   "cell_type": "markdown",
   "metadata": {},
   "source": [
    "### *There are 19 unique genres in the dataset*\n",
    "## "
   ]
  },
  {
   "cell_type": "code",
   "execution_count": null,
   "metadata": {},
   "outputs": [],
   "source": []
  },
  {
   "cell_type": "code",
   "execution_count": null,
   "metadata": {},
   "outputs": [],
   "source": []
  },
  {
   "cell_type": "markdown",
   "metadata": {},
   "source": [
    "## 7. ACCORDING TO THE DATASET, HOW MANY OF EACH GENRE OF MOVIE WAS PRODUCED OVER THE LAST 40 YEARS?"
   ]
  },
  {
   "cell_type": "code",
   "execution_count": 324,
   "metadata": {},
   "outputs": [
    {
     "data": {
      "text/plain": [
       "Comedy       2245\n",
       "Action       1705\n",
       "Drama        1518\n",
       "Crime         551\n",
       "Biography     443\n",
       "Adventure     427\n",
       "Animation     338\n",
       "Horror        322\n",
       "Fantasy        44\n",
       "Mystery        20\n",
       "Thriller       16\n",
       "Family         11\n",
       "Sci-Fi         10\n",
       "Romance        10\n",
       "Western         3\n",
       "Musical         2\n",
       "History         1\n",
       "Music           1\n",
       "Sport           1\n",
       "Name: genre, dtype: int64"
      ]
     },
     "execution_count": 324,
     "metadata": {},
     "output_type": "execute_result"
    }
   ],
   "source": [
    "movies[\"genre\"].value_counts()"
   ]
  },
  {
   "cell_type": "markdown",
   "metadata": {},
   "source": [
    "### *According to the dataset, the genre that has been produced the most is COMEDY* \n",
    "#### "
   ]
  },
  {
   "cell_type": "code",
   "execution_count": null,
   "metadata": {},
   "outputs": [],
   "source": []
  },
  {
   "cell_type": "code",
   "execution_count": null,
   "metadata": {},
   "outputs": [],
   "source": []
  },
  {
   "cell_type": "markdown",
   "metadata": {},
   "source": [
    "## 8. TOP 5 MOST PRODUCED GENRE OF MOVIES"
   ]
  },
  {
   "cell_type": "code",
   "execution_count": 340,
   "metadata": {
    "scrolled": true
   },
   "outputs": [],
   "source": [
    "mpg5 = pd.DataFrame(mpg5[\"genre\"].value_counts().head()).reset_index()"
   ]
  },
  {
   "cell_type": "code",
   "execution_count": 341,
   "metadata": {},
   "outputs": [],
   "source": [
    "mpg5 = mpg5.rename({\"index\":\"Genre\", \"genre\":\"Count\"}, axis = 1)"
   ]
  },
  {
   "cell_type": "code",
   "execution_count": 342,
   "metadata": {
    "scrolled": true
   },
   "outputs": [
    {
     "data": {
      "text/html": [
       "<div>\n",
       "<style scoped>\n",
       "    .dataframe tbody tr th:only-of-type {\n",
       "        vertical-align: middle;\n",
       "    }\n",
       "\n",
       "    .dataframe tbody tr th {\n",
       "        vertical-align: top;\n",
       "    }\n",
       "\n",
       "    .dataframe thead th {\n",
       "        text-align: right;\n",
       "    }\n",
       "</style>\n",
       "<table border=\"1\" class=\"dataframe\">\n",
       "  <thead>\n",
       "    <tr style=\"text-align: right;\">\n",
       "      <th></th>\n",
       "      <th>Genre</th>\n",
       "      <th>Count</th>\n",
       "    </tr>\n",
       "  </thead>\n",
       "  <tbody>\n",
       "    <tr>\n",
       "      <th>0</th>\n",
       "      <td>Comedy</td>\n",
       "      <td>2245</td>\n",
       "    </tr>\n",
       "    <tr>\n",
       "      <th>1</th>\n",
       "      <td>Action</td>\n",
       "      <td>1705</td>\n",
       "    </tr>\n",
       "    <tr>\n",
       "      <th>2</th>\n",
       "      <td>Drama</td>\n",
       "      <td>1518</td>\n",
       "    </tr>\n",
       "    <tr>\n",
       "      <th>3</th>\n",
       "      <td>Crime</td>\n",
       "      <td>551</td>\n",
       "    </tr>\n",
       "    <tr>\n",
       "      <th>4</th>\n",
       "      <td>Biography</td>\n",
       "      <td>443</td>\n",
       "    </tr>\n",
       "  </tbody>\n",
       "</table>\n",
       "</div>"
      ],
      "text/plain": [
       "       Genre  Count\n",
       "0     Comedy   2245\n",
       "1     Action   1705\n",
       "2      Drama   1518\n",
       "3      Crime    551\n",
       "4  Biography    443"
      ]
     },
     "execution_count": 342,
     "metadata": {},
     "output_type": "execute_result"
    }
   ],
   "source": [
    "mpg5"
   ]
  },
  {
   "cell_type": "markdown",
   "metadata": {},
   "source": [
    "### *The top 5 most produced movies are COMEDY, ACTION, DRAMA, CRIME and BIOGRAPHY.*\n",
    "#### "
   ]
  },
  {
   "cell_type": "code",
   "execution_count": 343,
   "metadata": {
    "scrolled": false
   },
   "outputs": [],
   "source": [
    "### Getting a DataFrame of the TOP 5 Most Produced Genre\n",
    "top5mpg = movies[movies[\"genre\"].isin(mpg10[\"Genre\"])]"
   ]
  },
  {
   "cell_type": "markdown",
   "metadata": {},
   "source": [
    "### VISUALIZING THE TOP 5 MOST PRODUCED GENRE OF MOVIES"
   ]
  },
  {
   "cell_type": "code",
   "execution_count": 362,
   "metadata": {},
   "outputs": [
    {
     "data": {
      "image/png": "[encoded data removed]",
      "text/plain": [
       "<Figure size 1080x432 with 1 Axes>"
      ]
     },
     "metadata": {
      "needs_background": "light"
     },
     "output_type": "display_data"
    }
   ],
   "source": [
    "plt.figure(figsize = (15, 6))\n",
    "sns.barplot(x = mpg10[\"Count\"], y = mpg10[\"Genre\"])\n",
    "plt.xlabel(\"PRODUCTION COUNT\")\n",
    "plt.ylabel(\" MOVIES \")\n",
    "plt.title(\" TOP 5 MOST PRODUCED GENRE OF MOVIES \")\n",
    "plt.show()"
   ]
  },
  {
   "cell_type": "raw",
   "metadata": {},
   "source": []
  },
  {
   "cell_type": "code",
   "execution_count": null,
   "metadata": {},
   "outputs": [],
   "source": []
  },
  {
   "cell_type": "markdown",
   "metadata": {},
   "source": [
    "## 9. WHICH OF THE TOP 5 MOST PRODUCED GENRE OF MOVIES GENERATED THE HIGHEST GROSS PROFIT?"
   ]
  },
  {
   "cell_type": "code",
   "execution_count": 360,
   "metadata": {},
   "outputs": [
    {
     "data": {
      "text/html": [
       "<div>\n",
       "<style scoped>\n",
       "    .dataframe tbody tr th:only-of-type {\n",
       "        vertical-align: middle;\n",
       "    }\n",
       "\n",
       "    .dataframe tbody tr th {\n",
       "        vertical-align: top;\n",
       "    }\n",
       "\n",
       "    .dataframe thead th {\n",
       "        text-align: right;\n",
       "    }\n",
       "</style>\n",
       "<table border=\"1\" class=\"dataframe\">\n",
       "  <thead>\n",
       "    <tr style=\"text-align: right;\">\n",
       "      <th></th>\n",
       "      <th>genre</th>\n",
       "      <th>sum</th>\n",
       "      <th>mean</th>\n",
       "    </tr>\n",
       "  </thead>\n",
       "  <tbody>\n",
       "    <tr>\n",
       "      <th>0</th>\n",
       "      <td>Action</td>\n",
       "      <td>243435.855754</td>\n",
       "      <td>142.777628</td>\n",
       "    </tr>\n",
       "    <tr>\n",
       "      <th>1</th>\n",
       "      <td>Biography</td>\n",
       "      <td>20729.581801</td>\n",
       "      <td>46.793638</td>\n",
       "    </tr>\n",
       "    <tr>\n",
       "      <th>2</th>\n",
       "      <td>Comedy</td>\n",
       "      <td>97175.468462</td>\n",
       "      <td>43.285287</td>\n",
       "    </tr>\n",
       "    <tr>\n",
       "      <th>3</th>\n",
       "      <td>Crime</td>\n",
       "      <td>21355.448322</td>\n",
       "      <td>38.757619</td>\n",
       "    </tr>\n",
       "    <tr>\n",
       "      <th>4</th>\n",
       "      <td>Drama</td>\n",
       "      <td>57150.648537</td>\n",
       "      <td>37.648649</td>\n",
       "    </tr>\n",
       "  </tbody>\n",
       "</table>\n",
       "</div>"
      ],
      "text/plain": [
       "       genre            sum        mean\n",
       "0     Action  243435.855754  142.777628\n",
       "1  Biography   20729.581801   46.793638\n",
       "2     Comedy   97175.468462   43.285287\n",
       "3      Crime   21355.448322   38.757619\n",
       "4      Drama   57150.648537   37.648649"
      ]
     },
     "execution_count": 360,
     "metadata": {},
     "output_type": "execute_result"
    }
   ],
   "source": [
    "top5mpg_gp = top5mpg.groupby(\"genre\").agg([\"sum\", \"mean\"])[\"Gross (in million)\"].reset_index()\n",
    "top5mpg_gp"
   ]
  },
  {
   "cell_type": "markdown",
   "metadata": {},
   "source": [
    "### *Amongst the top 5 most produced genre of movies, the genre that generated the HIGHEST GROSS PROFIT is ACTION MOVIES with a gross of 243 BILLION DOLLARS*\n",
    "### "
   ]
  },
  {
   "cell_type": "code",
   "execution_count": null,
   "metadata": {},
   "outputs": [],
   "source": []
  },
  {
   "cell_type": "markdown",
   "metadata": {},
   "source": [
    "### VISUALIZING THE TOP 5 MOST PRODUCED GENRE OF MOVIES THAT GENERATED THE HIGHEST GROSS PROFIT?"
   ]
  },
  {
   "cell_type": "code",
   "execution_count": 363,
   "metadata": {},
   "outputs": [
    {
     "data": {
      "image/png": "[encoded data removed]",
      "text/plain": [
       "<Figure size 1080x432 with 1 Axes>"
      ]
     },
     "metadata": {
      "needs_background": "light"
     },
     "output_type": "display_data"
    }
   ],
   "source": [
    "plt.figure(figsize = (15, 6))\n",
    "sns.barplot(x = top5mpg_gp[\"sum\"]/1000, y = top5mpg_gp[\"genre\"])\n",
    "plt.xlabel(\" GROSS PROFIT (in Billions) \")\n",
    "plt.ylabel(\" GENRE \")\n",
    "plt.title(\" TOP 5 MOST PRODUCED GENRE OF MOVIES WITH THE HIGHEST GROSS PROFIT \")\n",
    "plt.show()"
   ]
  },
  {
   "cell_type": "code",
   "execution_count": null,
   "metadata": {},
   "outputs": [],
   "source": []
  },
  {
   "cell_type": "code",
   "execution_count": null,
   "metadata": {},
   "outputs": [],
   "source": []
  },
  {
   "cell_type": "markdown",
   "metadata": {},
   "source": [
    "## 10. WHICH OF THE TOP 5 MOST PRODUCED GENRE OF MOVIE HAS THE LONGEST RUNTIME?"
   ]
  },
  {
   "cell_type": "code",
   "execution_count": 351,
   "metadata": {},
   "outputs": [
    {
     "data": {
      "text/html": [
       "<div>\n",
       "<style scoped>\n",
       "    .dataframe tbody tr th:only-of-type {\n",
       "        vertical-align: middle;\n",
       "    }\n",
       "\n",
       "    .dataframe tbody tr th {\n",
       "        vertical-align: top;\n",
       "    }\n",
       "\n",
       "    .dataframe thead th {\n",
       "        text-align: right;\n",
       "    }\n",
       "</style>\n",
       "<table border=\"1\" class=\"dataframe\">\n",
       "  <thead>\n",
       "    <tr style=\"text-align: right;\">\n",
       "      <th></th>\n",
       "      <th>genre</th>\n",
       "      <th>sum</th>\n",
       "      <th>mean</th>\n",
       "    </tr>\n",
       "  </thead>\n",
       "  <tbody>\n",
       "    <tr>\n",
       "      <th>0</th>\n",
       "      <td>Action</td>\n",
       "      <td>187800.0</td>\n",
       "      <td>110.146628</td>\n",
       "    </tr>\n",
       "    <tr>\n",
       "      <th>1</th>\n",
       "      <td>Biography</td>\n",
       "      <td>53107.0</td>\n",
       "      <td>119.880361</td>\n",
       "    </tr>\n",
       "    <tr>\n",
       "      <th>2</th>\n",
       "      <td>Comedy</td>\n",
       "      <td>227849.0</td>\n",
       "      <td>101.491759</td>\n",
       "    </tr>\n",
       "    <tr>\n",
       "      <th>3</th>\n",
       "      <td>Crime</td>\n",
       "      <td>61464.0</td>\n",
       "      <td>111.549909</td>\n",
       "    </tr>\n",
       "    <tr>\n",
       "      <th>4</th>\n",
       "      <td>Drama</td>\n",
       "      <td>171270.0</td>\n",
       "      <td>112.826087</td>\n",
       "    </tr>\n",
       "  </tbody>\n",
       "</table>\n",
       "</div>"
      ],
      "text/plain": [
       "       genre       sum        mean\n",
       "0     Action  187800.0  110.146628\n",
       "1  Biography   53107.0  119.880361\n",
       "2     Comedy  227849.0  101.491759\n",
       "3      Crime   61464.0  111.549909\n",
       "4      Drama  171270.0  112.826087"
      ]
     },
     "execution_count": 351,
     "metadata": {},
     "output_type": "execute_result"
    }
   ],
   "source": [
    "lrt_g = top5mpg.groupby(\"genre\").agg([\"sum\", \"mean\"])[\"runtime\"].reset_index()\n",
    "lrt_g"
   ]
  },
  {
   "cell_type": "code",
   "execution_count": 352,
   "metadata": {},
   "outputs": [],
   "source": [
    "# Converting the sum and mean of the time from minutes to hours\n",
    "lrt_g[\"sum\"] = lrt_g[\"sum\"]/60\n",
    "lrt_g[\"mean\"] = lrt_g[\"mean\"]/60"
   ]
  },
  {
   "cell_type": "code",
   "execution_count": 353,
   "metadata": {},
   "outputs": [
    {
     "data": {
      "text/html": [
       "<div>\n",
       "<style scoped>\n",
       "    .dataframe tbody tr th:only-of-type {\n",
       "        vertical-align: middle;\n",
       "    }\n",
       "\n",
       "    .dataframe tbody tr th {\n",
       "        vertical-align: top;\n",
       "    }\n",
       "\n",
       "    .dataframe thead th {\n",
       "        text-align: right;\n",
       "    }\n",
       "</style>\n",
       "<table border=\"1\" class=\"dataframe\">\n",
       "  <thead>\n",
       "    <tr style=\"text-align: right;\">\n",
       "      <th></th>\n",
       "      <th>genre</th>\n",
       "      <th>sum</th>\n",
       "      <th>mean</th>\n",
       "    </tr>\n",
       "  </thead>\n",
       "  <tbody>\n",
       "    <tr>\n",
       "      <th>0</th>\n",
       "      <td>Action</td>\n",
       "      <td>3130.000000</td>\n",
       "      <td>1.835777</td>\n",
       "    </tr>\n",
       "    <tr>\n",
       "      <th>1</th>\n",
       "      <td>Biography</td>\n",
       "      <td>885.116667</td>\n",
       "      <td>1.998006</td>\n",
       "    </tr>\n",
       "    <tr>\n",
       "      <th>2</th>\n",
       "      <td>Comedy</td>\n",
       "      <td>3797.483333</td>\n",
       "      <td>1.691529</td>\n",
       "    </tr>\n",
       "    <tr>\n",
       "      <th>3</th>\n",
       "      <td>Crime</td>\n",
       "      <td>1024.400000</td>\n",
       "      <td>1.859165</td>\n",
       "    </tr>\n",
       "    <tr>\n",
       "      <th>4</th>\n",
       "      <td>Drama</td>\n",
       "      <td>2854.500000</td>\n",
       "      <td>1.880435</td>\n",
       "    </tr>\n",
       "  </tbody>\n",
       "</table>\n",
       "</div>"
      ],
      "text/plain": [
       "       genre          sum      mean\n",
       "0     Action  3130.000000  1.835777\n",
       "1  Biography   885.116667  1.998006\n",
       "2     Comedy  3797.483333  1.691529\n",
       "3      Crime  1024.400000  1.859165\n",
       "4      Drama  2854.500000  1.880435"
      ]
     },
     "execution_count": 353,
     "metadata": {},
     "output_type": "execute_result"
    }
   ],
   "source": [
    "lrt_g"
   ]
  },
  {
   "cell_type": "markdown",
   "metadata": {},
   "source": [
    "### *According to the dataset, the genre amongst the TOP 5 MOST PRODUCED GENRE with the longest AVERAGE RUNTIME is ACTION with an average runtime of approximately 2 HOURS.*\n",
    "### *While the genre with the most TOTAL runtime over the 40-year period is COMEDY with a total runtime of 3,797 hours and an average runtime of 1hour 6minutes.*\n",
    "#### "
   ]
  },
  {
   "cell_type": "code",
   "execution_count": null,
   "metadata": {},
   "outputs": [],
   "source": []
  },
  {
   "cell_type": "markdown",
   "metadata": {},
   "source": [
    "### VISUALIZING THE TOP 5 MOST PRODUCED GENRE WITH THE LONGEST RUNTIME"
   ]
  },
  {
   "cell_type": "code",
   "execution_count": 354,
   "metadata": {
    "scrolled": false
   },
   "outputs": [
    {
     "data": {
      "image/png": "[encoded data removed]",
      "text/plain": [
       "<Figure size 720x432 with 1 Axes>"
      ]
     },
     "metadata": {
      "needs_background": "light"
     },
     "output_type": "display_data"
    }
   ],
   "source": [
    "plt.figure(figsize = (10, 6))\n",
    "sns.barplot(x = round(lrt_g[\"mean\"], 1), y = lrt_g[\"genre\"])\n",
    "plt.title(\"GENRE WITH THE LONGEST RUNTIME\")\n",
    "plt.xlabel(\"DURATION (in Hours)\")\n",
    "plt.ylabel(\"GENRE\")\n",
    "plt.show()"
   ]
  },
  {
   "cell_type": "code",
   "execution_count": null,
   "metadata": {},
   "outputs": [],
   "source": []
  },
  {
   "cell_type": "code",
   "execution_count": null,
   "metadata": {},
   "outputs": [],
   "source": []
  },
  {
   "cell_type": "markdown",
   "metadata": {},
   "source": [
    "## 11. WHAT ARE THE MOVIE RATING SYSTEMS AND HOW MANY HAVE BEEN PRODUCED?"
   ]
  },
  {
   "cell_type": "code",
   "execution_count": 373,
   "metadata": {},
   "outputs": [
    {
     "data": {
      "text/plain": [
       "R            3697\n",
       "PG-13        2112\n",
       "PG           1252\n",
       "Not Rated     283\n",
       "G             153\n",
       "NONE           77\n",
       "Unrated        52\n",
       "NC-17          23\n",
       "TV-MA           9\n",
       "TV-PG           5\n",
       "X               3\n",
       "Approved        1\n",
       "TV-14           1\n",
       "Name: rating, dtype: int64"
      ]
     },
     "execution_count": 373,
     "metadata": {},
     "output_type": "execute_result"
    }
   ],
   "source": [
    "movies.rating.value_counts()"
   ]
  },
  {
   "cell_type": "code",
   "execution_count": null,
   "metadata": {},
   "outputs": [],
   "source": []
  },
  {
   "cell_type": "code",
   "execution_count": null,
   "metadata": {},
   "outputs": [],
   "source": []
  },
  {
   "cell_type": "markdown",
   "metadata": {},
   "source": [
    "## 12. TOP 5 MOVIES RATING EVER PRODUCED"
   ]
  },
  {
   "cell_type": "code",
   "execution_count": 382,
   "metadata": {
    "scrolled": true
   },
   "outputs": [],
   "source": [
    "mr5 = pd.DataFrame(movies.rating.value_counts().head()).reset_index()"
   ]
  },
  {
   "cell_type": "code",
   "execution_count": 383,
   "metadata": {},
   "outputs": [],
   "source": [
    "mr5 = mr5.rename({\"index\": \"rating\", \"rating\": \"count\"}, axis = 1)"
   ]
  },
  {
   "cell_type": "code",
   "execution_count": 384,
   "metadata": {
    "scrolled": true
   },
   "outputs": [
    {
     "data": {
      "text/html": [
       "<div>\n",
       "<style scoped>\n",
       "    .dataframe tbody tr th:only-of-type {\n",
       "        vertical-align: middle;\n",
       "    }\n",
       "\n",
       "    .dataframe tbody tr th {\n",
       "        vertical-align: top;\n",
       "    }\n",
       "\n",
       "    .dataframe thead th {\n",
       "        text-align: right;\n",
       "    }\n",
       "</style>\n",
       "<table border=\"1\" class=\"dataframe\">\n",
       "  <thead>\n",
       "    <tr style=\"text-align: right;\">\n",
       "      <th></th>\n",
       "      <th>rating</th>\n",
       "      <th>count</th>\n",
       "    </tr>\n",
       "  </thead>\n",
       "  <tbody>\n",
       "    <tr>\n",
       "      <th>0</th>\n",
       "      <td>R</td>\n",
       "      <td>3697</td>\n",
       "    </tr>\n",
       "    <tr>\n",
       "      <th>1</th>\n",
       "      <td>PG-13</td>\n",
       "      <td>2112</td>\n",
       "    </tr>\n",
       "    <tr>\n",
       "      <th>2</th>\n",
       "      <td>PG</td>\n",
       "      <td>1252</td>\n",
       "    </tr>\n",
       "    <tr>\n",
       "      <th>3</th>\n",
       "      <td>Not Rated</td>\n",
       "      <td>283</td>\n",
       "    </tr>\n",
       "    <tr>\n",
       "      <th>4</th>\n",
       "      <td>G</td>\n",
       "      <td>153</td>\n",
       "    </tr>\n",
       "  </tbody>\n",
       "</table>\n",
       "</div>"
      ],
      "text/plain": [
       "      rating  count\n",
       "0          R   3697\n",
       "1      PG-13   2112\n",
       "2         PG   1252\n",
       "3  Not Rated    283\n",
       "4          G    153"
      ]
     },
     "execution_count": 384,
     "metadata": {},
     "output_type": "execute_result"
    }
   ],
   "source": [
    "mr5"
   ]
  },
  {
   "cell_type": "markdown",
   "metadata": {},
   "source": [
    "### *The movie rating that has been produced the most in over 40 years are R Rated movies.*\n",
    "### *R rated movies are movies produced that are restricted to viewers under the age of 17.*\n",
    "#### "
   ]
  },
  {
   "cell_type": "markdown",
   "metadata": {},
   "source": [
    "### VISUALIZING THE PERCENTAGE OF TOP 5 MOVIES RATING EVER PRODUCED"
   ]
  },
  {
   "cell_type": "code",
   "execution_count": 449,
   "metadata": {},
   "outputs": [
    {
     "data": {
      "image/png": "[encoded data removed]",
      "text/plain": [
       "<Figure size 1440x720 with 1 Axes>"
      ]
     },
     "metadata": {},
     "output_type": "display_data"
    }
   ],
   "source": [
    "plt.figure(figsize = (20, 10))\n",
    "plt.pie(movies.rating.value_counts().head(), \n",
    "        labels = [\"R\", \"PG-13\", \"PG\", \"Not Rated\", \"G\"],\n",
    "       autopct = \"%1.1f%%\")\n",
    "plt.show()"
   ]
  },
  {
   "cell_type": "markdown",
   "metadata": {},
   "source": [
    "#### *Amongst the top 5 movie ratings produced, %49.3 percent are R rated movies*"
   ]
  },
  {
   "cell_type": "code",
   "execution_count": null,
   "metadata": {},
   "outputs": [],
   "source": []
  },
  {
   "cell_type": "code",
   "execution_count": null,
   "metadata": {},
   "outputs": [],
   "source": []
  },
  {
   "cell_type": "markdown",
   "metadata": {},
   "source": [
    "#### CREATING A DATAFRAME FOR THE TOP 5 MOVIE RATING SYSTEMS"
   ]
  },
  {
   "cell_type": "code",
   "execution_count": 393,
   "metadata": {},
   "outputs": [],
   "source": [
    "top5mr = movies[movies[\"rating\"].isin(mr5[\"rating\"])]"
   ]
  },
  {
   "cell_type": "code",
   "execution_count": 391,
   "metadata": {},
   "outputs": [
    {
     "data": {
      "text/html": [
       "<div>\n",
       "<style scoped>\n",
       "    .dataframe tbody tr th:only-of-type {\n",
       "        vertical-align: middle;\n",
       "    }\n",
       "\n",
       "    .dataframe tbody tr th {\n",
       "        vertical-align: top;\n",
       "    }\n",
       "\n",
       "    .dataframe thead th {\n",
       "        text-align: right;\n",
       "    }\n",
       "</style>\n",
       "<table border=\"1\" class=\"dataframe\">\n",
       "  <thead>\n",
       "    <tr style=\"text-align: right;\">\n",
       "      <th></th>\n",
       "      <th>name</th>\n",
       "      <th>rating</th>\n",
       "      <th>genre</th>\n",
       "      <th>year</th>\n",
       "      <th>released</th>\n",
       "      <th>score</th>\n",
       "      <th>votes</th>\n",
       "      <th>director</th>\n",
       "      <th>writer</th>\n",
       "      <th>star</th>\n",
       "      <th>country</th>\n",
       "      <th>Budget (in million)</th>\n",
       "      <th>Gross (in million)</th>\n",
       "      <th>company</th>\n",
       "      <th>runtime</th>\n",
       "    </tr>\n",
       "  </thead>\n",
       "  <tbody>\n",
       "    <tr>\n",
       "      <th>0</th>\n",
       "      <td>The Shining</td>\n",
       "      <td>R</td>\n",
       "      <td>Drama</td>\n",
       "      <td>1980</td>\n",
       "      <td>June 13, 1980 (United States)</td>\n",
       "      <td>8.4</td>\n",
       "      <td>927000.0</td>\n",
       "      <td>Stanley Kubrick</td>\n",
       "      <td>Stephen King</td>\n",
       "      <td>Jack Nicholson</td>\n",
       "      <td>United Kingdom</td>\n",
       "      <td>19.000</td>\n",
       "      <td>46.998772</td>\n",
       "      <td>Warner Bros.</td>\n",
       "      <td>146.0</td>\n",
       "    </tr>\n",
       "    <tr>\n",
       "      <th>1</th>\n",
       "      <td>The Blue Lagoon</td>\n",
       "      <td>R</td>\n",
       "      <td>Adventure</td>\n",
       "      <td>1980</td>\n",
       "      <td>July 2, 1980 (United States)</td>\n",
       "      <td>5.8</td>\n",
       "      <td>65000.0</td>\n",
       "      <td>Randal Kleiser</td>\n",
       "      <td>Henry De Vere Stacpoole</td>\n",
       "      <td>Brooke Shields</td>\n",
       "      <td>United States</td>\n",
       "      <td>4.500</td>\n",
       "      <td>58.853106</td>\n",
       "      <td>Columbia Pictures</td>\n",
       "      <td>104.0</td>\n",
       "    </tr>\n",
       "    <tr>\n",
       "      <th>2</th>\n",
       "      <td>Star Wars: Episode V - The Empire Strikes Back</td>\n",
       "      <td>PG</td>\n",
       "      <td>Action</td>\n",
       "      <td>1980</td>\n",
       "      <td>June 20, 1980 (United States)</td>\n",
       "      <td>8.7</td>\n",
       "      <td>1200000.0</td>\n",
       "      <td>Irvin Kershner</td>\n",
       "      <td>Leigh Brackett</td>\n",
       "      <td>Mark Hamill</td>\n",
       "      <td>United States</td>\n",
       "      <td>18.000</td>\n",
       "      <td>538.375067</td>\n",
       "      <td>Lucasfilm</td>\n",
       "      <td>124.0</td>\n",
       "    </tr>\n",
       "    <tr>\n",
       "      <th>3</th>\n",
       "      <td>Airplane!</td>\n",
       "      <td>PG</td>\n",
       "      <td>Comedy</td>\n",
       "      <td>1980</td>\n",
       "      <td>July 2, 1980 (United States)</td>\n",
       "      <td>7.7</td>\n",
       "      <td>221000.0</td>\n",
       "      <td>Jim Abrahams</td>\n",
       "      <td>Jim Abrahams</td>\n",
       "      <td>Robert Hays</td>\n",
       "      <td>United States</td>\n",
       "      <td>3.500</td>\n",
       "      <td>83.453539</td>\n",
       "      <td>Paramount Pictures</td>\n",
       "      <td>88.0</td>\n",
       "    </tr>\n",
       "    <tr>\n",
       "      <th>4</th>\n",
       "      <td>Caddyshack</td>\n",
       "      <td>R</td>\n",
       "      <td>Comedy</td>\n",
       "      <td>1980</td>\n",
       "      <td>July 25, 1980 (United States)</td>\n",
       "      <td>7.3</td>\n",
       "      <td>108000.0</td>\n",
       "      <td>Harold Ramis</td>\n",
       "      <td>Brian Doyle-Murray</td>\n",
       "      <td>Chevy Chase</td>\n",
       "      <td>United States</td>\n",
       "      <td>6.000</td>\n",
       "      <td>39.846344</td>\n",
       "      <td>Orion Pictures</td>\n",
       "      <td>98.0</td>\n",
       "    </tr>\n",
       "    <tr>\n",
       "      <th>...</th>\n",
       "      <td>...</td>\n",
       "      <td>...</td>\n",
       "      <td>...</td>\n",
       "      <td>...</td>\n",
       "      <td>...</td>\n",
       "      <td>...</td>\n",
       "      <td>...</td>\n",
       "      <td>...</td>\n",
       "      <td>...</td>\n",
       "      <td>...</td>\n",
       "      <td>...</td>\n",
       "      <td>...</td>\n",
       "      <td>...</td>\n",
       "      <td>...</td>\n",
       "      <td>...</td>\n",
       "    </tr>\n",
       "    <tr>\n",
       "      <th>7653</th>\n",
       "      <td>The Quarry</td>\n",
       "      <td>R</td>\n",
       "      <td>Crime</td>\n",
       "      <td>2020</td>\n",
       "      <td>April 17, 2020 (Mexico)</td>\n",
       "      <td>5.4</td>\n",
       "      <td>2400.0</td>\n",
       "      <td>Scott Teems</td>\n",
       "      <td>Scott Teems</td>\n",
       "      <td>Shea Whigham</td>\n",
       "      <td>United States</td>\n",
       "      <td>0.000</td>\n",
       "      <td>0.003661</td>\n",
       "      <td>Prowess Pictures</td>\n",
       "      <td>98.0</td>\n",
       "    </tr>\n",
       "    <tr>\n",
       "      <th>7656</th>\n",
       "      <td>Tulsa</td>\n",
       "      <td>PG-13</td>\n",
       "      <td>Comedy</td>\n",
       "      <td>2020</td>\n",
       "      <td>June 3, 2020 (United States)</td>\n",
       "      <td>5.0</td>\n",
       "      <td>294.0</td>\n",
       "      <td>Scott Pryor</td>\n",
       "      <td>Scott Pryor</td>\n",
       "      <td>Scott Pryor</td>\n",
       "      <td>United States</td>\n",
       "      <td>0.000</td>\n",
       "      <td>0.413378</td>\n",
       "      <td>Pryor Entertainment</td>\n",
       "      <td>120.0</td>\n",
       "    </tr>\n",
       "    <tr>\n",
       "      <th>7658</th>\n",
       "      <td>Black Wall Street Burning</td>\n",
       "      <td>R</td>\n",
       "      <td>Drama</td>\n",
       "      <td>2020</td>\n",
       "      <td>February 7, 2020 (United States)</td>\n",
       "      <td>6.6</td>\n",
       "      <td>35.0</td>\n",
       "      <td>Marcus Brown</td>\n",
       "      <td>Dekoven Riggins</td>\n",
       "      <td>Dan Belcher</td>\n",
       "      <td>United States</td>\n",
       "      <td>0.005</td>\n",
       "      <td>0.000000</td>\n",
       "      <td>Notis Studio</td>\n",
       "      <td>78.0</td>\n",
       "    </tr>\n",
       "    <tr>\n",
       "      <th>7659</th>\n",
       "      <td>I Am Fear</td>\n",
       "      <td>Not Rated</td>\n",
       "      <td>Horror</td>\n",
       "      <td>2020</td>\n",
       "      <td>March 3, 2020 (United States)</td>\n",
       "      <td>3.4</td>\n",
       "      <td>447.0</td>\n",
       "      <td>Kevin Shulman</td>\n",
       "      <td>Kevin Shulman</td>\n",
       "      <td>Kristina Klebe</td>\n",
       "      <td>United States</td>\n",
       "      <td>0.000</td>\n",
       "      <td>0.013266</td>\n",
       "      <td>Roxwell Films</td>\n",
       "      <td>87.0</td>\n",
       "    </tr>\n",
       "    <tr>\n",
       "      <th>7661</th>\n",
       "      <td>Love by Drowning</td>\n",
       "      <td>R</td>\n",
       "      <td>Drama</td>\n",
       "      <td>2020</td>\n",
       "      <td>November 6, 2020 (United States)</td>\n",
       "      <td>0.0</td>\n",
       "      <td>0.0</td>\n",
       "      <td>Justin Kreinbrink</td>\n",
       "      <td>C.E. Poverman</td>\n",
       "      <td>Nicky Whelan</td>\n",
       "      <td>United States</td>\n",
       "      <td>1.000</td>\n",
       "      <td>0.000000</td>\n",
       "      <td>Dow Jazz Films</td>\n",
       "      <td>121.0</td>\n",
       "    </tr>\n",
       "  </tbody>\n",
       "</table>\n",
       "<p>7497 rows × 15 columns</p>\n",
       "</div>"
      ],
      "text/plain": [
       "                                                name     rating      genre  \\\n",
       "0                                        The Shining          R      Drama   \n",
       "1                                    The Blue Lagoon          R  Adventure   \n",
       "2     Star Wars: Episode V - The Empire Strikes Back         PG     Action   \n",
       "3                                          Airplane!         PG     Comedy   \n",
       "4                                         Caddyshack          R     Comedy   \n",
       "...                                              ...        ...        ...   \n",
       "7653                                      The Quarry          R      Crime   \n",
       "7656                                           Tulsa      PG-13     Comedy   \n",
       "7658                       Black Wall Street Burning          R      Drama   \n",
       "7659                                       I Am Fear  Not Rated     Horror   \n",
       "7661                                Love by Drowning          R      Drama   \n",
       "\n",
       "      year                          released  score      votes  \\\n",
       "0     1980     June 13, 1980 (United States)    8.4   927000.0   \n",
       "1     1980      July 2, 1980 (United States)    5.8    65000.0   \n",
       "2     1980     June 20, 1980 (United States)    8.7  1200000.0   \n",
       "3     1980      July 2, 1980 (United States)    7.7   221000.0   \n",
       "4     1980     July 25, 1980 (United States)    7.3   108000.0   \n",
       "...    ...                               ...    ...        ...   \n",
       "7653  2020           April 17, 2020 (Mexico)    5.4     2400.0   \n",
       "7656  2020      June 3, 2020 (United States)    5.0      294.0   \n",
       "7658  2020  February 7, 2020 (United States)    6.6       35.0   \n",
       "7659  2020     March 3, 2020 (United States)    3.4      447.0   \n",
       "7661  2020  November 6, 2020 (United States)    0.0        0.0   \n",
       "\n",
       "               director                   writer            star  \\\n",
       "0       Stanley Kubrick             Stephen King  Jack Nicholson   \n",
       "1        Randal Kleiser  Henry De Vere Stacpoole  Brooke Shields   \n",
       "2        Irvin Kershner           Leigh Brackett     Mark Hamill   \n",
       "3          Jim Abrahams             Jim Abrahams     Robert Hays   \n",
       "4          Harold Ramis       Brian Doyle-Murray     Chevy Chase   \n",
       "...                 ...                      ...             ...   \n",
       "7653        Scott Teems              Scott Teems    Shea Whigham   \n",
       "7656        Scott Pryor              Scott Pryor     Scott Pryor   \n",
       "7658       Marcus Brown          Dekoven Riggins     Dan Belcher   \n",
       "7659      Kevin Shulman            Kevin Shulman  Kristina Klebe   \n",
       "7661  Justin Kreinbrink            C.E. Poverman    Nicky Whelan   \n",
       "\n",
       "             country  Budget (in million)  Gross (in million)  \\\n",
       "0     United Kingdom               19.000           46.998772   \n",
       "1      United States                4.500           58.853106   \n",
       "2      United States               18.000          538.375067   \n",
       "3      United States                3.500           83.453539   \n",
       "4      United States                6.000           39.846344   \n",
       "...              ...                  ...                 ...   \n",
       "7653   United States                0.000            0.003661   \n",
       "7656   United States                0.000            0.413378   \n",
       "7658   United States                0.005            0.000000   \n",
       "7659   United States                0.000            0.013266   \n",
       "7661   United States                1.000            0.000000   \n",
       "\n",
       "                  company  runtime  \n",
       "0            Warner Bros.    146.0  \n",
       "1       Columbia Pictures    104.0  \n",
       "2               Lucasfilm    124.0  \n",
       "3      Paramount Pictures     88.0  \n",
       "4          Orion Pictures     98.0  \n",
       "...                   ...      ...  \n",
       "7653     Prowess Pictures     98.0  \n",
       "7656  Pryor Entertainment    120.0  \n",
       "7658         Notis Studio     78.0  \n",
       "7659        Roxwell Films     87.0  \n",
       "7661       Dow Jazz Films    121.0  \n",
       "\n",
       "[7497 rows x 15 columns]"
      ]
     },
     "execution_count": 391,
     "metadata": {},
     "output_type": "execute_result"
    }
   ],
   "source": [
    "top5mr"
   ]
  },
  {
   "cell_type": "markdown",
   "metadata": {},
   "source": [
    "## 13. WHICH OF THE TOP 5 MOVIE RATING HAS THE HIGHEST RUNTIME?"
   ]
  },
  {
   "cell_type": "code",
   "execution_count": 394,
   "metadata": {
    "scrolled": true
   },
   "outputs": [
    {
     "data": {
      "text/html": [
       "<div>\n",
       "<style scoped>\n",
       "    .dataframe tbody tr th:only-of-type {\n",
       "        vertical-align: middle;\n",
       "    }\n",
       "\n",
       "    .dataframe tbody tr th {\n",
       "        vertical-align: top;\n",
       "    }\n",
       "\n",
       "    .dataframe thead th {\n",
       "        text-align: right;\n",
       "    }\n",
       "</style>\n",
       "<table border=\"1\" class=\"dataframe\">\n",
       "  <thead>\n",
       "    <tr style=\"text-align: right;\">\n",
       "      <th></th>\n",
       "      <th>rating</th>\n",
       "      <th>sum</th>\n",
       "      <th>mean</th>\n",
       "    </tr>\n",
       "  </thead>\n",
       "  <tbody>\n",
       "    <tr>\n",
       "      <th>0</th>\n",
       "      <td>G</td>\n",
       "      <td>13922.0</td>\n",
       "      <td>90.993464</td>\n",
       "    </tr>\n",
       "    <tr>\n",
       "      <th>1</th>\n",
       "      <td>Not Rated</td>\n",
       "      <td>33129.0</td>\n",
       "      <td>117.063604</td>\n",
       "    </tr>\n",
       "    <tr>\n",
       "      <th>2</th>\n",
       "      <td>PG</td>\n",
       "      <td>129001.0</td>\n",
       "      <td>103.035942</td>\n",
       "    </tr>\n",
       "    <tr>\n",
       "      <th>3</th>\n",
       "      <td>PG-13</td>\n",
       "      <td>230104.0</td>\n",
       "      <td>108.950758</td>\n",
       "    </tr>\n",
       "    <tr>\n",
       "      <th>4</th>\n",
       "      <td>R</td>\n",
       "      <td>397727.0</td>\n",
       "      <td>107.581012</td>\n",
       "    </tr>\n",
       "  </tbody>\n",
       "</table>\n",
       "</div>"
      ],
      "text/plain": [
       "      rating       sum        mean\n",
       "0          G   13922.0   90.993464\n",
       "1  Not Rated   33129.0  117.063604\n",
       "2         PG  129001.0  103.035942\n",
       "3      PG-13  230104.0  108.950758\n",
       "4          R  397727.0  107.581012"
      ]
     },
     "execution_count": 394,
     "metadata": {},
     "output_type": "execute_result"
    }
   ],
   "source": [
    "top5mr_hrt = top5mr.groupby(\"rating\").agg([\"sum\", \"mean\"])[\"runtime\"].reset_index()\n",
    "top5mr_hrt"
   ]
  },
  {
   "cell_type": "code",
   "execution_count": null,
   "metadata": {},
   "outputs": [],
   "source": []
  },
  {
   "cell_type": "markdown",
   "metadata": {},
   "source": [
    "### VISUALIZING THE TOP 5 MOVIE RATINGS WITH THE HIGHEST RUNTIME"
   ]
  },
  {
   "cell_type": "code",
   "execution_count": 433,
   "metadata": {},
   "outputs": [
    {
     "data": {
      "image/png": "[encoded data removed]",
      "text/plain": [
       "<Figure size 720x432 with 1 Axes>"
      ]
     },
     "metadata": {
      "needs_background": "light"
     },
     "output_type": "display_data"
    }
   ],
   "source": [
    "plt.figure(figsize = (10, 6))\n",
    "sns.barplot(x = top5mr_hrt[\"mean\"], y = top5mr_hrt[\"rating\"])\n",
    "\n",
    "plt.title(\"THE TOP 5 MOVIE RATINGS WITH THE HIGHEST RUNTIME\")\n",
    "plt.rc('font', size=10)\n",
    "plt.xlabel(\"AVERAGE RUNTIME\")\n",
    "plt.ylabel(\"MOVIE RATINGS\")\n",
    "plt.show()"
   ]
  },
  {
   "cell_type": "code",
   "execution_count": null,
   "metadata": {},
   "outputs": [],
   "source": []
  },
  {
   "cell_type": "code",
   "execution_count": null,
   "metadata": {},
   "outputs": [],
   "source": []
  },
  {
   "cell_type": "markdown",
   "metadata": {},
   "source": [
    "## 14. WHICH OF THE TOP 5 MOVIE RATINGS HAVE HAD THE HIGHEST BUDGET WITHIN THE 40-YEAR PERIOD?"
   ]
  },
  {
   "cell_type": "code",
   "execution_count": 454,
   "metadata": {
    "scrolled": true
   },
   "outputs": [
    {
     "data": {
      "text/html": [
       "<div>\n",
       "<style scoped>\n",
       "    .dataframe tbody tr th:only-of-type {\n",
       "        vertical-align: middle;\n",
       "    }\n",
       "\n",
       "    .dataframe tbody tr th {\n",
       "        vertical-align: top;\n",
       "    }\n",
       "\n",
       "    .dataframe thead th {\n",
       "        text-align: right;\n",
       "    }\n",
       "</style>\n",
       "<table border=\"1\" class=\"dataframe\">\n",
       "  <thead>\n",
       "    <tr style=\"text-align: right;\">\n",
       "      <th></th>\n",
       "      <th>rating</th>\n",
       "      <th>sum</th>\n",
       "      <th>mean</th>\n",
       "    </tr>\n",
       "  </thead>\n",
       "  <tbody>\n",
       "    <tr>\n",
       "      <th>0</th>\n",
       "      <td>G</td>\n",
       "      <td>5916.570000</td>\n",
       "      <td>38.670392</td>\n",
       "    </tr>\n",
       "    <tr>\n",
       "      <th>1</th>\n",
       "      <td>Not Rated</td>\n",
       "      <td>381.204228</td>\n",
       "      <td>1.347011</td>\n",
       "    </tr>\n",
       "    <tr>\n",
       "      <th>2</th>\n",
       "      <td>PG</td>\n",
       "      <td>40135.723769</td>\n",
       "      <td>32.057287</td>\n",
       "    </tr>\n",
       "    <tr>\n",
       "      <th>3</th>\n",
       "      <td>PG-13</td>\n",
       "      <td>88293.082768</td>\n",
       "      <td>41.805437</td>\n",
       "    </tr>\n",
       "    <tr>\n",
       "      <th>4</th>\n",
       "      <td>R</td>\n",
       "      <td>60540.870585</td>\n",
       "      <td>16.375675</td>\n",
       "    </tr>\n",
       "  </tbody>\n",
       "</table>\n",
       "</div>"
      ],
      "text/plain": [
       "      rating           sum       mean\n",
       "0          G   5916.570000  38.670392\n",
       "1  Not Rated    381.204228   1.347011\n",
       "2         PG  40135.723769  32.057287\n",
       "3      PG-13  88293.082768  41.805437\n",
       "4          R  60540.870585  16.375675"
      ]
     },
     "execution_count": 454,
     "metadata": {},
     "output_type": "execute_result"
    }
   ],
   "source": [
    "mr_budg = top5mr.groupby(\"rating\").agg([\"sum\", \"mean\"])[\"Budget (in million)\"].reset_index()\n",
    "mr_budg"
   ]
  },
  {
   "cell_type": "code",
   "execution_count": null,
   "metadata": {},
   "outputs": [],
   "source": []
  },
  {
   "cell_type": "markdown",
   "metadata": {},
   "source": [
    "### VISUALIZING THE TOP 5 MOVIE RATINGS THAT HAVE THE HIGHEST BUDGET TO PRODUCE"
   ]
  },
  {
   "cell_type": "code",
   "execution_count": 457,
   "metadata": {},
   "outputs": [
    {
     "data": {
      "image/png": "[encoded data removed]",
      "text/plain": [
       "<Figure size 720x432 with 1 Axes>"
      ]
     },
     "metadata": {
      "needs_background": "light"
     },
     "output_type": "display_data"
    }
   ],
   "source": [
    "plt.figure(figsize = (10, 6))\n",
    "sns.barplot(x = mr_budg[\"mean\"], y = mr_budg[\"rating\"])\n",
    "\n",
    "plt.title(\"THE TOP 5 MOVIE RATINGS WITH THE HIGHEST BUDGET TO PRODUCE\")\n",
    "plt.rc('font', size=10)\n",
    "plt.xlabel(\"AVERAGE BUDGET (in millions)\")\n",
    "plt.ylabel(\"MOVIE RATINGS\")\n",
    "plt.show()"
   ]
  },
  {
   "cell_type": "code",
   "execution_count": null,
   "metadata": {},
   "outputs": [],
   "source": []
  },
  {
   "cell_type": "code",
   "execution_count": null,
   "metadata": {},
   "outputs": [],
   "source": []
  },
  {
   "cell_type": "markdown",
   "metadata": {},
   "source": [
    "## 15. THE TOP 5 MOVIE RATINGS  THAT HAS GENERATED THE HIGHEST GROSS PROFIT?"
   ]
  },
  {
   "cell_type": "code",
   "execution_count": 459,
   "metadata": {},
   "outputs": [
    {
     "data": {
      "text/html": [
       "<div>\n",
       "<style scoped>\n",
       "    .dataframe tbody tr th:only-of-type {\n",
       "        vertical-align: middle;\n",
       "    }\n",
       "\n",
       "    .dataframe tbody tr th {\n",
       "        vertical-align: top;\n",
       "    }\n",
       "\n",
       "    .dataframe thead th {\n",
       "        text-align: right;\n",
       "    }\n",
       "</style>\n",
       "<table border=\"1\" class=\"dataframe\">\n",
       "  <thead>\n",
       "    <tr style=\"text-align: right;\">\n",
       "      <th></th>\n",
       "      <th>rating</th>\n",
       "      <th>sum</th>\n",
       "      <th>mean</th>\n",
       "    </tr>\n",
       "  </thead>\n",
       "  <tbody>\n",
       "    <tr>\n",
       "      <th>0</th>\n",
       "      <td>G</td>\n",
       "      <td>21590.586882</td>\n",
       "      <td>141.114947</td>\n",
       "    </tr>\n",
       "    <tr>\n",
       "      <th>1</th>\n",
       "      <td>Not Rated</td>\n",
       "      <td>4609.138432</td>\n",
       "      <td>16.286708</td>\n",
       "    </tr>\n",
       "    <tr>\n",
       "      <th>2</th>\n",
       "      <td>PG</td>\n",
       "      <td>130071.562164</td>\n",
       "      <td>103.891024</td>\n",
       "    </tr>\n",
       "    <tr>\n",
       "      <th>3</th>\n",
       "      <td>PG-13</td>\n",
       "      <td>273664.111178</td>\n",
       "      <td>129.575810</td>\n",
       "    </tr>\n",
       "    <tr>\n",
       "      <th>4</th>\n",
       "      <td>R</td>\n",
       "      <td>154162.445650</td>\n",
       "      <td>41.699336</td>\n",
       "    </tr>\n",
       "  </tbody>\n",
       "</table>\n",
       "</div>"
      ],
      "text/plain": [
       "      rating            sum        mean\n",
       "0          G   21590.586882  141.114947\n",
       "1  Not Rated    4609.138432   16.286708\n",
       "2         PG  130071.562164  103.891024\n",
       "3      PG-13  273664.111178  129.575810\n",
       "4          R  154162.445650   41.699336"
      ]
     },
     "execution_count": 459,
     "metadata": {},
     "output_type": "execute_result"
    }
   ],
   "source": [
    "mr_gross = top5mr.groupby(\"rating\").agg([\"sum\", \"mean\"])[\"Gross (in million)\"].reset_index()\n",
    "mr_gross"
   ]
  },
  {
   "cell_type": "markdown",
   "metadata": {},
   "source": [
    "#### *The movie rating that has generated the highest gross profit is THE G RATED Movies. With an average of 141 milion dollars profit generated  per movie.*\n",
    "#### *G RATED movies are movies that can be viewed by the GENERAL PUBLIC.* \n",
    "#### "
   ]
  },
  {
   "cell_type": "code",
   "execution_count": null,
   "metadata": {},
   "outputs": [],
   "source": []
  },
  {
   "cell_type": "markdown",
   "metadata": {},
   "source": [
    "### VISUALIZING TOP 5 MOVIE RATINGS THAT HAS GENERATED THE MOST GROSS PROFIT"
   ]
  },
  {
   "cell_type": "code",
   "execution_count": 463,
   "metadata": {},
   "outputs": [
    {
     "data": {
      "image/png": "[encoded data removed]",
      "text/plain": [
       "<Figure size 720x432 with 1 Axes>"
      ]
     },
     "metadata": {
      "needs_background": "light"
     },
     "output_type": "display_data"
    }
   ],
   "source": [
    "plt.figure(figsize = (10, 6))\n",
    "sns.barplot(x = mr_gross[\"mean\"], y = mr_gross[\"rating\"])\n",
    "\n",
    "plt.title(\"THE TOP 5 MOVIE RATINGS THAT GENERATED THE MOST GROSS PROFIT\")\n",
    "plt.rc('font', size=10)\n",
    "plt.xlabel(\"GROSS PROFIT (in millions)\")\n",
    "plt.ylabel(\"MOVIE RATINGS\")\n",
    "plt.show()"
   ]
  },
  {
   "cell_type": "code",
   "execution_count": null,
   "metadata": {},
   "outputs": [],
   "source": []
  },
  {
   "cell_type": "code",
   "execution_count": null,
   "metadata": {},
   "outputs": [],
   "source": []
  },
  {
   "cell_type": "markdown",
   "metadata": {},
   "source": [
    "## 16. WHICH COMPANIES HAVE PRODUCED THE MOST MOVIES?"
   ]
  },
  {
   "cell_type": "code",
   "execution_count": 476,
   "metadata": {
    "scrolled": false
   },
   "outputs": [
    {
     "data": {
      "text/html": [
       "<div>\n",
       "<style scoped>\n",
       "    .dataframe tbody tr th:only-of-type {\n",
       "        vertical-align: middle;\n",
       "    }\n",
       "\n",
       "    .dataframe tbody tr th {\n",
       "        vertical-align: top;\n",
       "    }\n",
       "\n",
       "    .dataframe thead th {\n",
       "        text-align: right;\n",
       "    }\n",
       "</style>\n",
       "<table border=\"1\" class=\"dataframe\">\n",
       "  <thead>\n",
       "    <tr style=\"text-align: right;\">\n",
       "      <th></th>\n",
       "      <th>index</th>\n",
       "      <th>company</th>\n",
       "    </tr>\n",
       "  </thead>\n",
       "  <tbody>\n",
       "    <tr>\n",
       "      <th>0</th>\n",
       "      <td>Universal Pictures</td>\n",
       "      <td>377</td>\n",
       "    </tr>\n",
       "    <tr>\n",
       "      <th>1</th>\n",
       "      <td>Warner Bros.</td>\n",
       "      <td>334</td>\n",
       "    </tr>\n",
       "    <tr>\n",
       "      <th>2</th>\n",
       "      <td>Columbia Pictures</td>\n",
       "      <td>332</td>\n",
       "    </tr>\n",
       "    <tr>\n",
       "      <th>3</th>\n",
       "      <td>Paramount Pictures</td>\n",
       "      <td>320</td>\n",
       "    </tr>\n",
       "    <tr>\n",
       "      <th>4</th>\n",
       "      <td>Twentieth Century Fox</td>\n",
       "      <td>240</td>\n",
       "    </tr>\n",
       "    <tr>\n",
       "      <th>5</th>\n",
       "      <td>New Line Cinema</td>\n",
       "      <td>174</td>\n",
       "    </tr>\n",
       "    <tr>\n",
       "      <th>6</th>\n",
       "      <td>Touchstone Pictures</td>\n",
       "      <td>132</td>\n",
       "    </tr>\n",
       "    <tr>\n",
       "      <th>7</th>\n",
       "      <td>Metro-Goldwyn-Mayer (MGM)</td>\n",
       "      <td>125</td>\n",
       "    </tr>\n",
       "    <tr>\n",
       "      <th>8</th>\n",
       "      <td>Walt Disney Pictures</td>\n",
       "      <td>123</td>\n",
       "    </tr>\n",
       "    <tr>\n",
       "      <th>9</th>\n",
       "      <td>TriStar Pictures</td>\n",
       "      <td>94</td>\n",
       "    </tr>\n",
       "  </tbody>\n",
       "</table>\n",
       "</div>"
      ],
      "text/plain": [
       "                       index  company\n",
       "0         Universal Pictures      377\n",
       "1               Warner Bros.      334\n",
       "2          Columbia Pictures      332\n",
       "3         Paramount Pictures      320\n",
       "4      Twentieth Century Fox      240\n",
       "5            New Line Cinema      174\n",
       "6        Touchstone Pictures      132\n",
       "7  Metro-Goldwyn-Mayer (MGM)      125\n",
       "8       Walt Disney Pictures      123\n",
       "9           TriStar Pictures       94"
      ]
     },
     "execution_count": 476,
     "metadata": {},
     "output_type": "execute_result"
    }
   ],
   "source": [
    "mov_prod_comp = pd.DataFrame(movies.company.value_counts().head(10)).reset_index()\n",
    "mov_prod_comp"
   ]
  },
  {
   "cell_type": "code",
   "execution_count": 481,
   "metadata": {},
   "outputs": [],
   "source": [
    "## RENAMING THE COLUMNS"
   ]
  },
  {
   "cell_type": "code",
   "execution_count": 478,
   "metadata": {},
   "outputs": [],
   "source": [
    "mov_prod_comp.rename({\"index\": \"Company\", \"company\":\"Number of Movies Produced\"}, axis = 1, inplace = True)"
   ]
  },
  {
   "cell_type": "code",
   "execution_count": 480,
   "metadata": {},
   "outputs": [
    {
     "data": {
      "text/html": [
       "<div>\n",
       "<style scoped>\n",
       "    .dataframe tbody tr th:only-of-type {\n",
       "        vertical-align: middle;\n",
       "    }\n",
       "\n",
       "    .dataframe tbody tr th {\n",
       "        vertical-align: top;\n",
       "    }\n",
       "\n",
       "    .dataframe thead th {\n",
       "        text-align: right;\n",
       "    }\n",
       "</style>\n",
       "<table border=\"1\" class=\"dataframe\">\n",
       "  <thead>\n",
       "    <tr style=\"text-align: right;\">\n",
       "      <th></th>\n",
       "      <th>Company</th>\n",
       "      <th>Number of Movies Produced</th>\n",
       "    </tr>\n",
       "  </thead>\n",
       "  <tbody>\n",
       "    <tr>\n",
       "      <th>0</th>\n",
       "      <td>Universal Pictures</td>\n",
       "      <td>377</td>\n",
       "    </tr>\n",
       "    <tr>\n",
       "      <th>1</th>\n",
       "      <td>Warner Bros.</td>\n",
       "      <td>334</td>\n",
       "    </tr>\n",
       "    <tr>\n",
       "      <th>2</th>\n",
       "      <td>Columbia Pictures</td>\n",
       "      <td>332</td>\n",
       "    </tr>\n",
       "    <tr>\n",
       "      <th>3</th>\n",
       "      <td>Paramount Pictures</td>\n",
       "      <td>320</td>\n",
       "    </tr>\n",
       "    <tr>\n",
       "      <th>4</th>\n",
       "      <td>Twentieth Century Fox</td>\n",
       "      <td>240</td>\n",
       "    </tr>\n",
       "  </tbody>\n",
       "</table>\n",
       "</div>"
      ],
      "text/plain": [
       "                 Company  Number of Movies Produced\n",
       "0     Universal Pictures                        377\n",
       "1           Warner Bros.                        334\n",
       "2      Columbia Pictures                        332\n",
       "3     Paramount Pictures                        320\n",
       "4  Twentieth Century Fox                        240"
      ]
     },
     "execution_count": 480,
     "metadata": {},
     "output_type": "execute_result"
    }
   ],
   "source": [
    "mov_prod_comp.head()"
   ]
  },
  {
   "cell_type": "code",
   "execution_count": null,
   "metadata": {},
   "outputs": [],
   "source": []
  },
  {
   "cell_type": "markdown",
   "metadata": {},
   "source": [
    "#### ABOVE ARE THE TOP TEN COMPANIES IN TERMS OF HOW MANY MOVIES THEY HAVE PRODUCED FROM 1980 TO 2020\n",
    "#### "
   ]
  },
  {
   "cell_type": "markdown",
   "metadata": {},
   "source": [
    "### VISUALIZING TOP TEN COMPANIES (IN THERMS OF NUMBER MOVIE PRODUCED)"
   ]
  },
  {
   "cell_type": "code",
   "execution_count": 482,
   "metadata": {},
   "outputs": [
    {
     "data": {
      "image/png": "[encoded data removed]",
      "text/plain": [
       "<Figure size 720x432 with 1 Axes>"
      ]
     },
     "metadata": {
      "needs_background": "light"
     },
     "output_type": "display_data"
    }
   ],
   "source": [
    "plt.figure(figsize = (10, 6))\n",
    "sns.barplot(x = mov_prod_comp[\"Number of Movies Produced\"], y =mov_prod_comp[\"Company\"])\n",
    "\n",
    "plt.title(\"TOP TEN COMPANIES (IN THERMS OF NUMBER MOVIE PRODUCED)\")\n",
    "plt.rc('font', size=10)\n",
    "plt.xlabel(\"Number of Movies Produced\")\n",
    "plt.ylabel(\"COMPANY\")\n",
    "plt.show()"
   ]
  },
  {
   "cell_type": "code",
   "execution_count": null,
   "metadata": {},
   "outputs": [],
   "source": []
  },
  {
   "cell_type": "code",
   "execution_count": null,
   "metadata": {},
   "outputs": [],
   "source": []
  },
  {
   "cell_type": "markdown",
   "metadata": {},
   "source": [
    "### Creating a DataFrame to show all columns in the movies Dataset for ONLY the top 10 companies"
   ]
  },
  {
   "cell_type": "code",
   "execution_count": 485,
   "metadata": {},
   "outputs": [
    {
     "data": {
      "text/html": [
       "<div>\n",
       "<style scoped>\n",
       "    .dataframe tbody tr th:only-of-type {\n",
       "        vertical-align: middle;\n",
       "    }\n",
       "\n",
       "    .dataframe tbody tr th {\n",
       "        vertical-align: top;\n",
       "    }\n",
       "\n",
       "    .dataframe thead th {\n",
       "        text-align: right;\n",
       "    }\n",
       "</style>\n",
       "<table border=\"1\" class=\"dataframe\">\n",
       "  <thead>\n",
       "    <tr style=\"text-align: right;\">\n",
       "      <th></th>\n",
       "      <th>name</th>\n",
       "      <th>rating</th>\n",
       "      <th>genre</th>\n",
       "      <th>year</th>\n",
       "      <th>released</th>\n",
       "      <th>score</th>\n",
       "      <th>votes</th>\n",
       "      <th>director</th>\n",
       "      <th>writer</th>\n",
       "      <th>star</th>\n",
       "      <th>country</th>\n",
       "      <th>Budget (in million)</th>\n",
       "      <th>Gross (in million)</th>\n",
       "      <th>company</th>\n",
       "      <th>runtime</th>\n",
       "    </tr>\n",
       "  </thead>\n",
       "  <tbody>\n",
       "    <tr>\n",
       "      <th>0</th>\n",
       "      <td>The Shining</td>\n",
       "      <td>R</td>\n",
       "      <td>Drama</td>\n",
       "      <td>1980</td>\n",
       "      <td>June 13, 1980 (United States)</td>\n",
       "      <td>8.4</td>\n",
       "      <td>927000.0</td>\n",
       "      <td>Stanley Kubrick</td>\n",
       "      <td>Stephen King</td>\n",
       "      <td>Jack Nicholson</td>\n",
       "      <td>United Kingdom</td>\n",
       "      <td>19.00</td>\n",
       "      <td>46.998772</td>\n",
       "      <td>Warner Bros.</td>\n",
       "      <td>146.0</td>\n",
       "    </tr>\n",
       "    <tr>\n",
       "      <th>1</th>\n",
       "      <td>The Blue Lagoon</td>\n",
       "      <td>R</td>\n",
       "      <td>Adventure</td>\n",
       "      <td>1980</td>\n",
       "      <td>July 2, 1980 (United States)</td>\n",
       "      <td>5.8</td>\n",
       "      <td>65000.0</td>\n",
       "      <td>Randal Kleiser</td>\n",
       "      <td>Henry De Vere Stacpoole</td>\n",
       "      <td>Brooke Shields</td>\n",
       "      <td>United States</td>\n",
       "      <td>4.50</td>\n",
       "      <td>58.853106</td>\n",
       "      <td>Columbia Pictures</td>\n",
       "      <td>104.0</td>\n",
       "    </tr>\n",
       "    <tr>\n",
       "      <th>3</th>\n",
       "      <td>Airplane!</td>\n",
       "      <td>PG</td>\n",
       "      <td>Comedy</td>\n",
       "      <td>1980</td>\n",
       "      <td>July 2, 1980 (United States)</td>\n",
       "      <td>7.7</td>\n",
       "      <td>221000.0</td>\n",
       "      <td>Jim Abrahams</td>\n",
       "      <td>Jim Abrahams</td>\n",
       "      <td>Robert Hays</td>\n",
       "      <td>United States</td>\n",
       "      <td>3.50</td>\n",
       "      <td>83.453539</td>\n",
       "      <td>Paramount Pictures</td>\n",
       "      <td>88.0</td>\n",
       "    </tr>\n",
       "    <tr>\n",
       "      <th>5</th>\n",
       "      <td>Friday the 13th</td>\n",
       "      <td>R</td>\n",
       "      <td>Horror</td>\n",
       "      <td>1980</td>\n",
       "      <td>May 9, 1980 (United States)</td>\n",
       "      <td>6.4</td>\n",
       "      <td>123000.0</td>\n",
       "      <td>Sean S. Cunningham</td>\n",
       "      <td>Victor Miller</td>\n",
       "      <td>Betsy Palmer</td>\n",
       "      <td>United States</td>\n",
       "      <td>0.55</td>\n",
       "      <td>39.754601</td>\n",
       "      <td>Paramount Pictures</td>\n",
       "      <td>95.0</td>\n",
       "    </tr>\n",
       "    <tr>\n",
       "      <th>6</th>\n",
       "      <td>The Blues Brothers</td>\n",
       "      <td>R</td>\n",
       "      <td>Action</td>\n",
       "      <td>1980</td>\n",
       "      <td>June 20, 1980 (United States)</td>\n",
       "      <td>7.9</td>\n",
       "      <td>188000.0</td>\n",
       "      <td>John Landis</td>\n",
       "      <td>Dan Aykroyd</td>\n",
       "      <td>John Belushi</td>\n",
       "      <td>United States</td>\n",
       "      <td>27.00</td>\n",
       "      <td>115.229890</td>\n",
       "      <td>Universal Pictures</td>\n",
       "      <td>133.0</td>\n",
       "    </tr>\n",
       "  </tbody>\n",
       "</table>\n",
       "</div>"
      ],
      "text/plain": [
       "                 name rating      genre  year                       released  \\\n",
       "0         The Shining      R      Drama  1980  June 13, 1980 (United States)   \n",
       "1     The Blue Lagoon      R  Adventure  1980   July 2, 1980 (United States)   \n",
       "3           Airplane!     PG     Comedy  1980   July 2, 1980 (United States)   \n",
       "5     Friday the 13th      R     Horror  1980    May 9, 1980 (United States)   \n",
       "6  The Blues Brothers      R     Action  1980  June 20, 1980 (United States)   \n",
       "\n",
       "   score     votes            director                   writer  \\\n",
       "0    8.4  927000.0     Stanley Kubrick             Stephen King   \n",
       "1    5.8   65000.0      Randal Kleiser  Henry De Vere Stacpoole   \n",
       "3    7.7  221000.0        Jim Abrahams             Jim Abrahams   \n",
       "5    6.4  123000.0  Sean S. Cunningham            Victor Miller   \n",
       "6    7.9  188000.0         John Landis              Dan Aykroyd   \n",
       "\n",
       "             star         country  Budget (in million)  Gross (in million)  \\\n",
       "0  Jack Nicholson  United Kingdom                19.00           46.998772   \n",
       "1  Brooke Shields   United States                 4.50           58.853106   \n",
       "3     Robert Hays   United States                 3.50           83.453539   \n",
       "5    Betsy Palmer   United States                 0.55           39.754601   \n",
       "6    John Belushi   United States                27.00          115.229890   \n",
       "\n",
       "              company  runtime  \n",
       "0        Warner Bros.    146.0  \n",
       "1   Columbia Pictures    104.0  \n",
       "3  Paramount Pictures     88.0  \n",
       "5  Paramount Pictures     95.0  \n",
       "6  Universal Pictures    133.0  "
      ]
     },
     "execution_count": 485,
     "metadata": {},
     "output_type": "execute_result"
    }
   ],
   "source": [
    "top10comp = movies[movies[\"company\"].isin(mov_prod_comp[\"Company\"])]\n",
    "top10comp.head()"
   ]
  },
  {
   "cell_type": "code",
   "execution_count": null,
   "metadata": {},
   "outputs": [],
   "source": []
  },
  {
   "cell_type": "code",
   "execution_count": null,
   "metadata": {},
   "outputs": [],
   "source": []
  },
  {
   "cell_type": "markdown",
   "metadata": {},
   "source": [
    "## 17. WHICH OF THE TOP 10 COMPANES HAVE SPENT THE MOST BUDGET ON MOVIES?"
   ]
  },
  {
   "cell_type": "code",
   "execution_count": 493,
   "metadata": {},
   "outputs": [
    {
     "data": {
      "text/html": [
       "<div>\n",
       "<style scoped>\n",
       "    .dataframe tbody tr th:only-of-type {\n",
       "        vertical-align: middle;\n",
       "    }\n",
       "\n",
       "    .dataframe tbody tr th {\n",
       "        vertical-align: top;\n",
       "    }\n",
       "\n",
       "    .dataframe thead th {\n",
       "        text-align: right;\n",
       "    }\n",
       "</style>\n",
       "<table border=\"1\" class=\"dataframe\">\n",
       "  <thead>\n",
       "    <tr style=\"text-align: right;\">\n",
       "      <th></th>\n",
       "      <th>company</th>\n",
       "      <th>mean</th>\n",
       "      <th>sum</th>\n",
       "    </tr>\n",
       "  </thead>\n",
       "  <tbody>\n",
       "    <tr>\n",
       "      <th>0</th>\n",
       "      <td>Columbia Pictures</td>\n",
       "      <td>46.723214</td>\n",
       "      <td>15512.107000</td>\n",
       "    </tr>\n",
       "    <tr>\n",
       "      <th>1</th>\n",
       "      <td>Metro-Goldwyn-Mayer (MGM)</td>\n",
       "      <td>28.386000</td>\n",
       "      <td>3548.250000</td>\n",
       "    </tr>\n",
       "    <tr>\n",
       "      <th>2</th>\n",
       "      <td>New Line Cinema</td>\n",
       "      <td>32.460920</td>\n",
       "      <td>5648.200000</td>\n",
       "    </tr>\n",
       "    <tr>\n",
       "      <th>3</th>\n",
       "      <td>Paramount Pictures</td>\n",
       "      <td>42.885781</td>\n",
       "      <td>13723.450000</td>\n",
       "    </tr>\n",
       "    <tr>\n",
       "      <th>4</th>\n",
       "      <td>Touchstone Pictures</td>\n",
       "      <td>31.467424</td>\n",
       "      <td>4153.700000</td>\n",
       "    </tr>\n",
       "    <tr>\n",
       "      <th>5</th>\n",
       "      <td>TriStar Pictures</td>\n",
       "      <td>22.233670</td>\n",
       "      <td>2089.965000</td>\n",
       "    </tr>\n",
       "    <tr>\n",
       "      <th>6</th>\n",
       "      <td>Twentieth Century Fox</td>\n",
       "      <td>47.810833</td>\n",
       "      <td>11474.600000</td>\n",
       "    </tr>\n",
       "    <tr>\n",
       "      <th>7</th>\n",
       "      <td>Universal Pictures</td>\n",
       "      <td>42.413077</td>\n",
       "      <td>15989.730001</td>\n",
       "    </tr>\n",
       "    <tr>\n",
       "      <th>8</th>\n",
       "      <td>Walt Disney Pictures</td>\n",
       "      <td>84.591057</td>\n",
       "      <td>10404.700000</td>\n",
       "    </tr>\n",
       "    <tr>\n",
       "      <th>9</th>\n",
       "      <td>Warner Bros.</td>\n",
       "      <td>58.587725</td>\n",
       "      <td>19568.300000</td>\n",
       "    </tr>\n",
       "  </tbody>\n",
       "</table>\n",
       "</div>"
      ],
      "text/plain": [
       "                     company       mean           sum\n",
       "0          Columbia Pictures  46.723214  15512.107000\n",
       "1  Metro-Goldwyn-Mayer (MGM)  28.386000   3548.250000\n",
       "2            New Line Cinema  32.460920   5648.200000\n",
       "3         Paramount Pictures  42.885781  13723.450000\n",
       "4        Touchstone Pictures  31.467424   4153.700000\n",
       "5           TriStar Pictures  22.233670   2089.965000\n",
       "6      Twentieth Century Fox  47.810833  11474.600000\n",
       "7         Universal Pictures  42.413077  15989.730001\n",
       "8       Walt Disney Pictures  84.591057  10404.700000\n",
       "9               Warner Bros.  58.587725  19568.300000"
      ]
     },
     "execution_count": 493,
     "metadata": {},
     "output_type": "execute_result"
    }
   ],
   "source": [
    "top10comp_budg = top10comp.groupby(\"company\").agg([\"mean\", \"sum\"])[\"Budget (in million)\"].reset_index()\n",
    "top10comp_budg"
   ]
  },
  {
   "cell_type": "code",
   "execution_count": null,
   "metadata": {},
   "outputs": [],
   "source": []
  },
  {
   "cell_type": "markdown",
   "metadata": {},
   "source": [
    "### VISUALIZING THE TOP 10 COMPANIES HAVE SPENT THE MOST BUDGET ON MOVIES"
   ]
  },
  {
   "cell_type": "code",
   "execution_count": 494,
   "metadata": {
    "scrolled": false
   },
   "outputs": [
    {
     "data": {
      "image/png": "[encoded data removed]",
      "text/plain": [
       "<Figure size 720x432 with 1 Axes>"
      ]
     },
     "metadata": {
      "needs_background": "light"
     },
     "output_type": "display_data"
    }
   ],
   "source": [
    "plt.figure(figsize = (10, 6))\n",
    "sns.barplot(x = top10comp_budg[\"mean\"], y = top10comp_budg[\"company\"])\n",
    "\n",
    "plt.title(\"THE TOP 10 COMPANES HAVE SPENT THE MOST BUDGET ON MOVIES\")\n",
    "plt.rc('font', size=10)\n",
    "plt.xlabel(\"AVERAGE BUDGET (in millions)\")\n",
    "plt.ylabel(\"COMPANY\")\n",
    "plt.show()"
   ]
  },
  {
   "cell_type": "code",
   "execution_count": null,
   "metadata": {},
   "outputs": [],
   "source": []
  },
  {
   "cell_type": "code",
   "execution_count": null,
   "metadata": {},
   "outputs": [],
   "source": []
  },
  {
   "cell_type": "markdown",
   "metadata": {},
   "source": [
    "## 18. WHICH COMPANIES HAVE GENERATED THE MOST GROSS PROFIT?"
   ]
  },
  {
   "cell_type": "code",
   "execution_count": 496,
   "metadata": {},
   "outputs": [
    {
     "data": {
      "text/html": [
       "<div>\n",
       "<style scoped>\n",
       "    .dataframe tbody tr th:only-of-type {\n",
       "        vertical-align: middle;\n",
       "    }\n",
       "\n",
       "    .dataframe tbody tr th {\n",
       "        vertical-align: top;\n",
       "    }\n",
       "\n",
       "    .dataframe thead th {\n",
       "        text-align: right;\n",
       "    }\n",
       "</style>\n",
       "<table border=\"1\" class=\"dataframe\">\n",
       "  <thead>\n",
       "    <tr style=\"text-align: right;\">\n",
       "      <th></th>\n",
       "      <th>company</th>\n",
       "      <th>mean</th>\n",
       "      <th>sum</th>\n",
       "    </tr>\n",
       "  </thead>\n",
       "  <tbody>\n",
       "    <tr>\n",
       "      <th>0</th>\n",
       "      <td>Columbia Pictures</td>\n",
       "      <td>129.545004</td>\n",
       "      <td>43008.941346</td>\n",
       "    </tr>\n",
       "    <tr>\n",
       "      <th>1</th>\n",
       "      <td>Metro-Goldwyn-Mayer (MGM)</td>\n",
       "      <td>73.841841</td>\n",
       "      <td>9230.230105</td>\n",
       "    </tr>\n",
       "    <tr>\n",
       "      <th>2</th>\n",
       "      <td>New Line Cinema</td>\n",
       "      <td>114.274699</td>\n",
       "      <td>19883.797684</td>\n",
       "    </tr>\n",
       "    <tr>\n",
       "      <th>3</th>\n",
       "      <td>Paramount Pictures</td>\n",
       "      <td>126.542523</td>\n",
       "      <td>40493.607415</td>\n",
       "    </tr>\n",
       "    <tr>\n",
       "      <th>4</th>\n",
       "      <td>Touchstone Pictures</td>\n",
       "      <td>89.362368</td>\n",
       "      <td>11795.832638</td>\n",
       "    </tr>\n",
       "    <tr>\n",
       "      <th>5</th>\n",
       "      <td>TriStar Pictures</td>\n",
       "      <td>60.291877</td>\n",
       "      <td>5667.436463</td>\n",
       "    </tr>\n",
       "    <tr>\n",
       "      <th>6</th>\n",
       "      <td>Twentieth Century Fox</td>\n",
       "      <td>167.737724</td>\n",
       "      <td>40257.053857</td>\n",
       "    </tr>\n",
       "    <tr>\n",
       "      <th>7</th>\n",
       "      <td>Universal Pictures</td>\n",
       "      <td>139.294931</td>\n",
       "      <td>52514.188890</td>\n",
       "    </tr>\n",
       "    <tr>\n",
       "      <th>8</th>\n",
       "      <td>Walt Disney Pictures</td>\n",
       "      <td>295.348681</td>\n",
       "      <td>36327.887792</td>\n",
       "    </tr>\n",
       "    <tr>\n",
       "      <th>9</th>\n",
       "      <td>Warner Bros.</td>\n",
       "      <td>169.135993</td>\n",
       "      <td>56491.421806</td>\n",
       "    </tr>\n",
       "  </tbody>\n",
       "</table>\n",
       "</div>"
      ],
      "text/plain": [
       "                     company        mean           sum\n",
       "0          Columbia Pictures  129.545004  43008.941346\n",
       "1  Metro-Goldwyn-Mayer (MGM)   73.841841   9230.230105\n",
       "2            New Line Cinema  114.274699  19883.797684\n",
       "3         Paramount Pictures  126.542523  40493.607415\n",
       "4        Touchstone Pictures   89.362368  11795.832638\n",
       "5           TriStar Pictures   60.291877   5667.436463\n",
       "6      Twentieth Century Fox  167.737724  40257.053857\n",
       "7         Universal Pictures  139.294931  52514.188890\n",
       "8       Walt Disney Pictures  295.348681  36327.887792\n",
       "9               Warner Bros.  169.135993  56491.421806"
      ]
     },
     "execution_count": 496,
     "metadata": {},
     "output_type": "execute_result"
    }
   ],
   "source": [
    "top10comp_gross = top10comp.groupby(\"company\").agg([\"mean\", \"sum\"])[\"Gross (in million)\"].reset_index()\n",
    "top10comp_gross"
   ]
  },
  {
   "cell_type": "markdown",
   "metadata": {},
   "source": [
    "#### The movie production company that has generated the highest gross profit is the WALT DISNEY PICTURES. \n",
    "#### It has generated an average gross profit of 295 Billion Dollars per movies and a total of over 36 Billion Dollars in over 40 years. WAOOW !"
   ]
  },
  {
   "cell_type": "code",
   "execution_count": null,
   "metadata": {},
   "outputs": [],
   "source": []
  },
  {
   "cell_type": "markdown",
   "metadata": {},
   "source": [
    "### VISUALIZING THE TOP 10 COMPANIES THAT HAVE GENERATED THE HIGHEST GROSS PROFIT"
   ]
  },
  {
   "cell_type": "code",
   "execution_count": 497,
   "metadata": {
    "scrolled": false
   },
   "outputs": [
    {
     "data": {
      "image/png": "[encoded data removed]",
      "text/plain": [
       "<Figure size 720x432 with 1 Axes>"
      ]
     },
     "metadata": {
      "needs_background": "light"
     },
     "output_type": "display_data"
    }
   ],
   "source": [
    "plt.figure(figsize = (10, 6))\n",
    "sns.barplot(x = top10comp_gross[\"mean\"], y = top10comp_gross[\"company\"])\n",
    "\n",
    "plt.title(\"THE TOP 10 COMPANES HAVE THE HIGHEST GROSS PROFIT\")\n",
    "plt.rc('font', size=10)\n",
    "plt.xlabel(\"AVERAGE GROSS (in millions)\")\n",
    "plt.ylabel(\"COMPANY\")\n",
    "plt.show()"
   ]
  },
  {
   "cell_type": "code",
   "execution_count": null,
   "metadata": {},
   "outputs": [],
   "source": []
  },
  {
   "cell_type": "code",
   "execution_count": null,
   "metadata": {},
   "outputs": [],
   "source": []
  },
  {
   "cell_type": "markdown",
   "metadata": {},
   "source": [
    "## 19. WHO HAS DIRECTED THE MOST MOVIES OVER THE 40-YEARS PERIOD?"
   ]
  },
  {
   "cell_type": "code",
   "execution_count": 523,
   "metadata": {},
   "outputs": [],
   "source": [
    "top10_dir = pd.DataFrame(movies[\"director\"].value_counts().head(11)).reset_index()"
   ]
  },
  {
   "cell_type": "code",
   "execution_count": 524,
   "metadata": {},
   "outputs": [],
   "source": [
    "top10_dir.rename({\"index\":\"Director\", \"director\":\"Number of Movies Directed\"}, axis = 1, inplace = True)"
   ]
  },
  {
   "cell_type": "code",
   "execution_count": 525,
   "metadata": {
    "scrolled": true
   },
   "outputs": [
    {
     "data": {
      "text/html": [
       "<div>\n",
       "<style scoped>\n",
       "    .dataframe tbody tr th:only-of-type {\n",
       "        vertical-align: middle;\n",
       "    }\n",
       "\n",
       "    .dataframe tbody tr th {\n",
       "        vertical-align: top;\n",
       "    }\n",
       "\n",
       "    .dataframe thead th {\n",
       "        text-align: right;\n",
       "    }\n",
       "</style>\n",
       "<table border=\"1\" class=\"dataframe\">\n",
       "  <thead>\n",
       "    <tr style=\"text-align: right;\">\n",
       "      <th></th>\n",
       "      <th>Director</th>\n",
       "      <th>Number of Movies Directed</th>\n",
       "    </tr>\n",
       "  </thead>\n",
       "  <tbody>\n",
       "    <tr>\n",
       "      <th>0</th>\n",
       "      <td>Woody Allen</td>\n",
       "      <td>38</td>\n",
       "    </tr>\n",
       "    <tr>\n",
       "      <th>1</th>\n",
       "      <td>Clint Eastwood</td>\n",
       "      <td>31</td>\n",
       "    </tr>\n",
       "    <tr>\n",
       "      <th>2</th>\n",
       "      <td>Directors</td>\n",
       "      <td>28</td>\n",
       "    </tr>\n",
       "    <tr>\n",
       "      <th>3</th>\n",
       "      <td>Steven Spielberg</td>\n",
       "      <td>27</td>\n",
       "    </tr>\n",
       "    <tr>\n",
       "      <th>4</th>\n",
       "      <td>Ron Howard</td>\n",
       "      <td>24</td>\n",
       "    </tr>\n",
       "  </tbody>\n",
       "</table>\n",
       "</div>"
      ],
      "text/plain": [
       "           Director  Number of Movies Directed\n",
       "0       Woody Allen                         38\n",
       "1    Clint Eastwood                         31\n",
       "2         Directors                         28\n",
       "3  Steven Spielberg                         27\n",
       "4        Ron Howard                         24"
      ]
     },
     "execution_count": 525,
     "metadata": {},
     "output_type": "execute_result"
    }
   ],
   "source": [
    "top10_dir.head()"
   ]
  },
  {
   "cell_type": "code",
   "execution_count": 526,
   "metadata": {},
   "outputs": [],
   "source": [
    "### Droping the 3rd Row, \"Directors\" looks like a missing Data"
   ]
  },
  {
   "cell_type": "code",
   "execution_count": 527,
   "metadata": {},
   "outputs": [],
   "source": [
    "top10_dir.drop(2, inplace = True)"
   ]
  },
  {
   "cell_type": "code",
   "execution_count": 528,
   "metadata": {
    "scrolled": true
   },
   "outputs": [
    {
     "data": {
      "text/html": [
       "<div>\n",
       "<style scoped>\n",
       "    .dataframe tbody tr th:only-of-type {\n",
       "        vertical-align: middle;\n",
       "    }\n",
       "\n",
       "    .dataframe tbody tr th {\n",
       "        vertical-align: top;\n",
       "    }\n",
       "\n",
       "    .dataframe thead th {\n",
       "        text-align: right;\n",
       "    }\n",
       "</style>\n",
       "<table border=\"1\" class=\"dataframe\">\n",
       "  <thead>\n",
       "    <tr style=\"text-align: right;\">\n",
       "      <th></th>\n",
       "      <th>Director</th>\n",
       "      <th>Number of Movies Directed</th>\n",
       "    </tr>\n",
       "  </thead>\n",
       "  <tbody>\n",
       "    <tr>\n",
       "      <th>0</th>\n",
       "      <td>Woody Allen</td>\n",
       "      <td>38</td>\n",
       "    </tr>\n",
       "    <tr>\n",
       "      <th>1</th>\n",
       "      <td>Clint Eastwood</td>\n",
       "      <td>31</td>\n",
       "    </tr>\n",
       "    <tr>\n",
       "      <th>3</th>\n",
       "      <td>Steven Spielberg</td>\n",
       "      <td>27</td>\n",
       "    </tr>\n",
       "    <tr>\n",
       "      <th>4</th>\n",
       "      <td>Ron Howard</td>\n",
       "      <td>24</td>\n",
       "    </tr>\n",
       "    <tr>\n",
       "      <th>5</th>\n",
       "      <td>Ridley Scott</td>\n",
       "      <td>23</td>\n",
       "    </tr>\n",
       "    <tr>\n",
       "      <th>6</th>\n",
       "      <td>Steven Soderbergh</td>\n",
       "      <td>23</td>\n",
       "    </tr>\n",
       "    <tr>\n",
       "      <th>7</th>\n",
       "      <td>Joel Schumacher</td>\n",
       "      <td>22</td>\n",
       "    </tr>\n",
       "    <tr>\n",
       "      <th>8</th>\n",
       "      <td>Barry Levinson</td>\n",
       "      <td>20</td>\n",
       "    </tr>\n",
       "    <tr>\n",
       "      <th>9</th>\n",
       "      <td>Tim Burton</td>\n",
       "      <td>19</td>\n",
       "    </tr>\n",
       "    <tr>\n",
       "      <th>10</th>\n",
       "      <td>Martin Scorsese</td>\n",
       "      <td>19</td>\n",
       "    </tr>\n",
       "  </tbody>\n",
       "</table>\n",
       "</div>"
      ],
      "text/plain": [
       "             Director  Number of Movies Directed\n",
       "0         Woody Allen                         38\n",
       "1      Clint Eastwood                         31\n",
       "3    Steven Spielberg                         27\n",
       "4          Ron Howard                         24\n",
       "5        Ridley Scott                         23\n",
       "6   Steven Soderbergh                         23\n",
       "7     Joel Schumacher                         22\n",
       "8      Barry Levinson                         20\n",
       "9          Tim Burton                         19\n",
       "10    Martin Scorsese                         19"
      ]
     },
     "execution_count": 528,
     "metadata": {},
     "output_type": "execute_result"
    }
   ],
   "source": [
    "top10_dir"
   ]
  },
  {
   "cell_type": "markdown",
   "metadata": {},
   "source": [
    "### *ABOVE ARE THE TOP DIRECTORS IN TERMS OF HOW MANY MOVIES THEY HAVE DIRECTED IN THE LAST 40 YEARS.*"
   ]
  },
  {
   "cell_type": "code",
   "execution_count": null,
   "metadata": {},
   "outputs": [],
   "source": []
  },
  {
   "cell_type": "markdown",
   "metadata": {},
   "source": [
    "### VISUALIZING THE TOP DIRECTORS IN TERMS OF NUMBER OF MOVIES DIRECTED"
   ]
  },
  {
   "cell_type": "code",
   "execution_count": 533,
   "metadata": {},
   "outputs": [
    {
     "data": {
      "image/png": "[encoded data removed]",
      "text/plain": [
       "<Figure size 720x432 with 1 Axes>"
      ]
     },
     "metadata": {
      "needs_background": "light"
     },
     "output_type": "display_data"
    }
   ],
   "source": [
    "plt.figure(figsize = (10, 6))\n",
    "sns.barplot(x = top10_dir[\"Number of Movies Directed\"], y = top10_dir[\"Director\"])\n",
    "\n",
    "plt.title(\"THE TOP DIRECTORS IN TERMS OF NUMBER OF MOVIES DIRECTED\")\n",
    "plt.rc('font', size=10)\n",
    "plt.xlabel(\"Number of Movies Directed\")\n",
    "plt.ylabel(\"DIRECTORS\")\n",
    "plt.show()"
   ]
  },
  {
   "cell_type": "code",
   "execution_count": null,
   "metadata": {},
   "outputs": [],
   "source": []
  },
  {
   "cell_type": "code",
   "execution_count": null,
   "metadata": {},
   "outputs": [],
   "source": []
  },
  {
   "cell_type": "markdown",
   "metadata": {},
   "source": [
    "## 20. TOP 15 ACTORS THAT HAVE BEEN THE STAR OF A MOVIE THE MOST IN OVER 40 YEARS."
   ]
  },
  {
   "cell_type": "code",
   "execution_count": 552,
   "metadata": {},
   "outputs": [],
   "source": [
    "top15_stars = pd.DataFrame(movies.star.value_counts().head(20)).reset_index()"
   ]
  },
  {
   "cell_type": "code",
   "execution_count": 553,
   "metadata": {},
   "outputs": [
    {
     "data": {
      "text/html": [
       "<div>\n",
       "<style scoped>\n",
       "    .dataframe tbody tr th:only-of-type {\n",
       "        vertical-align: middle;\n",
       "    }\n",
       "\n",
       "    .dataframe tbody tr th {\n",
       "        vertical-align: top;\n",
       "    }\n",
       "\n",
       "    .dataframe thead th {\n",
       "        text-align: right;\n",
       "    }\n",
       "</style>\n",
       "<table border=\"1\" class=\"dataframe\">\n",
       "  <thead>\n",
       "    <tr style=\"text-align: right;\">\n",
       "      <th></th>\n",
       "      <th>index</th>\n",
       "      <th>star</th>\n",
       "    </tr>\n",
       "  </thead>\n",
       "  <tbody>\n",
       "    <tr>\n",
       "      <th>0</th>\n",
       "      <td>Nicolas Cage</td>\n",
       "      <td>43</td>\n",
       "    </tr>\n",
       "    <tr>\n",
       "      <th>1</th>\n",
       "      <td>Tom Hanks</td>\n",
       "      <td>41</td>\n",
       "    </tr>\n",
       "    <tr>\n",
       "      <th>2</th>\n",
       "      <td>Robert De Niro</td>\n",
       "      <td>41</td>\n",
       "    </tr>\n",
       "    <tr>\n",
       "      <th>3</th>\n",
       "      <td>Denzel Washington</td>\n",
       "      <td>37</td>\n",
       "    </tr>\n",
       "    <tr>\n",
       "      <th>4</th>\n",
       "      <td>Tom Cruise</td>\n",
       "      <td>34</td>\n",
       "    </tr>\n",
       "  </tbody>\n",
       "</table>\n",
       "</div>"
      ],
      "text/plain": [
       "               index  star\n",
       "0       Nicolas Cage    43\n",
       "1          Tom Hanks    41\n",
       "2     Robert De Niro    41\n",
       "3  Denzel Washington    37\n",
       "4         Tom Cruise    34"
      ]
     },
     "execution_count": 553,
     "metadata": {},
     "output_type": "execute_result"
    }
   ],
   "source": [
    "top15_stars.head()"
   ]
  },
  {
   "cell_type": "code",
   "execution_count": 554,
   "metadata": {},
   "outputs": [],
   "source": [
    "### Renaming the Columns\n",
    "top15_stars.rename({\"index\":\"Actor\", \"star\":\"Number of Movies\"}, axis = 1, inplace = True)"
   ]
  },
  {
   "cell_type": "code",
   "execution_count": 555,
   "metadata": {},
   "outputs": [
    {
     "data": {
      "text/html": [
       "<div>\n",
       "<style scoped>\n",
       "    .dataframe tbody tr th:only-of-type {\n",
       "        vertical-align: middle;\n",
       "    }\n",
       "\n",
       "    .dataframe tbody tr th {\n",
       "        vertical-align: top;\n",
       "    }\n",
       "\n",
       "    .dataframe thead th {\n",
       "        text-align: right;\n",
       "    }\n",
       "</style>\n",
       "<table border=\"1\" class=\"dataframe\">\n",
       "  <thead>\n",
       "    <tr style=\"text-align: right;\">\n",
       "      <th></th>\n",
       "      <th>Actor</th>\n",
       "      <th>Number of Movies</th>\n",
       "    </tr>\n",
       "  </thead>\n",
       "  <tbody>\n",
       "    <tr>\n",
       "      <th>0</th>\n",
       "      <td>Nicolas Cage</td>\n",
       "      <td>43</td>\n",
       "    </tr>\n",
       "    <tr>\n",
       "      <th>1</th>\n",
       "      <td>Tom Hanks</td>\n",
       "      <td>41</td>\n",
       "    </tr>\n",
       "    <tr>\n",
       "      <th>2</th>\n",
       "      <td>Robert De Niro</td>\n",
       "      <td>41</td>\n",
       "    </tr>\n",
       "    <tr>\n",
       "      <th>3</th>\n",
       "      <td>Denzel Washington</td>\n",
       "      <td>37</td>\n",
       "    </tr>\n",
       "    <tr>\n",
       "      <th>4</th>\n",
       "      <td>Tom Cruise</td>\n",
       "      <td>34</td>\n",
       "    </tr>\n",
       "    <tr>\n",
       "      <th>5</th>\n",
       "      <td>Bruce Willis</td>\n",
       "      <td>34</td>\n",
       "    </tr>\n",
       "    <tr>\n",
       "      <th>6</th>\n",
       "      <td>Johnny Depp</td>\n",
       "      <td>33</td>\n",
       "    </tr>\n",
       "    <tr>\n",
       "      <th>7</th>\n",
       "      <td>Sylvester Stallone</td>\n",
       "      <td>32</td>\n",
       "    </tr>\n",
       "    <tr>\n",
       "      <th>8</th>\n",
       "      <td>John Travolta</td>\n",
       "      <td>31</td>\n",
       "    </tr>\n",
       "    <tr>\n",
       "      <th>9</th>\n",
       "      <td>Steve Martin</td>\n",
       "      <td>29</td>\n",
       "    </tr>\n",
       "    <tr>\n",
       "      <th>10</th>\n",
       "      <td>Mel Gibson</td>\n",
       "      <td>29</td>\n",
       "    </tr>\n",
       "    <tr>\n",
       "      <th>11</th>\n",
       "      <td>Kevin Costner</td>\n",
       "      <td>29</td>\n",
       "    </tr>\n",
       "    <tr>\n",
       "      <th>12</th>\n",
       "      <td>Adam Sandler</td>\n",
       "      <td>28</td>\n",
       "    </tr>\n",
       "    <tr>\n",
       "      <th>13</th>\n",
       "      <td>Eddie Murphy</td>\n",
       "      <td>27</td>\n",
       "    </tr>\n",
       "    <tr>\n",
       "      <th>14</th>\n",
       "      <td>Keanu Reeves</td>\n",
       "      <td>27</td>\n",
       "    </tr>\n",
       "    <tr>\n",
       "      <th>15</th>\n",
       "      <td>Arnold Schwarzenegger</td>\n",
       "      <td>27</td>\n",
       "    </tr>\n",
       "    <tr>\n",
       "      <th>16</th>\n",
       "      <td>Robin Williams</td>\n",
       "      <td>27</td>\n",
       "    </tr>\n",
       "    <tr>\n",
       "      <th>17</th>\n",
       "      <td>Jeff Bridges</td>\n",
       "      <td>27</td>\n",
       "    </tr>\n",
       "    <tr>\n",
       "      <th>18</th>\n",
       "      <td>Ben Stiller</td>\n",
       "      <td>27</td>\n",
       "    </tr>\n",
       "    <tr>\n",
       "      <th>19</th>\n",
       "      <td>Harrison Ford</td>\n",
       "      <td>26</td>\n",
       "    </tr>\n",
       "  </tbody>\n",
       "</table>\n",
       "</div>"
      ],
      "text/plain": [
       "                    Actor  Number of Movies\n",
       "0            Nicolas Cage                43\n",
       "1               Tom Hanks                41\n",
       "2          Robert De Niro                41\n",
       "3       Denzel Washington                37\n",
       "4              Tom Cruise                34\n",
       "5            Bruce Willis                34\n",
       "6             Johnny Depp                33\n",
       "7      Sylvester Stallone                32\n",
       "8           John Travolta                31\n",
       "9            Steve Martin                29\n",
       "10             Mel Gibson                29\n",
       "11          Kevin Costner                29\n",
       "12           Adam Sandler                28\n",
       "13           Eddie Murphy                27\n",
       "14           Keanu Reeves                27\n",
       "15  Arnold Schwarzenegger                27\n",
       "16         Robin Williams                27\n",
       "17           Jeff Bridges                27\n",
       "18            Ben Stiller                27\n",
       "19          Harrison Ford                26"
      ]
     },
     "execution_count": 555,
     "metadata": {},
     "output_type": "execute_result"
    }
   ],
   "source": [
    "top15_stars"
   ]
  },
  {
   "cell_type": "markdown",
   "metadata": {},
   "source": [
    "### ABOVE ARE THE TOP 15 ACTORS IN TERMS OF HOW MANY TIMES THEY HAVE BEEN THE STARS OF A MOVIE IN THE LAST 40 YEARS."
   ]
  },
  {
   "cell_type": "code",
   "execution_count": null,
   "metadata": {},
   "outputs": [],
   "source": []
  },
  {
   "cell_type": "markdown",
   "metadata": {},
   "source": [
    "### VIZUALIZING THE TOP 15 ACTORS"
   ]
  },
  {
   "cell_type": "code",
   "execution_count": 557,
   "metadata": {},
   "outputs": [
    {
     "data": {
      "image/png": "[encoded data removed]",
      "text/plain": [
       "<Figure size 720x432 with 1 Axes>"
      ]
     },
     "metadata": {
      "needs_background": "light"
     },
     "output_type": "display_data"
    }
   ],
   "source": [
    "plt.figure(figsize = (10, 6))\n",
    "sns.barplot(x = top15_stars[\"Number of Movies\"], y = top15_stars[\"Actor\"])\n",
    "plt.title(\"THE TOP 15 ACTORS IN TERMS OF HOW MANY MOVIES THEY HAVE STARRED\")\n",
    "plt.xlabel(\"NUMBER OF MOVIES\")\n",
    "plt.ylabel(\"ACTORS\")\n",
    "plt.show()"
   ]
  },
  {
   "cell_type": "code",
   "execution_count": null,
   "metadata": {},
   "outputs": [],
   "source": []
  },
  {
   "cell_type": "code",
   "execution_count": null,
   "metadata": {},
   "outputs": [],
   "source": []
  }
 ],
 "metadata": {
  "kernelspec": {
   "display_name": "Python 3",
   "language": "python",
   "name": "python3"
  },
  "language_info": {
   "codemirror_mode": {
    "name": "ipython",
    "version": 3
   },
   "file_extension": ".py",
   "mimetype": "text/x-python",
   "name": "python",
   "nbconvert_exporter": "python",
   "pygments_lexer": "ipython3",
   "version": "3.8.5"
  }
 },
 "nbformat": 4,
 "nbformat_minor": 4
}
