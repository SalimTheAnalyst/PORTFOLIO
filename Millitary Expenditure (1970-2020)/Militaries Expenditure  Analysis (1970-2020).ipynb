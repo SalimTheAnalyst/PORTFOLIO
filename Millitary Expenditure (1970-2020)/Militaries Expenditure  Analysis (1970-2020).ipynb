{
 "cells": [
  {
   "cell_type": "markdown",
   "metadata": {},
   "source": [
    "## THIS PROJECT INVOLVES THE ANALYSIS OF THE MILLITARY EXPENDITURE OF COUNTRIES IN THE WORLD WITHIN 50 YEARS.THE DATASET CONTAINS DATA FROM 1970 - 2020.\n",
    "\n",
    "Some of the questions answered in this analysis are:\n",
    "\n",
    "1. WHICH COUNTRIES (TOP 10) HAD THE HIGHEST MILLITARY SPENDING IN 2020.\n",
    "\n",
    "2. WHICH SUB-SAHARAN COUNTRIES (TOP 10) HAD THE HIGHEST MILLITARY SPENDING IN 2020.\n",
    "\n",
    "3. WHICH COUNTRIES HAVE SPENT THE MOST PERCENTAGE OF THEIR GENERAL GOVERNMENT EXPENDITURE ON THE MILLITARY AND IN WHICH YEAR.\n",
    "\n",
    "4. COMPARISON BETWEEN RUSSIAN AND UKRAINIAN MILLITARY EXPENDITURES:\n",
    "\n",
    "    i) TOTAL MILITARY EXPENDITURE OF BOTH COUNTRIES WITHIN 50 YEARS PERIOD (1970-2020).\n",
    "    \n",
    "    ii) WHAT IS THE MAXIMUM AMMOUNT SPENT ON THE MILLITARY IN A PARTICULAR YEAR BY RUSSIA AND UKRAINE ?.\n",
    "    \n",
    "    iii) YEARLY TOTAL MILITARY EXPENDITURE OF BOTH COUNTRIES WITHIN THE LAST 10 YEARS PERIOD (2010-2020)"
   ]
  },
  {
   "cell_type": "code",
   "execution_count": null,
   "metadata": {},
   "outputs": [],
   "source": []
  },
  {
   "cell_type": "markdown",
   "metadata": {},
   "source": [
    "## IMPORTING NECCESSARY LIBRARIES"
   ]
  },
  {
   "cell_type": "code",
   "execution_count": 116,
   "metadata": {},
   "outputs": [],
   "source": [
    "import pandas as pd\n",
    "import seaborn as sns\n",
    "import plotly.express as px\n",
    "import matplotlib.pyplot as plt\n",
    "import numpy as np"
   ]
  },
  {
   "cell_type": "code",
   "execution_count": null,
   "metadata": {},
   "outputs": [],
   "source": []
  },
  {
   "cell_type": "markdown",
   "metadata": {},
   "source": [
    "## IMPORTING THE DATASET"
   ]
  },
  {
   "cell_type": "code",
   "execution_count": 224,
   "metadata": {},
   "outputs": [],
   "source": [
    "millitary = pd.read_csv(\"military expenditure.csv\")"
   ]
  },
  {
   "cell_type": "code",
   "execution_count": 225,
   "metadata": {},
   "outputs": [
    {
     "data": {
      "text/html": [
       "<div>\n",
       "<style scoped>\n",
       "    .dataframe tbody tr th:only-of-type {\n",
       "        vertical-align: middle;\n",
       "    }\n",
       "\n",
       "    .dataframe tbody tr th {\n",
       "        vertical-align: top;\n",
       "    }\n",
       "\n",
       "    .dataframe thead th {\n",
       "        text-align: right;\n",
       "    }\n",
       "</style>\n",
       "<table border=\"1\" class=\"dataframe\">\n",
       "  <thead>\n",
       "    <tr style=\"text-align: right;\">\n",
       "      <th></th>\n",
       "      <th>country</th>\n",
       "      <th>iso3c</th>\n",
       "      <th>iso2c</th>\n",
       "      <th>year</th>\n",
       "      <th>Military expenditure (current USD)</th>\n",
       "      <th>Military expenditure (% of general government expenditure)</th>\n",
       "      <th>Military expenditure (% of GDP)</th>\n",
       "      <th>adminregion</th>\n",
       "      <th>incomeLevel</th>\n",
       "    </tr>\n",
       "  </thead>\n",
       "  <tbody>\n",
       "    <tr>\n",
       "      <th>0</th>\n",
       "      <td>Afghanistan</td>\n",
       "      <td>AFG</td>\n",
       "      <td>AF</td>\n",
       "      <td>1970</td>\n",
       "      <td>2.939586e+06</td>\n",
       "      <td>NaN</td>\n",
       "      <td>1.629606</td>\n",
       "      <td>South Asia</td>\n",
       "      <td>Low income</td>\n",
       "    </tr>\n",
       "    <tr>\n",
       "      <th>1</th>\n",
       "      <td>Afghanistan</td>\n",
       "      <td>AFG</td>\n",
       "      <td>AF</td>\n",
       "      <td>1971</td>\n",
       "      <td>NaN</td>\n",
       "      <td>NaN</td>\n",
       "      <td>NaN</td>\n",
       "      <td>South Asia</td>\n",
       "      <td>Low income</td>\n",
       "    </tr>\n",
       "    <tr>\n",
       "      <th>2</th>\n",
       "      <td>Afghanistan</td>\n",
       "      <td>AFG</td>\n",
       "      <td>AF</td>\n",
       "      <td>1972</td>\n",
       "      <td>NaN</td>\n",
       "      <td>NaN</td>\n",
       "      <td>NaN</td>\n",
       "      <td>South Asia</td>\n",
       "      <td>Low income</td>\n",
       "    </tr>\n",
       "    <tr>\n",
       "      <th>3</th>\n",
       "      <td>Afghanistan</td>\n",
       "      <td>AFG</td>\n",
       "      <td>AF</td>\n",
       "      <td>1973</td>\n",
       "      <td>3.341272e+06</td>\n",
       "      <td>NaN</td>\n",
       "      <td>1.868910</td>\n",
       "      <td>South Asia</td>\n",
       "      <td>Low income</td>\n",
       "    </tr>\n",
       "    <tr>\n",
       "      <th>4</th>\n",
       "      <td>Afghanistan</td>\n",
       "      <td>AFG</td>\n",
       "      <td>AF</td>\n",
       "      <td>1974</td>\n",
       "      <td>3.581366e+06</td>\n",
       "      <td>NaN</td>\n",
       "      <td>1.610825</td>\n",
       "      <td>South Asia</td>\n",
       "      <td>Low income</td>\n",
       "    </tr>\n",
       "    <tr>\n",
       "      <th>...</th>\n",
       "      <td>...</td>\n",
       "      <td>...</td>\n",
       "      <td>...</td>\n",
       "      <td>...</td>\n",
       "      <td>...</td>\n",
       "      <td>...</td>\n",
       "      <td>...</td>\n",
       "      <td>...</td>\n",
       "      <td>...</td>\n",
       "    </tr>\n",
       "    <tr>\n",
       "      <th>13561</th>\n",
       "      <td>Zimbabwe</td>\n",
       "      <td>ZWE</td>\n",
       "      <td>ZW</td>\n",
       "      <td>2016</td>\n",
       "      <td>3.580650e+08</td>\n",
       "      <td>7.363048</td>\n",
       "      <td>1.742494</td>\n",
       "      <td>Sub-Saharan Africa (excluding high income)</td>\n",
       "      <td>Lower middle income</td>\n",
       "    </tr>\n",
       "    <tr>\n",
       "      <th>13562</th>\n",
       "      <td>Zimbabwe</td>\n",
       "      <td>ZWE</td>\n",
       "      <td>ZW</td>\n",
       "      <td>2017</td>\n",
       "      <td>3.405220e+08</td>\n",
       "      <td>5.519890</td>\n",
       "      <td>1.544948</td>\n",
       "      <td>Sub-Saharan Africa (excluding high income)</td>\n",
       "      <td>Lower middle income</td>\n",
       "    </tr>\n",
       "    <tr>\n",
       "      <th>13563</th>\n",
       "      <td>Zimbabwe</td>\n",
       "      <td>ZWE</td>\n",
       "      <td>ZW</td>\n",
       "      <td>2018</td>\n",
       "      <td>4.203640e+08</td>\n",
       "      <td>5.607096</td>\n",
       "      <td>1.222795</td>\n",
       "      <td>Sub-Saharan Africa (excluding high income)</td>\n",
       "      <td>Lower middle income</td>\n",
       "    </tr>\n",
       "    <tr>\n",
       "      <th>13564</th>\n",
       "      <td>Zimbabwe</td>\n",
       "      <td>ZWE</td>\n",
       "      <td>ZW</td>\n",
       "      <td>2019</td>\n",
       "      <td>5.469390e+08</td>\n",
       "      <td>2.099816</td>\n",
       "      <td>0.698601</td>\n",
       "      <td>Sub-Saharan Africa (excluding high income)</td>\n",
       "      <td>Lower middle income</td>\n",
       "    </tr>\n",
       "    <tr>\n",
       "      <th>13565</th>\n",
       "      <td>Zimbabwe</td>\n",
       "      <td>ZWE</td>\n",
       "      <td>ZW</td>\n",
       "      <td>2020</td>\n",
       "      <td>NaN</td>\n",
       "      <td>NaN</td>\n",
       "      <td>NaN</td>\n",
       "      <td>Sub-Saharan Africa (excluding high income)</td>\n",
       "      <td>Lower middle income</td>\n",
       "    </tr>\n",
       "  </tbody>\n",
       "</table>\n",
       "<p>13566 rows × 9 columns</p>\n",
       "</div>"
      ],
      "text/plain": [
       "           country iso3c iso2c  year  Military expenditure (current USD)  \\\n",
       "0      Afghanistan   AFG    AF  1970                        2.939586e+06   \n",
       "1      Afghanistan   AFG    AF  1971                                 NaN   \n",
       "2      Afghanistan   AFG    AF  1972                                 NaN   \n",
       "3      Afghanistan   AFG    AF  1973                        3.341272e+06   \n",
       "4      Afghanistan   AFG    AF  1974                        3.581366e+06   \n",
       "...            ...   ...   ...   ...                                 ...   \n",
       "13561     Zimbabwe   ZWE    ZW  2016                        3.580650e+08   \n",
       "13562     Zimbabwe   ZWE    ZW  2017                        3.405220e+08   \n",
       "13563     Zimbabwe   ZWE    ZW  2018                        4.203640e+08   \n",
       "13564     Zimbabwe   ZWE    ZW  2019                        5.469390e+08   \n",
       "13565     Zimbabwe   ZWE    ZW  2020                                 NaN   \n",
       "\n",
       "       Military expenditure (% of general government expenditure)  \\\n",
       "0                                                    NaN            \n",
       "1                                                    NaN            \n",
       "2                                                    NaN            \n",
       "3                                                    NaN            \n",
       "4                                                    NaN            \n",
       "...                                                  ...            \n",
       "13561                                           7.363048            \n",
       "13562                                           5.519890            \n",
       "13563                                           5.607096            \n",
       "13564                                           2.099816            \n",
       "13565                                                NaN            \n",
       "\n",
       "       Military expenditure (% of GDP)  \\\n",
       "0                             1.629606   \n",
       "1                                  NaN   \n",
       "2                                  NaN   \n",
       "3                             1.868910   \n",
       "4                             1.610825   \n",
       "...                                ...   \n",
       "13561                         1.742494   \n",
       "13562                         1.544948   \n",
       "13563                         1.222795   \n",
       "13564                         0.698601   \n",
       "13565                              NaN   \n",
       "\n",
       "                                      adminregion          incomeLevel  \n",
       "0                                      South Asia           Low income  \n",
       "1                                      South Asia           Low income  \n",
       "2                                      South Asia           Low income  \n",
       "3                                      South Asia           Low income  \n",
       "4                                      South Asia           Low income  \n",
       "...                                           ...                  ...  \n",
       "13561  Sub-Saharan Africa (excluding high income)  Lower middle income  \n",
       "13562  Sub-Saharan Africa (excluding high income)  Lower middle income  \n",
       "13563  Sub-Saharan Africa (excluding high income)  Lower middle income  \n",
       "13564  Sub-Saharan Africa (excluding high income)  Lower middle income  \n",
       "13565  Sub-Saharan Africa (excluding high income)  Lower middle income  \n",
       "\n",
       "[13566 rows x 9 columns]"
      ]
     },
     "execution_count": 225,
     "metadata": {},
     "output_type": "execute_result"
    }
   ],
   "source": [
    "#Checking the Dataset\n",
    "millitary"
   ]
  },
  {
   "cell_type": "code",
   "execution_count": null,
   "metadata": {},
   "outputs": [],
   "source": []
  },
  {
   "cell_type": "markdown",
   "metadata": {},
   "source": [
    "## Information about the dataset"
   ]
  },
  {
   "cell_type": "code",
   "execution_count": 226,
   "metadata": {
    "scrolled": false
   },
   "outputs": [
    {
     "name": "stdout",
     "output_type": "stream",
     "text": [
      "<class 'pandas.core.frame.DataFrame'>\n",
      "RangeIndex: 13566 entries, 0 to 13565\n",
      "Data columns (total 9 columns):\n",
      " #   Column                                                      Non-Null Count  Dtype  \n",
      "---  ------                                                      --------------  -----  \n",
      " 0   country                                                     13566 non-null  object \n",
      " 1   iso3c                                                       13464 non-null  object \n",
      " 2   iso2c                                                       13413 non-null  object \n",
      " 3   year                                                        13566 non-null  int64  \n",
      " 4   Military expenditure (current USD)                          8769 non-null   float64\n",
      " 5   Military expenditure (% of general government expenditure)  5282 non-null   float64\n",
      " 6   Military expenditure (% of GDP)                             8777 non-null   float64\n",
      " 7   adminregion                                                 6987 non-null   object \n",
      " 8   incomeLevel                                                 13464 non-null  object \n",
      "dtypes: float64(3), int64(1), object(5)\n",
      "memory usage: 954.0+ KB\n"
     ]
    }
   ],
   "source": [
    "millitary.info()"
   ]
  },
  {
   "cell_type": "code",
   "execution_count": 227,
   "metadata": {},
   "outputs": [
    {
     "data": {
      "text/plain": [
       "(13566, 9)"
      ]
     },
     "execution_count": 227,
     "metadata": {},
     "output_type": "execute_result"
    }
   ],
   "source": [
    "# THE SHAPE OF THE DATA SET\n",
    "millitary.shape"
   ]
  },
  {
   "cell_type": "code",
   "execution_count": null,
   "metadata": {},
   "outputs": [],
   "source": []
  },
  {
   "cell_type": "markdown",
   "metadata": {},
   "source": [
    "#### RENAMING SOME COLUMNS "
   ]
  },
  {
   "cell_type": "code",
   "execution_count": 228,
   "metadata": {},
   "outputs": [],
   "source": [
    "millitary.rename({\"adminregion\": \"Admin Region\", \"incomeLevel\": \"Income Level\"}, axis = 1, inplace = True)"
   ]
  },
  {
   "cell_type": "code",
   "execution_count": 229,
   "metadata": {},
   "outputs": [
    {
     "name": "stdout",
     "output_type": "stream",
     "text": [
      "country\n",
      "iso3c\n",
      "iso2c\n",
      "year\n",
      "Military expenditure (current USD)\n",
      "Military expenditure (% of general government expenditure)\n",
      "Military expenditure (% of GDP)\n",
      "Admin Region\n",
      "Income Level\n"
     ]
    }
   ],
   "source": [
    "# CHECK COLUMN NAMES\n",
    "\n",
    "for i in millitary.columns:\n",
    "    print(i)"
   ]
  },
  {
   "cell_type": "markdown",
   "metadata": {},
   "source": [
    "## CHECK MISSING DATA IN EACH COLUMN"
   ]
  },
  {
   "cell_type": "code",
   "execution_count": 230,
   "metadata": {},
   "outputs": [
    {
     "data": {
      "text/plain": [
       "country                                                          0\n",
       "iso3c                                                          102\n",
       "iso2c                                                          153\n",
       "year                                                             0\n",
       "Military expenditure (current USD)                            4797\n",
       "Military expenditure (% of general government expenditure)    8284\n",
       "Military expenditure (% of GDP)                               4789\n",
       "Admin Region                                                  6579\n",
       "Income Level                                                   102\n",
       "dtype: int64"
      ]
     },
     "execution_count": 230,
     "metadata": {},
     "output_type": "execute_result"
    }
   ],
   "source": [
    "missing = millitary.isnull().sum()\n",
    "missing"
   ]
  },
  {
   "cell_type": "markdown",
   "metadata": {},
   "source": [
    "## VISUALIZING THE NUMBER OF MISSING DATA IN EACH COLUMN"
   ]
  },
  {
   "cell_type": "code",
   "execution_count": 231,
   "metadata": {
    "scrolled": false
   },
   "outputs": [
    {
     "data": {
      "text/plain": [
       "<AxesSubplot:>"
      ]
     },
     "execution_count": 231,
     "metadata": {},
     "output_type": "execute_result"
    },
    {
     "data": {
      "image/png": "[encoded data removed]",
      "text/plain": [
       "<Figure size 864x432 with 1 Axes>"
      ]
     },
     "metadata": {
      "needs_background": "light"
     },
     "output_type": "display_data"
    }
   ],
   "source": [
    "plt.figure(figsize = (12,6))\n",
    "missing.plot(kind = \"bar\")"
   ]
  },
  {
   "cell_type": "code",
   "execution_count": null,
   "metadata": {},
   "outputs": [],
   "source": []
  },
  {
   "cell_type": "markdown",
   "metadata": {},
   "source": [
    "## FILLING IN MISSING DATA TO AVOID FUTURE ISSUES "
   ]
  },
  {
   "cell_type": "code",
   "execution_count": 232,
   "metadata": {},
   "outputs": [],
   "source": [
    "millitary.fillna({\"iso3c\":\"none\",\n",
    "                  \"iso2c\":\"none\", \n",
    "                  \"Military expenditure (current USD)\": 0, \n",
    "                 \"Military expenditure (% of general government expenditure)\":0,\n",
    "                 \"Military expenditure (% of GDP)\": 0,\n",
    "                 \"Admin Region\": \"none\",\n",
    "                 \"Income Level\": \"none\"\n",
    "                 }, inplace = True)"
   ]
  },
  {
   "cell_type": "code",
   "execution_count": null,
   "metadata": {},
   "outputs": [],
   "source": []
  },
  {
   "cell_type": "code",
   "execution_count": null,
   "metadata": {},
   "outputs": [],
   "source": []
  },
  {
   "cell_type": "markdown",
   "metadata": {},
   "source": [
    "### SETTING EACH COLUMN TO ITS APPROPRIATE DATA TYPE AND RENAMING SOME COLUMNS\n"
   ]
  },
  {
   "cell_type": "code",
   "execution_count": 233,
   "metadata": {
    "scrolled": true
   },
   "outputs": [
    {
     "data": {
      "text/plain": [
       "country                                                        object\n",
       "iso3c                                                          object\n",
       "iso2c                                                          object\n",
       "year                                                            int64\n",
       "Military expenditure (current USD)                            float64\n",
       "Military expenditure (% of general government expenditure)    float64\n",
       "Military expenditure (% of GDP)                               float64\n",
       "Admin Region                                                   object\n",
       "Income Level                                                   object\n",
       "dtype: object"
      ]
     },
     "execution_count": 233,
     "metadata": {},
     "output_type": "execute_result"
    }
   ],
   "source": [
    "millitary.dtypes"
   ]
  },
  {
   "cell_type": "code",
   "execution_count": 78,
   "metadata": {},
   "outputs": [],
   "source": [
    "millitary[\"year\"] = millitary[\"year\"].astype(\"int32\")"
   ]
  },
  {
   "cell_type": "code",
   "execution_count": 234,
   "metadata": {},
   "outputs": [],
   "source": [
    "millitary[\"Military expenditure (% of GDP)\"] = millitary[\"Military expenditure (% of GDP)\"].astype(\"float\")"
   ]
  },
  {
   "cell_type": "code",
   "execution_count": 235,
   "metadata": {},
   "outputs": [],
   "source": [
    "millitary[\"Military expenditure (current USD)\"] = millitary[\"Military expenditure (current USD)\"].astype(\"int64\")"
   ]
  },
  {
   "cell_type": "code",
   "execution_count": 236,
   "metadata": {},
   "outputs": [],
   "source": [
    "millitary[\"Military expenditure (% of general government expenditure)\"] = millitary[\"Military expenditure (% of general government expenditure)\"].astype(\"float\")"
   ]
  },
  {
   "cell_type": "code",
   "execution_count": 237,
   "metadata": {},
   "outputs": [],
   "source": [
    "# Creating a Column to represent the Military expenditure in Billions to avoid displaying long numbers\n",
    "millitary[\"Millitary Expenditure (in Billion USD)\"] = millitary[\"Military expenditure (current USD)\"]/1000000000"
   ]
  },
  {
   "cell_type": "code",
   "execution_count": 238,
   "metadata": {},
   "outputs": [
    {
     "data": {
      "text/html": [
       "<div>\n",
       "<style scoped>\n",
       "    .dataframe tbody tr th:only-of-type {\n",
       "        vertical-align: middle;\n",
       "    }\n",
       "\n",
       "    .dataframe tbody tr th {\n",
       "        vertical-align: top;\n",
       "    }\n",
       "\n",
       "    .dataframe thead th {\n",
       "        text-align: right;\n",
       "    }\n",
       "</style>\n",
       "<table border=\"1\" class=\"dataframe\">\n",
       "  <thead>\n",
       "    <tr style=\"text-align: right;\">\n",
       "      <th></th>\n",
       "      <th>country</th>\n",
       "      <th>iso3c</th>\n",
       "      <th>iso2c</th>\n",
       "      <th>year</th>\n",
       "      <th>Military expenditure (current USD)</th>\n",
       "      <th>Military expenditure (% of general government expenditure)</th>\n",
       "      <th>Military expenditure (% of GDP)</th>\n",
       "      <th>Admin Region</th>\n",
       "      <th>Income Level</th>\n",
       "      <th>Millitary Expenditure (in Billion USD)</th>\n",
       "    </tr>\n",
       "  </thead>\n",
       "  <tbody>\n",
       "    <tr>\n",
       "      <th>0</th>\n",
       "      <td>Afghanistan</td>\n",
       "      <td>AFG</td>\n",
       "      <td>AF</td>\n",
       "      <td>1970</td>\n",
       "      <td>2939585</td>\n",
       "      <td>0.000000</td>\n",
       "      <td>1.629606</td>\n",
       "      <td>South Asia</td>\n",
       "      <td>Low income</td>\n",
       "      <td>0.002940</td>\n",
       "    </tr>\n",
       "    <tr>\n",
       "      <th>1</th>\n",
       "      <td>Afghanistan</td>\n",
       "      <td>AFG</td>\n",
       "      <td>AF</td>\n",
       "      <td>1971</td>\n",
       "      <td>0</td>\n",
       "      <td>0.000000</td>\n",
       "      <td>0.000000</td>\n",
       "      <td>South Asia</td>\n",
       "      <td>Low income</td>\n",
       "      <td>0.000000</td>\n",
       "    </tr>\n",
       "    <tr>\n",
       "      <th>2</th>\n",
       "      <td>Afghanistan</td>\n",
       "      <td>AFG</td>\n",
       "      <td>AF</td>\n",
       "      <td>1972</td>\n",
       "      <td>0</td>\n",
       "      <td>0.000000</td>\n",
       "      <td>0.000000</td>\n",
       "      <td>South Asia</td>\n",
       "      <td>Low income</td>\n",
       "      <td>0.000000</td>\n",
       "    </tr>\n",
       "    <tr>\n",
       "      <th>3</th>\n",
       "      <td>Afghanistan</td>\n",
       "      <td>AFG</td>\n",
       "      <td>AF</td>\n",
       "      <td>1973</td>\n",
       "      <td>3341271</td>\n",
       "      <td>0.000000</td>\n",
       "      <td>1.868910</td>\n",
       "      <td>South Asia</td>\n",
       "      <td>Low income</td>\n",
       "      <td>0.003341</td>\n",
       "    </tr>\n",
       "    <tr>\n",
       "      <th>4</th>\n",
       "      <td>Afghanistan</td>\n",
       "      <td>AFG</td>\n",
       "      <td>AF</td>\n",
       "      <td>1974</td>\n",
       "      <td>3581366</td>\n",
       "      <td>0.000000</td>\n",
       "      <td>1.610825</td>\n",
       "      <td>South Asia</td>\n",
       "      <td>Low income</td>\n",
       "      <td>0.003581</td>\n",
       "    </tr>\n",
       "    <tr>\n",
       "      <th>...</th>\n",
       "      <td>...</td>\n",
       "      <td>...</td>\n",
       "      <td>...</td>\n",
       "      <td>...</td>\n",
       "      <td>...</td>\n",
       "      <td>...</td>\n",
       "      <td>...</td>\n",
       "      <td>...</td>\n",
       "      <td>...</td>\n",
       "      <td>...</td>\n",
       "    </tr>\n",
       "    <tr>\n",
       "      <th>13561</th>\n",
       "      <td>Zimbabwe</td>\n",
       "      <td>ZWE</td>\n",
       "      <td>ZW</td>\n",
       "      <td>2016</td>\n",
       "      <td>358065000</td>\n",
       "      <td>7.363048</td>\n",
       "      <td>1.742494</td>\n",
       "      <td>Sub-Saharan Africa (excluding high income)</td>\n",
       "      <td>Lower middle income</td>\n",
       "      <td>0.358065</td>\n",
       "    </tr>\n",
       "    <tr>\n",
       "      <th>13562</th>\n",
       "      <td>Zimbabwe</td>\n",
       "      <td>ZWE</td>\n",
       "      <td>ZW</td>\n",
       "      <td>2017</td>\n",
       "      <td>340522000</td>\n",
       "      <td>5.519890</td>\n",
       "      <td>1.544948</td>\n",
       "      <td>Sub-Saharan Africa (excluding high income)</td>\n",
       "      <td>Lower middle income</td>\n",
       "      <td>0.340522</td>\n",
       "    </tr>\n",
       "    <tr>\n",
       "      <th>13563</th>\n",
       "      <td>Zimbabwe</td>\n",
       "      <td>ZWE</td>\n",
       "      <td>ZW</td>\n",
       "      <td>2018</td>\n",
       "      <td>420364000</td>\n",
       "      <td>5.607096</td>\n",
       "      <td>1.222795</td>\n",
       "      <td>Sub-Saharan Africa (excluding high income)</td>\n",
       "      <td>Lower middle income</td>\n",
       "      <td>0.420364</td>\n",
       "    </tr>\n",
       "    <tr>\n",
       "      <th>13564</th>\n",
       "      <td>Zimbabwe</td>\n",
       "      <td>ZWE</td>\n",
       "      <td>ZW</td>\n",
       "      <td>2019</td>\n",
       "      <td>546939000</td>\n",
       "      <td>2.099816</td>\n",
       "      <td>0.698601</td>\n",
       "      <td>Sub-Saharan Africa (excluding high income)</td>\n",
       "      <td>Lower middle income</td>\n",
       "      <td>0.546939</td>\n",
       "    </tr>\n",
       "    <tr>\n",
       "      <th>13565</th>\n",
       "      <td>Zimbabwe</td>\n",
       "      <td>ZWE</td>\n",
       "      <td>ZW</td>\n",
       "      <td>2020</td>\n",
       "      <td>0</td>\n",
       "      <td>0.000000</td>\n",
       "      <td>0.000000</td>\n",
       "      <td>Sub-Saharan Africa (excluding high income)</td>\n",
       "      <td>Lower middle income</td>\n",
       "      <td>0.000000</td>\n",
       "    </tr>\n",
       "  </tbody>\n",
       "</table>\n",
       "<p>13566 rows × 10 columns</p>\n",
       "</div>"
      ],
      "text/plain": [
       "           country iso3c iso2c  year  Military expenditure (current USD)  \\\n",
       "0      Afghanistan   AFG    AF  1970                             2939585   \n",
       "1      Afghanistan   AFG    AF  1971                                   0   \n",
       "2      Afghanistan   AFG    AF  1972                                   0   \n",
       "3      Afghanistan   AFG    AF  1973                             3341271   \n",
       "4      Afghanistan   AFG    AF  1974                             3581366   \n",
       "...            ...   ...   ...   ...                                 ...   \n",
       "13561     Zimbabwe   ZWE    ZW  2016                           358065000   \n",
       "13562     Zimbabwe   ZWE    ZW  2017                           340522000   \n",
       "13563     Zimbabwe   ZWE    ZW  2018                           420364000   \n",
       "13564     Zimbabwe   ZWE    ZW  2019                           546939000   \n",
       "13565     Zimbabwe   ZWE    ZW  2020                                   0   \n",
       "\n",
       "       Military expenditure (% of general government expenditure)  \\\n",
       "0                                               0.000000            \n",
       "1                                               0.000000            \n",
       "2                                               0.000000            \n",
       "3                                               0.000000            \n",
       "4                                               0.000000            \n",
       "...                                                  ...            \n",
       "13561                                           7.363048            \n",
       "13562                                           5.519890            \n",
       "13563                                           5.607096            \n",
       "13564                                           2.099816            \n",
       "13565                                           0.000000            \n",
       "\n",
       "       Military expenditure (% of GDP)  \\\n",
       "0                             1.629606   \n",
       "1                             0.000000   \n",
       "2                             0.000000   \n",
       "3                             1.868910   \n",
       "4                             1.610825   \n",
       "...                                ...   \n",
       "13561                         1.742494   \n",
       "13562                         1.544948   \n",
       "13563                         1.222795   \n",
       "13564                         0.698601   \n",
       "13565                         0.000000   \n",
       "\n",
       "                                     Admin Region         Income Level  \\\n",
       "0                                      South Asia           Low income   \n",
       "1                                      South Asia           Low income   \n",
       "2                                      South Asia           Low income   \n",
       "3                                      South Asia           Low income   \n",
       "4                                      South Asia           Low income   \n",
       "...                                           ...                  ...   \n",
       "13561  Sub-Saharan Africa (excluding high income)  Lower middle income   \n",
       "13562  Sub-Saharan Africa (excluding high income)  Lower middle income   \n",
       "13563  Sub-Saharan Africa (excluding high income)  Lower middle income   \n",
       "13564  Sub-Saharan Africa (excluding high income)  Lower middle income   \n",
       "13565  Sub-Saharan Africa (excluding high income)  Lower middle income   \n",
       "\n",
       "       Millitary Expenditure (in Billion USD)  \n",
       "0                                    0.002940  \n",
       "1                                    0.000000  \n",
       "2                                    0.000000  \n",
       "3                                    0.003341  \n",
       "4                                    0.003581  \n",
       "...                                       ...  \n",
       "13561                                0.358065  \n",
       "13562                                0.340522  \n",
       "13563                                0.420364  \n",
       "13564                                0.546939  \n",
       "13565                                0.000000  \n",
       "\n",
       "[13566 rows x 10 columns]"
      ]
     },
     "execution_count": 238,
     "metadata": {},
     "output_type": "execute_result"
    }
   ],
   "source": [
    "millitary"
   ]
  },
  {
   "cell_type": "code",
   "execution_count": null,
   "metadata": {},
   "outputs": [],
   "source": []
  },
  {
   "cell_type": "code",
   "execution_count": null,
   "metadata": {},
   "outputs": [],
   "source": []
  },
  {
   "cell_type": "markdown",
   "metadata": {},
   "source": [
    "## 1. WHICH COUNTRIES (TOP 10) HAD THE HIGHEST MILLITARY SPENDING IN 2020"
   ]
  },
  {
   "cell_type": "code",
   "execution_count": 239,
   "metadata": {
    "scrolled": true
   },
   "outputs": [],
   "source": [
    "hms = millitary[millitary[\"year\"] == 2020].sort_values(\"Military expenditure (current USD)\", ascending = False).loc[[12953\n",
    "                                            , 2396, 5711, 10352, 12902, 10607, 4538, 6170, 6476, 6068]][[\"country\", \"iso3c\",\n",
    "                                                                            \"Millitary Expenditure (in Billion USD)\"\n",
    "                                                                                                        ]]"
   ]
  },
  {
   "cell_type": "code",
   "execution_count": 240,
   "metadata": {},
   "outputs": [
    {
     "data": {
      "text/html": [
       "<div>\n",
       "<style scoped>\n",
       "    .dataframe tbody tr th:only-of-type {\n",
       "        vertical-align: middle;\n",
       "    }\n",
       "\n",
       "    .dataframe tbody tr th {\n",
       "        vertical-align: top;\n",
       "    }\n",
       "\n",
       "    .dataframe thead th {\n",
       "        text-align: right;\n",
       "    }\n",
       "</style>\n",
       "<table border=\"1\" class=\"dataframe\">\n",
       "  <thead>\n",
       "    <tr style=\"text-align: right;\">\n",
       "      <th></th>\n",
       "      <th>country</th>\n",
       "      <th>iso3c</th>\n",
       "      <th>Millitary Expenditure (in Billion USD)</th>\n",
       "    </tr>\n",
       "  </thead>\n",
       "  <tbody>\n",
       "    <tr>\n",
       "      <th>12953</th>\n",
       "      <td>United States</td>\n",
       "      <td>USA</td>\n",
       "      <td>778.232200</td>\n",
       "    </tr>\n",
       "    <tr>\n",
       "      <th>2396</th>\n",
       "      <td>China</td>\n",
       "      <td>CHN</td>\n",
       "      <td>252.304224</td>\n",
       "    </tr>\n",
       "    <tr>\n",
       "      <th>5711</th>\n",
       "      <td>India</td>\n",
       "      <td>IND</td>\n",
       "      <td>72.887447</td>\n",
       "    </tr>\n",
       "    <tr>\n",
       "      <th>10352</th>\n",
       "      <td>Russian Federation</td>\n",
       "      <td>RUS</td>\n",
       "      <td>61.712537</td>\n",
       "    </tr>\n",
       "    <tr>\n",
       "      <th>12902</th>\n",
       "      <td>United Kingdom</td>\n",
       "      <td>GBR</td>\n",
       "      <td>59.238462</td>\n",
       "    </tr>\n",
       "    <tr>\n",
       "      <th>10607</th>\n",
       "      <td>Saudi Arabia</td>\n",
       "      <td>SAU</td>\n",
       "      <td>57.519424</td>\n",
       "    </tr>\n",
       "    <tr>\n",
       "      <th>4538</th>\n",
       "      <td>Germany</td>\n",
       "      <td>DEU</td>\n",
       "      <td>52.764761</td>\n",
       "    </tr>\n",
       "    <tr>\n",
       "      <th>6170</th>\n",
       "      <td>Japan</td>\n",
       "      <td>JPN</td>\n",
       "      <td>49.148557</td>\n",
       "    </tr>\n",
       "    <tr>\n",
       "      <th>6476</th>\n",
       "      <td>Korea, Rep.</td>\n",
       "      <td>KOR</td>\n",
       "      <td>45.735393</td>\n",
       "    </tr>\n",
       "    <tr>\n",
       "      <th>6068</th>\n",
       "      <td>Italy</td>\n",
       "      <td>ITA</td>\n",
       "      <td>28.921343</td>\n",
       "    </tr>\n",
       "  </tbody>\n",
       "</table>\n",
       "</div>"
      ],
      "text/plain": [
       "                  country iso3c  Millitary Expenditure (in Billion USD)\n",
       "12953       United States   USA                              778.232200\n",
       "2396                China   CHN                              252.304224\n",
       "5711                India   IND                               72.887447\n",
       "10352  Russian Federation   RUS                               61.712537\n",
       "12902      United Kingdom   GBR                               59.238462\n",
       "10607        Saudi Arabia   SAU                               57.519424\n",
       "4538              Germany   DEU                               52.764761\n",
       "6170                Japan   JPN                               49.148557\n",
       "6476          Korea, Rep.   KOR                               45.735393\n",
       "6068                Italy   ITA                               28.921343"
      ]
     },
     "execution_count": 240,
     "metadata": {},
     "output_type": "execute_result"
    }
   ],
   "source": [
    "hms"
   ]
  },
  {
   "cell_type": "markdown",
   "metadata": {},
   "source": [
    "### VISUALIZING TOP 10 COUNTRIES WITH HIGHEST MILLITARY SPENDING IN 2020"
   ]
  },
  {
   "cell_type": "code",
   "execution_count": 308,
   "metadata": {
    "scrolled": false
   },
   "outputs": [
    {
     "data": {
      "image/png": "[encoded data removed]",
      "text/plain": [
       "<Figure size 864x432 with 1 Axes>"
      ]
     },
     "metadata": {
      "needs_background": "light"
     },
     "output_type": "display_data"
    }
   ],
   "source": [
    "plt.figure(figsize = (12, 6))\n",
    "sns.barplot(data = hms, y = \"country\", x = \"Millitary Expenditure (in Billion USD)\", orient = \"h\" )\n",
    "\n",
    "plt.show()"
   ]
  },
  {
   "cell_type": "code",
   "execution_count": null,
   "metadata": {},
   "outputs": [],
   "source": []
  },
  {
   "cell_type": "code",
   "execution_count": null,
   "metadata": {},
   "outputs": [],
   "source": []
  },
  {
   "cell_type": "markdown",
   "metadata": {},
   "source": [
    "### 2. WHICH SUB-SAHARAN COUNTRIES (TOP 10) HAD THE HIGHEST MILLITARY SPENDING IN 2020"
   ]
  },
  {
   "cell_type": "code",
   "execution_count": 265,
   "metadata": {},
   "outputs": [],
   "source": [
    "afri = millitary[millitary[\"Admin Region\"] == \"Sub-Saharan Africa (excluding high income)\"]\n",
    "afri.reset_index(inplace = True)"
   ]
  },
  {
   "cell_type": "code",
   "execution_count": 266,
   "metadata": {},
   "outputs": [],
   "source": [
    "del afri[\"index\"]"
   ]
  },
  {
   "cell_type": "code",
   "execution_count": 267,
   "metadata": {},
   "outputs": [
    {
     "data": {
      "text/html": [
       "<div>\n",
       "<style scoped>\n",
       "    .dataframe tbody tr th:only-of-type {\n",
       "        vertical-align: middle;\n",
       "    }\n",
       "\n",
       "    .dataframe tbody tr th {\n",
       "        vertical-align: top;\n",
       "    }\n",
       "\n",
       "    .dataframe thead th {\n",
       "        text-align: right;\n",
       "    }\n",
       "</style>\n",
       "<table border=\"1\" class=\"dataframe\">\n",
       "  <thead>\n",
       "    <tr style=\"text-align: right;\">\n",
       "      <th></th>\n",
       "      <th>country</th>\n",
       "      <th>iso3c</th>\n",
       "      <th>iso2c</th>\n",
       "      <th>year</th>\n",
       "      <th>Military expenditure (current USD)</th>\n",
       "      <th>Military expenditure (% of general government expenditure)</th>\n",
       "      <th>Military expenditure (% of GDP)</th>\n",
       "      <th>Admin Region</th>\n",
       "      <th>Income Level</th>\n",
       "      <th>Millitary Expenditure (in Billion USD)</th>\n",
       "    </tr>\n",
       "  </thead>\n",
       "  <tbody>\n",
       "    <tr>\n",
       "      <th>0</th>\n",
       "      <td>Angola</td>\n",
       "      <td>AGO</td>\n",
       "      <td>AO</td>\n",
       "      <td>1970</td>\n",
       "      <td>0</td>\n",
       "      <td>0.0</td>\n",
       "      <td>0.0</td>\n",
       "      <td>Sub-Saharan Africa (excluding high income)</td>\n",
       "      <td>Lower middle income</td>\n",
       "      <td>0.0</td>\n",
       "    </tr>\n",
       "    <tr>\n",
       "      <th>1</th>\n",
       "      <td>Angola</td>\n",
       "      <td>AGO</td>\n",
       "      <td>AO</td>\n",
       "      <td>1971</td>\n",
       "      <td>0</td>\n",
       "      <td>0.0</td>\n",
       "      <td>0.0</td>\n",
       "      <td>Sub-Saharan Africa (excluding high income)</td>\n",
       "      <td>Lower middle income</td>\n",
       "      <td>0.0</td>\n",
       "    </tr>\n",
       "    <tr>\n",
       "      <th>2</th>\n",
       "      <td>Angola</td>\n",
       "      <td>AGO</td>\n",
       "      <td>AO</td>\n",
       "      <td>1972</td>\n",
       "      <td>0</td>\n",
       "      <td>0.0</td>\n",
       "      <td>0.0</td>\n",
       "      <td>Sub-Saharan Africa (excluding high income)</td>\n",
       "      <td>Lower middle income</td>\n",
       "      <td>0.0</td>\n",
       "    </tr>\n",
       "    <tr>\n",
       "      <th>3</th>\n",
       "      <td>Angola</td>\n",
       "      <td>AGO</td>\n",
       "      <td>AO</td>\n",
       "      <td>1973</td>\n",
       "      <td>0</td>\n",
       "      <td>0.0</td>\n",
       "      <td>0.0</td>\n",
       "      <td>Sub-Saharan Africa (excluding high income)</td>\n",
       "      <td>Lower middle income</td>\n",
       "      <td>0.0</td>\n",
       "    </tr>\n",
       "    <tr>\n",
       "      <th>4</th>\n",
       "      <td>Angola</td>\n",
       "      <td>AGO</td>\n",
       "      <td>AO</td>\n",
       "      <td>1974</td>\n",
       "      <td>0</td>\n",
       "      <td>0.0</td>\n",
       "      <td>0.0</td>\n",
       "      <td>Sub-Saharan Africa (excluding high income)</td>\n",
       "      <td>Lower middle income</td>\n",
       "      <td>0.0</td>\n",
       "    </tr>\n",
       "  </tbody>\n",
       "</table>\n",
       "</div>"
      ],
      "text/plain": [
       "  country iso3c iso2c  year  Military expenditure (current USD)  \\\n",
       "0  Angola   AGO    AO  1970                                   0   \n",
       "1  Angola   AGO    AO  1971                                   0   \n",
       "2  Angola   AGO    AO  1972                                   0   \n",
       "3  Angola   AGO    AO  1973                                   0   \n",
       "4  Angola   AGO    AO  1974                                   0   \n",
       "\n",
       "   Military expenditure (% of general government expenditure)  \\\n",
       "0                                                0.0            \n",
       "1                                                0.0            \n",
       "2                                                0.0            \n",
       "3                                                0.0            \n",
       "4                                                0.0            \n",
       "\n",
       "   Military expenditure (% of GDP)  \\\n",
       "0                              0.0   \n",
       "1                              0.0   \n",
       "2                              0.0   \n",
       "3                              0.0   \n",
       "4                              0.0   \n",
       "\n",
       "                                 Admin Region         Income Level  \\\n",
       "0  Sub-Saharan Africa (excluding high income)  Lower middle income   \n",
       "1  Sub-Saharan Africa (excluding high income)  Lower middle income   \n",
       "2  Sub-Saharan Africa (excluding high income)  Lower middle income   \n",
       "3  Sub-Saharan Africa (excluding high income)  Lower middle income   \n",
       "4  Sub-Saharan Africa (excluding high income)  Lower middle income   \n",
       "\n",
       "   Millitary Expenditure (in Billion USD)  \n",
       "0                                     0.0  \n",
       "1                                     0.0  \n",
       "2                                     0.0  \n",
       "3                                     0.0  \n",
       "4                                     0.0  "
      ]
     },
     "execution_count": 267,
     "metadata": {},
     "output_type": "execute_result"
    }
   ],
   "source": [
    "afri.head()"
   ]
  },
  {
   "cell_type": "code",
   "execution_count": 270,
   "metadata": {
    "scrolled": false
   },
   "outputs": [],
   "source": [
    "afri20 = afri[afri[\"year\"] == 2020].sort_values(\"Military expenditure (current USD)\", ascending = False)[[\"country\",\n",
    "                                                                \"iso3c\", \n",
    "                                                       \"Millitary Expenditure (in Billion USD)\", \n",
    "                                                    \"Military expenditure (% of general government expenditure)\"\n",
    "                                                    ]].head(10).reset_index()"
   ]
  },
  {
   "cell_type": "code",
   "execution_count": 272,
   "metadata": {},
   "outputs": [],
   "source": [
    "del afri20[\"index\"]"
   ]
  },
  {
   "cell_type": "code",
   "execution_count": 273,
   "metadata": {
    "scrolled": true
   },
   "outputs": [
    {
     "data": {
      "text/html": [
       "<div>\n",
       "<style scoped>\n",
       "    .dataframe tbody tr th:only-of-type {\n",
       "        vertical-align: middle;\n",
       "    }\n",
       "\n",
       "    .dataframe tbody tr th {\n",
       "        vertical-align: top;\n",
       "    }\n",
       "\n",
       "    .dataframe thead th {\n",
       "        text-align: right;\n",
       "    }\n",
       "</style>\n",
       "<table border=\"1\" class=\"dataframe\">\n",
       "  <thead>\n",
       "    <tr style=\"text-align: right;\">\n",
       "      <th></th>\n",
       "      <th>country</th>\n",
       "      <th>iso3c</th>\n",
       "      <th>Millitary Expenditure (in Billion USD)</th>\n",
       "      <th>Military expenditure (% of general government expenditure)</th>\n",
       "    </tr>\n",
       "  </thead>\n",
       "  <tbody>\n",
       "    <tr>\n",
       "      <th>0</th>\n",
       "      <td>South Africa</td>\n",
       "      <td>ZAF</td>\n",
       "      <td>3.150829</td>\n",
       "      <td>2.613176</td>\n",
       "    </tr>\n",
       "    <tr>\n",
       "      <th>1</th>\n",
       "      <td>Nigeria</td>\n",
       "      <td>NGA</td>\n",
       "      <td>2.567918</td>\n",
       "      <td>4.961843</td>\n",
       "    </tr>\n",
       "    <tr>\n",
       "      <th>2</th>\n",
       "      <td>Kenya</td>\n",
       "      <td>KEN</td>\n",
       "      <td>1.106218</td>\n",
       "      <td>4.404040</td>\n",
       "    </tr>\n",
       "    <tr>\n",
       "      <th>3</th>\n",
       "      <td>Angola</td>\n",
       "      <td>AGO</td>\n",
       "      <td>0.993594</td>\n",
       "      <td>7.793800</td>\n",
       "    </tr>\n",
       "    <tr>\n",
       "      <th>4</th>\n",
       "      <td>Uganda</td>\n",
       "      <td>UGA</td>\n",
       "      <td>0.984760</td>\n",
       "      <td>13.118894</td>\n",
       "    </tr>\n",
       "    <tr>\n",
       "      <th>5</th>\n",
       "      <td>Sudan</td>\n",
       "      <td>SDN</td>\n",
       "      <td>0.934311</td>\n",
       "      <td>8.254452</td>\n",
       "    </tr>\n",
       "    <tr>\n",
       "      <th>6</th>\n",
       "      <td>Tanzania</td>\n",
       "      <td>TZA</td>\n",
       "      <td>0.659313</td>\n",
       "      <td>6.052451</td>\n",
       "    </tr>\n",
       "    <tr>\n",
       "      <th>7</th>\n",
       "      <td>Cote d'Ivoire</td>\n",
       "      <td>CIV</td>\n",
       "      <td>0.607156</td>\n",
       "      <td>5.010557</td>\n",
       "    </tr>\n",
       "    <tr>\n",
       "      <th>8</th>\n",
       "      <td>Mali</td>\n",
       "      <td>MLI</td>\n",
       "      <td>0.593365</td>\n",
       "      <td>12.710286</td>\n",
       "    </tr>\n",
       "    <tr>\n",
       "      <th>9</th>\n",
       "      <td>Botswana</td>\n",
       "      <td>BWA</td>\n",
       "      <td>0.545757</td>\n",
       "      <td>9.464421</td>\n",
       "    </tr>\n",
       "  </tbody>\n",
       "</table>\n",
       "</div>"
      ],
      "text/plain": [
       "         country iso3c  Millitary Expenditure (in Billion USD)  \\\n",
       "0   South Africa   ZAF                                3.150829   \n",
       "1        Nigeria   NGA                                2.567918   \n",
       "2          Kenya   KEN                                1.106218   \n",
       "3         Angola   AGO                                0.993594   \n",
       "4         Uganda   UGA                                0.984760   \n",
       "5          Sudan   SDN                                0.934311   \n",
       "6       Tanzania   TZA                                0.659313   \n",
       "7  Cote d'Ivoire   CIV                                0.607156   \n",
       "8           Mali   MLI                                0.593365   \n",
       "9       Botswana   BWA                                0.545757   \n",
       "\n",
       "   Military expenditure (% of general government expenditure)  \n",
       "0                                           2.613176           \n",
       "1                                           4.961843           \n",
       "2                                           4.404040           \n",
       "3                                           7.793800           \n",
       "4                                          13.118894           \n",
       "5                                           8.254452           \n",
       "6                                           6.052451           \n",
       "7                                           5.010557           \n",
       "8                                          12.710286           \n",
       "9                                           9.464421           "
      ]
     },
     "execution_count": 273,
     "metadata": {},
     "output_type": "execute_result"
    }
   ],
   "source": [
    "afri20"
   ]
  },
  {
   "cell_type": "code",
   "execution_count": null,
   "metadata": {},
   "outputs": [],
   "source": []
  },
  {
   "cell_type": "markdown",
   "metadata": {},
   "source": [
    "### VISUALIZING TOP 10 SUB-SAHARAN COUNTRIES WITH HIGHEST MILLITARY SPENDING IN 2020"
   ]
  },
  {
   "cell_type": "code",
   "execution_count": 314,
   "metadata": {},
   "outputs": [
    {
     "data": {
      "image/png": "[encoded data removed]",
      "text/plain": [
       "<Figure size 864x432 with 1 Axes>"
      ]
     },
     "metadata": {
      "needs_background": "light"
     },
     "output_type": "display_data"
    }
   ],
   "source": [
    "plt.figure(figsize = (12, 6))\n",
    "sns.barplot(data = afri20, y = \"country\", x = \"Millitary Expenditure (in Billion USD)\", orient = \"h\" )\n",
    "plt.show()"
   ]
  },
  {
   "cell_type": "markdown",
   "metadata": {},
   "source": [
    "## 3. WHICH COUNTRIES HAVE SPENT THE MOST PERCENTAGE OF THEIR GENERAL GOVERNMENT EXPENDITURE ON THE MILLITARY AND IN WHICH YEAR"
   ]
  },
  {
   "cell_type": "code",
   "execution_count": 193,
   "metadata": {},
   "outputs": [],
   "source": [
    "maxGGE = millitary.sort_values(\n",
    "    \"Military expenditure (% of general government expenditure)\", ascending = False\n",
    ").drop_duplicates(\"country\")[[\"country\",  \n",
    "                              \"Military expenditure (% of general government expenditure)\",\"year\",\n",
    "                              \"Millitary Expenditure (in Billion USD)\"]].reset_index().head(10)"
   ]
  },
  {
   "cell_type": "code",
   "execution_count": 194,
   "metadata": {},
   "outputs": [],
   "source": [
    "del maxGGE[\"index\"]"
   ]
  },
  {
   "cell_type": "code",
   "execution_count": 196,
   "metadata": {
    "scrolled": true
   },
   "outputs": [],
   "source": [
    "maxGGE[\"Percentage_MilitaryExpenditure\"] = maxGGE[\"Military expenditure (% of general government expenditure)\"]"
   ]
  },
  {
   "cell_type": "code",
   "execution_count": 199,
   "metadata": {
    "scrolled": true
   },
   "outputs": [
    {
     "data": {
      "text/html": [
       "<div>\n",
       "<style scoped>\n",
       "    .dataframe tbody tr th:only-of-type {\n",
       "        vertical-align: middle;\n",
       "    }\n",
       "\n",
       "    .dataframe tbody tr th {\n",
       "        vertical-align: top;\n",
       "    }\n",
       "\n",
       "    .dataframe thead th {\n",
       "        text-align: right;\n",
       "    }\n",
       "</style>\n",
       "<table border=\"1\" class=\"dataframe\">\n",
       "  <thead>\n",
       "    <tr style=\"text-align: right;\">\n",
       "      <th></th>\n",
       "      <th>country</th>\n",
       "      <th>year</th>\n",
       "      <th>Millitary Expenditure (in Billion USD)</th>\n",
       "      <th>Percentage_MilitaryExpenditure</th>\n",
       "    </tr>\n",
       "  </thead>\n",
       "  <tbody>\n",
       "    <tr>\n",
       "      <th>0</th>\n",
       "      <td>Kuwait</td>\n",
       "      <td>1991</td>\n",
       "      <td>12.924378</td>\n",
       "      <td>57.478098</td>\n",
       "    </tr>\n",
       "    <tr>\n",
       "      <th>1</th>\n",
       "      <td>Sudan</td>\n",
       "      <td>1999</td>\n",
       "      <td>0.429618</td>\n",
       "      <td>47.755282</td>\n",
       "    </tr>\n",
       "    <tr>\n",
       "      <th>2</th>\n",
       "      <td>Eritrea</td>\n",
       "      <td>1998</td>\n",
       "      <td>0.263002</td>\n",
       "      <td>47.724920</td>\n",
       "    </tr>\n",
       "    <tr>\n",
       "      <th>3</th>\n",
       "      <td>Saudi Arabia</td>\n",
       "      <td>1998</td>\n",
       "      <td>20.861600</td>\n",
       "      <td>41.161212</td>\n",
       "    </tr>\n",
       "    <tr>\n",
       "      <th>4</th>\n",
       "      <td>Singapore</td>\n",
       "      <td>2007</td>\n",
       "      <td>6.518529</td>\n",
       "      <td>39.222562</td>\n",
       "    </tr>\n",
       "    <tr>\n",
       "      <th>5</th>\n",
       "      <td>Ethiopia</td>\n",
       "      <td>1999</td>\n",
       "      <td>0.703705</td>\n",
       "      <td>36.165394</td>\n",
       "    </tr>\n",
       "    <tr>\n",
       "      <th>6</th>\n",
       "      <td>Belarus</td>\n",
       "      <td>2006</td>\n",
       "      <td>0.631831</td>\n",
       "      <td>35.021970</td>\n",
       "    </tr>\n",
       "    <tr>\n",
       "      <th>7</th>\n",
       "      <td>Paraguay</td>\n",
       "      <td>1988</td>\n",
       "      <td>0.178436</td>\n",
       "      <td>34.760388</td>\n",
       "    </tr>\n",
       "    <tr>\n",
       "      <th>8</th>\n",
       "      <td>Yemen, Rep.</td>\n",
       "      <td>1994</td>\n",
       "      <td>2.353269</td>\n",
       "      <td>33.352214</td>\n",
       "    </tr>\n",
       "    <tr>\n",
       "      <th>9</th>\n",
       "      <td>Chad</td>\n",
       "      <td>2009</td>\n",
       "      <td>0.738904</td>\n",
       "      <td>32.958189</td>\n",
       "    </tr>\n",
       "  </tbody>\n",
       "</table>\n",
       "</div>"
      ],
      "text/plain": [
       "        country  year  Millitary Expenditure (in Billion USD)  \\\n",
       "0        Kuwait  1991                               12.924378   \n",
       "1         Sudan  1999                                0.429618   \n",
       "2       Eritrea  1998                                0.263002   \n",
       "3  Saudi Arabia  1998                               20.861600   \n",
       "4     Singapore  2007                                6.518529   \n",
       "5      Ethiopia  1999                                0.703705   \n",
       "6       Belarus  2006                                0.631831   \n",
       "7      Paraguay  1988                                0.178436   \n",
       "8   Yemen, Rep.  1994                                2.353269   \n",
       "9          Chad  2009                                0.738904   \n",
       "\n",
       "   Percentage_MilitaryExpenditure  \n",
       "0                       57.478098  \n",
       "1                       47.755282  \n",
       "2                       47.724920  \n",
       "3                       41.161212  \n",
       "4                       39.222562  \n",
       "5                       36.165394  \n",
       "6                       35.021970  \n",
       "7                       34.760388  \n",
       "8                       33.352214  \n",
       "9                       32.958189  "
      ]
     },
     "execution_count": 199,
     "metadata": {},
     "output_type": "execute_result"
    }
   ],
   "source": [
    "maxGGE"
   ]
  },
  {
   "cell_type": "code",
   "execution_count": null,
   "metadata": {},
   "outputs": [],
   "source": []
  },
  {
   "cell_type": "markdown",
   "metadata": {},
   "source": [
    "### VISUALIZING THE COUNTRIES HAVE SPENT THE MOST PERCENTAGE OF THEIR GENERAL GOVERNMENT EXPENDITURE ON THE MILLITARY AND IN WHICH YEAR"
   ]
  },
  {
   "cell_type": "code",
   "execution_count": 303,
   "metadata": {
    "scrolled": false
   },
   "outputs": [
    {
     "data": {
      "image/png": "[encoded data removed]",
      "text/plain": [
       "<Figure size 864x576 with 1 Axes>"
      ]
     },
     "metadata": {
      "needs_background": "light"
     },
     "output_type": "display_data"
    }
   ],
   "source": [
    "plt.figure(figsize = (12,8))\n",
    "ax = sns.barplot(data = maxGGE, \n",
    "        x = \"country\", \n",
    "        y = \"Percentage_MilitaryExpenditure\")\n",
    "\n",
    "for index,row in maxGGE.iterrows():\n",
    "    ax.text(x = row.name, \n",
    "            y = row.Percentage_MilitaryExpenditure,\n",
    "            s = row.year, color = \"black\", ha = \"center\")\n",
    "plt.xticks(rotation = \"vertical\")\n",
    "plt.show()"
   ]
  },
  {
   "cell_type": "code",
   "execution_count": null,
   "metadata": {},
   "outputs": [],
   "source": []
  },
  {
   "cell_type": "code",
   "execution_count": null,
   "metadata": {},
   "outputs": [],
   "source": []
  },
  {
   "cell_type": "code",
   "execution_count": null,
   "metadata": {},
   "outputs": [],
   "source": []
  },
  {
   "cell_type": "markdown",
   "metadata": {},
   "source": [
    "## 4. COMPARISON BETWEEN RUSSIAN AND UKRAINIAN MILLITARY EXPENDITURES"
   ]
  },
  {
   "cell_type": "code",
   "execution_count": 275,
   "metadata": {
    "scrolled": false
   },
   "outputs": [
    {
     "data": {
      "text/html": [
       "<div>\n",
       "<style scoped>\n",
       "    .dataframe tbody tr th:only-of-type {\n",
       "        vertical-align: middle;\n",
       "    }\n",
       "\n",
       "    .dataframe tbody tr th {\n",
       "        vertical-align: top;\n",
       "    }\n",
       "\n",
       "    .dataframe thead th {\n",
       "        text-align: right;\n",
       "    }\n",
       "</style>\n",
       "<table border=\"1\" class=\"dataframe\">\n",
       "  <thead>\n",
       "    <tr style=\"text-align: right;\">\n",
       "      <th></th>\n",
       "      <th>country</th>\n",
       "      <th>iso3c</th>\n",
       "      <th>iso2c</th>\n",
       "      <th>year</th>\n",
       "      <th>Military expenditure (current USD)</th>\n",
       "      <th>Military expenditure (% of general government expenditure)</th>\n",
       "      <th>Military expenditure (% of GDP)</th>\n",
       "      <th>Admin Region</th>\n",
       "      <th>Income Level</th>\n",
       "      <th>Millitary Expenditure (in Billion USD)</th>\n",
       "    </tr>\n",
       "  </thead>\n",
       "  <tbody>\n",
       "    <tr>\n",
       "      <th>10302</th>\n",
       "      <td>Russian Federation</td>\n",
       "      <td>RUS</td>\n",
       "      <td>RU</td>\n",
       "      <td>1970</td>\n",
       "      <td>0</td>\n",
       "      <td>0.000000</td>\n",
       "      <td>0.000000</td>\n",
       "      <td>Europe &amp; Central Asia (excluding high income)</td>\n",
       "      <td>Upper middle income</td>\n",
       "      <td>0.000000</td>\n",
       "    </tr>\n",
       "    <tr>\n",
       "      <th>10303</th>\n",
       "      <td>Russian Federation</td>\n",
       "      <td>RUS</td>\n",
       "      <td>RU</td>\n",
       "      <td>1971</td>\n",
       "      <td>0</td>\n",
       "      <td>0.000000</td>\n",
       "      <td>0.000000</td>\n",
       "      <td>Europe &amp; Central Asia (excluding high income)</td>\n",
       "      <td>Upper middle income</td>\n",
       "      <td>0.000000</td>\n",
       "    </tr>\n",
       "    <tr>\n",
       "      <th>10304</th>\n",
       "      <td>Russian Federation</td>\n",
       "      <td>RUS</td>\n",
       "      <td>RU</td>\n",
       "      <td>1972</td>\n",
       "      <td>0</td>\n",
       "      <td>0.000000</td>\n",
       "      <td>0.000000</td>\n",
       "      <td>Europe &amp; Central Asia (excluding high income)</td>\n",
       "      <td>Upper middle income</td>\n",
       "      <td>0.000000</td>\n",
       "    </tr>\n",
       "    <tr>\n",
       "      <th>10305</th>\n",
       "      <td>Russian Federation</td>\n",
       "      <td>RUS</td>\n",
       "      <td>RU</td>\n",
       "      <td>1973</td>\n",
       "      <td>0</td>\n",
       "      <td>0.000000</td>\n",
       "      <td>0.000000</td>\n",
       "      <td>Europe &amp; Central Asia (excluding high income)</td>\n",
       "      <td>Upper middle income</td>\n",
       "      <td>0.000000</td>\n",
       "    </tr>\n",
       "    <tr>\n",
       "      <th>10306</th>\n",
       "      <td>Russian Federation</td>\n",
       "      <td>RUS</td>\n",
       "      <td>RU</td>\n",
       "      <td>1974</td>\n",
       "      <td>0</td>\n",
       "      <td>0.000000</td>\n",
       "      <td>0.000000</td>\n",
       "      <td>Europe &amp; Central Asia (excluding high income)</td>\n",
       "      <td>Upper middle income</td>\n",
       "      <td>0.000000</td>\n",
       "    </tr>\n",
       "    <tr>\n",
       "      <th>...</th>\n",
       "      <td>...</td>\n",
       "      <td>...</td>\n",
       "      <td>...</td>\n",
       "      <td>...</td>\n",
       "      <td>...</td>\n",
       "      <td>...</td>\n",
       "      <td>...</td>\n",
       "      <td>...</td>\n",
       "      <td>...</td>\n",
       "      <td>...</td>\n",
       "    </tr>\n",
       "    <tr>\n",
       "      <th>12796</th>\n",
       "      <td>Ukraine</td>\n",
       "      <td>UKR</td>\n",
       "      <td>UA</td>\n",
       "      <td>2016</td>\n",
       "      <td>2943807591</td>\n",
       "      <td>7.779053</td>\n",
       "      <td>3.154777</td>\n",
       "      <td>Europe &amp; Central Asia (excluding high income)</td>\n",
       "      <td>Lower middle income</td>\n",
       "      <td>2.943808</td>\n",
       "    </tr>\n",
       "    <tr>\n",
       "      <th>12797</th>\n",
       "      <td>Ukraine</td>\n",
       "      <td>UKR</td>\n",
       "      <td>UA</td>\n",
       "      <td>2017</td>\n",
       "      <td>3246786567</td>\n",
       "      <td>6.955612</td>\n",
       "      <td>2.884402</td>\n",
       "      <td>Europe &amp; Central Asia (excluding high income)</td>\n",
       "      <td>Lower middle income</td>\n",
       "      <td>3.246787</td>\n",
       "    </tr>\n",
       "    <tr>\n",
       "      <th>12798</th>\n",
       "      <td>Ukraine</td>\n",
       "      <td>UKR</td>\n",
       "      <td>UA</td>\n",
       "      <td>2018</td>\n",
       "      <td>4169707536</td>\n",
       "      <td>7.648027</td>\n",
       "      <td>3.192353</td>\n",
       "      <td>Europe &amp; Central Asia (excluding high income)</td>\n",
       "      <td>Lower middle income</td>\n",
       "      <td>4.169708</td>\n",
       "    </tr>\n",
       "    <tr>\n",
       "      <th>12799</th>\n",
       "      <td>Ukraine</td>\n",
       "      <td>UKR</td>\n",
       "      <td>UA</td>\n",
       "      <td>2019</td>\n",
       "      <td>5419138048</td>\n",
       "      <td>8.498205</td>\n",
       "      <td>3.522485</td>\n",
       "      <td>Europe &amp; Central Asia (excluding high income)</td>\n",
       "      <td>Lower middle income</td>\n",
       "      <td>5.419138</td>\n",
       "    </tr>\n",
       "    <tr>\n",
       "      <th>12800</th>\n",
       "      <td>Ukraine</td>\n",
       "      <td>UKR</td>\n",
       "      <td>UA</td>\n",
       "      <td>2020</td>\n",
       "      <td>5924200880</td>\n",
       "      <td>8.803387</td>\n",
       "      <td>4.129198</td>\n",
       "      <td>Europe &amp; Central Asia (excluding high income)</td>\n",
       "      <td>Lower middle income</td>\n",
       "      <td>5.924201</td>\n",
       "    </tr>\n",
       "  </tbody>\n",
       "</table>\n",
       "<p>102 rows × 10 columns</p>\n",
       "</div>"
      ],
      "text/plain": [
       "                  country iso3c iso2c  year  \\\n",
       "10302  Russian Federation   RUS    RU  1970   \n",
       "10303  Russian Federation   RUS    RU  1971   \n",
       "10304  Russian Federation   RUS    RU  1972   \n",
       "10305  Russian Federation   RUS    RU  1973   \n",
       "10306  Russian Federation   RUS    RU  1974   \n",
       "...                   ...   ...   ...   ...   \n",
       "12796             Ukraine   UKR    UA  2016   \n",
       "12797             Ukraine   UKR    UA  2017   \n",
       "12798             Ukraine   UKR    UA  2018   \n",
       "12799             Ukraine   UKR    UA  2019   \n",
       "12800             Ukraine   UKR    UA  2020   \n",
       "\n",
       "       Military expenditure (current USD)  \\\n",
       "10302                                   0   \n",
       "10303                                   0   \n",
       "10304                                   0   \n",
       "10305                                   0   \n",
       "10306                                   0   \n",
       "...                                   ...   \n",
       "12796                          2943807591   \n",
       "12797                          3246786567   \n",
       "12798                          4169707536   \n",
       "12799                          5419138048   \n",
       "12800                          5924200880   \n",
       "\n",
       "       Military expenditure (% of general government expenditure)  \\\n",
       "10302                                           0.000000            \n",
       "10303                                           0.000000            \n",
       "10304                                           0.000000            \n",
       "10305                                           0.000000            \n",
       "10306                                           0.000000            \n",
       "...                                                  ...            \n",
       "12796                                           7.779053            \n",
       "12797                                           6.955612            \n",
       "12798                                           7.648027            \n",
       "12799                                           8.498205            \n",
       "12800                                           8.803387            \n",
       "\n",
       "       Military expenditure (% of GDP)  \\\n",
       "10302                         0.000000   \n",
       "10303                         0.000000   \n",
       "10304                         0.000000   \n",
       "10305                         0.000000   \n",
       "10306                         0.000000   \n",
       "...                                ...   \n",
       "12796                         3.154777   \n",
       "12797                         2.884402   \n",
       "12798                         3.192353   \n",
       "12799                         3.522485   \n",
       "12800                         4.129198   \n",
       "\n",
       "                                        Admin Region         Income Level  \\\n",
       "10302  Europe & Central Asia (excluding high income)  Upper middle income   \n",
       "10303  Europe & Central Asia (excluding high income)  Upper middle income   \n",
       "10304  Europe & Central Asia (excluding high income)  Upper middle income   \n",
       "10305  Europe & Central Asia (excluding high income)  Upper middle income   \n",
       "10306  Europe & Central Asia (excluding high income)  Upper middle income   \n",
       "...                                              ...                  ...   \n",
       "12796  Europe & Central Asia (excluding high income)  Lower middle income   \n",
       "12797  Europe & Central Asia (excluding high income)  Lower middle income   \n",
       "12798  Europe & Central Asia (excluding high income)  Lower middle income   \n",
       "12799  Europe & Central Asia (excluding high income)  Lower middle income   \n",
       "12800  Europe & Central Asia (excluding high income)  Lower middle income   \n",
       "\n",
       "       Millitary Expenditure (in Billion USD)  \n",
       "10302                                0.000000  \n",
       "10303                                0.000000  \n",
       "10304                                0.000000  \n",
       "10305                                0.000000  \n",
       "10306                                0.000000  \n",
       "...                                       ...  \n",
       "12796                                2.943808  \n",
       "12797                                3.246787  \n",
       "12798                                4.169708  \n",
       "12799                                5.419138  \n",
       "12800                                5.924201  \n",
       "\n",
       "[102 rows x 10 columns]"
      ]
     },
     "execution_count": 275,
     "metadata": {},
     "output_type": "execute_result"
    }
   ],
   "source": [
    "RusUkr = millitary[(millitary[\"country\"] == \"Ukraine\") | (millitary[\"country\"] == \"Russian Federation\")]\n",
    "RusUkr"
   ]
  },
  {
   "cell_type": "code",
   "execution_count": null,
   "metadata": {},
   "outputs": [],
   "source": []
  },
  {
   "cell_type": "code",
   "execution_count": null,
   "metadata": {},
   "outputs": [],
   "source": []
  },
  {
   "cell_type": "markdown",
   "metadata": {},
   "source": [
    "## i) TOTAL MILITARY EXPENDITURE OF BOTH COUNTRIES WITHIN 50 YEARS PERIOD (1970-2020)"
   ]
  },
  {
   "cell_type": "code",
   "execution_count": 276,
   "metadata": {},
   "outputs": [],
   "source": [
    "TME = RusUkr.groupby(\"country\").sum()[[\"Millitary Expenditure (in Billion USD)\"]].reset_index()"
   ]
  },
  {
   "cell_type": "code",
   "execution_count": 277,
   "metadata": {},
   "outputs": [
    {
     "data": {
      "text/html": [
       "<div>\n",
       "<style scoped>\n",
       "    .dataframe tbody tr th:only-of-type {\n",
       "        vertical-align: middle;\n",
       "    }\n",
       "\n",
       "    .dataframe tbody tr th {\n",
       "        vertical-align: top;\n",
       "    }\n",
       "\n",
       "    .dataframe thead th {\n",
       "        text-align: right;\n",
       "    }\n",
       "</style>\n",
       "<table border=\"1\" class=\"dataframe\">\n",
       "  <thead>\n",
       "    <tr style=\"text-align: right;\">\n",
       "      <th></th>\n",
       "      <th>country</th>\n",
       "      <th>Millitary Expenditure (in Billion USD)</th>\n",
       "    </tr>\n",
       "  </thead>\n",
       "  <tbody>\n",
       "    <tr>\n",
       "      <th>0</th>\n",
       "      <td>Russian Federation</td>\n",
       "      <td>1142.354451</td>\n",
       "    </tr>\n",
       "    <tr>\n",
       "      <th>1</th>\n",
       "      <td>Ukraine</td>\n",
       "      <td>61.179410</td>\n",
       "    </tr>\n",
       "  </tbody>\n",
       "</table>\n",
       "</div>"
      ],
      "text/plain": [
       "              country  Millitary Expenditure (in Billion USD)\n",
       "0  Russian Federation                             1142.354451\n",
       "1             Ukraine                               61.179410"
      ]
     },
     "execution_count": 277,
     "metadata": {},
     "output_type": "execute_result"
    }
   ],
   "source": [
    "TME"
   ]
  },
  {
   "cell_type": "code",
   "execution_count": 278,
   "metadata": {},
   "outputs": [
    {
     "data": {
      "image/png": "[encoded data removed]",
      "text/plain": [
       "<Figure size 864x432 with 1 Axes>"
      ]
     },
     "metadata": {
      "needs_background": "light"
     },
     "output_type": "display_data"
    }
   ],
   "source": [
    "plt.figure(figsize = (12, 6))\n",
    "plt.grid()\n",
    "sns.barplot(data = TME, x = \"country\", y = \"Millitary Expenditure (in Billion USD)\")\n",
    "plt.title(\"TOTAL MILITARY EXPENDITURE BY RUSSIA AND UKRAINE (1970 - 2020)\")\n",
    "plt.ticklabel_format(axis = \"y\", style = \"plain\")"
   ]
  },
  {
   "cell_type": "markdown",
   "metadata": {},
   "source": [
    "### EXPLANATION : \n",
    "RUSSIA IN THE LAST 50 YEARS (1970- 2020) HAS SPENT OVER 1.1 TRILLION (DOLLARS) WHILE UKRAINE HAS SPENT ONLY 61.1 BILLION (DOLLARS)"
   ]
  },
  {
   "cell_type": "code",
   "execution_count": null,
   "metadata": {},
   "outputs": [],
   "source": []
  },
  {
   "cell_type": "code",
   "execution_count": null,
   "metadata": {},
   "outputs": [],
   "source": []
  },
  {
   "cell_type": "markdown",
   "metadata": {},
   "source": [
    "## ii) WHAT IS THE MAXIMUM AMMOUNT SPENT ON THE MILLITARY IN A PARTICULAR YEAR BY RUSSIA AND UKRAINE ?"
   ]
  },
  {
   "cell_type": "code",
   "execution_count": 279,
   "metadata": {},
   "outputs": [],
   "source": [
    "maxRusUkr = RusUkr.sort_values(\"Millitary Expenditure (in Billion USD)\", ascending = False).drop_duplicates(\"country\")[[\n",
    "                                            \"country\",\n",
    "                                            \"Millitary Expenditure (in Billion USD)\", \n",
    "                                             \"Military expenditure (% of general government expenditure)\",\n",
    "                                             \"year\"]].reset_index()"
   ]
  },
  {
   "cell_type": "code",
   "execution_count": 280,
   "metadata": {},
   "outputs": [],
   "source": [
    "del maxRusUkr[\"index\"]"
   ]
  },
  {
   "cell_type": "code",
   "execution_count": 317,
   "metadata": {},
   "outputs": [],
   "source": [
    "maxRusUkr[\"MillitaryExpenditureInBillions\"] = maxRusUkr[\"Millitary Expenditure (in Billion USD)\"] "
   ]
  },
  {
   "cell_type": "code",
   "execution_count": 319,
   "metadata": {
    "scrolled": true
   },
   "outputs": [
    {
     "data": {
      "text/html": [
       "<div>\n",
       "<style scoped>\n",
       "    .dataframe tbody tr th:only-of-type {\n",
       "        vertical-align: middle;\n",
       "    }\n",
       "\n",
       "    .dataframe tbody tr th {\n",
       "        vertical-align: top;\n",
       "    }\n",
       "\n",
       "    .dataframe thead th {\n",
       "        text-align: right;\n",
       "    }\n",
       "</style>\n",
       "<table border=\"1\" class=\"dataframe\">\n",
       "  <thead>\n",
       "    <tr style=\"text-align: right;\">\n",
       "      <th></th>\n",
       "      <th>country</th>\n",
       "      <th>Military expenditure (% of general government expenditure)</th>\n",
       "      <th>year</th>\n",
       "      <th>MillitaryExpenditureInBillions</th>\n",
       "    </tr>\n",
       "  </thead>\n",
       "  <tbody>\n",
       "    <tr>\n",
       "      <th>0</th>\n",
       "      <td>Russian Federation</td>\n",
       "      <td>11.122178</td>\n",
       "      <td>2013</td>\n",
       "      <td>88.352896</td>\n",
       "    </tr>\n",
       "    <tr>\n",
       "      <th>1</th>\n",
       "      <td>Ukraine</td>\n",
       "      <td>8.803387</td>\n",
       "      <td>2020</td>\n",
       "      <td>5.924201</td>\n",
       "    </tr>\n",
       "  </tbody>\n",
       "</table>\n",
       "</div>"
      ],
      "text/plain": [
       "              country  \\\n",
       "0  Russian Federation   \n",
       "1             Ukraine   \n",
       "\n",
       "   Military expenditure (% of general government expenditure)  year  \\\n",
       "0                                          11.122178           2013   \n",
       "1                                           8.803387           2020   \n",
       "\n",
       "   MillitaryExpenditureInBillions  \n",
       "0                       88.352896  \n",
       "1                        5.924201  "
      ]
     },
     "execution_count": 319,
     "metadata": {},
     "output_type": "execute_result"
    }
   ],
   "source": [
    "maxRusUkr"
   ]
  },
  {
   "cell_type": "code",
   "execution_count": null,
   "metadata": {},
   "outputs": [],
   "source": []
  },
  {
   "cell_type": "markdown",
   "metadata": {},
   "source": [
    "### VISUALIZING THE MAXIMUM AMMOUNT SPENT ON THE MILLITARY IN A PARTICULAR YEAR BY RUSSIA AND UKRAINE"
   ]
  },
  {
   "cell_type": "code",
   "execution_count": 321,
   "metadata": {},
   "outputs": [
    {
     "data": {
      "image/png": "[encoded data removed]",
      "text/plain": [
       "<Figure size 864x432 with 1 Axes>"
      ]
     },
     "metadata": {
      "needs_background": "light"
     },
     "output_type": "display_data"
    }
   ],
   "source": [
    "plt.figure(figsize = (12, 6))\n",
    "plt.grid()\n",
    "ax = sns.barplot(data = maxRusUkr, x = \"country\", y = \"MillitaryExpenditureInBillions\")\n",
    "\n",
    "for index,row in maxRusUkr.iterrows():\n",
    "    ax.text(x = row.name, \n",
    "            y = row.MillitaryExpenditureInBillions,\n",
    "            s = row.year, color = \"black\", ha = \"center\")\n",
    "\n",
    "plt.title(\"MAXIMUM MILITARY EXPEDITURE IN A YEAR BETWEEN RUSSIA AND UKRAINE\")\n",
    "plt.ticklabel_format(axis = \"y\", style = \"plain\")"
   ]
  },
  {
   "cell_type": "markdown",
   "metadata": {},
   "source": [
    "### EXPLANATION : \n",
    "THE MAXIMUM MILITARY EXPENDITURE BY RUSSIA IN A YEAR WAS 88.3 BILLION DOLLARS IN 2013 WHICH AMMOUNTED TO %14.1 OF THE GENERAL GOVERNMENT EXPENDITURE IN THAT YEAR. This is not suprising because in the FEBRUARY AND MARCH of 2014, Russian invaded and subsequently took over the CRIMEAN PENINSULA FROM UKRAINE.\n",
    "WHILE FOR UKRAINE, THE MAXIMUM MILITARY EXPENDITURE IN A YEAR WAS 5.9 BILLION DOLLARS  IN 2020. THIS AMMOUNTED TO %8.8 OF THE GENERAL UKRAINIAN GOVERNMENT EXPENDITURE IN THAT YEAR."
   ]
  },
  {
   "cell_type": "code",
   "execution_count": null,
   "metadata": {},
   "outputs": [],
   "source": []
  },
  {
   "cell_type": "code",
   "execution_count": null,
   "metadata": {},
   "outputs": [],
   "source": []
  },
  {
   "cell_type": "markdown",
   "metadata": {},
   "source": [
    "## iii) YEARLY TOTAL MILITARY EXPENDITURE OF BOTH COUNTRIES WITHIN THE LAST 10 YEARS PERIOD (2010-2020)"
   ]
  },
  {
   "cell_type": "code",
   "execution_count": 298,
   "metadata": {},
   "outputs": [],
   "source": [
    "rusukr10 = RusUkr[RusUkr[\"year\"] >= 2010][[\"country\",\"year\", \n",
    "                              \"Millitary Expenditure (in Billion USD)\",\n",
    "                              \"Military expenditure (% of general government expenditure)\"]]"
   ]
  },
  {
   "cell_type": "code",
   "execution_count": 301,
   "metadata": {},
   "outputs": [
    {
     "data": {
      "text/html": [
       "<div>\n",
       "<style scoped>\n",
       "    .dataframe tbody tr th:only-of-type {\n",
       "        vertical-align: middle;\n",
       "    }\n",
       "\n",
       "    .dataframe tbody tr th {\n",
       "        vertical-align: top;\n",
       "    }\n",
       "\n",
       "    .dataframe thead th {\n",
       "        text-align: right;\n",
       "    }\n",
       "</style>\n",
       "<table border=\"1\" class=\"dataframe\">\n",
       "  <thead>\n",
       "    <tr style=\"text-align: right;\">\n",
       "      <th></th>\n",
       "      <th>country</th>\n",
       "      <th>year</th>\n",
       "      <th>Millitary Expenditure (in Billion USD)</th>\n",
       "      <th>Military expenditure (% of general government expenditure)</th>\n",
       "    </tr>\n",
       "  </thead>\n",
       "  <tbody>\n",
       "    <tr>\n",
       "      <th>10342</th>\n",
       "      <td>Russian Federation</td>\n",
       "      <td>2010</td>\n",
       "      <td>58.720228</td>\n",
       "      <td>10.122296</td>\n",
       "    </tr>\n",
       "    <tr>\n",
       "      <th>10343</th>\n",
       "      <td>Russian Federation</td>\n",
       "      <td>2011</td>\n",
       "      <td>70.237524</td>\n",
       "      <td>10.321464</td>\n",
       "    </tr>\n",
       "    <tr>\n",
       "      <th>10344</th>\n",
       "      <td>Russian Federation</td>\n",
       "      <td>2012</td>\n",
       "      <td>81.469400</td>\n",
       "      <td>10.841556</td>\n",
       "    </tr>\n",
       "    <tr>\n",
       "      <th>10345</th>\n",
       "      <td>Russian Federation</td>\n",
       "      <td>2013</td>\n",
       "      <td>88.352896</td>\n",
       "      <td>11.122178</td>\n",
       "    </tr>\n",
       "    <tr>\n",
       "      <th>10346</th>\n",
       "      <td>Russian Federation</td>\n",
       "      <td>2014</td>\n",
       "      <td>84.696505</td>\n",
       "      <td>11.772198</td>\n",
       "    </tr>\n",
       "    <tr>\n",
       "      <th>10347</th>\n",
       "      <td>Russian Federation</td>\n",
       "      <td>2015</td>\n",
       "      <td>66.421822</td>\n",
       "      <td>13.810711</td>\n",
       "    </tr>\n",
       "    <tr>\n",
       "      <th>10348</th>\n",
       "      <td>Russian Federation</td>\n",
       "      <td>2016</td>\n",
       "      <td>69.245295</td>\n",
       "      <td>14.828395</td>\n",
       "    </tr>\n",
       "    <tr>\n",
       "      <th>10349</th>\n",
       "      <td>Russian Federation</td>\n",
       "      <td>2017</td>\n",
       "      <td>66.913034</td>\n",
       "      <td>12.199182</td>\n",
       "    </tr>\n",
       "    <tr>\n",
       "      <th>10350</th>\n",
       "      <td>Russian Federation</td>\n",
       "      <td>2018</td>\n",
       "      <td>61.609205</td>\n",
       "      <td>11.403160</td>\n",
       "    </tr>\n",
       "    <tr>\n",
       "      <th>10351</th>\n",
       "      <td>Russian Federation</td>\n",
       "      <td>2019</td>\n",
       "      <td>65.201336</td>\n",
       "      <td>11.398999</td>\n",
       "    </tr>\n",
       "    <tr>\n",
       "      <th>10352</th>\n",
       "      <td>Russian Federation</td>\n",
       "      <td>2020</td>\n",
       "      <td>61.712537</td>\n",
       "      <td>11.431838</td>\n",
       "    </tr>\n",
       "    <tr>\n",
       "      <th>12790</th>\n",
       "      <td>Ukraine</td>\n",
       "      <td>2010</td>\n",
       "      <td>2.587448</td>\n",
       "      <td>3.870510</td>\n",
       "    </tr>\n",
       "    <tr>\n",
       "      <th>12791</th>\n",
       "      <td>Ukraine</td>\n",
       "      <td>2011</td>\n",
       "      <td>2.502297</td>\n",
       "      <td>3.355866</td>\n",
       "    </tr>\n",
       "    <tr>\n",
       "      <th>12792</th>\n",
       "      <td>Ukraine</td>\n",
       "      <td>2012</td>\n",
       "      <td>2.835905</td>\n",
       "      <td>3.294346</td>\n",
       "    </tr>\n",
       "    <tr>\n",
       "      <th>12793</th>\n",
       "      <td>Ukraine</td>\n",
       "      <td>2013</td>\n",
       "      <td>2.895002</td>\n",
       "      <td>3.282700</td>\n",
       "    </tr>\n",
       "    <tr>\n",
       "      <th>12794</th>\n",
       "      <td>Ukraine</td>\n",
       "      <td>2014</td>\n",
       "      <td>2.997189</td>\n",
       "      <td>5.014126</td>\n",
       "    </tr>\n",
       "    <tr>\n",
       "      <th>12795</th>\n",
       "      <td>Ukraine</td>\n",
       "      <td>2015</td>\n",
       "      <td>2.959581</td>\n",
       "      <td>7.553244</td>\n",
       "    </tr>\n",
       "    <tr>\n",
       "      <th>12796</th>\n",
       "      <td>Ukraine</td>\n",
       "      <td>2016</td>\n",
       "      <td>2.943808</td>\n",
       "      <td>7.779053</td>\n",
       "    </tr>\n",
       "    <tr>\n",
       "      <th>12797</th>\n",
       "      <td>Ukraine</td>\n",
       "      <td>2017</td>\n",
       "      <td>3.246787</td>\n",
       "      <td>6.955612</td>\n",
       "    </tr>\n",
       "    <tr>\n",
       "      <th>12798</th>\n",
       "      <td>Ukraine</td>\n",
       "      <td>2018</td>\n",
       "      <td>4.169708</td>\n",
       "      <td>7.648027</td>\n",
       "    </tr>\n",
       "    <tr>\n",
       "      <th>12799</th>\n",
       "      <td>Ukraine</td>\n",
       "      <td>2019</td>\n",
       "      <td>5.419138</td>\n",
       "      <td>8.498205</td>\n",
       "    </tr>\n",
       "    <tr>\n",
       "      <th>12800</th>\n",
       "      <td>Ukraine</td>\n",
       "      <td>2020</td>\n",
       "      <td>5.924201</td>\n",
       "      <td>8.803387</td>\n",
       "    </tr>\n",
       "  </tbody>\n",
       "</table>\n",
       "</div>"
      ],
      "text/plain": [
       "                  country  year  Millitary Expenditure (in Billion USD)  \\\n",
       "10342  Russian Federation  2010                               58.720228   \n",
       "10343  Russian Federation  2011                               70.237524   \n",
       "10344  Russian Federation  2012                               81.469400   \n",
       "10345  Russian Federation  2013                               88.352896   \n",
       "10346  Russian Federation  2014                               84.696505   \n",
       "10347  Russian Federation  2015                               66.421822   \n",
       "10348  Russian Federation  2016                               69.245295   \n",
       "10349  Russian Federation  2017                               66.913034   \n",
       "10350  Russian Federation  2018                               61.609205   \n",
       "10351  Russian Federation  2019                               65.201336   \n",
       "10352  Russian Federation  2020                               61.712537   \n",
       "12790             Ukraine  2010                                2.587448   \n",
       "12791             Ukraine  2011                                2.502297   \n",
       "12792             Ukraine  2012                                2.835905   \n",
       "12793             Ukraine  2013                                2.895002   \n",
       "12794             Ukraine  2014                                2.997189   \n",
       "12795             Ukraine  2015                                2.959581   \n",
       "12796             Ukraine  2016                                2.943808   \n",
       "12797             Ukraine  2017                                3.246787   \n",
       "12798             Ukraine  2018                                4.169708   \n",
       "12799             Ukraine  2019                                5.419138   \n",
       "12800             Ukraine  2020                                5.924201   \n",
       "\n",
       "       Military expenditure (% of general government expenditure)  \n",
       "10342                                          10.122296           \n",
       "10343                                          10.321464           \n",
       "10344                                          10.841556           \n",
       "10345                                          11.122178           \n",
       "10346                                          11.772198           \n",
       "10347                                          13.810711           \n",
       "10348                                          14.828395           \n",
       "10349                                          12.199182           \n",
       "10350                                          11.403160           \n",
       "10351                                          11.398999           \n",
       "10352                                          11.431838           \n",
       "12790                                           3.870510           \n",
       "12791                                           3.355866           \n",
       "12792                                           3.294346           \n",
       "12793                                           3.282700           \n",
       "12794                                           5.014126           \n",
       "12795                                           7.553244           \n",
       "12796                                           7.779053           \n",
       "12797                                           6.955612           \n",
       "12798                                           7.648027           \n",
       "12799                                           8.498205           \n",
       "12800                                           8.803387           "
      ]
     },
     "execution_count": 301,
     "metadata": {},
     "output_type": "execute_result"
    }
   ],
   "source": [
    "rusukr10"
   ]
  },
  {
   "cell_type": "markdown",
   "metadata": {},
   "source": [
    "### VISUALIZING THE YEARLY TOTAL MILITARY EXPENDITURE OF BOTH COUNTRIES WITHIN THE LAST 10 YEARS PERIOD (2010-2020)"
   ]
  },
  {
   "cell_type": "code",
   "execution_count": 331,
   "metadata": {},
   "outputs": [
    {
     "data": {
      "image/png": "[encoded data removed]",
      "text/plain": [
       "<Figure size 864x504 with 1 Axes>"
      ]
     },
     "metadata": {
      "needs_background": "light"
     },
     "output_type": "display_data"
    }
   ],
   "source": [
    "plt.figure(figsize = (12,7))\n",
    "sns.barplot(data = rusukr10, y = \"year\", x = \"Millitary Expenditure (in Billion USD)\", hue = \"country\", orient = \"h\")\n",
    "plt.show()"
   ]
  }
 ],
 "metadata": {
  "kernelspec": {
   "display_name": "Python 3",
   "language": "python",
   "name": "python3"
  },
  "language_info": {
   "codemirror_mode": {
    "name": "ipython",
    "version": 3
   },
   "file_extension": ".py",
   "mimetype": "text/x-python",
   "name": "python",
   "nbconvert_exporter": "python",
   "pygments_lexer": "ipython3",
   "version": "3.8.5"
  }
 },
 "nbformat": 4,
 "nbformat_minor": 4
}
