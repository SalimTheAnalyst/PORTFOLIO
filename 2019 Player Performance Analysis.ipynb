{
 "cells": [
  {
   "cell_type": "code",
   "execution_count": 315,
   "metadata": {},
   "outputs": [],
   "source": [
    "import pandas as pd\n",
    "import numpy as np\n",
    "import seaborn as sns\n",
    "import matplotlib.pyplot as plt\n",
    "import plotly.express as px"
   ]
  },
  {
   "cell_type": "code",
   "execution_count": 113,
   "metadata": {},
   "outputs": [],
   "source": [
    "pl = pd.read_csv(\"data-1.csv\")"
   ]
  },
  {
   "cell_type": "code",
   "execution_count": 114,
   "metadata": {},
   "outputs": [
    {
     "data": {
      "text/html": [
       "<div>\n",
       "<style scoped>\n",
       "    .dataframe tbody tr th:only-of-type {\n",
       "        vertical-align: middle;\n",
       "    }\n",
       "\n",
       "    .dataframe tbody tr th {\n",
       "        vertical-align: top;\n",
       "    }\n",
       "\n",
       "    .dataframe thead th {\n",
       "        text-align: right;\n",
       "    }\n",
       "</style>\n",
       "<table border=\"1\" class=\"dataframe\">\n",
       "  <thead>\n",
       "    <tr style=\"text-align: right;\">\n",
       "      <th></th>\n",
       "      <th>Unnamed: 0</th>\n",
       "      <th>ID</th>\n",
       "      <th>Name</th>\n",
       "      <th>Age</th>\n",
       "      <th>Photo</th>\n",
       "      <th>Nationality</th>\n",
       "      <th>Flag</th>\n",
       "      <th>Overall</th>\n",
       "      <th>Potential</th>\n",
       "      <th>Club</th>\n",
       "      <th>...</th>\n",
       "      <th>Composure</th>\n",
       "      <th>Marking</th>\n",
       "      <th>StandingTackle</th>\n",
       "      <th>SlidingTackle</th>\n",
       "      <th>GKDiving</th>\n",
       "      <th>GKHandling</th>\n",
       "      <th>GKKicking</th>\n",
       "      <th>GKPositioning</th>\n",
       "      <th>GKReflexes</th>\n",
       "      <th>Release Clause</th>\n",
       "    </tr>\n",
       "  </thead>\n",
       "  <tbody>\n",
       "    <tr>\n",
       "      <th>0</th>\n",
       "      <td>0</td>\n",
       "      <td>158023</td>\n",
       "      <td>L. Messi</td>\n",
       "      <td>31</td>\n",
       "      <td>https://cdn.sofifa.org/players/4/19/158023.png</td>\n",
       "      <td>Argentina</td>\n",
       "      <td>https://cdn.sofifa.org/flags/52.png</td>\n",
       "      <td>94</td>\n",
       "      <td>94</td>\n",
       "      <td>FC Barcelona</td>\n",
       "      <td>...</td>\n",
       "      <td>96.0</td>\n",
       "      <td>33.0</td>\n",
       "      <td>28.0</td>\n",
       "      <td>26.0</td>\n",
       "      <td>6.0</td>\n",
       "      <td>11.0</td>\n",
       "      <td>15.0</td>\n",
       "      <td>14.0</td>\n",
       "      <td>8.0</td>\n",
       "      <td>€226.5M</td>\n",
       "    </tr>\n",
       "    <tr>\n",
       "      <th>1</th>\n",
       "      <td>1</td>\n",
       "      <td>20801</td>\n",
       "      <td>Cristiano Ronaldo</td>\n",
       "      <td>33</td>\n",
       "      <td>https://cdn.sofifa.org/players/4/19/20801.png</td>\n",
       "      <td>Portugal</td>\n",
       "      <td>https://cdn.sofifa.org/flags/38.png</td>\n",
       "      <td>94</td>\n",
       "      <td>94</td>\n",
       "      <td>Juventus</td>\n",
       "      <td>...</td>\n",
       "      <td>95.0</td>\n",
       "      <td>28.0</td>\n",
       "      <td>31.0</td>\n",
       "      <td>23.0</td>\n",
       "      <td>7.0</td>\n",
       "      <td>11.0</td>\n",
       "      <td>15.0</td>\n",
       "      <td>14.0</td>\n",
       "      <td>11.0</td>\n",
       "      <td>€127.1M</td>\n",
       "    </tr>\n",
       "    <tr>\n",
       "      <th>2</th>\n",
       "      <td>2</td>\n",
       "      <td>190871</td>\n",
       "      <td>Neymar Jr</td>\n",
       "      <td>26</td>\n",
       "      <td>https://cdn.sofifa.org/players/4/19/190871.png</td>\n",
       "      <td>Brazil</td>\n",
       "      <td>https://cdn.sofifa.org/flags/54.png</td>\n",
       "      <td>92</td>\n",
       "      <td>93</td>\n",
       "      <td>Paris Saint-Germain</td>\n",
       "      <td>...</td>\n",
       "      <td>94.0</td>\n",
       "      <td>27.0</td>\n",
       "      <td>24.0</td>\n",
       "      <td>33.0</td>\n",
       "      <td>9.0</td>\n",
       "      <td>9.0</td>\n",
       "      <td>15.0</td>\n",
       "      <td>15.0</td>\n",
       "      <td>11.0</td>\n",
       "      <td>€228.1M</td>\n",
       "    </tr>\n",
       "    <tr>\n",
       "      <th>3</th>\n",
       "      <td>3</td>\n",
       "      <td>193080</td>\n",
       "      <td>De Gea</td>\n",
       "      <td>27</td>\n",
       "      <td>https://cdn.sofifa.org/players/4/19/193080.png</td>\n",
       "      <td>Spain</td>\n",
       "      <td>https://cdn.sofifa.org/flags/45.png</td>\n",
       "      <td>91</td>\n",
       "      <td>93</td>\n",
       "      <td>Manchester United</td>\n",
       "      <td>...</td>\n",
       "      <td>68.0</td>\n",
       "      <td>15.0</td>\n",
       "      <td>21.0</td>\n",
       "      <td>13.0</td>\n",
       "      <td>90.0</td>\n",
       "      <td>85.0</td>\n",
       "      <td>87.0</td>\n",
       "      <td>88.0</td>\n",
       "      <td>94.0</td>\n",
       "      <td>€138.6M</td>\n",
       "    </tr>\n",
       "    <tr>\n",
       "      <th>4</th>\n",
       "      <td>4</td>\n",
       "      <td>192985</td>\n",
       "      <td>K. De Bruyne</td>\n",
       "      <td>27</td>\n",
       "      <td>https://cdn.sofifa.org/players/4/19/192985.png</td>\n",
       "      <td>Belgium</td>\n",
       "      <td>https://cdn.sofifa.org/flags/7.png</td>\n",
       "      <td>91</td>\n",
       "      <td>92</td>\n",
       "      <td>Manchester City</td>\n",
       "      <td>...</td>\n",
       "      <td>88.0</td>\n",
       "      <td>68.0</td>\n",
       "      <td>58.0</td>\n",
       "      <td>51.0</td>\n",
       "      <td>15.0</td>\n",
       "      <td>13.0</td>\n",
       "      <td>5.0</td>\n",
       "      <td>10.0</td>\n",
       "      <td>13.0</td>\n",
       "      <td>€196.4M</td>\n",
       "    </tr>\n",
       "    <tr>\n",
       "      <th>...</th>\n",
       "      <td>...</td>\n",
       "      <td>...</td>\n",
       "      <td>...</td>\n",
       "      <td>...</td>\n",
       "      <td>...</td>\n",
       "      <td>...</td>\n",
       "      <td>...</td>\n",
       "      <td>...</td>\n",
       "      <td>...</td>\n",
       "      <td>...</td>\n",
       "      <td>...</td>\n",
       "      <td>...</td>\n",
       "      <td>...</td>\n",
       "      <td>...</td>\n",
       "      <td>...</td>\n",
       "      <td>...</td>\n",
       "      <td>...</td>\n",
       "      <td>...</td>\n",
       "      <td>...</td>\n",
       "      <td>...</td>\n",
       "      <td>...</td>\n",
       "    </tr>\n",
       "    <tr>\n",
       "      <th>18202</th>\n",
       "      <td>18202</td>\n",
       "      <td>238813</td>\n",
       "      <td>J. Lundstram</td>\n",
       "      <td>19</td>\n",
       "      <td>https://cdn.sofifa.org/players/4/19/238813.png</td>\n",
       "      <td>England</td>\n",
       "      <td>https://cdn.sofifa.org/flags/14.png</td>\n",
       "      <td>47</td>\n",
       "      <td>65</td>\n",
       "      <td>Crewe Alexandra</td>\n",
       "      <td>...</td>\n",
       "      <td>45.0</td>\n",
       "      <td>40.0</td>\n",
       "      <td>48.0</td>\n",
       "      <td>47.0</td>\n",
       "      <td>10.0</td>\n",
       "      <td>13.0</td>\n",
       "      <td>7.0</td>\n",
       "      <td>8.0</td>\n",
       "      <td>9.0</td>\n",
       "      <td>€143K</td>\n",
       "    </tr>\n",
       "    <tr>\n",
       "      <th>18203</th>\n",
       "      <td>18203</td>\n",
       "      <td>243165</td>\n",
       "      <td>N. Christoffersson</td>\n",
       "      <td>19</td>\n",
       "      <td>https://cdn.sofifa.org/players/4/19/243165.png</td>\n",
       "      <td>Sweden</td>\n",
       "      <td>https://cdn.sofifa.org/flags/46.png</td>\n",
       "      <td>47</td>\n",
       "      <td>63</td>\n",
       "      <td>Trelleborgs FF</td>\n",
       "      <td>...</td>\n",
       "      <td>42.0</td>\n",
       "      <td>22.0</td>\n",
       "      <td>15.0</td>\n",
       "      <td>19.0</td>\n",
       "      <td>10.0</td>\n",
       "      <td>9.0</td>\n",
       "      <td>9.0</td>\n",
       "      <td>5.0</td>\n",
       "      <td>12.0</td>\n",
       "      <td>€113K</td>\n",
       "    </tr>\n",
       "    <tr>\n",
       "      <th>18204</th>\n",
       "      <td>18204</td>\n",
       "      <td>241638</td>\n",
       "      <td>B. Worman</td>\n",
       "      <td>16</td>\n",
       "      <td>https://cdn.sofifa.org/players/4/19/241638.png</td>\n",
       "      <td>England</td>\n",
       "      <td>https://cdn.sofifa.org/flags/14.png</td>\n",
       "      <td>47</td>\n",
       "      <td>67</td>\n",
       "      <td>Cambridge United</td>\n",
       "      <td>...</td>\n",
       "      <td>41.0</td>\n",
       "      <td>32.0</td>\n",
       "      <td>13.0</td>\n",
       "      <td>11.0</td>\n",
       "      <td>6.0</td>\n",
       "      <td>5.0</td>\n",
       "      <td>10.0</td>\n",
       "      <td>6.0</td>\n",
       "      <td>13.0</td>\n",
       "      <td>€165K</td>\n",
       "    </tr>\n",
       "    <tr>\n",
       "      <th>18205</th>\n",
       "      <td>18205</td>\n",
       "      <td>246268</td>\n",
       "      <td>D. Walker-Rice</td>\n",
       "      <td>17</td>\n",
       "      <td>https://cdn.sofifa.org/players/4/19/246268.png</td>\n",
       "      <td>England</td>\n",
       "      <td>https://cdn.sofifa.org/flags/14.png</td>\n",
       "      <td>47</td>\n",
       "      <td>66</td>\n",
       "      <td>Tranmere Rovers</td>\n",
       "      <td>...</td>\n",
       "      <td>46.0</td>\n",
       "      <td>20.0</td>\n",
       "      <td>25.0</td>\n",
       "      <td>27.0</td>\n",
       "      <td>14.0</td>\n",
       "      <td>6.0</td>\n",
       "      <td>14.0</td>\n",
       "      <td>8.0</td>\n",
       "      <td>9.0</td>\n",
       "      <td>€143K</td>\n",
       "    </tr>\n",
       "    <tr>\n",
       "      <th>18206</th>\n",
       "      <td>18206</td>\n",
       "      <td>246269</td>\n",
       "      <td>G. Nugent</td>\n",
       "      <td>16</td>\n",
       "      <td>https://cdn.sofifa.org/players/4/19/246269.png</td>\n",
       "      <td>England</td>\n",
       "      <td>https://cdn.sofifa.org/flags/14.png</td>\n",
       "      <td>46</td>\n",
       "      <td>66</td>\n",
       "      <td>Tranmere Rovers</td>\n",
       "      <td>...</td>\n",
       "      <td>43.0</td>\n",
       "      <td>40.0</td>\n",
       "      <td>43.0</td>\n",
       "      <td>50.0</td>\n",
       "      <td>10.0</td>\n",
       "      <td>15.0</td>\n",
       "      <td>9.0</td>\n",
       "      <td>12.0</td>\n",
       "      <td>9.0</td>\n",
       "      <td>€165K</td>\n",
       "    </tr>\n",
       "  </tbody>\n",
       "</table>\n",
       "<p>18207 rows × 89 columns</p>\n",
       "</div>"
      ],
      "text/plain": [
       "       Unnamed: 0      ID                Name  Age  \\\n",
       "0               0  158023            L. Messi   31   \n",
       "1               1   20801   Cristiano Ronaldo   33   \n",
       "2               2  190871           Neymar Jr   26   \n",
       "3               3  193080              De Gea   27   \n",
       "4               4  192985        K. De Bruyne   27   \n",
       "...           ...     ...                 ...  ...   \n",
       "18202       18202  238813        J. Lundstram   19   \n",
       "18203       18203  243165  N. Christoffersson   19   \n",
       "18204       18204  241638           B. Worman   16   \n",
       "18205       18205  246268      D. Walker-Rice   17   \n",
       "18206       18206  246269           G. Nugent   16   \n",
       "\n",
       "                                                Photo Nationality  \\\n",
       "0      https://cdn.sofifa.org/players/4/19/158023.png   Argentina   \n",
       "1       https://cdn.sofifa.org/players/4/19/20801.png    Portugal   \n",
       "2      https://cdn.sofifa.org/players/4/19/190871.png      Brazil   \n",
       "3      https://cdn.sofifa.org/players/4/19/193080.png       Spain   \n",
       "4      https://cdn.sofifa.org/players/4/19/192985.png     Belgium   \n",
       "...                                               ...         ...   \n",
       "18202  https://cdn.sofifa.org/players/4/19/238813.png     England   \n",
       "18203  https://cdn.sofifa.org/players/4/19/243165.png      Sweden   \n",
       "18204  https://cdn.sofifa.org/players/4/19/241638.png     England   \n",
       "18205  https://cdn.sofifa.org/players/4/19/246268.png     England   \n",
       "18206  https://cdn.sofifa.org/players/4/19/246269.png     England   \n",
       "\n",
       "                                      Flag  Overall  Potential  \\\n",
       "0      https://cdn.sofifa.org/flags/52.png       94         94   \n",
       "1      https://cdn.sofifa.org/flags/38.png       94         94   \n",
       "2      https://cdn.sofifa.org/flags/54.png       92         93   \n",
       "3      https://cdn.sofifa.org/flags/45.png       91         93   \n",
       "4       https://cdn.sofifa.org/flags/7.png       91         92   \n",
       "...                                    ...      ...        ...   \n",
       "18202  https://cdn.sofifa.org/flags/14.png       47         65   \n",
       "18203  https://cdn.sofifa.org/flags/46.png       47         63   \n",
       "18204  https://cdn.sofifa.org/flags/14.png       47         67   \n",
       "18205  https://cdn.sofifa.org/flags/14.png       47         66   \n",
       "18206  https://cdn.sofifa.org/flags/14.png       46         66   \n",
       "\n",
       "                      Club  ... Composure Marking StandingTackle  \\\n",
       "0             FC Barcelona  ...      96.0    33.0           28.0   \n",
       "1                 Juventus  ...      95.0    28.0           31.0   \n",
       "2      Paris Saint-Germain  ...      94.0    27.0           24.0   \n",
       "3        Manchester United  ...      68.0    15.0           21.0   \n",
       "4          Manchester City  ...      88.0    68.0           58.0   \n",
       "...                    ...  ...       ...     ...            ...   \n",
       "18202      Crewe Alexandra  ...      45.0    40.0           48.0   \n",
       "18203       Trelleborgs FF  ...      42.0    22.0           15.0   \n",
       "18204     Cambridge United  ...      41.0    32.0           13.0   \n",
       "18205      Tranmere Rovers  ...      46.0    20.0           25.0   \n",
       "18206      Tranmere Rovers  ...      43.0    40.0           43.0   \n",
       "\n",
       "       SlidingTackle GKDiving  GKHandling  GKKicking  GKPositioning  \\\n",
       "0               26.0      6.0        11.0       15.0           14.0   \n",
       "1               23.0      7.0        11.0       15.0           14.0   \n",
       "2               33.0      9.0         9.0       15.0           15.0   \n",
       "3               13.0     90.0        85.0       87.0           88.0   \n",
       "4               51.0     15.0        13.0        5.0           10.0   \n",
       "...              ...      ...         ...        ...            ...   \n",
       "18202           47.0     10.0        13.0        7.0            8.0   \n",
       "18203           19.0     10.0         9.0        9.0            5.0   \n",
       "18204           11.0      6.0         5.0       10.0            6.0   \n",
       "18205           27.0     14.0         6.0       14.0            8.0   \n",
       "18206           50.0     10.0        15.0        9.0           12.0   \n",
       "\n",
       "      GKReflexes Release Clause  \n",
       "0            8.0        €226.5M  \n",
       "1           11.0        €127.1M  \n",
       "2           11.0        €228.1M  \n",
       "3           94.0        €138.6M  \n",
       "4           13.0        €196.4M  \n",
       "...          ...            ...  \n",
       "18202        9.0          €143K  \n",
       "18203       12.0          €113K  \n",
       "18204       13.0          €165K  \n",
       "18205        9.0          €143K  \n",
       "18206        9.0          €165K  \n",
       "\n",
       "[18207 rows x 89 columns]"
      ]
     },
     "execution_count": 114,
     "metadata": {},
     "output_type": "execute_result"
    }
   ],
   "source": [
    "pl"
   ]
  },
  {
   "cell_type": "code",
   "execution_count": 115,
   "metadata": {},
   "outputs": [],
   "source": [
    "pl.drop(\"Unnamed: 0\", axis = 1, inplace = True)"
   ]
  },
  {
   "cell_type": "code",
   "execution_count": 116,
   "metadata": {
    "scrolled": true
   },
   "outputs": [
    {
     "data": {
      "text/html": [
       "<div>\n",
       "<style scoped>\n",
       "    .dataframe tbody tr th:only-of-type {\n",
       "        vertical-align: middle;\n",
       "    }\n",
       "\n",
       "    .dataframe tbody tr th {\n",
       "        vertical-align: top;\n",
       "    }\n",
       "\n",
       "    .dataframe thead th {\n",
       "        text-align: right;\n",
       "    }\n",
       "</style>\n",
       "<table border=\"1\" class=\"dataframe\">\n",
       "  <thead>\n",
       "    <tr style=\"text-align: right;\">\n",
       "      <th></th>\n",
       "      <th>ID</th>\n",
       "      <th>Name</th>\n",
       "      <th>Age</th>\n",
       "      <th>Photo</th>\n",
       "      <th>Nationality</th>\n",
       "      <th>Flag</th>\n",
       "      <th>Overall</th>\n",
       "      <th>Potential</th>\n",
       "      <th>Club</th>\n",
       "      <th>Club Logo</th>\n",
       "      <th>...</th>\n",
       "      <th>Composure</th>\n",
       "      <th>Marking</th>\n",
       "      <th>StandingTackle</th>\n",
       "      <th>SlidingTackle</th>\n",
       "      <th>GKDiving</th>\n",
       "      <th>GKHandling</th>\n",
       "      <th>GKKicking</th>\n",
       "      <th>GKPositioning</th>\n",
       "      <th>GKReflexes</th>\n",
       "      <th>Release Clause</th>\n",
       "    </tr>\n",
       "  </thead>\n",
       "  <tbody>\n",
       "    <tr>\n",
       "      <th>0</th>\n",
       "      <td>158023</td>\n",
       "      <td>L. Messi</td>\n",
       "      <td>31</td>\n",
       "      <td>https://cdn.sofifa.org/players/4/19/158023.png</td>\n",
       "      <td>Argentina</td>\n",
       "      <td>https://cdn.sofifa.org/flags/52.png</td>\n",
       "      <td>94</td>\n",
       "      <td>94</td>\n",
       "      <td>FC Barcelona</td>\n",
       "      <td>https://cdn.sofifa.org/teams/2/light/241.png</td>\n",
       "      <td>...</td>\n",
       "      <td>96.0</td>\n",
       "      <td>33.0</td>\n",
       "      <td>28.0</td>\n",
       "      <td>26.0</td>\n",
       "      <td>6.0</td>\n",
       "      <td>11.0</td>\n",
       "      <td>15.0</td>\n",
       "      <td>14.0</td>\n",
       "      <td>8.0</td>\n",
       "      <td>€226.5M</td>\n",
       "    </tr>\n",
       "    <tr>\n",
       "      <th>1</th>\n",
       "      <td>20801</td>\n",
       "      <td>Cristiano Ronaldo</td>\n",
       "      <td>33</td>\n",
       "      <td>https://cdn.sofifa.org/players/4/19/20801.png</td>\n",
       "      <td>Portugal</td>\n",
       "      <td>https://cdn.sofifa.org/flags/38.png</td>\n",
       "      <td>94</td>\n",
       "      <td>94</td>\n",
       "      <td>Juventus</td>\n",
       "      <td>https://cdn.sofifa.org/teams/2/light/45.png</td>\n",
       "      <td>...</td>\n",
       "      <td>95.0</td>\n",
       "      <td>28.0</td>\n",
       "      <td>31.0</td>\n",
       "      <td>23.0</td>\n",
       "      <td>7.0</td>\n",
       "      <td>11.0</td>\n",
       "      <td>15.0</td>\n",
       "      <td>14.0</td>\n",
       "      <td>11.0</td>\n",
       "      <td>€127.1M</td>\n",
       "    </tr>\n",
       "    <tr>\n",
       "      <th>2</th>\n",
       "      <td>190871</td>\n",
       "      <td>Neymar Jr</td>\n",
       "      <td>26</td>\n",
       "      <td>https://cdn.sofifa.org/players/4/19/190871.png</td>\n",
       "      <td>Brazil</td>\n",
       "      <td>https://cdn.sofifa.org/flags/54.png</td>\n",
       "      <td>92</td>\n",
       "      <td>93</td>\n",
       "      <td>Paris Saint-Germain</td>\n",
       "      <td>https://cdn.sofifa.org/teams/2/light/73.png</td>\n",
       "      <td>...</td>\n",
       "      <td>94.0</td>\n",
       "      <td>27.0</td>\n",
       "      <td>24.0</td>\n",
       "      <td>33.0</td>\n",
       "      <td>9.0</td>\n",
       "      <td>9.0</td>\n",
       "      <td>15.0</td>\n",
       "      <td>15.0</td>\n",
       "      <td>11.0</td>\n",
       "      <td>€228.1M</td>\n",
       "    </tr>\n",
       "    <tr>\n",
       "      <th>3</th>\n",
       "      <td>193080</td>\n",
       "      <td>De Gea</td>\n",
       "      <td>27</td>\n",
       "      <td>https://cdn.sofifa.org/players/4/19/193080.png</td>\n",
       "      <td>Spain</td>\n",
       "      <td>https://cdn.sofifa.org/flags/45.png</td>\n",
       "      <td>91</td>\n",
       "      <td>93</td>\n",
       "      <td>Manchester United</td>\n",
       "      <td>https://cdn.sofifa.org/teams/2/light/11.png</td>\n",
       "      <td>...</td>\n",
       "      <td>68.0</td>\n",
       "      <td>15.0</td>\n",
       "      <td>21.0</td>\n",
       "      <td>13.0</td>\n",
       "      <td>90.0</td>\n",
       "      <td>85.0</td>\n",
       "      <td>87.0</td>\n",
       "      <td>88.0</td>\n",
       "      <td>94.0</td>\n",
       "      <td>€138.6M</td>\n",
       "    </tr>\n",
       "    <tr>\n",
       "      <th>4</th>\n",
       "      <td>192985</td>\n",
       "      <td>K. De Bruyne</td>\n",
       "      <td>27</td>\n",
       "      <td>https://cdn.sofifa.org/players/4/19/192985.png</td>\n",
       "      <td>Belgium</td>\n",
       "      <td>https://cdn.sofifa.org/flags/7.png</td>\n",
       "      <td>91</td>\n",
       "      <td>92</td>\n",
       "      <td>Manchester City</td>\n",
       "      <td>https://cdn.sofifa.org/teams/2/light/10.png</td>\n",
       "      <td>...</td>\n",
       "      <td>88.0</td>\n",
       "      <td>68.0</td>\n",
       "      <td>58.0</td>\n",
       "      <td>51.0</td>\n",
       "      <td>15.0</td>\n",
       "      <td>13.0</td>\n",
       "      <td>5.0</td>\n",
       "      <td>10.0</td>\n",
       "      <td>13.0</td>\n",
       "      <td>€196.4M</td>\n",
       "    </tr>\n",
       "  </tbody>\n",
       "</table>\n",
       "<p>5 rows × 88 columns</p>\n",
       "</div>"
      ],
      "text/plain": [
       "       ID               Name  Age  \\\n",
       "0  158023           L. Messi   31   \n",
       "1   20801  Cristiano Ronaldo   33   \n",
       "2  190871          Neymar Jr   26   \n",
       "3  193080             De Gea   27   \n",
       "4  192985       K. De Bruyne   27   \n",
       "\n",
       "                                            Photo Nationality  \\\n",
       "0  https://cdn.sofifa.org/players/4/19/158023.png   Argentina   \n",
       "1   https://cdn.sofifa.org/players/4/19/20801.png    Portugal   \n",
       "2  https://cdn.sofifa.org/players/4/19/190871.png      Brazil   \n",
       "3  https://cdn.sofifa.org/players/4/19/193080.png       Spain   \n",
       "4  https://cdn.sofifa.org/players/4/19/192985.png     Belgium   \n",
       "\n",
       "                                  Flag  Overall  Potential  \\\n",
       "0  https://cdn.sofifa.org/flags/52.png       94         94   \n",
       "1  https://cdn.sofifa.org/flags/38.png       94         94   \n",
       "2  https://cdn.sofifa.org/flags/54.png       92         93   \n",
       "3  https://cdn.sofifa.org/flags/45.png       91         93   \n",
       "4   https://cdn.sofifa.org/flags/7.png       91         92   \n",
       "\n",
       "                  Club                                     Club Logo  ...  \\\n",
       "0         FC Barcelona  https://cdn.sofifa.org/teams/2/light/241.png  ...   \n",
       "1             Juventus   https://cdn.sofifa.org/teams/2/light/45.png  ...   \n",
       "2  Paris Saint-Germain   https://cdn.sofifa.org/teams/2/light/73.png  ...   \n",
       "3    Manchester United   https://cdn.sofifa.org/teams/2/light/11.png  ...   \n",
       "4      Manchester City   https://cdn.sofifa.org/teams/2/light/10.png  ...   \n",
       "\n",
       "  Composure Marking  StandingTackle SlidingTackle  GKDiving  GKHandling  \\\n",
       "0      96.0    33.0            28.0          26.0       6.0        11.0   \n",
       "1      95.0    28.0            31.0          23.0       7.0        11.0   \n",
       "2      94.0    27.0            24.0          33.0       9.0         9.0   \n",
       "3      68.0    15.0            21.0          13.0      90.0        85.0   \n",
       "4      88.0    68.0            58.0          51.0      15.0        13.0   \n",
       "\n",
       "   GKKicking GKPositioning GKReflexes Release Clause  \n",
       "0       15.0          14.0        8.0        €226.5M  \n",
       "1       15.0          14.0       11.0        €127.1M  \n",
       "2       15.0          15.0       11.0        €228.1M  \n",
       "3       87.0          88.0       94.0        €138.6M  \n",
       "4        5.0          10.0       13.0        €196.4M  \n",
       "\n",
       "[5 rows x 88 columns]"
      ]
     },
     "execution_count": 116,
     "metadata": {},
     "output_type": "execute_result"
    }
   ],
   "source": [
    "pl.head()"
   ]
  },
  {
   "cell_type": "code",
   "execution_count": 117,
   "metadata": {
    "scrolled": true
   },
   "outputs": [
    {
     "name": "stdout",
     "output_type": "stream",
     "text": [
      "<class 'pandas.core.frame.DataFrame'>\n",
      "RangeIndex: 18207 entries, 0 to 18206\n",
      "Data columns (total 88 columns):\n",
      " #   Column                    Non-Null Count  Dtype  \n",
      "---  ------                    --------------  -----  \n",
      " 0   ID                        18207 non-null  int64  \n",
      " 1   Name                      18207 non-null  object \n",
      " 2   Age                       18207 non-null  int64  \n",
      " 3   Photo                     18207 non-null  object \n",
      " 4   Nationality               18207 non-null  object \n",
      " 5   Flag                      18207 non-null  object \n",
      " 6   Overall                   18207 non-null  int64  \n",
      " 7   Potential                 18207 non-null  int64  \n",
      " 8   Club                      17966 non-null  object \n",
      " 9   Club Logo                 18207 non-null  object \n",
      " 10  Value                     18207 non-null  object \n",
      " 11  Wage                      18207 non-null  object \n",
      " 12  Special                   18207 non-null  int64  \n",
      " 13  Preferred Foot            18159 non-null  object \n",
      " 14  International Reputation  18159 non-null  float64\n",
      " 15  Weak Foot                 18159 non-null  float64\n",
      " 16  Skill Moves               18159 non-null  float64\n",
      " 17  Work Rate                 18159 non-null  object \n",
      " 18  Body Type                 18159 non-null  object \n",
      " 19  Real Face                 18159 non-null  object \n",
      " 20  Position                  18147 non-null  object \n",
      " 21  Jersey Number             18147 non-null  float64\n",
      " 22  Joined                    16654 non-null  object \n",
      " 23  Loaned From               1264 non-null   object \n",
      " 24  Contract Valid Until      17918 non-null  object \n",
      " 25  Height                    18159 non-null  object \n",
      " 26  Weight                    18159 non-null  object \n",
      " 27  LS                        16122 non-null  object \n",
      " 28  ST                        16122 non-null  object \n",
      " 29  RS                        16122 non-null  object \n",
      " 30  LW                        16122 non-null  object \n",
      " 31  LF                        16122 non-null  object \n",
      " 32  CF                        16122 non-null  object \n",
      " 33  RF                        16122 non-null  object \n",
      " 34  RW                        16122 non-null  object \n",
      " 35  LAM                       16122 non-null  object \n",
      " 36  CAM                       16122 non-null  object \n",
      " 37  RAM                       16122 non-null  object \n",
      " 38  LM                        16122 non-null  object \n",
      " 39  LCM                       16122 non-null  object \n",
      " 40  CM                        16122 non-null  object \n",
      " 41  RCM                       16122 non-null  object \n",
      " 42  RM                        16122 non-null  object \n",
      " 43  LWB                       16122 non-null  object \n",
      " 44  LDM                       16122 non-null  object \n",
      " 45  CDM                       16122 non-null  object \n",
      " 46  RDM                       16122 non-null  object \n",
      " 47  RWB                       16122 non-null  object \n",
      " 48  LB                        16122 non-null  object \n",
      " 49  LCB                       16122 non-null  object \n",
      " 50  CB                        16122 non-null  object \n",
      " 51  RCB                       16122 non-null  object \n",
      " 52  RB                        16122 non-null  object \n",
      " 53  Crossing                  18159 non-null  float64\n",
      " 54  Finishing                 18159 non-null  float64\n",
      " 55  HeadingAccuracy           18159 non-null  float64\n",
      " 56  ShortPassing              18159 non-null  float64\n",
      " 57  Volleys                   18159 non-null  float64\n",
      " 58  Dribbling                 18159 non-null  float64\n",
      " 59  Curve                     18159 non-null  float64\n",
      " 60  FKAccuracy                18159 non-null  float64\n",
      " 61  LongPassing               18159 non-null  float64\n",
      " 62  BallControl               18159 non-null  float64\n",
      " 63  Acceleration              18159 non-null  float64\n",
      " 64  SprintSpeed               18159 non-null  float64\n",
      " 65  Agility                   18159 non-null  float64\n",
      " 66  Reactions                 18159 non-null  float64\n",
      " 67  Balance                   18159 non-null  float64\n",
      " 68  ShotPower                 18159 non-null  float64\n",
      " 69  Jumping                   18159 non-null  float64\n",
      " 70  Stamina                   18159 non-null  float64\n",
      " 71  Strength                  18159 non-null  float64\n",
      " 72  LongShots                 18159 non-null  float64\n",
      " 73  Aggression                18159 non-null  float64\n",
      " 74  Interceptions             18159 non-null  float64\n",
      " 75  Positioning               18159 non-null  float64\n",
      " 76  Vision                    18159 non-null  float64\n",
      " 77  Penalties                 18159 non-null  float64\n",
      " 78  Composure                 18159 non-null  float64\n",
      " 79  Marking                   18159 non-null  float64\n",
      " 80  StandingTackle            18159 non-null  float64\n",
      " 81  SlidingTackle             18159 non-null  float64\n",
      " 82  GKDiving                  18159 non-null  float64\n",
      " 83  GKHandling                18159 non-null  float64\n",
      " 84  GKKicking                 18159 non-null  float64\n",
      " 85  GKPositioning             18159 non-null  float64\n",
      " 86  GKReflexes                18159 non-null  float64\n",
      " 87  Release Clause            16643 non-null  object \n",
      "dtypes: float64(38), int64(5), object(45)\n",
      "memory usage: 12.2+ MB\n"
     ]
    }
   ],
   "source": [
    "pl.info()"
   ]
  },
  {
   "cell_type": "code",
   "execution_count": 118,
   "metadata": {
    "scrolled": true
   },
   "outputs": [
    {
     "data": {
      "text/plain": [
       "(18207, 88)"
      ]
     },
     "execution_count": 118,
     "metadata": {},
     "output_type": "execute_result"
    }
   ],
   "source": [
    "pl.shape"
   ]
  },
  {
   "cell_type": "code",
   "execution_count": 123,
   "metadata": {},
   "outputs": [],
   "source": [
    "def extract_value(column):\n",
    "    check = column.replace(\"€\", \"\")\n",
    "    if \"M\" in check:\n",
    "        check = float(check.replace(\"M\", \"\")) * 1000000\n",
    "    elif \"K\" in check:\n",
    "        check = float(check.replace(\"K\", \"\")) * 1000\n",
    "    return float(check)"
   ]
  },
  {
   "cell_type": "code",
   "execution_count": 128,
   "metadata": {},
   "outputs": [],
   "source": [
    "# apply it \n",
    "#pl[\"Value\"] = pl[\"Value\"].apply(extract_value)"
   ]
  },
  {
   "cell_type": "code",
   "execution_count": 126,
   "metadata": {
    "scrolled": true
   },
   "outputs": [
    {
     "data": {
      "text/plain": [
       "0        110500000.0\n",
       "1         77000000.0\n",
       "2        118500000.0\n",
       "3         72000000.0\n",
       "4        102000000.0\n",
       "            ...     \n",
       "18202        60000.0\n",
       "18203        60000.0\n",
       "18204        60000.0\n",
       "18205        60000.0\n",
       "18206        60000.0\n",
       "Name: Value, Length: 18207, dtype: float64"
      ]
     },
     "execution_count": 126,
     "metadata": {},
     "output_type": "execute_result"
    }
   ],
   "source": [
    "pl[\"Value\"]"
   ]
  },
  {
   "cell_type": "code",
   "execution_count": 129,
   "metadata": {},
   "outputs": [
    {
     "data": {
      "text/plain": [
       "dtype('float64')"
      ]
     },
     "execution_count": 129,
     "metadata": {},
     "output_type": "execute_result"
    }
   ],
   "source": [
    "pl[\"Value\"].dtype"
   ]
  },
  {
   "cell_type": "code",
   "execution_count": 136,
   "metadata": {},
   "outputs": [],
   "source": [
    "# apply extract_value on wage\n",
    "#pl[\"Wage\"] = pl[\"Wage\"].apply(extract_value)"
   ]
  },
  {
   "cell_type": "code",
   "execution_count": 137,
   "metadata": {},
   "outputs": [
    {
     "data": {
      "text/plain": [
       "dtype('float64')"
      ]
     },
     "execution_count": 137,
     "metadata": {},
     "output_type": "execute_result"
    }
   ],
   "source": [
    "pl.Wage.dtype"
   ]
  },
  {
   "cell_type": "markdown",
   "metadata": {},
   "source": [
    "### Find the Most Expensive Players whose contracts are going to Expire Soon\"\n"
   ]
  },
  {
   "cell_type": "code",
   "execution_count": 195,
   "metadata": {},
   "outputs": [
    {
     "data": {
      "text/html": [
       "<div>\n",
       "<style scoped>\n",
       "    .dataframe tbody tr th:only-of-type {\n",
       "        vertical-align: middle;\n",
       "    }\n",
       "\n",
       "    .dataframe tbody tr th {\n",
       "        vertical-align: top;\n",
       "    }\n",
       "\n",
       "    .dataframe thead th {\n",
       "        text-align: right;\n",
       "    }\n",
       "</style>\n",
       "<table border=\"1\" class=\"dataframe\">\n",
       "  <thead>\n",
       "    <tr style=\"text-align: right;\">\n",
       "      <th></th>\n",
       "      <th>Name</th>\n",
       "      <th>Nationality</th>\n",
       "      <th>Club</th>\n",
       "      <th>Age</th>\n",
       "      <th>Wage</th>\n",
       "      <th>Contract Valid Until</th>\n",
       "    </tr>\n",
       "  </thead>\n",
       "  <tbody>\n",
       "    <tr>\n",
       "      <th>6</th>\n",
       "      <td>L. Modrić</td>\n",
       "      <td>Croatia</td>\n",
       "      <td>Real Madrid</td>\n",
       "      <td>32</td>\n",
       "      <td>420000.0</td>\n",
       "      <td>2020</td>\n",
       "    </tr>\n",
       "    <tr>\n",
       "      <th>8</th>\n",
       "      <td>Sergio Ramos</td>\n",
       "      <td>Spain</td>\n",
       "      <td>Real Madrid</td>\n",
       "      <td>32</td>\n",
       "      <td>380000.0</td>\n",
       "      <td>2020</td>\n",
       "    </tr>\n",
       "    <tr>\n",
       "      <th>5</th>\n",
       "      <td>E. Hazard</td>\n",
       "      <td>Belgium</td>\n",
       "      <td>Chelsea</td>\n",
       "      <td>27</td>\n",
       "      <td>340000.0</td>\n",
       "      <td>2020</td>\n",
       "    </tr>\n",
       "    <tr>\n",
       "      <th>13</th>\n",
       "      <td>David Silva</td>\n",
       "      <td>Spain</td>\n",
       "      <td>Manchester City</td>\n",
       "      <td>32</td>\n",
       "      <td>285000.0</td>\n",
       "      <td>2020</td>\n",
       "    </tr>\n",
       "    <tr>\n",
       "      <th>3</th>\n",
       "      <td>De Gea</td>\n",
       "      <td>Spain</td>\n",
       "      <td>Manchester United</td>\n",
       "      <td>27</td>\n",
       "      <td>260000.0</td>\n",
       "      <td>2020</td>\n",
       "    </tr>\n",
       "    <tr>\n",
       "      <th>49</th>\n",
       "      <td>Jordi Alba</td>\n",
       "      <td>Spain</td>\n",
       "      <td>FC Barcelona</td>\n",
       "      <td>29</td>\n",
       "      <td>250000.0</td>\n",
       "      <td>2020</td>\n",
       "    </tr>\n",
       "    <tr>\n",
       "      <th>24</th>\n",
       "      <td>G. Chiellini</td>\n",
       "      <td>Italy</td>\n",
       "      <td>Juventus</td>\n",
       "      <td>33</td>\n",
       "      <td>215000.0</td>\n",
       "      <td>2020</td>\n",
       "    </tr>\n",
       "    <tr>\n",
       "      <th>31</th>\n",
       "      <td>C. Eriksen</td>\n",
       "      <td>Denmark</td>\n",
       "      <td>Tottenham Hotspur</td>\n",
       "      <td>26</td>\n",
       "      <td>205000.0</td>\n",
       "      <td>2020</td>\n",
       "    </tr>\n",
       "    <tr>\n",
       "      <th>21</th>\n",
       "      <td>E. Cavani</td>\n",
       "      <td>Uruguay</td>\n",
       "      <td>Paris Saint-Germain</td>\n",
       "      <td>31</td>\n",
       "      <td>200000.0</td>\n",
       "      <td>2020</td>\n",
       "    </tr>\n",
       "    <tr>\n",
       "      <th>46</th>\n",
       "      <td>K. Navas</td>\n",
       "      <td>Costa Rica</td>\n",
       "      <td>Real Madrid</td>\n",
       "      <td>31</td>\n",
       "      <td>195000.0</td>\n",
       "      <td>2020</td>\n",
       "    </tr>\n",
       "  </tbody>\n",
       "</table>\n",
       "</div>"
      ],
      "text/plain": [
       "            Name Nationality                 Club  Age      Wage  \\\n",
       "6      L. Modrić     Croatia          Real Madrid   32  420000.0   \n",
       "8   Sergio Ramos       Spain          Real Madrid   32  380000.0   \n",
       "5      E. Hazard     Belgium              Chelsea   27  340000.0   \n",
       "13   David Silva       Spain      Manchester City   32  285000.0   \n",
       "3         De Gea       Spain    Manchester United   27  260000.0   \n",
       "49    Jordi Alba       Spain         FC Barcelona   29  250000.0   \n",
       "24  G. Chiellini       Italy             Juventus   33  215000.0   \n",
       "31    C. Eriksen     Denmark    Tottenham Hotspur   26  205000.0   \n",
       "21     E. Cavani     Uruguay  Paris Saint-Germain   31  200000.0   \n",
       "46      K. Navas  Costa Rica          Real Madrid   31  195000.0   \n",
       "\n",
       "   Contract Valid Until  \n",
       "6                  2020  \n",
       "8                  2020  \n",
       "5                  2020  \n",
       "13                 2020  \n",
       "3                  2020  \n",
       "49                 2020  \n",
       "24                 2020  \n",
       "31                 2020  \n",
       "21                 2020  \n",
       "46                 2020  "
      ]
     },
     "execution_count": 195,
     "metadata": {},
     "output_type": "execute_result"
    }
   ],
   "source": [
    "# we have to filter players whose contracts are going to be valid till 2020 only.\\n\",\n",
    "\n",
    "pl[pl[\"Contract Valid Until\"] == \"2020\"][[\"Name\", \"Nationality\", \"Club\", \"Age\", \"Wage\", \"Contract Valid Until\"]].sort_values(\"Wage\", ascending = False).head(10)"
   ]
  },
  {
   "cell_type": "markdown",
   "metadata": {},
   "source": [
    "### Make a Function to Generate a Report for Players\""
   ]
  },
  {
   "cell_type": "code",
   "execution_count": 197,
   "metadata": {},
   "outputs": [
    {
     "data": {
      "text/html": [
       "<div>\n",
       "<style scoped>\n",
       "    .dataframe tbody tr th:only-of-type {\n",
       "        vertical-align: middle;\n",
       "    }\n",
       "\n",
       "    .dataframe tbody tr th {\n",
       "        vertical-align: top;\n",
       "    }\n",
       "\n",
       "    .dataframe thead th {\n",
       "        text-align: right;\n",
       "    }\n",
       "</style>\n",
       "<table border=\"1\" class=\"dataframe\">\n",
       "  <thead>\n",
       "    <tr style=\"text-align: right;\">\n",
       "      <th></th>\n",
       "      <th>ID</th>\n",
       "      <th>Name</th>\n",
       "      <th>Age</th>\n",
       "      <th>Photo</th>\n",
       "      <th>Nationality</th>\n",
       "      <th>Flag</th>\n",
       "      <th>Overall</th>\n",
       "      <th>Potential</th>\n",
       "      <th>Club</th>\n",
       "      <th>Club Logo</th>\n",
       "      <th>...</th>\n",
       "      <th>Composure</th>\n",
       "      <th>Marking</th>\n",
       "      <th>StandingTackle</th>\n",
       "      <th>SlidingTackle</th>\n",
       "      <th>GKDiving</th>\n",
       "      <th>GKHandling</th>\n",
       "      <th>GKKicking</th>\n",
       "      <th>GKPositioning</th>\n",
       "      <th>GKReflexes</th>\n",
       "      <th>Release Clause</th>\n",
       "    </tr>\n",
       "  </thead>\n",
       "  <tbody>\n",
       "    <tr>\n",
       "      <th>0</th>\n",
       "      <td>158023</td>\n",
       "      <td>L. Messi</td>\n",
       "      <td>31</td>\n",
       "      <td>https://cdn.sofifa.org/players/4/19/158023.png</td>\n",
       "      <td>Argentina</td>\n",
       "      <td>https://cdn.sofifa.org/flags/52.png</td>\n",
       "      <td>94</td>\n",
       "      <td>94</td>\n",
       "      <td>FC Barcelona</td>\n",
       "      <td>https://cdn.sofifa.org/teams/2/light/241.png</td>\n",
       "      <td>...</td>\n",
       "      <td>96.0</td>\n",
       "      <td>33.0</td>\n",
       "      <td>28.0</td>\n",
       "      <td>26.0</td>\n",
       "      <td>6.0</td>\n",
       "      <td>11.0</td>\n",
       "      <td>15.0</td>\n",
       "      <td>14.0</td>\n",
       "      <td>8.0</td>\n",
       "      <td>€226.5M</td>\n",
       "    </tr>\n",
       "  </tbody>\n",
       "</table>\n",
       "<p>1 rows × 88 columns</p>\n",
       "</div>"
      ],
      "text/plain": [
       "       ID      Name  Age                                           Photo  \\\n",
       "0  158023  L. Messi   31  https://cdn.sofifa.org/players/4/19/158023.png   \n",
       "\n",
       "  Nationality                                 Flag  Overall  Potential  \\\n",
       "0   Argentina  https://cdn.sofifa.org/flags/52.png       94         94   \n",
       "\n",
       "           Club                                     Club Logo  ...  Composure  \\\n",
       "0  FC Barcelona  https://cdn.sofifa.org/teams/2/light/241.png  ...       96.0   \n",
       "\n",
       "   Marking  StandingTackle SlidingTackle  GKDiving  GKHandling  GKKicking  \\\n",
       "0     33.0            28.0          26.0       6.0        11.0       15.0   \n",
       "\n",
       "  GKPositioning GKReflexes Release Clause  \n",
       "0          14.0        8.0        €226.5M  \n",
       "\n",
       "[1 rows x 88 columns]"
      ]
     },
     "execution_count": 197,
     "metadata": {},
     "output_type": "execute_result"
    }
   ],
   "source": [
    "pl[pl[\"Name\"] == \"L. Messi\"]"
   ]
  },
  {
   "cell_type": "code",
   "execution_count": 433,
   "metadata": {},
   "outputs": [],
   "source": [
    "def profile(player):\n",
    "        return pl[pl[\"Name\"] == player][[\"Name\", 'Nationality','Club','Overall','Potential',\n",
    "                                     'Contract Valid Until','Wage','International Reputation']]"
   ]
  },
  {
   "cell_type": "code",
   "execution_count": 290,
   "metadata": {
    "scrolled": true
   },
   "outputs": [
    {
     "data": {
      "text/html": [
       "<div>\n",
       "<style scoped>\n",
       "    .dataframe tbody tr th:only-of-type {\n",
       "        vertical-align: middle;\n",
       "    }\n",
       "\n",
       "    .dataframe tbody tr th {\n",
       "        vertical-align: top;\n",
       "    }\n",
       "\n",
       "    .dataframe thead th {\n",
       "        text-align: right;\n",
       "    }\n",
       "</style>\n",
       "<table border=\"1\" class=\"dataframe\">\n",
       "  <thead>\n",
       "    <tr style=\"text-align: right;\">\n",
       "      <th></th>\n",
       "      <th>Nationality</th>\n",
       "      <th>Club</th>\n",
       "      <th>Overall</th>\n",
       "      <th>Potential</th>\n",
       "      <th>Contract Valid Until</th>\n",
       "      <th>Wage</th>\n",
       "      <th>International Reputation</th>\n",
       "    </tr>\n",
       "  </thead>\n",
       "  <tbody>\n",
       "    <tr>\n",
       "      <th>425</th>\n",
       "      <td>Nigeria</td>\n",
       "      <td>Leicester City</td>\n",
       "      <td>80</td>\n",
       "      <td>85</td>\n",
       "      <td>2024</td>\n",
       "      <td>50000.0</td>\n",
       "      <td>1.0</td>\n",
       "    </tr>\n",
       "  </tbody>\n",
       "</table>\n",
       "</div>"
      ],
      "text/plain": [
       "    Nationality            Club  Overall  Potential Contract Valid Until  \\\n",
       "425     Nigeria  Leicester City       80         85                 2024   \n",
       "\n",
       "        Wage  International Reputation  \n",
       "425  50000.0                       1.0  "
      ]
     },
     "execution_count": 290,
     "metadata": {},
     "output_type": "execute_result"
    }
   ],
   "source": [
    "profile(\"W. Ndidi\")"
   ]
  },
  {
   "cell_type": "code",
   "execution_count": 434,
   "metadata": {},
   "outputs": [
    {
     "data": {
      "text/html": [
       "<div>\n",
       "<style scoped>\n",
       "    .dataframe tbody tr th:only-of-type {\n",
       "        vertical-align: middle;\n",
       "    }\n",
       "\n",
       "    .dataframe tbody tr th {\n",
       "        vertical-align: top;\n",
       "    }\n",
       "\n",
       "    .dataframe thead th {\n",
       "        text-align: right;\n",
       "    }\n",
       "</style>\n",
       "<table border=\"1\" class=\"dataframe\">\n",
       "  <thead>\n",
       "    <tr style=\"text-align: right;\">\n",
       "      <th></th>\n",
       "      <th>Name</th>\n",
       "      <th>Nationality</th>\n",
       "      <th>Club</th>\n",
       "      <th>Overall</th>\n",
       "      <th>Potential</th>\n",
       "      <th>Contract Valid Until</th>\n",
       "      <th>Wage</th>\n",
       "      <th>International Reputation</th>\n",
       "    </tr>\n",
       "  </thead>\n",
       "  <tbody>\n",
       "    <tr>\n",
       "      <th>400</th>\n",
       "      <td>L. Fabiański</td>\n",
       "      <td>Poland</td>\n",
       "      <td>West Ham United</td>\n",
       "      <td>81</td>\n",
       "      <td>81</td>\n",
       "      <td>2021</td>\n",
       "      <td>70000.0</td>\n",
       "      <td>2.0</td>\n",
       "    </tr>\n",
       "  </tbody>\n",
       "</table>\n",
       "</div>"
      ],
      "text/plain": [
       "             Name Nationality             Club  Overall  Potential  \\\n",
       "400  L. Fabiański      Poland  West Ham United       81         81   \n",
       "\n",
       "    Contract Valid Until     Wage  International Reputation  \n",
       "400                 2021  70000.0                       2.0  "
      ]
     },
     "execution_count": 434,
     "metadata": {},
     "output_type": "execute_result"
    }
   ],
   "source": [
    "profile(pl[\"Name\"].loc[400])"
   ]
  },
  {
   "cell_type": "markdown",
   "metadata": {},
   "source": [
    "### Compare Indian Footballers with Russian Footballers\""
   ]
  },
  {
   "cell_type": "code",
   "execution_count": 229,
   "metadata": {},
   "outputs": [
    {
     "data": {
      "text/html": [
       "<div>\n",
       "<style scoped>\n",
       "    .dataframe tbody tr th:only-of-type {\n",
       "        vertical-align: middle;\n",
       "    }\n",
       "\n",
       "    .dataframe tbody tr th {\n",
       "        vertical-align: top;\n",
       "    }\n",
       "\n",
       "    .dataframe thead th {\n",
       "        text-align: right;\n",
       "    }\n",
       "</style>\n",
       "<table border=\"1\" class=\"dataframe\">\n",
       "  <thead>\n",
       "    <tr style=\"text-align: right;\">\n",
       "      <th></th>\n",
       "      <th>ID</th>\n",
       "      <th>Name</th>\n",
       "      <th>Age</th>\n",
       "      <th>Photo</th>\n",
       "      <th>Nationality</th>\n",
       "      <th>Flag</th>\n",
       "      <th>Overall</th>\n",
       "      <th>Potential</th>\n",
       "      <th>Club</th>\n",
       "      <th>Club Logo</th>\n",
       "      <th>...</th>\n",
       "      <th>Composure</th>\n",
       "      <th>Marking</th>\n",
       "      <th>StandingTackle</th>\n",
       "      <th>SlidingTackle</th>\n",
       "      <th>GKDiving</th>\n",
       "      <th>GKHandling</th>\n",
       "      <th>GKKicking</th>\n",
       "      <th>GKPositioning</th>\n",
       "      <th>GKReflexes</th>\n",
       "      <th>Release Clause</th>\n",
       "    </tr>\n",
       "  </thead>\n",
       "  <tbody>\n",
       "    <tr>\n",
       "      <th>276</th>\n",
       "      <td>193525</td>\n",
       "      <td>Mário Fernandes</td>\n",
       "      <td>27</td>\n",
       "      <td>https://cdn.sofifa.org/players/4/19/193525.png</td>\n",
       "      <td>Russia</td>\n",
       "      <td>https://cdn.sofifa.org/flags/40.png</td>\n",
       "      <td>82</td>\n",
       "      <td>82</td>\n",
       "      <td>PFC CSKA Moscow</td>\n",
       "      <td>https://cdn.sofifa.org/teams/2/light/315.png</td>\n",
       "      <td>...</td>\n",
       "      <td>76.0</td>\n",
       "      <td>83.0</td>\n",
       "      <td>82.0</td>\n",
       "      <td>84.0</td>\n",
       "      <td>12.0</td>\n",
       "      <td>13.0</td>\n",
       "      <td>14.0</td>\n",
       "      <td>13.0</td>\n",
       "      <td>12.0</td>\n",
       "      <td>€40.7M</td>\n",
       "    </tr>\n",
       "    <tr>\n",
       "      <th>381</th>\n",
       "      <td>187491</td>\n",
       "      <td>F. Smolov</td>\n",
       "      <td>28</td>\n",
       "      <td>https://cdn.sofifa.org/players/4/19/187491.png</td>\n",
       "      <td>Russia</td>\n",
       "      <td>https://cdn.sofifa.org/flags/40.png</td>\n",
       "      <td>81</td>\n",
       "      <td>81</td>\n",
       "      <td>Lokomotiv Moscow</td>\n",
       "      <td>https://cdn.sofifa.org/teams/2/light/100765.png</td>\n",
       "      <td>...</td>\n",
       "      <td>73.0</td>\n",
       "      <td>26.0</td>\n",
       "      <td>28.0</td>\n",
       "      <td>24.0</td>\n",
       "      <td>16.0</td>\n",
       "      <td>9.0</td>\n",
       "      <td>16.0</td>\n",
       "      <td>15.0</td>\n",
       "      <td>10.0</td>\n",
       "      <td>€38.9M</td>\n",
       "    </tr>\n",
       "    <tr>\n",
       "      <th>541</th>\n",
       "      <td>148119</td>\n",
       "      <td>I. Akinfeev</td>\n",
       "      <td>32</td>\n",
       "      <td>https://cdn.sofifa.org/players/4/19/148119.png</td>\n",
       "      <td>Russia</td>\n",
       "      <td>https://cdn.sofifa.org/flags/40.png</td>\n",
       "      <td>80</td>\n",
       "      <td>80</td>\n",
       "      <td>PFC CSKA Moscow</td>\n",
       "      <td>https://cdn.sofifa.org/teams/2/light/315.png</td>\n",
       "      <td>...</td>\n",
       "      <td>67.0</td>\n",
       "      <td>18.0</td>\n",
       "      <td>13.0</td>\n",
       "      <td>13.0</td>\n",
       "      <td>77.0</td>\n",
       "      <td>72.0</td>\n",
       "      <td>78.0</td>\n",
       "      <td>82.0</td>\n",
       "      <td>84.0</td>\n",
       "      <td>€18.7M</td>\n",
       "    </tr>\n",
       "    <tr>\n",
       "      <th>542</th>\n",
       "      <td>147782</td>\n",
       "      <td>I. Denisov</td>\n",
       "      <td>34</td>\n",
       "      <td>https://cdn.sofifa.org/players/4/19/147782.png</td>\n",
       "      <td>Russia</td>\n",
       "      <td>https://cdn.sofifa.org/flags/40.png</td>\n",
       "      <td>80</td>\n",
       "      <td>80</td>\n",
       "      <td>Lokomotiv Moscow</td>\n",
       "      <td>https://cdn.sofifa.org/teams/2/light/100765.png</td>\n",
       "      <td>...</td>\n",
       "      <td>77.0</td>\n",
       "      <td>81.0</td>\n",
       "      <td>81.0</td>\n",
       "      <td>73.0</td>\n",
       "      <td>13.0</td>\n",
       "      <td>7.0</td>\n",
       "      <td>15.0</td>\n",
       "      <td>13.0</td>\n",
       "      <td>12.0</td>\n",
       "      <td>€9.4M</td>\n",
       "    </tr>\n",
       "    <tr>\n",
       "      <th>568</th>\n",
       "      <td>229909</td>\n",
       "      <td>A. Lunev</td>\n",
       "      <td>26</td>\n",
       "      <td>https://cdn.sofifa.org/players/4/19/229909.png</td>\n",
       "      <td>Russia</td>\n",
       "      <td>https://cdn.sofifa.org/flags/40.png</td>\n",
       "      <td>79</td>\n",
       "      <td>81</td>\n",
       "      <td>NaN</td>\n",
       "      <td>https://cdn.sofifa.org/flags/40.png</td>\n",
       "      <td>...</td>\n",
       "      <td>69.0</td>\n",
       "      <td>18.0</td>\n",
       "      <td>20.0</td>\n",
       "      <td>12.0</td>\n",
       "      <td>80.0</td>\n",
       "      <td>73.0</td>\n",
       "      <td>65.0</td>\n",
       "      <td>77.0</td>\n",
       "      <td>85.0</td>\n",
       "      <td>NaN</td>\n",
       "    </tr>\n",
       "    <tr>\n",
       "      <th>...</th>\n",
       "      <td>...</td>\n",
       "      <td>...</td>\n",
       "      <td>...</td>\n",
       "      <td>...</td>\n",
       "      <td>...</td>\n",
       "      <td>...</td>\n",
       "      <td>...</td>\n",
       "      <td>...</td>\n",
       "      <td>...</td>\n",
       "      <td>...</td>\n",
       "      <td>...</td>\n",
       "      <td>...</td>\n",
       "      <td>...</td>\n",
       "      <td>...</td>\n",
       "      <td>...</td>\n",
       "      <td>...</td>\n",
       "      <td>...</td>\n",
       "      <td>...</td>\n",
       "      <td>...</td>\n",
       "      <td>...</td>\n",
       "      <td>...</td>\n",
       "    </tr>\n",
       "    <tr>\n",
       "      <th>17129</th>\n",
       "      <td>228198</td>\n",
       "      <td>J. Singh</td>\n",
       "      <td>26</td>\n",
       "      <td>https://cdn.sofifa.org/players/4/19/228198.png</td>\n",
       "      <td>India</td>\n",
       "      <td>https://cdn.sofifa.org/flags/159.png</td>\n",
       "      <td>55</td>\n",
       "      <td>58</td>\n",
       "      <td>NaN</td>\n",
       "      <td>https://cdn.sofifa.org/flags/159.png</td>\n",
       "      <td>...</td>\n",
       "      <td>42.0</td>\n",
       "      <td>26.0</td>\n",
       "      <td>18.0</td>\n",
       "      <td>13.0</td>\n",
       "      <td>15.0</td>\n",
       "      <td>14.0</td>\n",
       "      <td>8.0</td>\n",
       "      <td>10.0</td>\n",
       "      <td>16.0</td>\n",
       "      <td>NaN</td>\n",
       "    </tr>\n",
       "    <tr>\n",
       "      <th>17197</th>\n",
       "      <td>245164</td>\n",
       "      <td>V. Kaith</td>\n",
       "      <td>21</td>\n",
       "      <td>https://cdn.sofifa.org/players/4/19/245164.png</td>\n",
       "      <td>India</td>\n",
       "      <td>https://cdn.sofifa.org/flags/159.png</td>\n",
       "      <td>55</td>\n",
       "      <td>64</td>\n",
       "      <td>NaN</td>\n",
       "      <td>https://cdn.sofifa.org/flags/159.png</td>\n",
       "      <td>...</td>\n",
       "      <td>29.0</td>\n",
       "      <td>8.0</td>\n",
       "      <td>12.0</td>\n",
       "      <td>11.0</td>\n",
       "      <td>55.0</td>\n",
       "      <td>50.0</td>\n",
       "      <td>57.0</td>\n",
       "      <td>59.0</td>\n",
       "      <td>53.0</td>\n",
       "      <td>NaN</td>\n",
       "    </tr>\n",
       "    <tr>\n",
       "      <th>17339</th>\n",
       "      <td>233526</td>\n",
       "      <td>S. Passi</td>\n",
       "      <td>23</td>\n",
       "      <td>https://cdn.sofifa.org/players/4/19/233526.png</td>\n",
       "      <td>India</td>\n",
       "      <td>https://cdn.sofifa.org/flags/159.png</td>\n",
       "      <td>54</td>\n",
       "      <td>63</td>\n",
       "      <td>NaN</td>\n",
       "      <td>https://cdn.sofifa.org/flags/159.png</td>\n",
       "      <td>...</td>\n",
       "      <td>45.0</td>\n",
       "      <td>14.0</td>\n",
       "      <td>23.0</td>\n",
       "      <td>21.0</td>\n",
       "      <td>8.0</td>\n",
       "      <td>6.0</td>\n",
       "      <td>13.0</td>\n",
       "      <td>9.0</td>\n",
       "      <td>10.0</td>\n",
       "      <td>NaN</td>\n",
       "    </tr>\n",
       "    <tr>\n",
       "      <th>17436</th>\n",
       "      <td>236452</td>\n",
       "      <td>D. Lalhlimpuia</td>\n",
       "      <td>20</td>\n",
       "      <td>https://cdn.sofifa.org/players/4/19/236452.png</td>\n",
       "      <td>India</td>\n",
       "      <td>https://cdn.sofifa.org/flags/159.png</td>\n",
       "      <td>54</td>\n",
       "      <td>67</td>\n",
       "      <td>NaN</td>\n",
       "      <td>https://cdn.sofifa.org/flags/159.png</td>\n",
       "      <td>...</td>\n",
       "      <td>46.0</td>\n",
       "      <td>26.0</td>\n",
       "      <td>17.0</td>\n",
       "      <td>13.0</td>\n",
       "      <td>7.0</td>\n",
       "      <td>8.0</td>\n",
       "      <td>12.0</td>\n",
       "      <td>11.0</td>\n",
       "      <td>11.0</td>\n",
       "      <td>NaN</td>\n",
       "    </tr>\n",
       "    <tr>\n",
       "      <th>17539</th>\n",
       "      <td>234508</td>\n",
       "      <td>C. Singh</td>\n",
       "      <td>21</td>\n",
       "      <td>https://cdn.sofifa.org/players/4/19/234508.png</td>\n",
       "      <td>India</td>\n",
       "      <td>https://cdn.sofifa.org/flags/159.png</td>\n",
       "      <td>53</td>\n",
       "      <td>62</td>\n",
       "      <td>NaN</td>\n",
       "      <td>https://cdn.sofifa.org/flags/159.png</td>\n",
       "      <td>...</td>\n",
       "      <td>41.0</td>\n",
       "      <td>56.0</td>\n",
       "      <td>49.0</td>\n",
       "      <td>53.0</td>\n",
       "      <td>12.0</td>\n",
       "      <td>9.0</td>\n",
       "      <td>6.0</td>\n",
       "      <td>14.0</td>\n",
       "      <td>8.0</td>\n",
       "      <td>NaN</td>\n",
       "    </tr>\n",
       "  </tbody>\n",
       "</table>\n",
       "<p>109 rows × 88 columns</p>\n",
       "</div>"
      ],
      "text/plain": [
       "           ID             Name  Age  \\\n",
       "276    193525  Mário Fernandes   27   \n",
       "381    187491        F. Smolov   28   \n",
       "541    148119      I. Akinfeev   32   \n",
       "542    147782       I. Denisov   34   \n",
       "568    229909         A. Lunev   26   \n",
       "...       ...              ...  ...   \n",
       "17129  228198         J. Singh   26   \n",
       "17197  245164         V. Kaith   21   \n",
       "17339  233526         S. Passi   23   \n",
       "17436  236452   D. Lalhlimpuia   20   \n",
       "17539  234508         C. Singh   21   \n",
       "\n",
       "                                                Photo Nationality  \\\n",
       "276    https://cdn.sofifa.org/players/4/19/193525.png      Russia   \n",
       "381    https://cdn.sofifa.org/players/4/19/187491.png      Russia   \n",
       "541    https://cdn.sofifa.org/players/4/19/148119.png      Russia   \n",
       "542    https://cdn.sofifa.org/players/4/19/147782.png      Russia   \n",
       "568    https://cdn.sofifa.org/players/4/19/229909.png      Russia   \n",
       "...                                               ...         ...   \n",
       "17129  https://cdn.sofifa.org/players/4/19/228198.png       India   \n",
       "17197  https://cdn.sofifa.org/players/4/19/245164.png       India   \n",
       "17339  https://cdn.sofifa.org/players/4/19/233526.png       India   \n",
       "17436  https://cdn.sofifa.org/players/4/19/236452.png       India   \n",
       "17539  https://cdn.sofifa.org/players/4/19/234508.png       India   \n",
       "\n",
       "                                       Flag  Overall  Potential  \\\n",
       "276     https://cdn.sofifa.org/flags/40.png       82         82   \n",
       "381     https://cdn.sofifa.org/flags/40.png       81         81   \n",
       "541     https://cdn.sofifa.org/flags/40.png       80         80   \n",
       "542     https://cdn.sofifa.org/flags/40.png       80         80   \n",
       "568     https://cdn.sofifa.org/flags/40.png       79         81   \n",
       "...                                     ...      ...        ...   \n",
       "17129  https://cdn.sofifa.org/flags/159.png       55         58   \n",
       "17197  https://cdn.sofifa.org/flags/159.png       55         64   \n",
       "17339  https://cdn.sofifa.org/flags/159.png       54         63   \n",
       "17436  https://cdn.sofifa.org/flags/159.png       54         67   \n",
       "17539  https://cdn.sofifa.org/flags/159.png       53         62   \n",
       "\n",
       "                   Club                                        Club Logo  ...  \\\n",
       "276     PFC CSKA Moscow     https://cdn.sofifa.org/teams/2/light/315.png  ...   \n",
       "381    Lokomotiv Moscow  https://cdn.sofifa.org/teams/2/light/100765.png  ...   \n",
       "541     PFC CSKA Moscow     https://cdn.sofifa.org/teams/2/light/315.png  ...   \n",
       "542    Lokomotiv Moscow  https://cdn.sofifa.org/teams/2/light/100765.png  ...   \n",
       "568                 NaN              https://cdn.sofifa.org/flags/40.png  ...   \n",
       "...                 ...                                              ...  ...   \n",
       "17129               NaN             https://cdn.sofifa.org/flags/159.png  ...   \n",
       "17197               NaN             https://cdn.sofifa.org/flags/159.png  ...   \n",
       "17339               NaN             https://cdn.sofifa.org/flags/159.png  ...   \n",
       "17436               NaN             https://cdn.sofifa.org/flags/159.png  ...   \n",
       "17539               NaN             https://cdn.sofifa.org/flags/159.png  ...   \n",
       "\n",
       "       Composure  Marking  StandingTackle SlidingTackle  GKDiving  GKHandling  \\\n",
       "276         76.0     83.0            82.0          84.0      12.0        13.0   \n",
       "381         73.0     26.0            28.0          24.0      16.0         9.0   \n",
       "541         67.0     18.0            13.0          13.0      77.0        72.0   \n",
       "542         77.0     81.0            81.0          73.0      13.0         7.0   \n",
       "568         69.0     18.0            20.0          12.0      80.0        73.0   \n",
       "...          ...      ...             ...           ...       ...         ...   \n",
       "17129       42.0     26.0            18.0          13.0      15.0        14.0   \n",
       "17197       29.0      8.0            12.0          11.0      55.0        50.0   \n",
       "17339       45.0     14.0            23.0          21.0       8.0         6.0   \n",
       "17436       46.0     26.0            17.0          13.0       7.0         8.0   \n",
       "17539       41.0     56.0            49.0          53.0      12.0         9.0   \n",
       "\n",
       "       GKKicking GKPositioning GKReflexes Release Clause  \n",
       "276         14.0          13.0       12.0         €40.7M  \n",
       "381         16.0          15.0       10.0         €38.9M  \n",
       "541         78.0          82.0       84.0         €18.7M  \n",
       "542         15.0          13.0       12.0          €9.4M  \n",
       "568         65.0          77.0       85.0            NaN  \n",
       "...          ...           ...        ...            ...  \n",
       "17129        8.0          10.0       16.0            NaN  \n",
       "17197       57.0          59.0       53.0            NaN  \n",
       "17339       13.0           9.0       10.0            NaN  \n",
       "17436       12.0          11.0       11.0            NaN  \n",
       "17539        6.0          14.0        8.0            NaN  \n",
       "\n",
       "[109 rows x 88 columns]"
      ]
     },
     "execution_count": 229,
     "metadata": {},
     "output_type": "execute_result"
    }
   ],
   "source": [
    "#filter out Indian and russian players only\n",
    "\n",
    "InRu = pl[(pl[\"Nationality\"] == \"India\") | (pl[\"Nationality\"] == \"Russia\")]\n",
    "InRu"
   ]
  },
  {
   "cell_type": "code",
   "execution_count": 274,
   "metadata": {
    "scrolled": false
   },
   "outputs": [
    {
     "data": {
      "text/html": [
       "<style  type=\"text/css\" >\n",
       "#T_a92009e7_86c6_11ec_810e_485f991c113arow0_col0,#T_a92009e7_86c6_11ec_810e_485f991c113arow0_col1,#T_a92009e7_86c6_11ec_810e_485f991c113arow0_col2,#T_a92009e7_86c6_11ec_810e_485f991c113arow0_col3,#T_a92009e7_86c6_11ec_810e_485f991c113arow0_col4,#T_a92009e7_86c6_11ec_810e_485f991c113arow0_col5,#T_a92009e7_86c6_11ec_810e_485f991c113arow0_col6,#T_a92009e7_86c6_11ec_810e_485f991c113arow0_col8,#T_a92009e7_86c6_11ec_810e_485f991c113arow1_col7{\n",
       "            background-color:  #8000ff;\n",
       "            color:  #f1f1f1;\n",
       "        }#T_a92009e7_86c6_11ec_810e_485f991c113arow0_col7,#T_a92009e7_86c6_11ec_810e_485f991c113arow1_col0,#T_a92009e7_86c6_11ec_810e_485f991c113arow1_col1,#T_a92009e7_86c6_11ec_810e_485f991c113arow1_col2,#T_a92009e7_86c6_11ec_810e_485f991c113arow1_col3,#T_a92009e7_86c6_11ec_810e_485f991c113arow1_col4,#T_a92009e7_86c6_11ec_810e_485f991c113arow1_col5,#T_a92009e7_86c6_11ec_810e_485f991c113arow1_col6,#T_a92009e7_86c6_11ec_810e_485f991c113arow1_col8{\n",
       "            background-color:  #ff0000;\n",
       "            color:  #f1f1f1;\n",
       "        }</style><table id=\"T_a92009e7_86c6_11ec_810e_485f991c113a\" ><thead>    <tr>        <th class=\"blank level0\" ></th>        <th class=\"col_heading level0 col0\" colspan=3>Potential</th>        <th class=\"col_heading level0 col3\" colspan=3>Overall</th>        <th class=\"col_heading level0 col6\" colspan=3>Age</th>    </tr>    <tr>        <th class=\"blank level1\" ></th>        <th class=\"col_heading level1 col0\" >mean</th>        <th class=\"col_heading level1 col1\" >min</th>        <th class=\"col_heading level1 col2\" >max</th>        <th class=\"col_heading level1 col3\" >mean</th>        <th class=\"col_heading level1 col4\" >min</th>        <th class=\"col_heading level1 col5\" >max</th>        <th class=\"col_heading level1 col6\" >mean</th>        <th class=\"col_heading level1 col7\" >min</th>        <th class=\"col_heading level1 col8\" >max</th>    </tr>    <tr>        <th class=\"index_name level0\" >Nationality</th>        <th class=\"blank\" ></th>        <th class=\"blank\" ></th>        <th class=\"blank\" ></th>        <th class=\"blank\" ></th>        <th class=\"blank\" ></th>        <th class=\"blank\" ></th>        <th class=\"blank\" ></th>        <th class=\"blank\" ></th>        <th class=\"blank\" ></th>    </tr></thead><tbody>\n",
       "                <tr>\n",
       "                        <th id=\"T_a92009e7_86c6_11ec_810e_485f991c113alevel0_row0\" class=\"row_heading level0 row0\" >India</th>\n",
       "                        <td id=\"T_a92009e7_86c6_11ec_810e_485f991c113arow0_col0\" class=\"data row0 col0\" >63.600000</td>\n",
       "                        <td id=\"T_a92009e7_86c6_11ec_810e_485f991c113arow0_col1\" class=\"data row0 col1\" >56</td>\n",
       "                        <td id=\"T_a92009e7_86c6_11ec_810e_485f991c113arow0_col2\" class=\"data row0 col2\" >71</td>\n",
       "                        <td id=\"T_a92009e7_86c6_11ec_810e_485f991c113arow0_col3\" class=\"data row0 col3\" >58.666667</td>\n",
       "                        <td id=\"T_a92009e7_86c6_11ec_810e_485f991c113arow0_col4\" class=\"data row0 col4\" >53</td>\n",
       "                        <td id=\"T_a92009e7_86c6_11ec_810e_485f991c113arow0_col5\" class=\"data row0 col5\" >67</td>\n",
       "                        <td id=\"T_a92009e7_86c6_11ec_810e_485f991c113arow0_col6\" class=\"data row0 col6\" >24.933333</td>\n",
       "                        <td id=\"T_a92009e7_86c6_11ec_810e_485f991c113arow0_col7\" class=\"data row0 col7\" >19</td>\n",
       "                        <td id=\"T_a92009e7_86c6_11ec_810e_485f991c113arow0_col8\" class=\"data row0 col8\" >33</td>\n",
       "            </tr>\n",
       "            <tr>\n",
       "                        <th id=\"T_a92009e7_86c6_11ec_810e_485f991c113alevel0_row1\" class=\"row_heading level0 row1\" >Russia</th>\n",
       "                        <td id=\"T_a92009e7_86c6_11ec_810e_485f991c113arow1_col0\" class=\"data row1 col0\" >75.341772</td>\n",
       "                        <td id=\"T_a92009e7_86c6_11ec_810e_485f991c113arow1_col1\" class=\"data row1 col1\" >60</td>\n",
       "                        <td id=\"T_a92009e7_86c6_11ec_810e_485f991c113arow1_col2\" class=\"data row1 col2\" >86</td>\n",
       "                        <td id=\"T_a92009e7_86c6_11ec_810e_485f991c113arow1_col3\" class=\"data row1 col3\" >70.063291</td>\n",
       "                        <td id=\"T_a92009e7_86c6_11ec_810e_485f991c113arow1_col4\" class=\"data row1 col4\" >57</td>\n",
       "                        <td id=\"T_a92009e7_86c6_11ec_810e_485f991c113arow1_col5\" class=\"data row1 col5\" >82</td>\n",
       "                        <td id=\"T_a92009e7_86c6_11ec_810e_485f991c113arow1_col6\" class=\"data row1 col6\" >24.962025</td>\n",
       "                        <td id=\"T_a92009e7_86c6_11ec_810e_485f991c113arow1_col7\" class=\"data row1 col7\" >18</td>\n",
       "                        <td id=\"T_a92009e7_86c6_11ec_810e_485f991c113arow1_col8\" class=\"data row1 col8\" >34</td>\n",
       "            </tr>\n",
       "    </tbody></table>"
      ],
      "text/plain": [
       "<pandas.io.formats.style.Styler at 0x2c9239a19a0>"
      ]
     },
     "execution_count": 274,
     "metadata": {},
     "output_type": "execute_result"
    }
   ],
   "source": [
    "# now let's group this datasets based on nationality and aggregate on Potential and Overall Scores\n",
    "\n",
    "InRu.groupby(\"Nationality\").agg([\"mean\", \"min\", \"max\"])[[\"Potential\", \"Overall\", \"Age\"]].style.background_gradient(cmap = \"rainbow\" )"
   ]
  },
  {
   "cell_type": "code",
   "execution_count": 275,
   "metadata": {},
   "outputs": [
    {
     "data": {
      "text/html": [
       "<style  type=\"text/css\" >\n",
       "#T_b93ab7aa_86c6_11ec_9600_485f991c113arow0_col0,#T_b93ab7aa_86c6_11ec_9600_485f991c113arow0_col1{\n",
       "            background-color:  #000000;\n",
       "            color:  #f1f1f1;\n",
       "        }#T_b93ab7aa_86c6_11ec_9600_485f991c113arow1_col0,#T_b93ab7aa_86c6_11ec_9600_485f991c113arow1_col1{\n",
       "            background-color:  #ffc77f;\n",
       "            color:  #000000;\n",
       "        }</style><table id=\"T_b93ab7aa_86c6_11ec_9600_485f991c113a\" ><thead>    <tr>        <th class=\"blank level0\" ></th>        <th class=\"col_heading level0 col0\" >Overall</th>        <th class=\"col_heading level0 col1\" >Potential</th>    </tr>    <tr>        <th class=\"index_name level0\" >Nationality</th>        <th class=\"blank\" ></th>        <th class=\"blank\" ></th>    </tr></thead><tbody>\n",
       "                <tr>\n",
       "                        <th id=\"T_b93ab7aa_86c6_11ec_9600_485f991c113alevel0_row0\" class=\"row_heading level0 row0\" >India</th>\n",
       "                        <td id=\"T_b93ab7aa_86c6_11ec_9600_485f991c113arow0_col0\" class=\"data row0 col0\" >58.666667</td>\n",
       "                        <td id=\"T_b93ab7aa_86c6_11ec_9600_485f991c113arow0_col1\" class=\"data row0 col1\" >63.600000</td>\n",
       "            </tr>\n",
       "            <tr>\n",
       "                        <th id=\"T_b93ab7aa_86c6_11ec_9600_485f991c113alevel0_row1\" class=\"row_heading level0 row1\" >Russia</th>\n",
       "                        <td id=\"T_b93ab7aa_86c6_11ec_9600_485f991c113arow1_col0\" class=\"data row1 col0\" >70.063291</td>\n",
       "                        <td id=\"T_b93ab7aa_86c6_11ec_9600_485f991c113arow1_col1\" class=\"data row1 col1\" >75.341772</td>\n",
       "            </tr>\n",
       "    </tbody></table>"
      ],
      "text/plain": [
       "<pandas.io.formats.style.Styler at 0x2c92398bb50>"
      ]
     },
     "execution_count": 275,
     "metadata": {},
     "output_type": "execute_result"
    }
   ],
   "source": [
    "InRu[['Nationality','Overall','Potential']].groupby(['Nationality']).agg('mean').style.background_gradient(cmap = 'copper')"
   ]
  },
  {
   "cell_type": "markdown",
   "metadata": {},
   "source": [
    "### Find the Most Popular Footballers under 20\""
   ]
  },
  {
   "cell_type": "code",
   "execution_count": 281,
   "metadata": {},
   "outputs": [
    {
     "data": {
      "text/html": [
       "<style  type=\"text/css\" >\n",
       "#T_66219c7e_86d5_11ec_9cf0_485f991c113arow0_col1,#T_66219c7e_86d5_11ec_9cf0_485f991c113arow0_col2,#T_66219c7e_86d5_11ec_9cf0_485f991c113arow2_col1,#T_66219c7e_86d5_11ec_9cf0_485f991c113arow3_col1,#T_66219c7e_86d5_11ec_9cf0_485f991c113arow4_col1,#T_66219c7e_86d5_11ec_9cf0_485f991c113arow5_col1,#T_66219c7e_86d5_11ec_9cf0_485f991c113arow7_col1,#T_66219c7e_86d5_11ec_9cf0_485f991c113arow9_col1{\n",
       "            background-color:  #ffc77f;\n",
       "            color:  #000000;\n",
       "        }#T_66219c7e_86d5_11ec_9cf0_485f991c113arow1_col1,#T_66219c7e_86d5_11ec_9cf0_485f991c113arow8_col2,#T_66219c7e_86d5_11ec_9cf0_485f991c113arow9_col2{\n",
       "            background-color:  #000000;\n",
       "            color:  #f1f1f1;\n",
       "        }#T_66219c7e_86d5_11ec_9cf0_485f991c113arow1_col2,#T_66219c7e_86d5_11ec_9cf0_485f991c113arow6_col1,#T_66219c7e_86d5_11ec_9cf0_485f991c113arow8_col1{\n",
       "            background-color:  #9e6440;\n",
       "            color:  #000000;\n",
       "        }#T_66219c7e_86d5_11ec_9cf0_485f991c113arow2_col2{\n",
       "            background-color:  #654029;\n",
       "            color:  #f1f1f1;\n",
       "        }#T_66219c7e_86d5_11ec_9cf0_485f991c113arow3_col2{\n",
       "            background-color:  #4f3220;\n",
       "            color:  #f1f1f1;\n",
       "        }#T_66219c7e_86d5_11ec_9cf0_485f991c113arow4_col2{\n",
       "            background-color:  #40291a;\n",
       "            color:  #f1f1f1;\n",
       "        }#T_66219c7e_86d5_11ec_9cf0_485f991c113arow5_col2{\n",
       "            background-color:  #160e09;\n",
       "            color:  #f1f1f1;\n",
       "        }#T_66219c7e_86d5_11ec_9cf0_485f991c113arow6_col2,#T_66219c7e_86d5_11ec_9cf0_485f991c113arow7_col2{\n",
       "            background-color:  #130c07;\n",
       "            color:  #f1f1f1;\n",
       "        }</style><table id=\"T_66219c7e_86d5_11ec_9cf0_485f991c113a\" ><thead>    <tr>        <th class=\"blank level0\" ></th>        <th class=\"col_heading level0 col0\" >Name</th>        <th class=\"col_heading level0 col1\" >Age</th>        <th class=\"col_heading level0 col2\" >Wage</th>    </tr></thead><tbody>\n",
       "                <tr>\n",
       "                        <th id=\"T_66219c7e_86d5_11ec_9cf0_485f991c113alevel0_row0\" class=\"row_heading level0 row0\" >25</th>\n",
       "                        <td id=\"T_66219c7e_86d5_11ec_9cf0_485f991c113arow0_col0\" class=\"data row0 col0\" >K. Mbappé</td>\n",
       "                        <td id=\"T_66219c7e_86d5_11ec_9cf0_485f991c113arow0_col1\" class=\"data row0 col1\" >19</td>\n",
       "                        <td id=\"T_66219c7e_86d5_11ec_9cf0_485f991c113arow0_col2\" class=\"data row0 col2\" >100000.000000</td>\n",
       "            </tr>\n",
       "            <tr>\n",
       "                        <th id=\"T_66219c7e_86d5_11ec_9cf0_485f991c113alevel0_row1\" class=\"row_heading level0 row1\" >1143</th>\n",
       "                        <td id=\"T_66219c7e_86d5_11ec_9cf0_485f991c113arow1_col0\" class=\"data row1 col0\" >Vinícius Júnior</td>\n",
       "                        <td id=\"T_66219c7e_86d5_11ec_9cf0_485f991c113arow1_col1\" class=\"data row1 col1\" >17</td>\n",
       "                        <td id=\"T_66219c7e_86d5_11ec_9cf0_485f991c113arow1_col2\" class=\"data row1 col2\" >66000.000000</td>\n",
       "            </tr>\n",
       "            <tr>\n",
       "                        <th id=\"T_66219c7e_86d5_11ec_9cf0_485f991c113alevel0_row2\" class=\"row_heading level0 row2\" >2495</th>\n",
       "                        <td id=\"T_66219c7e_86d5_11ec_9cf0_485f991c113arow2_col0\" class=\"data row2 col0\" >M. Ødegaard</td>\n",
       "                        <td id=\"T_66219c7e_86d5_11ec_9cf0_485f991c113arow2_col1\" class=\"data row2 col1\" >19</td>\n",
       "                        <td id=\"T_66219c7e_86d5_11ec_9cf0_485f991c113arow2_col2\" class=\"data row2 col2\" >54000.000000</td>\n",
       "            </tr>\n",
       "            <tr>\n",
       "                        <th id=\"T_66219c7e_86d5_11ec_9cf0_485f991c113alevel0_row3\" class=\"row_heading level0 row3\" >730</th>\n",
       "                        <td id=\"T_66219c7e_86d5_11ec_9cf0_485f991c113arow3_col0\" class=\"data row3 col0\" >A. Hakimi</td>\n",
       "                        <td id=\"T_66219c7e_86d5_11ec_9cf0_485f991c113arow3_col1\" class=\"data row3 col1\" >19</td>\n",
       "                        <td id=\"T_66219c7e_86d5_11ec_9cf0_485f991c113arow3_col2\" class=\"data row3 col2\" >49000.000000</td>\n",
       "            </tr>\n",
       "            <tr>\n",
       "                        <th id=\"T_66219c7e_86d5_11ec_9cf0_485f991c113alevel0_row4\" class=\"row_heading level0 row4\" >2513</th>\n",
       "                        <td id=\"T_66219c7e_86d5_11ec_9cf0_485f991c113arow4_col0\" class=\"data row4 col0\" >F. Valverde</td>\n",
       "                        <td id=\"T_66219c7e_86d5_11ec_9cf0_485f991c113arow4_col1\" class=\"data row4 col1\" >19</td>\n",
       "                        <td id=\"T_66219c7e_86d5_11ec_9cf0_485f991c113arow4_col2\" class=\"data row4 col2\" >46000.000000</td>\n",
       "            </tr>\n",
       "            <tr>\n",
       "                        <th id=\"T_66219c7e_86d5_11ec_9cf0_485f991c113alevel0_row5\" class=\"row_heading level0 row5\" >1791</th>\n",
       "                        <td id=\"T_66219c7e_86d5_11ec_9cf0_485f991c113arow5_col0\" class=\"data row5 col0\" >M. Mount</td>\n",
       "                        <td id=\"T_66219c7e_86d5_11ec_9cf0_485f991c113arow5_col1\" class=\"data row5 col1\" >19</td>\n",
       "                        <td id=\"T_66219c7e_86d5_11ec_9cf0_485f991c113arow5_col2\" class=\"data row5 col2\" >37000.000000</td>\n",
       "            </tr>\n",
       "            <tr>\n",
       "                        <th id=\"T_66219c7e_86d5_11ec_9cf0_485f991c113alevel0_row6\" class=\"row_heading level0 row6\" >2903</th>\n",
       "                        <td id=\"T_66219c7e_86d5_11ec_9cf0_485f991c113arow6_col0\" class=\"data row6 col0\" >P. Foden</td>\n",
       "                        <td id=\"T_66219c7e_86d5_11ec_9cf0_485f991c113arow6_col1\" class=\"data row6 col1\" >18</td>\n",
       "                        <td id=\"T_66219c7e_86d5_11ec_9cf0_485f991c113arow6_col2\" class=\"data row6 col2\" >36000.000000</td>\n",
       "            </tr>\n",
       "            <tr>\n",
       "                        <th id=\"T_66219c7e_86d5_11ec_9cf0_485f991c113alevel0_row7\" class=\"row_heading level0 row7\" >735</th>\n",
       "                        <td id=\"T_66219c7e_86d5_11ec_9cf0_485f991c113arow7_col0\" class=\"data row7 col0\" >T. Alexander-Arnold</td>\n",
       "                        <td id=\"T_66219c7e_86d5_11ec_9cf0_485f991c113arow7_col1\" class=\"data row7 col1\" >19</td>\n",
       "                        <td id=\"T_66219c7e_86d5_11ec_9cf0_485f991c113arow7_col2\" class=\"data row7 col2\" >36000.000000</td>\n",
       "            </tr>\n",
       "            <tr>\n",
       "                        <th id=\"T_66219c7e_86d5_11ec_9cf0_485f991c113alevel0_row8\" class=\"row_heading level0 row8\" >3418</th>\n",
       "                        <td id=\"T_66219c7e_86d5_11ec_9cf0_485f991c113arow8_col0\" class=\"data row8 col0\" >M. Kean</td>\n",
       "                        <td id=\"T_66219c7e_86d5_11ec_9cf0_485f991c113arow8_col1\" class=\"data row8 col1\" >18</td>\n",
       "                        <td id=\"T_66219c7e_86d5_11ec_9cf0_485f991c113arow8_col2\" class=\"data row8 col2\" >32000.000000</td>\n",
       "            </tr>\n",
       "            <tr>\n",
       "                        <th id=\"T_66219c7e_86d5_11ec_9cf0_485f991c113alevel0_row9\" class=\"row_heading level0 row9\" >413</th>\n",
       "                        <td id=\"T_66219c7e_86d5_11ec_9cf0_485f991c113arow9_col0\" class=\"data row9 col0\" >K. Havertz</td>\n",
       "                        <td id=\"T_66219c7e_86d5_11ec_9cf0_485f991c113arow9_col1\" class=\"data row9 col1\" >19</td>\n",
       "                        <td id=\"T_66219c7e_86d5_11ec_9cf0_485f991c113arow9_col2\" class=\"data row9 col2\" >32000.000000</td>\n",
       "            </tr>\n",
       "    </tbody></table>"
      ],
      "text/plain": [
       "<pandas.io.formats.style.Styler at 0x2c9239a8a00>"
      ]
     },
     "execution_count": 281,
     "metadata": {},
     "output_type": "execute_result"
    }
   ],
   "source": [
    "pl[pl[\"Age\"] < 20].sort_values(\"Wage\", ascending = False).head(10)[[\"Name\", \"Age\", \"Wage\"]].style.background_gradient(cmap = 'copper')"
   ]
  },
  {
   "cell_type": "code",
   "execution_count": 285,
   "metadata": {},
   "outputs": [
    {
     "data": {
      "text/html": [
       "<div>\n",
       "<style scoped>\n",
       "    .dataframe tbody tr th:only-of-type {\n",
       "        vertical-align: middle;\n",
       "    }\n",
       "\n",
       "    .dataframe tbody tr th {\n",
       "        vertical-align: top;\n",
       "    }\n",
       "\n",
       "    .dataframe thead th {\n",
       "        text-align: right;\n",
       "    }\n",
       "</style>\n",
       "<table border=\"1\" class=\"dataframe\">\n",
       "  <thead>\n",
       "    <tr style=\"text-align: right;\">\n",
       "      <th></th>\n",
       "      <th>Name</th>\n",
       "      <th>Age</th>\n",
       "      <th>Wage</th>\n",
       "    </tr>\n",
       "  </thead>\n",
       "  <tbody>\n",
       "    <tr>\n",
       "      <th>0</th>\n",
       "      <td>L. Messi</td>\n",
       "      <td>31</td>\n",
       "      <td>565000.0</td>\n",
       "    </tr>\n",
       "    <tr>\n",
       "      <th>7</th>\n",
       "      <td>L. Suárez</td>\n",
       "      <td>31</td>\n",
       "      <td>455000.0</td>\n",
       "    </tr>\n",
       "    <tr>\n",
       "      <th>6</th>\n",
       "      <td>L. Modrić</td>\n",
       "      <td>32</td>\n",
       "      <td>420000.0</td>\n",
       "    </tr>\n",
       "    <tr>\n",
       "      <th>1</th>\n",
       "      <td>Cristiano Ronaldo</td>\n",
       "      <td>33</td>\n",
       "      <td>405000.0</td>\n",
       "    </tr>\n",
       "    <tr>\n",
       "      <th>8</th>\n",
       "      <td>Sergio Ramos</td>\n",
       "      <td>32</td>\n",
       "      <td>380000.0</td>\n",
       "    </tr>\n",
       "    <tr>\n",
       "      <th>11</th>\n",
       "      <td>T. Kroos</td>\n",
       "      <td>28</td>\n",
       "      <td>355000.0</td>\n",
       "    </tr>\n",
       "    <tr>\n",
       "      <th>36</th>\n",
       "      <td>G. Bale</td>\n",
       "      <td>28</td>\n",
       "      <td>355000.0</td>\n",
       "    </tr>\n",
       "    <tr>\n",
       "      <th>4</th>\n",
       "      <td>K. De Bruyne</td>\n",
       "      <td>27</td>\n",
       "      <td>355000.0</td>\n",
       "    </tr>\n",
       "    <tr>\n",
       "      <th>5</th>\n",
       "      <td>E. Hazard</td>\n",
       "      <td>27</td>\n",
       "      <td>340000.0</td>\n",
       "    </tr>\n",
       "    <tr>\n",
       "      <th>32</th>\n",
       "      <td>Coutinho</td>\n",
       "      <td>26</td>\n",
       "      <td>340000.0</td>\n",
       "    </tr>\n",
       "  </tbody>\n",
       "</table>\n",
       "</div>"
      ],
      "text/plain": [
       "                 Name  Age      Wage\n",
       "0            L. Messi   31  565000.0\n",
       "7           L. Suárez   31  455000.0\n",
       "6           L. Modrić   32  420000.0\n",
       "1   Cristiano Ronaldo   33  405000.0\n",
       "8        Sergio Ramos   32  380000.0\n",
       "11           T. Kroos   28  355000.0\n",
       "36            G. Bale   28  355000.0\n",
       "4        K. De Bruyne   27  355000.0\n",
       "5           E. Hazard   27  340000.0\n",
       "32           Coutinho   26  340000.0"
      ]
     },
     "execution_count": 285,
     "metadata": {},
     "output_type": "execute_result"
    }
   ],
   "source": [
    "pl.sort_values(\"Wage\", ascending = False)[[\"Name\", \"Age\", \"Wage\"]].head(10)"
   ]
  },
  {
   "cell_type": "markdown",
   "metadata": {},
   "source": [
    "### Analysis of players from Nigeria\n"
   ]
  },
  {
   "cell_type": "code",
   "execution_count": 291,
   "metadata": {},
   "outputs": [
    {
     "data": {
      "text/html": [
       "<div>\n",
       "<style scoped>\n",
       "    .dataframe tbody tr th:only-of-type {\n",
       "        vertical-align: middle;\n",
       "    }\n",
       "\n",
       "    .dataframe tbody tr th {\n",
       "        vertical-align: top;\n",
       "    }\n",
       "\n",
       "    .dataframe thead th {\n",
       "        text-align: right;\n",
       "    }\n",
       "</style>\n",
       "<table border=\"1\" class=\"dataframe\">\n",
       "  <thead>\n",
       "    <tr style=\"text-align: right;\">\n",
       "      <th></th>\n",
       "      <th>ID</th>\n",
       "      <th>Name</th>\n",
       "      <th>Age</th>\n",
       "      <th>Photo</th>\n",
       "      <th>Nationality</th>\n",
       "      <th>Flag</th>\n",
       "      <th>Overall</th>\n",
       "      <th>Potential</th>\n",
       "      <th>Club</th>\n",
       "      <th>Club Logo</th>\n",
       "      <th>...</th>\n",
       "      <th>Composure</th>\n",
       "      <th>Marking</th>\n",
       "      <th>StandingTackle</th>\n",
       "      <th>SlidingTackle</th>\n",
       "      <th>GKDiving</th>\n",
       "      <th>GKHandling</th>\n",
       "      <th>GKKicking</th>\n",
       "      <th>GKPositioning</th>\n",
       "      <th>GKReflexes</th>\n",
       "      <th>Release Clause</th>\n",
       "    </tr>\n",
       "  </thead>\n",
       "  <tbody>\n",
       "    <tr>\n",
       "      <th>425</th>\n",
       "      <td>226790</td>\n",
       "      <td>W. Ndidi</td>\n",
       "      <td>21</td>\n",
       "      <td>https://cdn.sofifa.org/players/4/19/226790.png</td>\n",
       "      <td>Nigeria</td>\n",
       "      <td>https://cdn.sofifa.org/flags/133.png</td>\n",
       "      <td>80</td>\n",
       "      <td>85</td>\n",
       "      <td>Leicester City</td>\n",
       "      <td>https://cdn.sofifa.org/teams/2/light/95.png</td>\n",
       "      <td>...</td>\n",
       "      <td>74.0</td>\n",
       "      <td>84.0</td>\n",
       "      <td>84.0</td>\n",
       "      <td>83.0</td>\n",
       "      <td>13.0</td>\n",
       "      <td>14.0</td>\n",
       "      <td>7.0</td>\n",
       "      <td>7.0</td>\n",
       "      <td>13.0</td>\n",
       "      <td>€33.6M</td>\n",
       "    </tr>\n",
       "    <tr>\n",
       "      <th>789</th>\n",
       "      <td>213655</td>\n",
       "      <td>A. Iwobi</td>\n",
       "      <td>22</td>\n",
       "      <td>https://cdn.sofifa.org/players/4/19/213655.png</td>\n",
       "      <td>Nigeria</td>\n",
       "      <td>https://cdn.sofifa.org/flags/133.png</td>\n",
       "      <td>78</td>\n",
       "      <td>84</td>\n",
       "      <td>Arsenal</td>\n",
       "      <td>https://cdn.sofifa.org/teams/2/light/1.png</td>\n",
       "      <td>...</td>\n",
       "      <td>72.0</td>\n",
       "      <td>30.0</td>\n",
       "      <td>26.0</td>\n",
       "      <td>23.0</td>\n",
       "      <td>14.0</td>\n",
       "      <td>7.0</td>\n",
       "      <td>12.0</td>\n",
       "      <td>14.0</td>\n",
       "      <td>11.0</td>\n",
       "      <td>€29.4M</td>\n",
       "    </tr>\n",
       "    <tr>\n",
       "      <th>858</th>\n",
       "      <td>172962</td>\n",
       "      <td>V. Moses</td>\n",
       "      <td>27</td>\n",
       "      <td>https://cdn.sofifa.org/players/4/19/172962.png</td>\n",
       "      <td>Nigeria</td>\n",
       "      <td>https://cdn.sofifa.org/flags/133.png</td>\n",
       "      <td>78</td>\n",
       "      <td>78</td>\n",
       "      <td>Chelsea</td>\n",
       "      <td>https://cdn.sofifa.org/teams/2/light/5.png</td>\n",
       "      <td>...</td>\n",
       "      <td>75.0</td>\n",
       "      <td>74.0</td>\n",
       "      <td>74.0</td>\n",
       "      <td>71.0</td>\n",
       "      <td>9.0</td>\n",
       "      <td>7.0</td>\n",
       "      <td>8.0</td>\n",
       "      <td>16.0</td>\n",
       "      <td>16.0</td>\n",
       "      <td>€20.4M</td>\n",
       "    </tr>\n",
       "    <tr>\n",
       "      <th>1022</th>\n",
       "      <td>185195</td>\n",
       "      <td>O. Ighalo</td>\n",
       "      <td>29</td>\n",
       "      <td>https://cdn.sofifa.org/players/4/19/185195.png</td>\n",
       "      <td>Nigeria</td>\n",
       "      <td>https://cdn.sofifa.org/flags/133.png</td>\n",
       "      <td>77</td>\n",
       "      <td>77</td>\n",
       "      <td>Changchun Yatai FC</td>\n",
       "      <td>https://cdn.sofifa.org/teams/2/light/111769.png</td>\n",
       "      <td>...</td>\n",
       "      <td>82.0</td>\n",
       "      <td>17.0</td>\n",
       "      <td>45.0</td>\n",
       "      <td>41.0</td>\n",
       "      <td>9.0</td>\n",
       "      <td>11.0</td>\n",
       "      <td>13.0</td>\n",
       "      <td>16.0</td>\n",
       "      <td>8.0</td>\n",
       "      <td>€19.4M</td>\n",
       "    </tr>\n",
       "    <tr>\n",
       "      <th>1296</th>\n",
       "      <td>234045</td>\n",
       "      <td>H. Onyekuru</td>\n",
       "      <td>21</td>\n",
       "      <td>https://cdn.sofifa.org/players/4/19/234045.png</td>\n",
       "      <td>Nigeria</td>\n",
       "      <td>https://cdn.sofifa.org/flags/133.png</td>\n",
       "      <td>76</td>\n",
       "      <td>86</td>\n",
       "      <td>Galatasaray SK</td>\n",
       "      <td>https://cdn.sofifa.org/teams/2/light/325.png</td>\n",
       "      <td>...</td>\n",
       "      <td>70.0</td>\n",
       "      <td>37.0</td>\n",
       "      <td>38.0</td>\n",
       "      <td>25.0</td>\n",
       "      <td>12.0</td>\n",
       "      <td>9.0</td>\n",
       "      <td>9.0</td>\n",
       "      <td>6.0</td>\n",
       "      <td>11.0</td>\n",
       "      <td>NaN</td>\n",
       "    </tr>\n",
       "    <tr>\n",
       "      <th>...</th>\n",
       "      <td>...</td>\n",
       "      <td>...</td>\n",
       "      <td>...</td>\n",
       "      <td>...</td>\n",
       "      <td>...</td>\n",
       "      <td>...</td>\n",
       "      <td>...</td>\n",
       "      <td>...</td>\n",
       "      <td>...</td>\n",
       "      <td>...</td>\n",
       "      <td>...</td>\n",
       "      <td>...</td>\n",
       "      <td>...</td>\n",
       "      <td>...</td>\n",
       "      <td>...</td>\n",
       "      <td>...</td>\n",
       "      <td>...</td>\n",
       "      <td>...</td>\n",
       "      <td>...</td>\n",
       "      <td>...</td>\n",
       "      <td>...</td>\n",
       "    </tr>\n",
       "    <tr>\n",
       "      <th>17096</th>\n",
       "      <td>240967</td>\n",
       "      <td>J. Kayode</td>\n",
       "      <td>18</td>\n",
       "      <td>https://cdn.sofifa.org/players/4/19/240967.png</td>\n",
       "      <td>Nigeria</td>\n",
       "      <td>https://cdn.sofifa.org/flags/133.png</td>\n",
       "      <td>55</td>\n",
       "      <td>70</td>\n",
       "      <td>Rotherham United</td>\n",
       "      <td>https://cdn.sofifa.org/teams/2/light/1797.png</td>\n",
       "      <td>...</td>\n",
       "      <td>44.0</td>\n",
       "      <td>17.0</td>\n",
       "      <td>18.0</td>\n",
       "      <td>17.0</td>\n",
       "      <td>11.0</td>\n",
       "      <td>14.0</td>\n",
       "      <td>9.0</td>\n",
       "      <td>12.0</td>\n",
       "      <td>7.0</td>\n",
       "      <td>€446K</td>\n",
       "    </tr>\n",
       "    <tr>\n",
       "      <th>17160</th>\n",
       "      <td>245387</td>\n",
       "      <td>H. Offia</td>\n",
       "      <td>18</td>\n",
       "      <td>https://cdn.sofifa.org/players/4/19/245387.png</td>\n",
       "      <td>Nigeria</td>\n",
       "      <td>https://cdn.sofifa.org/flags/133.png</td>\n",
       "      <td>55</td>\n",
       "      <td>66</td>\n",
       "      <td>IK Sirius</td>\n",
       "      <td>https://cdn.sofifa.org/teams/2/light/113458.png</td>\n",
       "      <td>...</td>\n",
       "      <td>49.0</td>\n",
       "      <td>23.0</td>\n",
       "      <td>25.0</td>\n",
       "      <td>23.0</td>\n",
       "      <td>15.0</td>\n",
       "      <td>7.0</td>\n",
       "      <td>12.0</td>\n",
       "      <td>7.0</td>\n",
       "      <td>7.0</td>\n",
       "      <td>€203K</td>\n",
       "    </tr>\n",
       "    <tr>\n",
       "      <th>17261</th>\n",
       "      <td>245484</td>\n",
       "      <td>R. Ayagwa</td>\n",
       "      <td>20</td>\n",
       "      <td>https://cdn.sofifa.org/players/4/19/245484.png</td>\n",
       "      <td>Nigeria</td>\n",
       "      <td>https://cdn.sofifa.org/flags/133.png</td>\n",
       "      <td>55</td>\n",
       "      <td>67</td>\n",
       "      <td>Lillestrøm SK</td>\n",
       "      <td>https://cdn.sofifa.org/teams/2/light/299.png</td>\n",
       "      <td>...</td>\n",
       "      <td>42.0</td>\n",
       "      <td>35.0</td>\n",
       "      <td>53.0</td>\n",
       "      <td>51.0</td>\n",
       "      <td>7.0</td>\n",
       "      <td>7.0</td>\n",
       "      <td>6.0</td>\n",
       "      <td>7.0</td>\n",
       "      <td>6.0</td>\n",
       "      <td>€232K</td>\n",
       "    </tr>\n",
       "    <tr>\n",
       "      <th>17652</th>\n",
       "      <td>244895</td>\n",
       "      <td>A. Yusuf</td>\n",
       "      <td>17</td>\n",
       "      <td>https://cdn.sofifa.org/players/4/19/244895.png</td>\n",
       "      <td>Nigeria</td>\n",
       "      <td>https://cdn.sofifa.org/flags/133.png</td>\n",
       "      <td>53</td>\n",
       "      <td>69</td>\n",
       "      <td>IFK Göteborg</td>\n",
       "      <td>https://cdn.sofifa.org/teams/2/light/319.png</td>\n",
       "      <td>...</td>\n",
       "      <td>53.0</td>\n",
       "      <td>28.0</td>\n",
       "      <td>39.0</td>\n",
       "      <td>38.0</td>\n",
       "      <td>14.0</td>\n",
       "      <td>9.0</td>\n",
       "      <td>6.0</td>\n",
       "      <td>7.0</td>\n",
       "      <td>9.0</td>\n",
       "      <td>€225K</td>\n",
       "    </tr>\n",
       "    <tr>\n",
       "      <th>18174</th>\n",
       "      <td>243900</td>\n",
       "      <td>S. Adewusi</td>\n",
       "      <td>18</td>\n",
       "      <td>https://cdn.sofifa.org/players/4/19/243900.png</td>\n",
       "      <td>Nigeria</td>\n",
       "      <td>https://cdn.sofifa.org/flags/133.png</td>\n",
       "      <td>48</td>\n",
       "      <td>63</td>\n",
       "      <td>Carlisle United</td>\n",
       "      <td>https://cdn.sofifa.org/teams/2/light/1480.png</td>\n",
       "      <td>...</td>\n",
       "      <td>44.0</td>\n",
       "      <td>44.0</td>\n",
       "      <td>40.0</td>\n",
       "      <td>41.0</td>\n",
       "      <td>6.0</td>\n",
       "      <td>14.0</td>\n",
       "      <td>9.0</td>\n",
       "      <td>13.0</td>\n",
       "      <td>12.0</td>\n",
       "      <td>€143K</td>\n",
       "    </tr>\n",
       "  </tbody>\n",
       "</table>\n",
       "<p>121 rows × 88 columns</p>\n",
       "</div>"
      ],
      "text/plain": [
       "           ID         Name  Age  \\\n",
       "425    226790     W. Ndidi   21   \n",
       "789    213655     A. Iwobi   22   \n",
       "858    172962     V. Moses   27   \n",
       "1022   185195    O. Ighalo   29   \n",
       "1296   234045  H. Onyekuru   21   \n",
       "...       ...          ...  ...   \n",
       "17096  240967    J. Kayode   18   \n",
       "17160  245387     H. Offia   18   \n",
       "17261  245484    R. Ayagwa   20   \n",
       "17652  244895     A. Yusuf   17   \n",
       "18174  243900   S. Adewusi   18   \n",
       "\n",
       "                                                Photo Nationality  \\\n",
       "425    https://cdn.sofifa.org/players/4/19/226790.png     Nigeria   \n",
       "789    https://cdn.sofifa.org/players/4/19/213655.png     Nigeria   \n",
       "858    https://cdn.sofifa.org/players/4/19/172962.png     Nigeria   \n",
       "1022   https://cdn.sofifa.org/players/4/19/185195.png     Nigeria   \n",
       "1296   https://cdn.sofifa.org/players/4/19/234045.png     Nigeria   \n",
       "...                                               ...         ...   \n",
       "17096  https://cdn.sofifa.org/players/4/19/240967.png     Nigeria   \n",
       "17160  https://cdn.sofifa.org/players/4/19/245387.png     Nigeria   \n",
       "17261  https://cdn.sofifa.org/players/4/19/245484.png     Nigeria   \n",
       "17652  https://cdn.sofifa.org/players/4/19/244895.png     Nigeria   \n",
       "18174  https://cdn.sofifa.org/players/4/19/243900.png     Nigeria   \n",
       "\n",
       "                                       Flag  Overall  Potential  \\\n",
       "425    https://cdn.sofifa.org/flags/133.png       80         85   \n",
       "789    https://cdn.sofifa.org/flags/133.png       78         84   \n",
       "858    https://cdn.sofifa.org/flags/133.png       78         78   \n",
       "1022   https://cdn.sofifa.org/flags/133.png       77         77   \n",
       "1296   https://cdn.sofifa.org/flags/133.png       76         86   \n",
       "...                                     ...      ...        ...   \n",
       "17096  https://cdn.sofifa.org/flags/133.png       55         70   \n",
       "17160  https://cdn.sofifa.org/flags/133.png       55         66   \n",
       "17261  https://cdn.sofifa.org/flags/133.png       55         67   \n",
       "17652  https://cdn.sofifa.org/flags/133.png       53         69   \n",
       "18174  https://cdn.sofifa.org/flags/133.png       48         63   \n",
       "\n",
       "                     Club                                        Club Logo  \\\n",
       "425        Leicester City      https://cdn.sofifa.org/teams/2/light/95.png   \n",
       "789               Arsenal       https://cdn.sofifa.org/teams/2/light/1.png   \n",
       "858               Chelsea       https://cdn.sofifa.org/teams/2/light/5.png   \n",
       "1022   Changchun Yatai FC  https://cdn.sofifa.org/teams/2/light/111769.png   \n",
       "1296       Galatasaray SK     https://cdn.sofifa.org/teams/2/light/325.png   \n",
       "...                   ...                                              ...   \n",
       "17096    Rotherham United    https://cdn.sofifa.org/teams/2/light/1797.png   \n",
       "17160           IK Sirius  https://cdn.sofifa.org/teams/2/light/113458.png   \n",
       "17261       Lillestrøm SK     https://cdn.sofifa.org/teams/2/light/299.png   \n",
       "17652        IFK Göteborg     https://cdn.sofifa.org/teams/2/light/319.png   \n",
       "18174     Carlisle United    https://cdn.sofifa.org/teams/2/light/1480.png   \n",
       "\n",
       "       ...  Composure  Marking  StandingTackle SlidingTackle  GKDiving  \\\n",
       "425    ...       74.0     84.0            84.0          83.0      13.0   \n",
       "789    ...       72.0     30.0            26.0          23.0      14.0   \n",
       "858    ...       75.0     74.0            74.0          71.0       9.0   \n",
       "1022   ...       82.0     17.0            45.0          41.0       9.0   \n",
       "1296   ...       70.0     37.0            38.0          25.0      12.0   \n",
       "...    ...        ...      ...             ...           ...       ...   \n",
       "17096  ...       44.0     17.0            18.0          17.0      11.0   \n",
       "17160  ...       49.0     23.0            25.0          23.0      15.0   \n",
       "17261  ...       42.0     35.0            53.0          51.0       7.0   \n",
       "17652  ...       53.0     28.0            39.0          38.0      14.0   \n",
       "18174  ...       44.0     44.0            40.0          41.0       6.0   \n",
       "\n",
       "       GKHandling  GKKicking GKPositioning GKReflexes Release Clause  \n",
       "425          14.0        7.0           7.0       13.0         €33.6M  \n",
       "789           7.0       12.0          14.0       11.0         €29.4M  \n",
       "858           7.0        8.0          16.0       16.0         €20.4M  \n",
       "1022         11.0       13.0          16.0        8.0         €19.4M  \n",
       "1296          9.0        9.0           6.0       11.0            NaN  \n",
       "...           ...        ...           ...        ...            ...  \n",
       "17096        14.0        9.0          12.0        7.0          €446K  \n",
       "17160         7.0       12.0           7.0        7.0          €203K  \n",
       "17261         7.0        6.0           7.0        6.0          €232K  \n",
       "17652         9.0        6.0           7.0        9.0          €225K  \n",
       "18174        14.0        9.0          13.0       12.0          €143K  \n",
       "\n",
       "[121 rows x 88 columns]"
      ]
     },
     "execution_count": 291,
     "metadata": {},
     "output_type": "execute_result"
    }
   ],
   "source": [
    "ng = pl[pl[\"Nationality\"] == \"Nigeria\"]\n",
    "ng"
   ]
  },
  {
   "cell_type": "code",
   "execution_count": 296,
   "metadata": {},
   "outputs": [
    {
     "data": {
      "text/html": [
       "<div>\n",
       "<style scoped>\n",
       "    .dataframe tbody tr th:only-of-type {\n",
       "        vertical-align: middle;\n",
       "    }\n",
       "\n",
       "    .dataframe tbody tr th {\n",
       "        vertical-align: top;\n",
       "    }\n",
       "\n",
       "    .dataframe thead th {\n",
       "        text-align: right;\n",
       "    }\n",
       "</style>\n",
       "<table border=\"1\" class=\"dataframe\">\n",
       "  <thead>\n",
       "    <tr style=\"text-align: right;\">\n",
       "      <th></th>\n",
       "      <th>Age</th>\n",
       "      <th>Wage</th>\n",
       "      <th>Overall</th>\n",
       "    </tr>\n",
       "  </thead>\n",
       "  <tbody>\n",
       "    <tr>\n",
       "      <th>mean</th>\n",
       "      <td>23.066116</td>\n",
       "      <td>9859.504132</td>\n",
       "      <td>67.14876</td>\n",
       "    </tr>\n",
       "    <tr>\n",
       "      <th>min</th>\n",
       "      <td>17.000000</td>\n",
       "      <td>1000.000000</td>\n",
       "      <td>48.00000</td>\n",
       "    </tr>\n",
       "    <tr>\n",
       "      <th>max</th>\n",
       "      <td>34.000000</td>\n",
       "      <td>105000.000000</td>\n",
       "      <td>80.00000</td>\n",
       "    </tr>\n",
       "  </tbody>\n",
       "</table>\n",
       "</div>"
      ],
      "text/plain": [
       "            Age           Wage   Overall\n",
       "mean  23.066116    9859.504132  67.14876\n",
       "min   17.000000    1000.000000  48.00000\n",
       "max   34.000000  105000.000000  80.00000"
      ]
     },
     "execution_count": 296,
     "metadata": {},
     "output_type": "execute_result"
    }
   ],
   "source": [
    "ng.agg([\"mean\", \"min\", \"max\"])[[\"Age\", \"Wage\", \"Overall\"]]"
   ]
  },
  {
   "cell_type": "code",
   "execution_count": 306,
   "metadata": {},
   "outputs": [
    {
     "data": {
      "text/html": [
       "<div>\n",
       "<style scoped>\n",
       "    .dataframe tbody tr th:only-of-type {\n",
       "        vertical-align: middle;\n",
       "    }\n",
       "\n",
       "    .dataframe tbody tr th {\n",
       "        vertical-align: top;\n",
       "    }\n",
       "\n",
       "    .dataframe thead th {\n",
       "        text-align: right;\n",
       "    }\n",
       "</style>\n",
       "<table border=\"1\" class=\"dataframe\">\n",
       "  <thead>\n",
       "    <tr style=\"text-align: right;\">\n",
       "      <th></th>\n",
       "      <th>Name</th>\n",
       "      <th>Age</th>\n",
       "      <th>Club</th>\n",
       "      <th>Wage</th>\n",
       "    </tr>\n",
       "  </thead>\n",
       "  <tbody>\n",
       "    <tr>\n",
       "      <th>17652</th>\n",
       "      <td>A. Yusuf</td>\n",
       "      <td>17</td>\n",
       "      <td>IFK Göteborg</td>\n",
       "      <td>1000.0</td>\n",
       "    </tr>\n",
       "  </tbody>\n",
       "</table>\n",
       "</div>"
      ],
      "text/plain": [
       "           Name  Age          Club    Wage\n",
       "17652  A. Yusuf   17  IFK Göteborg  1000.0"
      ]
     },
     "execution_count": 306,
     "metadata": {},
     "output_type": "execute_result"
    }
   ],
   "source": [
    "# Youngest Player Profile\n",
    "ng[ng[\"Age\"] == ng[\"Age\"].min()][[\"Name\", \"Age\", \"Club\", \"Wage\"]]"
   ]
  },
  {
   "cell_type": "code",
   "execution_count": 305,
   "metadata": {},
   "outputs": [
    {
     "data": {
      "text/html": [
       "<div>\n",
       "<style scoped>\n",
       "    .dataframe tbody tr th:only-of-type {\n",
       "        vertical-align: middle;\n",
       "    }\n",
       "\n",
       "    .dataframe tbody tr th {\n",
       "        vertical-align: top;\n",
       "    }\n",
       "\n",
       "    .dataframe thead th {\n",
       "        text-align: right;\n",
       "    }\n",
       "</style>\n",
       "<table border=\"1\" class=\"dataframe\">\n",
       "  <thead>\n",
       "    <tr style=\"text-align: right;\">\n",
       "      <th></th>\n",
       "      <th>Name</th>\n",
       "      <th>Age</th>\n",
       "      <th>Club</th>\n",
       "      <th>Wage</th>\n",
       "    </tr>\n",
       "  </thead>\n",
       "  <tbody>\n",
       "    <tr>\n",
       "      <th>5097</th>\n",
       "      <td>I. Uche</td>\n",
       "      <td>34</td>\n",
       "      <td>Gimnàstic de Tarragona</td>\n",
       "      <td>6000.0</td>\n",
       "    </tr>\n",
       "  </tbody>\n",
       "</table>\n",
       "</div>"
      ],
      "text/plain": [
       "         Name  Age                    Club    Wage\n",
       "5097  I. Uche   34  Gimnàstic de Tarragona  6000.0"
      ]
     },
     "execution_count": 305,
     "metadata": {},
     "output_type": "execute_result"
    }
   ],
   "source": [
    "# Oldest player profile\n",
    "ng[ng[\"Age\"] == ng[\"Age\"].max()][[\"Name\", \"Age\", \"Club\", \"Wage\"]]"
   ]
  },
  {
   "cell_type": "code",
   "execution_count": 308,
   "metadata": {},
   "outputs": [
    {
     "data": {
      "text/html": [
       "<div>\n",
       "<style scoped>\n",
       "    .dataframe tbody tr th:only-of-type {\n",
       "        vertical-align: middle;\n",
       "    }\n",
       "\n",
       "    .dataframe tbody tr th {\n",
       "        vertical-align: top;\n",
       "    }\n",
       "\n",
       "    .dataframe thead th {\n",
       "        text-align: right;\n",
       "    }\n",
       "</style>\n",
       "<table border=\"1\" class=\"dataframe\">\n",
       "  <thead>\n",
       "    <tr style=\"text-align: right;\">\n",
       "      <th></th>\n",
       "      <th>Name</th>\n",
       "      <th>Age</th>\n",
       "      <th>Wage</th>\n",
       "      <th>Club</th>\n",
       "      <th>Overall</th>\n",
       "    </tr>\n",
       "  </thead>\n",
       "  <tbody>\n",
       "    <tr>\n",
       "      <th>858</th>\n",
       "      <td>V. Moses</td>\n",
       "      <td>27</td>\n",
       "      <td>105000.0</td>\n",
       "      <td>Chelsea</td>\n",
       "      <td>78</td>\n",
       "    </tr>\n",
       "    <tr>\n",
       "      <th>789</th>\n",
       "      <td>A. Iwobi</td>\n",
       "      <td>22</td>\n",
       "      <td>81000.0</td>\n",
       "      <td>Arsenal</td>\n",
       "      <td>78</td>\n",
       "    </tr>\n",
       "    <tr>\n",
       "      <th>1296</th>\n",
       "      <td>H. Onyekuru</td>\n",
       "      <td>21</td>\n",
       "      <td>56000.0</td>\n",
       "      <td>Galatasaray SK</td>\n",
       "      <td>76</td>\n",
       "    </tr>\n",
       "    <tr>\n",
       "      <th>425</th>\n",
       "      <td>W. Ndidi</td>\n",
       "      <td>21</td>\n",
       "      <td>50000.0</td>\n",
       "      <td>Leicester City</td>\n",
       "      <td>80</td>\n",
       "    </tr>\n",
       "    <tr>\n",
       "      <th>1946</th>\n",
       "      <td>K. Iheanacho</td>\n",
       "      <td>21</td>\n",
       "      <td>45000.0</td>\n",
       "      <td>Leicester City</td>\n",
       "      <td>75</td>\n",
       "    </tr>\n",
       "    <tr>\n",
       "      <th>3239</th>\n",
       "      <td>K. Omeruo</td>\n",
       "      <td>24</td>\n",
       "      <td>45000.0</td>\n",
       "      <td>CD Leganés</td>\n",
       "      <td>72</td>\n",
       "    </tr>\n",
       "    <tr>\n",
       "      <th>1615</th>\n",
       "      <td>L. Balogun</td>\n",
       "      <td>30</td>\n",
       "      <td>38000.0</td>\n",
       "      <td>Brighton &amp; Hove Albion</td>\n",
       "      <td>75</td>\n",
       "    </tr>\n",
       "    <tr>\n",
       "      <th>1754</th>\n",
       "      <td>A. Musa</td>\n",
       "      <td>25</td>\n",
       "      <td>36000.0</td>\n",
       "      <td>Al Nassr</td>\n",
       "      <td>75</td>\n",
       "    </tr>\n",
       "    <tr>\n",
       "      <th>3015</th>\n",
       "      <td>I. Success</td>\n",
       "      <td>22</td>\n",
       "      <td>34000.0</td>\n",
       "      <td>Watford</td>\n",
       "      <td>73</td>\n",
       "    </tr>\n",
       "    <tr>\n",
       "      <th>2535</th>\n",
       "      <td>O. Etebo</td>\n",
       "      <td>22</td>\n",
       "      <td>29000.0</td>\n",
       "      <td>Stoke City</td>\n",
       "      <td>74</td>\n",
       "    </tr>\n",
       "    <tr>\n",
       "      <th>6882</th>\n",
       "      <td>T. Awoniyi</td>\n",
       "      <td>20</td>\n",
       "      <td>26000.0</td>\n",
       "      <td>KAA Gent</td>\n",
       "      <td>68</td>\n",
       "    </tr>\n",
       "    <tr>\n",
       "      <th>1942</th>\n",
       "      <td>O. Onazi</td>\n",
       "      <td>25</td>\n",
       "      <td>25000.0</td>\n",
       "      <td>Trabzonspor</td>\n",
       "      <td>75</td>\n",
       "    </tr>\n",
       "    <tr>\n",
       "      <th>2382</th>\n",
       "      <td>S. Kalu</td>\n",
       "      <td>20</td>\n",
       "      <td>25000.0</td>\n",
       "      <td>FC Girondins de Bordeaux</td>\n",
       "      <td>74</td>\n",
       "    </tr>\n",
       "    <tr>\n",
       "      <th>2981</th>\n",
       "      <td>A. Ujah</td>\n",
       "      <td>27</td>\n",
       "      <td>23000.0</td>\n",
       "      <td>1. FSV Mainz 05</td>\n",
       "      <td>73</td>\n",
       "    </tr>\n",
       "    <tr>\n",
       "      <th>4297</th>\n",
       "      <td>A. Nwakaeme</td>\n",
       "      <td>29</td>\n",
       "      <td>21000.0</td>\n",
       "      <td>Trabzonspor</td>\n",
       "      <td>71</td>\n",
       "    </tr>\n",
       "    <tr>\n",
       "      <th>1550</th>\n",
       "      <td>M. Simon</td>\n",
       "      <td>22</td>\n",
       "      <td>20000.0</td>\n",
       "      <td>Levante UD</td>\n",
       "      <td>76</td>\n",
       "    </tr>\n",
       "    <tr>\n",
       "      <th>7426</th>\n",
       "      <td>U. Sadiq</td>\n",
       "      <td>21</td>\n",
       "      <td>17000.0</td>\n",
       "      <td>Rangers FC</td>\n",
       "      <td>68</td>\n",
       "    </tr>\n",
       "    <tr>\n",
       "      <th>3007</th>\n",
       "      <td>W. Troost-Ekong</td>\n",
       "      <td>24</td>\n",
       "      <td>17000.0</td>\n",
       "      <td>Udinese</td>\n",
       "      <td>73</td>\n",
       "    </tr>\n",
       "    <tr>\n",
       "      <th>4410</th>\n",
       "      <td>O. Aina</td>\n",
       "      <td>21</td>\n",
       "      <td>16000.0</td>\n",
       "      <td>Torino</td>\n",
       "      <td>71</td>\n",
       "    </tr>\n",
       "    <tr>\n",
       "      <th>4195</th>\n",
       "      <td>R. Hassan</td>\n",
       "      <td>27</td>\n",
       "      <td>16000.0</td>\n",
       "      <td>FC Midtjylland</td>\n",
       "      <td>71</td>\n",
       "    </tr>\n",
       "  </tbody>\n",
       "</table>\n",
       "</div>"
      ],
      "text/plain": [
       "                 Name  Age      Wage                      Club  Overall\n",
       "858          V. Moses   27  105000.0                   Chelsea       78\n",
       "789          A. Iwobi   22   81000.0                   Arsenal       78\n",
       "1296      H. Onyekuru   21   56000.0            Galatasaray SK       76\n",
       "425          W. Ndidi   21   50000.0            Leicester City       80\n",
       "1946     K. Iheanacho   21   45000.0            Leicester City       75\n",
       "3239        K. Omeruo   24   45000.0                CD Leganés       72\n",
       "1615       L. Balogun   30   38000.0    Brighton & Hove Albion       75\n",
       "1754          A. Musa   25   36000.0                  Al Nassr       75\n",
       "3015       I. Success   22   34000.0                   Watford       73\n",
       "2535         O. Etebo   22   29000.0                Stoke City       74\n",
       "6882       T. Awoniyi   20   26000.0                  KAA Gent       68\n",
       "1942         O. Onazi   25   25000.0               Trabzonspor       75\n",
       "2382          S. Kalu   20   25000.0  FC Girondins de Bordeaux       74\n",
       "2981          A. Ujah   27   23000.0           1. FSV Mainz 05       73\n",
       "4297      A. Nwakaeme   29   21000.0               Trabzonspor       71\n",
       "1550         M. Simon   22   20000.0                Levante UD       76\n",
       "7426         U. Sadiq   21   17000.0                Rangers FC       68\n",
       "3007  W. Troost-Ekong   24   17000.0                   Udinese       73\n",
       "4410          O. Aina   21   16000.0                    Torino       71\n",
       "4195        R. Hassan   27   16000.0            FC Midtjylland       71"
      ]
     },
     "execution_count": 308,
     "metadata": {},
     "output_type": "execute_result"
    }
   ],
   "source": [
    "# highest paid Nigerian Players\n",
    "ng.sort_values(\"Wage\", ascending = False)[[\"Name\", \"Age\", \"Wage\", \"Club\", \"Overall\"]].head(20)"
   ]
  },
  {
   "cell_type": "code",
   "execution_count": 309,
   "metadata": {},
   "outputs": [
    {
     "data": {
      "text/html": [
       "<div>\n",
       "<style scoped>\n",
       "    .dataframe tbody tr th:only-of-type {\n",
       "        vertical-align: middle;\n",
       "    }\n",
       "\n",
       "    .dataframe tbody tr th {\n",
       "        vertical-align: top;\n",
       "    }\n",
       "\n",
       "    .dataframe thead th {\n",
       "        text-align: right;\n",
       "    }\n",
       "</style>\n",
       "<table border=\"1\" class=\"dataframe\">\n",
       "  <thead>\n",
       "    <tr style=\"text-align: right;\">\n",
       "      <th></th>\n",
       "      <th>Name</th>\n",
       "      <th>Age</th>\n",
       "      <th>Wage</th>\n",
       "      <th>Club</th>\n",
       "      <th>Overall</th>\n",
       "    </tr>\n",
       "  </thead>\n",
       "  <tbody>\n",
       "    <tr>\n",
       "      <th>858</th>\n",
       "      <td>V. Moses</td>\n",
       "      <td>27</td>\n",
       "      <td>105000.0</td>\n",
       "      <td>Chelsea</td>\n",
       "      <td>78</td>\n",
       "    </tr>\n",
       "    <tr>\n",
       "      <th>789</th>\n",
       "      <td>A. Iwobi</td>\n",
       "      <td>22</td>\n",
       "      <td>81000.0</td>\n",
       "      <td>Arsenal</td>\n",
       "      <td>78</td>\n",
       "    </tr>\n",
       "    <tr>\n",
       "      <th>1296</th>\n",
       "      <td>H. Onyekuru</td>\n",
       "      <td>21</td>\n",
       "      <td>56000.0</td>\n",
       "      <td>Galatasaray SK</td>\n",
       "      <td>76</td>\n",
       "    </tr>\n",
       "    <tr>\n",
       "      <th>425</th>\n",
       "      <td>W. Ndidi</td>\n",
       "      <td>21</td>\n",
       "      <td>50000.0</td>\n",
       "      <td>Leicester City</td>\n",
       "      <td>80</td>\n",
       "    </tr>\n",
       "    <tr>\n",
       "      <th>1946</th>\n",
       "      <td>K. Iheanacho</td>\n",
       "      <td>21</td>\n",
       "      <td>45000.0</td>\n",
       "      <td>Leicester City</td>\n",
       "      <td>75</td>\n",
       "    </tr>\n",
       "    <tr>\n",
       "      <th>3239</th>\n",
       "      <td>K. Omeruo</td>\n",
       "      <td>24</td>\n",
       "      <td>45000.0</td>\n",
       "      <td>CD Leganés</td>\n",
       "      <td>72</td>\n",
       "    </tr>\n",
       "    <tr>\n",
       "      <th>1615</th>\n",
       "      <td>L. Balogun</td>\n",
       "      <td>30</td>\n",
       "      <td>38000.0</td>\n",
       "      <td>Brighton &amp; Hove Albion</td>\n",
       "      <td>75</td>\n",
       "    </tr>\n",
       "    <tr>\n",
       "      <th>1754</th>\n",
       "      <td>A. Musa</td>\n",
       "      <td>25</td>\n",
       "      <td>36000.0</td>\n",
       "      <td>Al Nassr</td>\n",
       "      <td>75</td>\n",
       "    </tr>\n",
       "    <tr>\n",
       "      <th>3015</th>\n",
       "      <td>I. Success</td>\n",
       "      <td>22</td>\n",
       "      <td>34000.0</td>\n",
       "      <td>Watford</td>\n",
       "      <td>73</td>\n",
       "    </tr>\n",
       "    <tr>\n",
       "      <th>2535</th>\n",
       "      <td>O. Etebo</td>\n",
       "      <td>22</td>\n",
       "      <td>29000.0</td>\n",
       "      <td>Stoke City</td>\n",
       "      <td>74</td>\n",
       "    </tr>\n",
       "  </tbody>\n",
       "</table>\n",
       "</div>"
      ],
      "text/plain": [
       "              Name  Age      Wage                    Club  Overall\n",
       "858       V. Moses   27  105000.0                 Chelsea       78\n",
       "789       A. Iwobi   22   81000.0                 Arsenal       78\n",
       "1296   H. Onyekuru   21   56000.0          Galatasaray SK       76\n",
       "425       W. Ndidi   21   50000.0          Leicester City       80\n",
       "1946  K. Iheanacho   21   45000.0          Leicester City       75\n",
       "3239     K. Omeruo   24   45000.0              CD Leganés       72\n",
       "1615    L. Balogun   30   38000.0  Brighton & Hove Albion       75\n",
       "1754       A. Musa   25   36000.0                Al Nassr       75\n",
       "3015    I. Success   22   34000.0                 Watford       73\n",
       "2535      O. Etebo   22   29000.0              Stoke City       74"
      ]
     },
     "execution_count": 309,
     "metadata": {},
     "output_type": "execute_result"
    }
   ],
   "source": [
    "hpng = ng.sort_values(\"Wage\", ascending = False)[[\"Name\", \"Age\", \"Wage\", \"Club\", \"Overall\"]].head(10)\n",
    "hpng"
   ]
  },
  {
   "cell_type": "code",
   "execution_count": 317,
   "metadata": {},
   "outputs": [
    {
     "name": "stderr",
     "output_type": "stream",
     "text": [
      "C:\\Users\\AboveUnder\\anaconda3\\lib\\site-packages\\seaborn\\categorical.py:3704: UserWarning: The `factorplot` function has been renamed to `catplot`. The original name will be removed in a future release. Please update your code. Note that the default `kind` in `factorplot` (`'point'`) has changed `'strip'` in `catplot`.\n",
      "  warnings.warn(msg)\n"
     ]
    },
    {
     "data": {
      "image/png": "[encoded data removed]",
      "text/plain": [
       "<Figure size 360x360 with 1 Axes>"
      ]
     },
     "metadata": {
      "needs_background": "light"
     },
     "output_type": "display_data"
    }
   ],
   "source": [
    "sns.factorplot( data = hpng, x = \"Name\", y= \"Wage\", kind = \"bar\")\n",
    "plt.xticks(rotation = \"vertical\")\n",
    "plt.show()"
   ]
  },
  {
   "cell_type": "code",
   "execution_count": 425,
   "metadata": {
    "scrolled": true
   },
   "outputs": [
    {
     "data": {
      "application/vnd.plotly.v1+json": {
       "config": {
        "plotlyServerURL": "https://plot.ly"
       },
       "data": [
        {
         "alignmentgroup": "True",
         "hovertemplate": "Name=%{x}<br>Wage=%{y}<extra></extra>",
         "legendgroup": "",
         "marker": {
          "color": "#636efa",
          "pattern": {
           "shape": ""
          }
         },
         "name": "",
         "offsetgroup": "",
         "orientation": "v",
         "showlegend": false,
         "textposition": "auto",
         "type": "bar",
         "x": [
          "V. Moses",
          "A. Iwobi",
          "H. Onyekuru",
          "W. Ndidi",
          "K. Iheanacho",
          "K. Omeruo",
          "L. Balogun",
          "A. Musa",
          "I. Success",
          "O. Etebo"
         ],
         "xaxis": "x",
         "y": [
          105000,
          81000,
          56000,
          50000,
          45000,
          45000,
          38000,
          36000,
          34000,
          29000
         ],
         "yaxis": "y"
        }
       ],
       "layout": {
        "barmode": "relative",
        "legend": {
         "tracegroupgap": 0
        },
        "margin": {
         "t": 60
        },
        "template": {
         "data": {
          "bar": [
           {
            "error_x": {
             "color": "#2a3f5f"
            },
            "error_y": {
             "color": "#2a3f5f"
            },
            "marker": {
             "line": {
              "color": "#E5ECF6",
              "width": 0.5
             },
             "pattern": {
              "fillmode": "overlay",
              "size": 10,
              "solidity": 0.2
             }
            },
            "type": "bar"
           }
          ],
          "barpolar": [
           {
            "marker": {
             "line": {
              "color": "#E5ECF6",
              "width": 0.5
             },
             "pattern": {
              "fillmode": "overlay",
              "size": 10,
              "solidity": 0.2
             }
            },
            "type": "barpolar"
           }
          ],
          "carpet": [
           {
            "aaxis": {
             "endlinecolor": "#2a3f5f",
             "gridcolor": "white",
             "linecolor": "white",
             "minorgridcolor": "white",
             "startlinecolor": "#2a3f5f"
            },
            "baxis": {
             "endlinecolor": "#2a3f5f",
             "gridcolor": "white",
             "linecolor": "white",
             "minorgridcolor": "white",
             "startlinecolor": "#2a3f5f"
            },
            "type": "carpet"
           }
          ],
          "choropleth": [
           {
            "colorbar": {
             "outlinewidth": 0,
             "ticks": ""
            },
            "type": "choropleth"
           }
          ],
          "contour": [
           {
            "colorbar": {
             "outlinewidth": 0,
             "ticks": ""
            },
            "colorscale": [
             [
              0,
              "#0d0887"
             ],
             [
              0.1111111111111111,
              "#46039f"
             ],
             [
              0.2222222222222222,
              "#7201a8"
             ],
             [
              0.3333333333333333,
              "#9c179e"
             ],
             [
              0.4444444444444444,
              "#bd3786"
             ],
             [
              0.5555555555555556,
              "#d8576b"
             ],
             [
              0.6666666666666666,
              "#ed7953"
             ],
             [
              0.7777777777777778,
              "#fb9f3a"
             ],
             [
              0.8888888888888888,
              "#fdca26"
             ],
             [
              1,
              "#f0f921"
             ]
            ],
            "type": "contour"
           }
          ],
          "contourcarpet": [
           {
            "colorbar": {
             "outlinewidth": 0,
             "ticks": ""
            },
            "type": "contourcarpet"
           }
          ],
          "heatmap": [
           {
            "colorbar": {
             "outlinewidth": 0,
             "ticks": ""
            },
            "colorscale": [
             [
              0,
              "#0d0887"
             ],
             [
              0.1111111111111111,
              "#46039f"
             ],
             [
              0.2222222222222222,
              "#7201a8"
             ],
             [
              0.3333333333333333,
              "#9c179e"
             ],
             [
              0.4444444444444444,
              "#bd3786"
             ],
             [
              0.5555555555555556,
              "#d8576b"
             ],
             [
              0.6666666666666666,
              "#ed7953"
             ],
             [
              0.7777777777777778,
              "#fb9f3a"
             ],
             [
              0.8888888888888888,
              "#fdca26"
             ],
             [
              1,
              "#f0f921"
             ]
            ],
            "type": "heatmap"
           }
          ],
          "heatmapgl": [
           {
            "colorbar": {
             "outlinewidth": 0,
             "ticks": ""
            },
            "colorscale": [
             [
              0,
              "#0d0887"
             ],
             [
              0.1111111111111111,
              "#46039f"
             ],
             [
              0.2222222222222222,
              "#7201a8"
             ],
             [
              0.3333333333333333,
              "#9c179e"
             ],
             [
              0.4444444444444444,
              "#bd3786"
             ],
             [
              0.5555555555555556,
              "#d8576b"
             ],
             [
              0.6666666666666666,
              "#ed7953"
             ],
             [
              0.7777777777777778,
              "#fb9f3a"
             ],
             [
              0.8888888888888888,
              "#fdca26"
             ],
             [
              1,
              "#f0f921"
             ]
            ],
            "type": "heatmapgl"
           }
          ],
          "histogram": [
           {
            "marker": {
             "pattern": {
              "fillmode": "overlay",
              "size": 10,
              "solidity": 0.2
             }
            },
            "type": "histogram"
           }
          ],
          "histogram2d": [
           {
            "colorbar": {
             "outlinewidth": 0,
             "ticks": ""
            },
            "colorscale": [
             [
              0,
              "#0d0887"
             ],
             [
              0.1111111111111111,
              "#46039f"
             ],
             [
              0.2222222222222222,
              "#7201a8"
             ],
             [
              0.3333333333333333,
              "#9c179e"
             ],
             [
              0.4444444444444444,
              "#bd3786"
             ],
             [
              0.5555555555555556,
              "#d8576b"
             ],
             [
              0.6666666666666666,
              "#ed7953"
             ],
             [
              0.7777777777777778,
              "#fb9f3a"
             ],
             [
              0.8888888888888888,
              "#fdca26"
             ],
             [
              1,
              "#f0f921"
             ]
            ],
            "type": "histogram2d"
           }
          ],
          "histogram2dcontour": [
           {
            "colorbar": {
             "outlinewidth": 0,
             "ticks": ""
            },
            "colorscale": [
             [
              0,
              "#0d0887"
             ],
             [
              0.1111111111111111,
              "#46039f"
             ],
             [
              0.2222222222222222,
              "#7201a8"
             ],
             [
              0.3333333333333333,
              "#9c179e"
             ],
             [
              0.4444444444444444,
              "#bd3786"
             ],
             [
              0.5555555555555556,
              "#d8576b"
             ],
             [
              0.6666666666666666,
              "#ed7953"
             ],
             [
              0.7777777777777778,
              "#fb9f3a"
             ],
             [
              0.8888888888888888,
              "#fdca26"
             ],
             [
              1,
              "#f0f921"
             ]
            ],
            "type": "histogram2dcontour"
           }
          ],
          "mesh3d": [
           {
            "colorbar": {
             "outlinewidth": 0,
             "ticks": ""
            },
            "type": "mesh3d"
           }
          ],
          "parcoords": [
           {
            "line": {
             "colorbar": {
              "outlinewidth": 0,
              "ticks": ""
             }
            },
            "type": "parcoords"
           }
          ],
          "pie": [
           {
            "automargin": true,
            "type": "pie"
           }
          ],
          "scatter": [
           {
            "marker": {
             "colorbar": {
              "outlinewidth": 0,
              "ticks": ""
             }
            },
            "type": "scatter"
           }
          ],
          "scatter3d": [
           {
            "line": {
             "colorbar": {
              "outlinewidth": 0,
              "ticks": ""
             }
            },
            "marker": {
             "colorbar": {
              "outlinewidth": 0,
              "ticks": ""
             }
            },
            "type": "scatter3d"
           }
          ],
          "scattercarpet": [
           {
            "marker": {
             "colorbar": {
              "outlinewidth": 0,
              "ticks": ""
             }
            },
            "type": "scattercarpet"
           }
          ],
          "scattergeo": [
           {
            "marker": {
             "colorbar": {
              "outlinewidth": 0,
              "ticks": ""
             }
            },
            "type": "scattergeo"
           }
          ],
          "scattergl": [
           {
            "marker": {
             "colorbar": {
              "outlinewidth": 0,
              "ticks": ""
             }
            },
            "type": "scattergl"
           }
          ],
          "scattermapbox": [
           {
            "marker": {
             "colorbar": {
              "outlinewidth": 0,
              "ticks": ""
             }
            },
            "type": "scattermapbox"
           }
          ],
          "scatterpolar": [
           {
            "marker": {
             "colorbar": {
              "outlinewidth": 0,
              "ticks": ""
             }
            },
            "type": "scatterpolar"
           }
          ],
          "scatterpolargl": [
           {
            "marker": {
             "colorbar": {
              "outlinewidth": 0,
              "ticks": ""
             }
            },
            "type": "scatterpolargl"
           }
          ],
          "scatterternary": [
           {
            "marker": {
             "colorbar": {
              "outlinewidth": 0,
              "ticks": ""
             }
            },
            "type": "scatterternary"
           }
          ],
          "surface": [
           {
            "colorbar": {
             "outlinewidth": 0,
             "ticks": ""
            },
            "colorscale": [
             [
              0,
              "#0d0887"
             ],
             [
              0.1111111111111111,
              "#46039f"
             ],
             [
              0.2222222222222222,
              "#7201a8"
             ],
             [
              0.3333333333333333,
              "#9c179e"
             ],
             [
              0.4444444444444444,
              "#bd3786"
             ],
             [
              0.5555555555555556,
              "#d8576b"
             ],
             [
              0.6666666666666666,
              "#ed7953"
             ],
             [
              0.7777777777777778,
              "#fb9f3a"
             ],
             [
              0.8888888888888888,
              "#fdca26"
             ],
             [
              1,
              "#f0f921"
             ]
            ],
            "type": "surface"
           }
          ],
          "table": [
           {
            "cells": {
             "fill": {
              "color": "#EBF0F8"
             },
             "line": {
              "color": "white"
             }
            },
            "header": {
             "fill": {
              "color": "#C8D4E3"
             },
             "line": {
              "color": "white"
             }
            },
            "type": "table"
           }
          ]
         },
         "layout": {
          "annotationdefaults": {
           "arrowcolor": "#2a3f5f",
           "arrowhead": 0,
           "arrowwidth": 1
          },
          "autotypenumbers": "strict",
          "coloraxis": {
           "colorbar": {
            "outlinewidth": 0,
            "ticks": ""
           }
          },
          "colorscale": {
           "diverging": [
            [
             0,
             "#8e0152"
            ],
            [
             0.1,
             "#c51b7d"
            ],
            [
             0.2,
             "#de77ae"
            ],
            [
             0.3,
             "#f1b6da"
            ],
            [
             0.4,
             "#fde0ef"
            ],
            [
             0.5,
             "#f7f7f7"
            ],
            [
             0.6,
             "#e6f5d0"
            ],
            [
             0.7,
             "#b8e186"
            ],
            [
             0.8,
             "#7fbc41"
            ],
            [
             0.9,
             "#4d9221"
            ],
            [
             1,
             "#276419"
            ]
           ],
           "sequential": [
            [
             0,
             "#0d0887"
            ],
            [
             0.1111111111111111,
             "#46039f"
            ],
            [
             0.2222222222222222,
             "#7201a8"
            ],
            [
             0.3333333333333333,
             "#9c179e"
            ],
            [
             0.4444444444444444,
             "#bd3786"
            ],
            [
             0.5555555555555556,
             "#d8576b"
            ],
            [
             0.6666666666666666,
             "#ed7953"
            ],
            [
             0.7777777777777778,
             "#fb9f3a"
            ],
            [
             0.8888888888888888,
             "#fdca26"
            ],
            [
             1,
             "#f0f921"
            ]
           ],
           "sequentialminus": [
            [
             0,
             "#0d0887"
            ],
            [
             0.1111111111111111,
             "#46039f"
            ],
            [
             0.2222222222222222,
             "#7201a8"
            ],
            [
             0.3333333333333333,
             "#9c179e"
            ],
            [
             0.4444444444444444,
             "#bd3786"
            ],
            [
             0.5555555555555556,
             "#d8576b"
            ],
            [
             0.6666666666666666,
             "#ed7953"
            ],
            [
             0.7777777777777778,
             "#fb9f3a"
            ],
            [
             0.8888888888888888,
             "#fdca26"
            ],
            [
             1,
             "#f0f921"
            ]
           ]
          },
          "colorway": [
           "#636efa",
           "#EF553B",
           "#00cc96",
           "#ab63fa",
           "#FFA15A",
           "#19d3f3",
           "#FF6692",
           "#B6E880",
           "#FF97FF",
           "#FECB52"
          ],
          "font": {
           "color": "#2a3f5f"
          },
          "geo": {
           "bgcolor": "white",
           "lakecolor": "white",
           "landcolor": "#E5ECF6",
           "showlakes": true,
           "showland": true,
           "subunitcolor": "white"
          },
          "hoverlabel": {
           "align": "left"
          },
          "hovermode": "closest",
          "mapbox": {
           "style": "light"
          },
          "paper_bgcolor": "white",
          "plot_bgcolor": "#E5ECF6",
          "polar": {
           "angularaxis": {
            "gridcolor": "white",
            "linecolor": "white",
            "ticks": ""
           },
           "bgcolor": "#E5ECF6",
           "radialaxis": {
            "gridcolor": "white",
            "linecolor": "white",
            "ticks": ""
           }
          },
          "scene": {
           "xaxis": {
            "backgroundcolor": "#E5ECF6",
            "gridcolor": "white",
            "gridwidth": 2,
            "linecolor": "white",
            "showbackground": true,
            "ticks": "",
            "zerolinecolor": "white"
           },
           "yaxis": {
            "backgroundcolor": "#E5ECF6",
            "gridcolor": "white",
            "gridwidth": 2,
            "linecolor": "white",
            "showbackground": true,
            "ticks": "",
            "zerolinecolor": "white"
           },
           "zaxis": {
            "backgroundcolor": "#E5ECF6",
            "gridcolor": "white",
            "gridwidth": 2,
            "linecolor": "white",
            "showbackground": true,
            "ticks": "",
            "zerolinecolor": "white"
           }
          },
          "shapedefaults": {
           "line": {
            "color": "#2a3f5f"
           }
          },
          "ternary": {
           "aaxis": {
            "gridcolor": "white",
            "linecolor": "white",
            "ticks": ""
           },
           "baxis": {
            "gridcolor": "white",
            "linecolor": "white",
            "ticks": ""
           },
           "bgcolor": "#E5ECF6",
           "caxis": {
            "gridcolor": "white",
            "linecolor": "white",
            "ticks": ""
           }
          },
          "title": {
           "x": 0.05
          },
          "xaxis": {
           "automargin": true,
           "gridcolor": "white",
           "linecolor": "white",
           "ticks": "",
           "title": {
            "standoff": 15
           },
           "zerolinecolor": "white",
           "zerolinewidth": 2
          },
          "yaxis": {
           "automargin": true,
           "gridcolor": "white",
           "linecolor": "white",
           "ticks": "",
           "title": {
            "standoff": 15
           },
           "zerolinecolor": "white",
           "zerolinewidth": 2
          }
         }
        },
        "xaxis": {
         "anchor": "y",
         "domain": [
          0,
          1
         ],
         "title": {
          "text": "Name"
         }
        },
        "yaxis": {
         "anchor": "x",
         "domain": [
          0,
          1
         ],
         "title": {
          "text": "Wage"
         }
        }
       }
      },
      "text/html": [
       "<div>                            <div id=\"98ae3529-6c53-41b3-85f1-630d32f94522\" class=\"plotly-graph-div\" style=\"height:525px; width:100%;\"></div>            <script type=\"text/javascript\">                require([\"plotly\"], function(Plotly) {                    window.PLOTLYENV=window.PLOTLYENV || {};                                    if (document.getElementById(\"98ae3529-6c53-41b3-85f1-630d32f94522\")) {                    Plotly.newPlot(                        \"98ae3529-6c53-41b3-85f1-630d32f94522\",                        [{\"alignmentgroup\":\"True\",\"hovertemplate\":\"Name=%{x}<br>Wage=%{y}<extra></extra>\",\"legendgroup\":\"\",\"marker\":{\"color\":\"#636efa\",\"pattern\":{\"shape\":\"\"}},\"name\":\"\",\"offsetgroup\":\"\",\"orientation\":\"v\",\"showlegend\":false,\"textposition\":\"auto\",\"x\":[\"V. Moses\",\"A. Iwobi\",\"H. Onyekuru\",\"W. Ndidi\",\"K. Iheanacho\",\"K. Omeruo\",\"L. Balogun\",\"A. Musa\",\"I. Success\",\"O. Etebo\"],\"xaxis\":\"x\",\"y\":[105000.0,81000.0,56000.0,50000.0,45000.0,45000.0,38000.0,36000.0,34000.0,29000.0],\"yaxis\":\"y\",\"type\":\"bar\"}],                        {\"template\":{\"data\":{\"bar\":[{\"error_x\":{\"color\":\"#2a3f5f\"},\"error_y\":{\"color\":\"#2a3f5f\"},\"marker\":{\"line\":{\"color\":\"#E5ECF6\",\"width\":0.5},\"pattern\":{\"fillmode\":\"overlay\",\"size\":10,\"solidity\":0.2}},\"type\":\"bar\"}],\"barpolar\":[{\"marker\":{\"line\":{\"color\":\"#E5ECF6\",\"width\":0.5},\"pattern\":{\"fillmode\":\"overlay\",\"size\":10,\"solidity\":0.2}},\"type\":\"barpolar\"}],\"carpet\":[{\"aaxis\":{\"endlinecolor\":\"#2a3f5f\",\"gridcolor\":\"white\",\"linecolor\":\"white\",\"minorgridcolor\":\"white\",\"startlinecolor\":\"#2a3f5f\"},\"baxis\":{\"endlinecolor\":\"#2a3f5f\",\"gridcolor\":\"white\",\"linecolor\":\"white\",\"minorgridcolor\":\"white\",\"startlinecolor\":\"#2a3f5f\"},\"type\":\"carpet\"}],\"choropleth\":[{\"colorbar\":{\"outlinewidth\":0,\"ticks\":\"\"},\"type\":\"choropleth\"}],\"contour\":[{\"colorbar\":{\"outlinewidth\":0,\"ticks\":\"\"},\"colorscale\":[[0.0,\"#0d0887\"],[0.1111111111111111,\"#46039f\"],[0.2222222222222222,\"#7201a8\"],[0.3333333333333333,\"#9c179e\"],[0.4444444444444444,\"#bd3786\"],[0.5555555555555556,\"#d8576b\"],[0.6666666666666666,\"#ed7953\"],[0.7777777777777778,\"#fb9f3a\"],[0.8888888888888888,\"#fdca26\"],[1.0,\"#f0f921\"]],\"type\":\"contour\"}],\"contourcarpet\":[{\"colorbar\":{\"outlinewidth\":0,\"ticks\":\"\"},\"type\":\"contourcarpet\"}],\"heatmap\":[{\"colorbar\":{\"outlinewidth\":0,\"ticks\":\"\"},\"colorscale\":[[0.0,\"#0d0887\"],[0.1111111111111111,\"#46039f\"],[0.2222222222222222,\"#7201a8\"],[0.3333333333333333,\"#9c179e\"],[0.4444444444444444,\"#bd3786\"],[0.5555555555555556,\"#d8576b\"],[0.6666666666666666,\"#ed7953\"],[0.7777777777777778,\"#fb9f3a\"],[0.8888888888888888,\"#fdca26\"],[1.0,\"#f0f921\"]],\"type\":\"heatmap\"}],\"heatmapgl\":[{\"colorbar\":{\"outlinewidth\":0,\"ticks\":\"\"},\"colorscale\":[[0.0,\"#0d0887\"],[0.1111111111111111,\"#46039f\"],[0.2222222222222222,\"#7201a8\"],[0.3333333333333333,\"#9c179e\"],[0.4444444444444444,\"#bd3786\"],[0.5555555555555556,\"#d8576b\"],[0.6666666666666666,\"#ed7953\"],[0.7777777777777778,\"#fb9f3a\"],[0.8888888888888888,\"#fdca26\"],[1.0,\"#f0f921\"]],\"type\":\"heatmapgl\"}],\"histogram\":[{\"marker\":{\"pattern\":{\"fillmode\":\"overlay\",\"size\":10,\"solidity\":0.2}},\"type\":\"histogram\"}],\"histogram2d\":[{\"colorbar\":{\"outlinewidth\":0,\"ticks\":\"\"},\"colorscale\":[[0.0,\"#0d0887\"],[0.1111111111111111,\"#46039f\"],[0.2222222222222222,\"#7201a8\"],[0.3333333333333333,\"#9c179e\"],[0.4444444444444444,\"#bd3786\"],[0.5555555555555556,\"#d8576b\"],[0.6666666666666666,\"#ed7953\"],[0.7777777777777778,\"#fb9f3a\"],[0.8888888888888888,\"#fdca26\"],[1.0,\"#f0f921\"]],\"type\":\"histogram2d\"}],\"histogram2dcontour\":[{\"colorbar\":{\"outlinewidth\":0,\"ticks\":\"\"},\"colorscale\":[[0.0,\"#0d0887\"],[0.1111111111111111,\"#46039f\"],[0.2222222222222222,\"#7201a8\"],[0.3333333333333333,\"#9c179e\"],[0.4444444444444444,\"#bd3786\"],[0.5555555555555556,\"#d8576b\"],[0.6666666666666666,\"#ed7953\"],[0.7777777777777778,\"#fb9f3a\"],[0.8888888888888888,\"#fdca26\"],[1.0,\"#f0f921\"]],\"type\":\"histogram2dcontour\"}],\"mesh3d\":[{\"colorbar\":{\"outlinewidth\":0,\"ticks\":\"\"},\"type\":\"mesh3d\"}],\"parcoords\":[{\"line\":{\"colorbar\":{\"outlinewidth\":0,\"ticks\":\"\"}},\"type\":\"parcoords\"}],\"pie\":[{\"automargin\":true,\"type\":\"pie\"}],\"scatter\":[{\"marker\":{\"colorbar\":{\"outlinewidth\":0,\"ticks\":\"\"}},\"type\":\"scatter\"}],\"scatter3d\":[{\"line\":{\"colorbar\":{\"outlinewidth\":0,\"ticks\":\"\"}},\"marker\":{\"colorbar\":{\"outlinewidth\":0,\"ticks\":\"\"}},\"type\":\"scatter3d\"}],\"scattercarpet\":[{\"marker\":{\"colorbar\":{\"outlinewidth\":0,\"ticks\":\"\"}},\"type\":\"scattercarpet\"}],\"scattergeo\":[{\"marker\":{\"colorbar\":{\"outlinewidth\":0,\"ticks\":\"\"}},\"type\":\"scattergeo\"}],\"scattergl\":[{\"marker\":{\"colorbar\":{\"outlinewidth\":0,\"ticks\":\"\"}},\"type\":\"scattergl\"}],\"scattermapbox\":[{\"marker\":{\"colorbar\":{\"outlinewidth\":0,\"ticks\":\"\"}},\"type\":\"scattermapbox\"}],\"scatterpolar\":[{\"marker\":{\"colorbar\":{\"outlinewidth\":0,\"ticks\":\"\"}},\"type\":\"scatterpolar\"}],\"scatterpolargl\":[{\"marker\":{\"colorbar\":{\"outlinewidth\":0,\"ticks\":\"\"}},\"type\":\"scatterpolargl\"}],\"scatterternary\":[{\"marker\":{\"colorbar\":{\"outlinewidth\":0,\"ticks\":\"\"}},\"type\":\"scatterternary\"}],\"surface\":[{\"colorbar\":{\"outlinewidth\":0,\"ticks\":\"\"},\"colorscale\":[[0.0,\"#0d0887\"],[0.1111111111111111,\"#46039f\"],[0.2222222222222222,\"#7201a8\"],[0.3333333333333333,\"#9c179e\"],[0.4444444444444444,\"#bd3786\"],[0.5555555555555556,\"#d8576b\"],[0.6666666666666666,\"#ed7953\"],[0.7777777777777778,\"#fb9f3a\"],[0.8888888888888888,\"#fdca26\"],[1.0,\"#f0f921\"]],\"type\":\"surface\"}],\"table\":[{\"cells\":{\"fill\":{\"color\":\"#EBF0F8\"},\"line\":{\"color\":\"white\"}},\"header\":{\"fill\":{\"color\":\"#C8D4E3\"},\"line\":{\"color\":\"white\"}},\"type\":\"table\"}]},\"layout\":{\"annotationdefaults\":{\"arrowcolor\":\"#2a3f5f\",\"arrowhead\":0,\"arrowwidth\":1},\"autotypenumbers\":\"strict\",\"coloraxis\":{\"colorbar\":{\"outlinewidth\":0,\"ticks\":\"\"}},\"colorscale\":{\"diverging\":[[0,\"#8e0152\"],[0.1,\"#c51b7d\"],[0.2,\"#de77ae\"],[0.3,\"#f1b6da\"],[0.4,\"#fde0ef\"],[0.5,\"#f7f7f7\"],[0.6,\"#e6f5d0\"],[0.7,\"#b8e186\"],[0.8,\"#7fbc41\"],[0.9,\"#4d9221\"],[1,\"#276419\"]],\"sequential\":[[0.0,\"#0d0887\"],[0.1111111111111111,\"#46039f\"],[0.2222222222222222,\"#7201a8\"],[0.3333333333333333,\"#9c179e\"],[0.4444444444444444,\"#bd3786\"],[0.5555555555555556,\"#d8576b\"],[0.6666666666666666,\"#ed7953\"],[0.7777777777777778,\"#fb9f3a\"],[0.8888888888888888,\"#fdca26\"],[1.0,\"#f0f921\"]],\"sequentialminus\":[[0.0,\"#0d0887\"],[0.1111111111111111,\"#46039f\"],[0.2222222222222222,\"#7201a8\"],[0.3333333333333333,\"#9c179e\"],[0.4444444444444444,\"#bd3786\"],[0.5555555555555556,\"#d8576b\"],[0.6666666666666666,\"#ed7953\"],[0.7777777777777778,\"#fb9f3a\"],[0.8888888888888888,\"#fdca26\"],[1.0,\"#f0f921\"]]},\"colorway\":[\"#636efa\",\"#EF553B\",\"#00cc96\",\"#ab63fa\",\"#FFA15A\",\"#19d3f3\",\"#FF6692\",\"#B6E880\",\"#FF97FF\",\"#FECB52\"],\"font\":{\"color\":\"#2a3f5f\"},\"geo\":{\"bgcolor\":\"white\",\"lakecolor\":\"white\",\"landcolor\":\"#E5ECF6\",\"showlakes\":true,\"showland\":true,\"subunitcolor\":\"white\"},\"hoverlabel\":{\"align\":\"left\"},\"hovermode\":\"closest\",\"mapbox\":{\"style\":\"light\"},\"paper_bgcolor\":\"white\",\"plot_bgcolor\":\"#E5ECF6\",\"polar\":{\"angularaxis\":{\"gridcolor\":\"white\",\"linecolor\":\"white\",\"ticks\":\"\"},\"bgcolor\":\"#E5ECF6\",\"radialaxis\":{\"gridcolor\":\"white\",\"linecolor\":\"white\",\"ticks\":\"\"}},\"scene\":{\"xaxis\":{\"backgroundcolor\":\"#E5ECF6\",\"gridcolor\":\"white\",\"gridwidth\":2,\"linecolor\":\"white\",\"showbackground\":true,\"ticks\":\"\",\"zerolinecolor\":\"white\"},\"yaxis\":{\"backgroundcolor\":\"#E5ECF6\",\"gridcolor\":\"white\",\"gridwidth\":2,\"linecolor\":\"white\",\"showbackground\":true,\"ticks\":\"\",\"zerolinecolor\":\"white\"},\"zaxis\":{\"backgroundcolor\":\"#E5ECF6\",\"gridcolor\":\"white\",\"gridwidth\":2,\"linecolor\":\"white\",\"showbackground\":true,\"ticks\":\"\",\"zerolinecolor\":\"white\"}},\"shapedefaults\":{\"line\":{\"color\":\"#2a3f5f\"}},\"ternary\":{\"aaxis\":{\"gridcolor\":\"white\",\"linecolor\":\"white\",\"ticks\":\"\"},\"baxis\":{\"gridcolor\":\"white\",\"linecolor\":\"white\",\"ticks\":\"\"},\"bgcolor\":\"#E5ECF6\",\"caxis\":{\"gridcolor\":\"white\",\"linecolor\":\"white\",\"ticks\":\"\"}},\"title\":{\"x\":0.05},\"xaxis\":{\"automargin\":true,\"gridcolor\":\"white\",\"linecolor\":\"white\",\"ticks\":\"\",\"title\":{\"standoff\":15},\"zerolinecolor\":\"white\",\"zerolinewidth\":2},\"yaxis\":{\"automargin\":true,\"gridcolor\":\"white\",\"linecolor\":\"white\",\"ticks\":\"\",\"title\":{\"standoff\":15},\"zerolinecolor\":\"white\",\"zerolinewidth\":2}}},\"xaxis\":{\"anchor\":\"y\",\"domain\":[0.0,1.0],\"title\":{\"text\":\"Name\"}},\"yaxis\":{\"anchor\":\"x\",\"domain\":[0.0,1.0],\"title\":{\"text\":\"Wage\"}},\"legend\":{\"tracegroupgap\":0},\"margin\":{\"t\":60},\"barmode\":\"relative\"},                        {\"responsive\": true}                    ).then(function(){\n",
       "                            \n",
       "var gd = document.getElementById('98ae3529-6c53-41b3-85f1-630d32f94522');\n",
       "var x = new MutationObserver(function (mutations, observer) {{\n",
       "        var display = window.getComputedStyle(gd).display;\n",
       "        if (!display || display === 'none') {{\n",
       "            console.log([gd, 'removed!']);\n",
       "            Plotly.purge(gd);\n",
       "            observer.disconnect();\n",
       "        }}\n",
       "}});\n",
       "\n",
       "// Listen for the removal of the full notebook cells\n",
       "var notebookContainer = gd.closest('#notebook-container');\n",
       "if (notebookContainer) {{\n",
       "    x.observe(notebookContainer, {childList: true});\n",
       "}}\n",
       "\n",
       "// Listen for the clearing of the current output cell\n",
       "var outputEl = gd.closest('.output');\n",
       "if (outputEl) {{\n",
       "    x.observe(outputEl, {childList: true});\n",
       "}}\n",
       "\n",
       "                        })                };                });            </script>        </div>"
      ]
     },
     "metadata": {},
     "output_type": "display_data"
    }
   ],
   "source": [
    "px.bar(hpng, x = \"Name\", y= \"Wage\")"
   ]
  },
  {
   "cell_type": "markdown",
   "metadata": {},
   "source": [
    "### ENGLAND PLAYERS ANALYSIS"
   ]
  },
  {
   "cell_type": "code",
   "execution_count": 342,
   "metadata": {},
   "outputs": [
    {
     "data": {
      "text/html": [
       "<div>\n",
       "<style scoped>\n",
       "    .dataframe tbody tr th:only-of-type {\n",
       "        vertical-align: middle;\n",
       "    }\n",
       "\n",
       "    .dataframe tbody tr th {\n",
       "        vertical-align: top;\n",
       "    }\n",
       "\n",
       "    .dataframe thead th {\n",
       "        text-align: right;\n",
       "    }\n",
       "</style>\n",
       "<table border=\"1\" class=\"dataframe\">\n",
       "  <thead>\n",
       "    <tr style=\"text-align: right;\">\n",
       "      <th></th>\n",
       "      <th>ID</th>\n",
       "      <th>Name</th>\n",
       "      <th>Age</th>\n",
       "      <th>Photo</th>\n",
       "      <th>Nationality</th>\n",
       "      <th>Flag</th>\n",
       "      <th>Overall</th>\n",
       "      <th>Potential</th>\n",
       "      <th>Club</th>\n",
       "      <th>Club Logo</th>\n",
       "      <th>...</th>\n",
       "      <th>Composure</th>\n",
       "      <th>Marking</th>\n",
       "      <th>StandingTackle</th>\n",
       "      <th>SlidingTackle</th>\n",
       "      <th>GKDiving</th>\n",
       "      <th>GKHandling</th>\n",
       "      <th>GKKicking</th>\n",
       "      <th>GKPositioning</th>\n",
       "      <th>GKReflexes</th>\n",
       "      <th>Release Clause</th>\n",
       "    </tr>\n",
       "  </thead>\n",
       "  <tbody>\n",
       "    <tr>\n",
       "      <th>16</th>\n",
       "      <td>202126</td>\n",
       "      <td>H. Kane</td>\n",
       "      <td>24</td>\n",
       "      <td>https://cdn.sofifa.org/players/4/19/202126.png</td>\n",
       "      <td>England</td>\n",
       "      <td>https://cdn.sofifa.org/flags/14.png</td>\n",
       "      <td>89</td>\n",
       "      <td>91</td>\n",
       "      <td>Tottenham Hotspur</td>\n",
       "      <td>https://cdn.sofifa.org/teams/2/light/18.png</td>\n",
       "      <td>...</td>\n",
       "      <td>89.0</td>\n",
       "      <td>56.0</td>\n",
       "      <td>36.0</td>\n",
       "      <td>38.0</td>\n",
       "      <td>8.0</td>\n",
       "      <td>10.0</td>\n",
       "      <td>11.0</td>\n",
       "      <td>14.0</td>\n",
       "      <td>11.0</td>\n",
       "      <td>€160.7M</td>\n",
       "    </tr>\n",
       "    <tr>\n",
       "      <th>60</th>\n",
       "      <td>202652</td>\n",
       "      <td>R. Sterling</td>\n",
       "      <td>23</td>\n",
       "      <td>https://cdn.sofifa.org/players/4/19/202652.png</td>\n",
       "      <td>England</td>\n",
       "      <td>https://cdn.sofifa.org/flags/14.png</td>\n",
       "      <td>86</td>\n",
       "      <td>89</td>\n",
       "      <td>Manchester City</td>\n",
       "      <td>https://cdn.sofifa.org/teams/2/light/10.png</td>\n",
       "      <td>...</td>\n",
       "      <td>77.0</td>\n",
       "      <td>47.0</td>\n",
       "      <td>58.0</td>\n",
       "      <td>54.0</td>\n",
       "      <td>15.0</td>\n",
       "      <td>12.0</td>\n",
       "      <td>12.0</td>\n",
       "      <td>15.0</td>\n",
       "      <td>9.0</td>\n",
       "      <td>€108.8M</td>\n",
       "    </tr>\n",
       "    <tr>\n",
       "      <th>117</th>\n",
       "      <td>211117</td>\n",
       "      <td>D. Alli</td>\n",
       "      <td>22</td>\n",
       "      <td>https://cdn.sofifa.org/players/4/19/211117.png</td>\n",
       "      <td>England</td>\n",
       "      <td>https://cdn.sofifa.org/flags/14.png</td>\n",
       "      <td>84</td>\n",
       "      <td>90</td>\n",
       "      <td>Tottenham Hotspur</td>\n",
       "      <td>https://cdn.sofifa.org/teams/2/light/18.png</td>\n",
       "      <td>...</td>\n",
       "      <td>86.0</td>\n",
       "      <td>70.0</td>\n",
       "      <td>70.0</td>\n",
       "      <td>63.0</td>\n",
       "      <td>7.0</td>\n",
       "      <td>6.0</td>\n",
       "      <td>9.0</td>\n",
       "      <td>11.0</td>\n",
       "      <td>8.0</td>\n",
       "      <td>€87.1M</td>\n",
       "    </tr>\n",
       "    <tr>\n",
       "      <th>135</th>\n",
       "      <td>188377</td>\n",
       "      <td>K. Walker</td>\n",
       "      <td>28</td>\n",
       "      <td>https://cdn.sofifa.org/players/4/19/188377.png</td>\n",
       "      <td>England</td>\n",
       "      <td>https://cdn.sofifa.org/flags/14.png</td>\n",
       "      <td>84</td>\n",
       "      <td>84</td>\n",
       "      <td>Manchester City</td>\n",
       "      <td>https://cdn.sofifa.org/teams/2/light/10.png</td>\n",
       "      <td>...</td>\n",
       "      <td>75.0</td>\n",
       "      <td>78.0</td>\n",
       "      <td>84.0</td>\n",
       "      <td>83.0</td>\n",
       "      <td>12.0</td>\n",
       "      <td>6.0</td>\n",
       "      <td>16.0</td>\n",
       "      <td>15.0</td>\n",
       "      <td>8.0</td>\n",
       "      <td>€45.3M</td>\n",
       "    </tr>\n",
       "    <tr>\n",
       "      <th>180</th>\n",
       "      <td>204935</td>\n",
       "      <td>J. Pickford</td>\n",
       "      <td>24</td>\n",
       "      <td>https://cdn.sofifa.org/players/4/19/204935.png</td>\n",
       "      <td>England</td>\n",
       "      <td>https://cdn.sofifa.org/flags/14.png</td>\n",
       "      <td>83</td>\n",
       "      <td>88</td>\n",
       "      <td>Everton</td>\n",
       "      <td>https://cdn.sofifa.org/teams/2/light/7.png</td>\n",
       "      <td>...</td>\n",
       "      <td>69.0</td>\n",
       "      <td>16.0</td>\n",
       "      <td>20.0</td>\n",
       "      <td>12.0</td>\n",
       "      <td>83.0</td>\n",
       "      <td>78.0</td>\n",
       "      <td>88.0</td>\n",
       "      <td>81.0</td>\n",
       "      <td>86.0</td>\n",
       "      <td>€49.4M</td>\n",
       "    </tr>\n",
       "    <tr>\n",
       "      <th>...</th>\n",
       "      <td>...</td>\n",
       "      <td>...</td>\n",
       "      <td>...</td>\n",
       "      <td>...</td>\n",
       "      <td>...</td>\n",
       "      <td>...</td>\n",
       "      <td>...</td>\n",
       "      <td>...</td>\n",
       "      <td>...</td>\n",
       "      <td>...</td>\n",
       "      <td>...</td>\n",
       "      <td>...</td>\n",
       "      <td>...</td>\n",
       "      <td>...</td>\n",
       "      <td>...</td>\n",
       "      <td>...</td>\n",
       "      <td>...</td>\n",
       "      <td>...</td>\n",
       "      <td>...</td>\n",
       "      <td>...</td>\n",
       "      <td>...</td>\n",
       "    </tr>\n",
       "    <tr>\n",
       "      <th>18198</th>\n",
       "      <td>242844</td>\n",
       "      <td>J. Livesey</td>\n",
       "      <td>18</td>\n",
       "      <td>https://cdn.sofifa.org/players/4/19/242844.png</td>\n",
       "      <td>England</td>\n",
       "      <td>https://cdn.sofifa.org/flags/14.png</td>\n",
       "      <td>47</td>\n",
       "      <td>70</td>\n",
       "      <td>Burton Albion</td>\n",
       "      <td>https://cdn.sofifa.org/teams/2/light/15015.png</td>\n",
       "      <td>...</td>\n",
       "      <td>34.0</td>\n",
       "      <td>15.0</td>\n",
       "      <td>11.0</td>\n",
       "      <td>13.0</td>\n",
       "      <td>46.0</td>\n",
       "      <td>52.0</td>\n",
       "      <td>58.0</td>\n",
       "      <td>42.0</td>\n",
       "      <td>48.0</td>\n",
       "      <td>€165K</td>\n",
       "    </tr>\n",
       "    <tr>\n",
       "      <th>18202</th>\n",
       "      <td>238813</td>\n",
       "      <td>J. Lundstram</td>\n",
       "      <td>19</td>\n",
       "      <td>https://cdn.sofifa.org/players/4/19/238813.png</td>\n",
       "      <td>England</td>\n",
       "      <td>https://cdn.sofifa.org/flags/14.png</td>\n",
       "      <td>47</td>\n",
       "      <td>65</td>\n",
       "      <td>Crewe Alexandra</td>\n",
       "      <td>https://cdn.sofifa.org/teams/2/light/121.png</td>\n",
       "      <td>...</td>\n",
       "      <td>45.0</td>\n",
       "      <td>40.0</td>\n",
       "      <td>48.0</td>\n",
       "      <td>47.0</td>\n",
       "      <td>10.0</td>\n",
       "      <td>13.0</td>\n",
       "      <td>7.0</td>\n",
       "      <td>8.0</td>\n",
       "      <td>9.0</td>\n",
       "      <td>€143K</td>\n",
       "    </tr>\n",
       "    <tr>\n",
       "      <th>18204</th>\n",
       "      <td>241638</td>\n",
       "      <td>B. Worman</td>\n",
       "      <td>16</td>\n",
       "      <td>https://cdn.sofifa.org/players/4/19/241638.png</td>\n",
       "      <td>England</td>\n",
       "      <td>https://cdn.sofifa.org/flags/14.png</td>\n",
       "      <td>47</td>\n",
       "      <td>67</td>\n",
       "      <td>Cambridge United</td>\n",
       "      <td>https://cdn.sofifa.org/teams/2/light/1944.png</td>\n",
       "      <td>...</td>\n",
       "      <td>41.0</td>\n",
       "      <td>32.0</td>\n",
       "      <td>13.0</td>\n",
       "      <td>11.0</td>\n",
       "      <td>6.0</td>\n",
       "      <td>5.0</td>\n",
       "      <td>10.0</td>\n",
       "      <td>6.0</td>\n",
       "      <td>13.0</td>\n",
       "      <td>€165K</td>\n",
       "    </tr>\n",
       "    <tr>\n",
       "      <th>18205</th>\n",
       "      <td>246268</td>\n",
       "      <td>D. Walker-Rice</td>\n",
       "      <td>17</td>\n",
       "      <td>https://cdn.sofifa.org/players/4/19/246268.png</td>\n",
       "      <td>England</td>\n",
       "      <td>https://cdn.sofifa.org/flags/14.png</td>\n",
       "      <td>47</td>\n",
       "      <td>66</td>\n",
       "      <td>Tranmere Rovers</td>\n",
       "      <td>https://cdn.sofifa.org/teams/2/light/15048.png</td>\n",
       "      <td>...</td>\n",
       "      <td>46.0</td>\n",
       "      <td>20.0</td>\n",
       "      <td>25.0</td>\n",
       "      <td>27.0</td>\n",
       "      <td>14.0</td>\n",
       "      <td>6.0</td>\n",
       "      <td>14.0</td>\n",
       "      <td>8.0</td>\n",
       "      <td>9.0</td>\n",
       "      <td>€143K</td>\n",
       "    </tr>\n",
       "    <tr>\n",
       "      <th>18206</th>\n",
       "      <td>246269</td>\n",
       "      <td>G. Nugent</td>\n",
       "      <td>16</td>\n",
       "      <td>https://cdn.sofifa.org/players/4/19/246269.png</td>\n",
       "      <td>England</td>\n",
       "      <td>https://cdn.sofifa.org/flags/14.png</td>\n",
       "      <td>46</td>\n",
       "      <td>66</td>\n",
       "      <td>Tranmere Rovers</td>\n",
       "      <td>https://cdn.sofifa.org/teams/2/light/15048.png</td>\n",
       "      <td>...</td>\n",
       "      <td>43.0</td>\n",
       "      <td>40.0</td>\n",
       "      <td>43.0</td>\n",
       "      <td>50.0</td>\n",
       "      <td>10.0</td>\n",
       "      <td>15.0</td>\n",
       "      <td>9.0</td>\n",
       "      <td>12.0</td>\n",
       "      <td>9.0</td>\n",
       "      <td>€165K</td>\n",
       "    </tr>\n",
       "  </tbody>\n",
       "</table>\n",
       "<p>1662 rows × 88 columns</p>\n",
       "</div>"
      ],
      "text/plain": [
       "           ID            Name  Age  \\\n",
       "16     202126         H. Kane   24   \n",
       "60     202652     R. Sterling   23   \n",
       "117    211117         D. Alli   22   \n",
       "135    188377       K. Walker   28   \n",
       "180    204935     J. Pickford   24   \n",
       "...       ...             ...  ...   \n",
       "18198  242844      J. Livesey   18   \n",
       "18202  238813    J. Lundstram   19   \n",
       "18204  241638       B. Worman   16   \n",
       "18205  246268  D. Walker-Rice   17   \n",
       "18206  246269       G. Nugent   16   \n",
       "\n",
       "                                                Photo Nationality  \\\n",
       "16     https://cdn.sofifa.org/players/4/19/202126.png     England   \n",
       "60     https://cdn.sofifa.org/players/4/19/202652.png     England   \n",
       "117    https://cdn.sofifa.org/players/4/19/211117.png     England   \n",
       "135    https://cdn.sofifa.org/players/4/19/188377.png     England   \n",
       "180    https://cdn.sofifa.org/players/4/19/204935.png     England   \n",
       "...                                               ...         ...   \n",
       "18198  https://cdn.sofifa.org/players/4/19/242844.png     England   \n",
       "18202  https://cdn.sofifa.org/players/4/19/238813.png     England   \n",
       "18204  https://cdn.sofifa.org/players/4/19/241638.png     England   \n",
       "18205  https://cdn.sofifa.org/players/4/19/246268.png     England   \n",
       "18206  https://cdn.sofifa.org/players/4/19/246269.png     England   \n",
       "\n",
       "                                      Flag  Overall  Potential  \\\n",
       "16     https://cdn.sofifa.org/flags/14.png       89         91   \n",
       "60     https://cdn.sofifa.org/flags/14.png       86         89   \n",
       "117    https://cdn.sofifa.org/flags/14.png       84         90   \n",
       "135    https://cdn.sofifa.org/flags/14.png       84         84   \n",
       "180    https://cdn.sofifa.org/flags/14.png       83         88   \n",
       "...                                    ...      ...        ...   \n",
       "18198  https://cdn.sofifa.org/flags/14.png       47         70   \n",
       "18202  https://cdn.sofifa.org/flags/14.png       47         65   \n",
       "18204  https://cdn.sofifa.org/flags/14.png       47         67   \n",
       "18205  https://cdn.sofifa.org/flags/14.png       47         66   \n",
       "18206  https://cdn.sofifa.org/flags/14.png       46         66   \n",
       "\n",
       "                    Club                                       Club Logo  ...  \\\n",
       "16     Tottenham Hotspur     https://cdn.sofifa.org/teams/2/light/18.png  ...   \n",
       "60       Manchester City     https://cdn.sofifa.org/teams/2/light/10.png  ...   \n",
       "117    Tottenham Hotspur     https://cdn.sofifa.org/teams/2/light/18.png  ...   \n",
       "135      Manchester City     https://cdn.sofifa.org/teams/2/light/10.png  ...   \n",
       "180              Everton      https://cdn.sofifa.org/teams/2/light/7.png  ...   \n",
       "...                  ...                                             ...  ...   \n",
       "18198      Burton Albion  https://cdn.sofifa.org/teams/2/light/15015.png  ...   \n",
       "18202    Crewe Alexandra    https://cdn.sofifa.org/teams/2/light/121.png  ...   \n",
       "18204   Cambridge United   https://cdn.sofifa.org/teams/2/light/1944.png  ...   \n",
       "18205    Tranmere Rovers  https://cdn.sofifa.org/teams/2/light/15048.png  ...   \n",
       "18206    Tranmere Rovers  https://cdn.sofifa.org/teams/2/light/15048.png  ...   \n",
       "\n",
       "       Composure  Marking  StandingTackle SlidingTackle  GKDiving  GKHandling  \\\n",
       "16          89.0     56.0            36.0          38.0       8.0        10.0   \n",
       "60          77.0     47.0            58.0          54.0      15.0        12.0   \n",
       "117         86.0     70.0            70.0          63.0       7.0         6.0   \n",
       "135         75.0     78.0            84.0          83.0      12.0         6.0   \n",
       "180         69.0     16.0            20.0          12.0      83.0        78.0   \n",
       "...          ...      ...             ...           ...       ...         ...   \n",
       "18198       34.0     15.0            11.0          13.0      46.0        52.0   \n",
       "18202       45.0     40.0            48.0          47.0      10.0        13.0   \n",
       "18204       41.0     32.0            13.0          11.0       6.0         5.0   \n",
       "18205       46.0     20.0            25.0          27.0      14.0         6.0   \n",
       "18206       43.0     40.0            43.0          50.0      10.0        15.0   \n",
       "\n",
       "       GKKicking GKPositioning GKReflexes Release Clause  \n",
       "16          11.0          14.0       11.0        €160.7M  \n",
       "60          12.0          15.0        9.0        €108.8M  \n",
       "117          9.0          11.0        8.0         €87.1M  \n",
       "135         16.0          15.0        8.0         €45.3M  \n",
       "180         88.0          81.0       86.0         €49.4M  \n",
       "...          ...           ...        ...            ...  \n",
       "18198       58.0          42.0       48.0          €165K  \n",
       "18202        7.0           8.0        9.0          €143K  \n",
       "18204       10.0           6.0       13.0          €165K  \n",
       "18205       14.0           8.0        9.0          €143K  \n",
       "18206        9.0          12.0        9.0          €165K  \n",
       "\n",
       "[1662 rows x 88 columns]"
      ]
     },
     "execution_count": 342,
     "metadata": {},
     "output_type": "execute_result"
    }
   ],
   "source": [
    "eng = pl[pl[\"Nationality\"] == \"England\"]\n",
    "eng"
   ]
  },
  {
   "cell_type": "code",
   "execution_count": 343,
   "metadata": {},
   "outputs": [
    {
     "data": {
      "text/html": [
       "<div>\n",
       "<style scoped>\n",
       "    .dataframe tbody tr th:only-of-type {\n",
       "        vertical-align: middle;\n",
       "    }\n",
       "\n",
       "    .dataframe tbody tr th {\n",
       "        vertical-align: top;\n",
       "    }\n",
       "\n",
       "    .dataframe thead th {\n",
       "        text-align: right;\n",
       "    }\n",
       "</style>\n",
       "<table border=\"1\" class=\"dataframe\">\n",
       "  <thead>\n",
       "    <tr style=\"text-align: right;\">\n",
       "      <th></th>\n",
       "      <th>Age</th>\n",
       "      <th>Wage</th>\n",
       "      <th>Overall</th>\n",
       "    </tr>\n",
       "  </thead>\n",
       "  <tbody>\n",
       "    <tr>\n",
       "      <th>mean</th>\n",
       "      <td>24.030084</td>\n",
       "      <td>9943.441637</td>\n",
       "      <td>63.429603</td>\n",
       "    </tr>\n",
       "    <tr>\n",
       "      <th>min</th>\n",
       "      <td>16.000000</td>\n",
       "      <td>1000.000000</td>\n",
       "      <td>46.000000</td>\n",
       "    </tr>\n",
       "    <tr>\n",
       "      <th>max</th>\n",
       "      <td>44.000000</td>\n",
       "      <td>205000.000000</td>\n",
       "      <td>89.000000</td>\n",
       "    </tr>\n",
       "  </tbody>\n",
       "</table>\n",
       "</div>"
      ],
      "text/plain": [
       "            Age           Wage    Overall\n",
       "mean  24.030084    9943.441637  63.429603\n",
       "min   16.000000    1000.000000  46.000000\n",
       "max   44.000000  205000.000000  89.000000"
      ]
     },
     "execution_count": 343,
     "metadata": {},
     "output_type": "execute_result"
    }
   ],
   "source": [
    "# General Analysis\n",
    "eng.agg([\"mean\", \"min\", \"max\"])[[\"Age\", \"Wage\", \"Overall\"]]"
   ]
  },
  {
   "cell_type": "code",
   "execution_count": 354,
   "metadata": {
    "scrolled": true
   },
   "outputs": [
    {
     "data": {
      "text/html": [
       "<div>\n",
       "<style scoped>\n",
       "    .dataframe tbody tr th:only-of-type {\n",
       "        vertical-align: middle;\n",
       "    }\n",
       "\n",
       "    .dataframe tbody tr th {\n",
       "        vertical-align: top;\n",
       "    }\n",
       "\n",
       "    .dataframe thead th {\n",
       "        text-align: right;\n",
       "    }\n",
       "</style>\n",
       "<table border=\"1\" class=\"dataframe\">\n",
       "  <thead>\n",
       "    <tr style=\"text-align: right;\">\n",
       "      <th></th>\n",
       "      <th>Name</th>\n",
       "      <th>Age</th>\n",
       "      <th>Wage</th>\n",
       "      <th>Club</th>\n",
       "      <th>Overall</th>\n",
       "    </tr>\n",
       "  </thead>\n",
       "  <tbody>\n",
       "    <tr>\n",
       "      <th>16544</th>\n",
       "      <td>D. Adshead</td>\n",
       "      <td>16</td>\n",
       "      <td>1000.0</td>\n",
       "      <td>Rochdale</td>\n",
       "      <td>57</td>\n",
       "    </tr>\n",
       "    <tr>\n",
       "      <th>17175</th>\n",
       "      <td>B. Mumba</td>\n",
       "      <td>16</td>\n",
       "      <td>1000.0</td>\n",
       "      <td>Sunderland</td>\n",
       "      <td>55</td>\n",
       "    </tr>\n",
       "    <tr>\n",
       "      <th>17921</th>\n",
       "      <td>J. Rowland</td>\n",
       "      <td>16</td>\n",
       "      <td>1000.0</td>\n",
       "      <td>Shrewsbury</td>\n",
       "      <td>51</td>\n",
       "    </tr>\n",
       "    <tr>\n",
       "      <th>18204</th>\n",
       "      <td>B. Worman</td>\n",
       "      <td>16</td>\n",
       "      <td>1000.0</td>\n",
       "      <td>Cambridge United</td>\n",
       "      <td>47</td>\n",
       "    </tr>\n",
       "    <tr>\n",
       "      <th>18206</th>\n",
       "      <td>G. Nugent</td>\n",
       "      <td>16</td>\n",
       "      <td>1000.0</td>\n",
       "      <td>Tranmere Rovers</td>\n",
       "      <td>46</td>\n",
       "    </tr>\n",
       "  </tbody>\n",
       "</table>\n",
       "</div>"
      ],
      "text/plain": [
       "             Name  Age    Wage              Club  Overall\n",
       "16544  D. Adshead   16  1000.0          Rochdale       57\n",
       "17175    B. Mumba   16  1000.0        Sunderland       55\n",
       "17921  J. Rowland   16  1000.0        Shrewsbury       51\n",
       "18204   B. Worman   16  1000.0  Cambridge United       47\n",
       "18206   G. Nugent   16  1000.0   Tranmere Rovers       46"
      ]
     },
     "execution_count": 354,
     "metadata": {},
     "output_type": "execute_result"
    }
   ],
   "source": [
    "# Youngest Player Profile\n",
    "\n",
    "eng[eng[\"Age\"] == eng[\"Age\"].min()][[\"Name\", \"Age\", \"Wage\", \"Club\", \"Overall\"]]"
   ]
  },
  {
   "cell_type": "code",
   "execution_count": 408,
   "metadata": {},
   "outputs": [
    {
     "data": {
      "text/html": [
       "<div>\n",
       "<style scoped>\n",
       "    .dataframe tbody tr th:only-of-type {\n",
       "        vertical-align: middle;\n",
       "    }\n",
       "\n",
       "    .dataframe tbody tr th {\n",
       "        vertical-align: top;\n",
       "    }\n",
       "\n",
       "    .dataframe thead th {\n",
       "        text-align: right;\n",
       "    }\n",
       "</style>\n",
       "<table border=\"1\" class=\"dataframe\">\n",
       "  <thead>\n",
       "    <tr style=\"text-align: right;\">\n",
       "      <th></th>\n",
       "      <th>Name</th>\n",
       "      <th>Age</th>\n",
       "      <th>Wage</th>\n",
       "      <th>Club</th>\n",
       "      <th>Overall</th>\n",
       "    </tr>\n",
       "  </thead>\n",
       "  <tbody>\n",
       "    <tr>\n",
       "      <th>18183</th>\n",
       "      <td>K. Pilkington</td>\n",
       "      <td>44</td>\n",
       "      <td>1000.0</td>\n",
       "      <td>Cambridge United</td>\n",
       "      <td>48</td>\n",
       "    </tr>\n",
       "  </tbody>\n",
       "</table>\n",
       "</div>"
      ],
      "text/plain": [
       "                Name  Age    Wage              Club  Overall\n",
       "18183  K. Pilkington   44  1000.0  Cambridge United       48"
      ]
     },
     "execution_count": 408,
     "metadata": {},
     "output_type": "execute_result"
    }
   ],
   "source": [
    "# Oldest Player Profile\n",
    "\n",
    "eng[eng[\"Age\"] == eng[\"Age\"].max()][[\"Name\", \"Age\", \"Wage\", \"Club\", \"Overall\"]]"
   ]
  },
  {
   "cell_type": "code",
   "execution_count": 400,
   "metadata": {},
   "outputs": [
    {
     "data": {
      "text/plain": [
       "Age\n",
       "28    24309.523810\n",
       "27    15409.638554\n",
       "29    15087.719298\n",
       "32    14666.666667\n",
       "38    14500.000000\n",
       "25    14093.750000\n",
       "24    13230.769231\n",
       "31    12737.704918\n",
       "26    12642.857143\n",
       "33    12137.931034\n",
       "30    10754.098361\n",
       "35     9421.052632\n",
       "23     9151.785714\n",
       "22     8235.714286\n",
       "21     8189.781022\n",
       "20     7467.153285\n",
       "34     7000.000000\n",
       "37     6500.000000\n",
       "19     3006.622517\n",
       "18     2983.606557\n",
       "17     2750.000000\n",
       "36     1777.777778\n",
       "44     1000.000000\n",
       "41     1000.000000\n",
       "39     1000.000000\n",
       "40     1000.000000\n",
       "16     1000.000000\n",
       "Name: Wage, dtype: float64"
      ]
     },
     "execution_count": 400,
     "metadata": {},
     "output_type": "execute_result"
    }
   ],
   "source": [
    "# age that earns the highest \n",
    "eng.groupby(\"Age\").mean()[\"Wage\"].sort_values(ascending = False)"
   ]
  },
  {
   "cell_type": "code",
   "execution_count": 409,
   "metadata": {},
   "outputs": [
    {
     "data": {
      "text/plain": [
       "<AxesSubplot:xlabel='Age', ylabel='Wage'>"
      ]
     },
     "execution_count": 409,
     "metadata": {},
     "output_type": "execute_result"
    },
    {
     "data": {
      "image/png": "[encoded data removed]",
      "text/plain": [
       "<Figure size 432x288 with 1 Axes>"
      ]
     },
     "metadata": {
      "needs_background": "light"
     },
     "output_type": "display_data"
    }
   ],
   "source": [
    "sns.barplot(x = eng[\"Age\"], y = eng[\"Wage\"])"
   ]
  },
  {
   "cell_type": "code",
   "execution_count": 407,
   "metadata": {},
   "outputs": [
    {
     "data": {
      "text/html": [
       "<div>\n",
       "<style scoped>\n",
       "    .dataframe tbody tr th:only-of-type {\n",
       "        vertical-align: middle;\n",
       "    }\n",
       "\n",
       "    .dataframe tbody tr th {\n",
       "        vertical-align: top;\n",
       "    }\n",
       "\n",
       "    .dataframe thead th {\n",
       "        text-align: right;\n",
       "    }\n",
       "</style>\n",
       "<table border=\"1\" class=\"dataframe\">\n",
       "  <thead>\n",
       "    <tr style=\"text-align: right;\">\n",
       "      <th></th>\n",
       "      <th>Name</th>\n",
       "      <th>Age</th>\n",
       "      <th>Wage</th>\n",
       "    </tr>\n",
       "  </thead>\n",
       "  <tbody>\n",
       "    <tr>\n",
       "      <th>135</th>\n",
       "      <td>K. Walker</td>\n",
       "      <td>28</td>\n",
       "      <td>165000.0</td>\n",
       "    </tr>\n",
       "    <tr>\n",
       "      <th>377</th>\n",
       "      <td>C. Smalling</td>\n",
       "      <td>28</td>\n",
       "      <td>130000.0</td>\n",
       "    </tr>\n",
       "    <tr>\n",
       "      <th>529</th>\n",
       "      <td>D. Sturridge</td>\n",
       "      <td>28</td>\n",
       "      <td>125000.0</td>\n",
       "    </tr>\n",
       "    <tr>\n",
       "      <th>296</th>\n",
       "      <td>J. Henderson</td>\n",
       "      <td>28</td>\n",
       "      <td>125000.0</td>\n",
       "    </tr>\n",
       "    <tr>\n",
       "      <th>514</th>\n",
       "      <td>F. Delph</td>\n",
       "      <td>28</td>\n",
       "      <td>120000.0</td>\n",
       "    </tr>\n",
       "    <tr>\n",
       "      <th>...</th>\n",
       "      <td>...</td>\n",
       "      <td>...</td>\n",
       "      <td>...</td>\n",
       "    </tr>\n",
       "    <tr>\n",
       "      <th>16292</th>\n",
       "      <td>B. Tozer</td>\n",
       "      <td>28</td>\n",
       "      <td>2000.0</td>\n",
       "    </tr>\n",
       "    <tr>\n",
       "      <th>14933</th>\n",
       "      <td>S. Arnold</td>\n",
       "      <td>28</td>\n",
       "      <td>1000.0</td>\n",
       "    </tr>\n",
       "    <tr>\n",
       "      <th>13169</th>\n",
       "      <td>G. Woods</td>\n",
       "      <td>28</td>\n",
       "      <td>1000.0</td>\n",
       "    </tr>\n",
       "    <tr>\n",
       "      <th>13057</th>\n",
       "      <td>E. Parish</td>\n",
       "      <td>28</td>\n",
       "      <td>1000.0</td>\n",
       "    </tr>\n",
       "    <tr>\n",
       "      <th>15853</th>\n",
       "      <td>L. Saxton</td>\n",
       "      <td>28</td>\n",
       "      <td>1000.0</td>\n",
       "    </tr>\n",
       "  </tbody>\n",
       "</table>\n",
       "<p>84 rows × 3 columns</p>\n",
       "</div>"
      ],
      "text/plain": [
       "               Name  Age      Wage\n",
       "135       K. Walker   28  165000.0\n",
       "377     C. Smalling   28  130000.0\n",
       "529    D. Sturridge   28  125000.0\n",
       "296    J. Henderson   28  125000.0\n",
       "514        F. Delph   28  120000.0\n",
       "...             ...  ...       ...\n",
       "16292      B. Tozer   28    2000.0\n",
       "14933     S. Arnold   28    1000.0\n",
       "13169      G. Woods   28    1000.0\n",
       "13057     E. Parish   28    1000.0\n",
       "15853     L. Saxton   28    1000.0\n",
       "\n",
       "[84 rows x 3 columns]"
      ]
     },
     "execution_count": 407,
     "metadata": {},
     "output_type": "execute_result"
    }
   ],
   "source": [
    "# how many people are in the age that earns the highest\n",
    "eng[eng[\"Age\"] == 28].sort_values(\"Wage\", ascending = False)[[\"Name\", \"Age\", \"Wage\"]]"
   ]
  },
  {
   "cell_type": "code",
   "execution_count": 411,
   "metadata": {},
   "outputs": [
    {
     "data": {
      "text/plain": [
       "3937     28000.0\n",
       "12190     1000.0\n",
       "Name: Wage, dtype: float64"
      ]
     },
     "execution_count": 411,
     "metadata": {},
     "output_type": "execute_result"
    }
   ],
   "source": [
    "eng[eng[\"Age\"] == 38][\"Wage\"]"
   ]
  },
  {
   "cell_type": "code",
   "execution_count": 412,
   "metadata": {},
   "outputs": [
    {
     "data": {
      "text/plain": [
       "19    151\n",
       "22    140\n",
       "21    137\n",
       "20    137\n",
       "18    122\n",
       "24    117\n",
       "23    112\n",
       "26     98\n",
       "25     96\n",
       "28     84\n",
       "27     83\n",
       "31     61\n",
       "30     61\n",
       "17     60\n",
       "29     57\n",
       "32     45\n",
       "33     29\n",
       "34     24\n",
       "35     19\n",
       "36      9\n",
       "37      8\n",
       "16      5\n",
       "38      2\n",
       "39      2\n",
       "41      1\n",
       "40      1\n",
       "44      1\n",
       "Name: Age, dtype: int64"
      ]
     },
     "execution_count": 412,
     "metadata": {},
     "output_type": "execute_result"
    }
   ],
   "source": [
    "eng.Age.value_counts()"
   ]
  },
  {
   "cell_type": "code",
   "execution_count": 417,
   "metadata": {},
   "outputs": [
    {
     "data": {
      "text/plain": [
       "Wage       3006.622517\n",
       "Overall      58.132450\n",
       "dtype: float64"
      ]
     },
     "execution_count": 417,
     "metadata": {},
     "output_type": "execute_result"
    }
   ],
   "source": [
    "# Analysis of the most occuring age (19)\n",
    "\n",
    "eng[eng.Age == 19].mean()[[ \"Wage\", \"Overall\"]]"
   ]
  },
  {
   "cell_type": "code",
   "execution_count": 424,
   "metadata": {},
   "outputs": [
    {
     "data": {
      "text/html": [
       "<div>\n",
       "<style scoped>\n",
       "    .dataframe tbody tr th:only-of-type {\n",
       "        vertical-align: middle;\n",
       "    }\n",
       "\n",
       "    .dataframe tbody tr th {\n",
       "        vertical-align: top;\n",
       "    }\n",
       "\n",
       "    .dataframe thead th {\n",
       "        text-align: right;\n",
       "    }\n",
       "</style>\n",
       "<table border=\"1\" class=\"dataframe\">\n",
       "  <thead>\n",
       "    <tr style=\"text-align: right;\">\n",
       "      <th></th>\n",
       "      <th>Age</th>\n",
       "      <th>Name</th>\n",
       "      <th>Wage</th>\n",
       "      <th>Overall</th>\n",
       "    </tr>\n",
       "  </thead>\n",
       "  <tbody>\n",
       "    <tr>\n",
       "      <th>1791</th>\n",
       "      <td>19</td>\n",
       "      <td>M. Mount</td>\n",
       "      <td>37000.0</td>\n",
       "      <td>75</td>\n",
       "    </tr>\n",
       "    <tr>\n",
       "      <th>735</th>\n",
       "      <td>19</td>\n",
       "      <td>T. Alexander-Arnold</td>\n",
       "      <td>36000.0</td>\n",
       "      <td>78</td>\n",
       "    </tr>\n",
       "    <tr>\n",
       "      <th>10461</th>\n",
       "      <td>19</td>\n",
       "      <td>C. Gribbin</td>\n",
       "      <td>11000.0</td>\n",
       "      <td>65</td>\n",
       "    </tr>\n",
       "    <tr>\n",
       "      <th>9220</th>\n",
       "      <td>19</td>\n",
       "      <td>M. Edwards</td>\n",
       "      <td>10000.0</td>\n",
       "      <td>66</td>\n",
       "    </tr>\n",
       "    <tr>\n",
       "      <th>11765</th>\n",
       "      <td>19</td>\n",
       "      <td>E. Nketiah</td>\n",
       "      <td>10000.0</td>\n",
       "      <td>64</td>\n",
       "    </tr>\n",
       "    <tr>\n",
       "      <th>...</th>\n",
       "      <td>...</td>\n",
       "      <td>...</td>\n",
       "      <td>...</td>\n",
       "      <td>...</td>\n",
       "    </tr>\n",
       "    <tr>\n",
       "      <th>16632</th>\n",
       "      <td>19</td>\n",
       "      <td>M. Klass</td>\n",
       "      <td>1000.0</td>\n",
       "      <td>57</td>\n",
       "    </tr>\n",
       "    <tr>\n",
       "      <th>16605</th>\n",
       "      <td>19</td>\n",
       "      <td>T. Sibbick</td>\n",
       "      <td>1000.0</td>\n",
       "      <td>57</td>\n",
       "    </tr>\n",
       "    <tr>\n",
       "      <th>16602</th>\n",
       "      <td>19</td>\n",
       "      <td>O. Jackson</td>\n",
       "      <td>1000.0</td>\n",
       "      <td>57</td>\n",
       "    </tr>\n",
       "    <tr>\n",
       "      <th>12827</th>\n",
       "      <td>19</td>\n",
       "      <td>T. Bayliss</td>\n",
       "      <td>1000.0</td>\n",
       "      <td>63</td>\n",
       "    </tr>\n",
       "    <tr>\n",
       "      <th>18202</th>\n",
       "      <td>19</td>\n",
       "      <td>J. Lundstram</td>\n",
       "      <td>1000.0</td>\n",
       "      <td>47</td>\n",
       "    </tr>\n",
       "  </tbody>\n",
       "</table>\n",
       "<p>151 rows × 4 columns</p>\n",
       "</div>"
      ],
      "text/plain": [
       "       Age                 Name     Wage  Overall\n",
       "1791    19             M. Mount  37000.0       75\n",
       "735     19  T. Alexander-Arnold  36000.0       78\n",
       "10461   19           C. Gribbin  11000.0       65\n",
       "9220    19           M. Edwards  10000.0       66\n",
       "11765   19           E. Nketiah  10000.0       64\n",
       "...    ...                  ...      ...      ...\n",
       "16632   19             M. Klass   1000.0       57\n",
       "16605   19           T. Sibbick   1000.0       57\n",
       "16602   19           O. Jackson   1000.0       57\n",
       "12827   19           T. Bayliss   1000.0       63\n",
       "18202   19         J. Lundstram   1000.0       47\n",
       "\n",
       "[151 rows x 4 columns]"
      ]
     },
     "execution_count": 424,
     "metadata": {},
     "output_type": "execute_result"
    }
   ],
   "source": [
    "# highest paid 19 year old\n",
    "\n",
    "eng[eng.Age == 19][[\"Age\",\"Name\", \"Wage\", \"Overall\"]].sort_values(\"Wage\", ascending = False)"
   ]
  },
  {
   "cell_type": "code",
   "execution_count": null,
   "metadata": {},
   "outputs": [],
   "source": []
  }
 ],
 "metadata": {
  "kernelspec": {
   "display_name": "Python 3",
   "language": "python",
   "name": "python3"
  },
  "language_info": {
   "codemirror_mode": {
    "name": "ipython",
    "version": 3
   },
   "file_extension": ".py",
   "mimetype": "text/x-python",
   "name": "python",
   "nbconvert_exporter": "python",
   "pygments_lexer": "ipython3",
   "version": "3.8.5"
  }
 },
 "nbformat": 4,
 "nbformat_minor": 4
}
